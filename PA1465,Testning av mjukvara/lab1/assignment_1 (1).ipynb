{
 "cells": [
  {
   "attachments": {},
   "cell_type": "markdown",
   "metadata": {},
   "source": [
    "# Assignment 1: Unit tests and coverage\n",
    "\n",
    "- [1. Introduction](#1.-Introduction)\n",
    "- [2. Coverage](#2.-Coverage)\n",
    "    - [2.1 Statement coverage](#2.1-Statement-coverage)\n",
    "    - [2.2 Branch coverage](#2.2-Branch-coverage)\n",
    "    - [2.3 Dataflow coverage](#2.3-Dataflow-coverage)\n",
    "- [3. More unit tests](#3.-More-unit-tests)\n",
    "- [4. Mocking](#4.-Mocking)\n",
    "- [5. Coverage revisited](#5.-Coverage-revisited)\n",
    "- [BONUS: `doctest`](#BONUS:-doctest)\n",
    "- [6. Submit to Canvas](#6.-Submit-to-Canvas)"
   ]
  },
  {
   "attachments": {},
   "cell_type": "markdown",
   "metadata": {},
   "source": [
    "## 1. Introduction\n",
    "\n",
    "For a new self-driving car, we need an implementation of a high-precision pi: ChatGPT v4 suggests the following implementation for computing pi in Python, including a unit test. The code is packed in the two files `estimate_pi.py` and `test_estimate_pi.py`. \n",
    "\n",
    "Run the existing test using your shell (every cell starting with an `!` will be executed in your OS's shell). "
   ]
  },
  {
   "cell_type": "code",
   "execution_count": 25,
   "metadata": {},
   "outputs": [
    {
     "name": "stderr",
     "output_type": "stream",
     "text": [
      ".\n",
      "----------------------------------------------------------------------\n",
      "Ran 1 test in 1.535s\n",
      "\n",
      "OK\n"
     ]
    }
   ],
   "source": [
    "!python test_estimate_pi.py"
   ]
  },
  {
   "attachments": {},
   "cell_type": "markdown",
   "metadata": {},
   "source": [
    "What is problematic with that test ChatGPT created for us and would you address this problem?"
   ]
  },
  {
   "attachments": {},
   "cell_type": "markdown",
   "metadata": {},
   "source": [
    "- There is a magic number in the file test_estimate_pi.py the parameter that we send when we call estimate_pi is not modifed, if we modifed so it make the code more clear and readble.\n",
    "\n",
    "- The problem is in the file estimate_pi.py there is a magic number in the function estimate_pi in return, the number 4 it should be named constant\n",
    "or variavle with clear and descriptive name so that make the test more readble and easier to understand. "
   ]
  },
  {
   "attachments": {},
   "cell_type": "markdown",
   "metadata": {},
   "source": [
    "## 2. Coverage"
   ]
  },
  {
   "attachments": {},
   "cell_type": "markdown",
   "metadata": {},
   "source": [
    "### 2.1 Statement coverage\n",
    "Compute the statement coverage of the program using [`coverage.py`](https://coverage.readthedocs.io/en/latest/index.html). "
   ]
  },
  {
   "cell_type": "code",
   "execution_count": 23,
   "metadata": {},
   "outputs": [
    {
     "name": "stderr",
     "output_type": "stream",
     "text": [
      ".\n",
      "----------------------------------------------------------------------\n",
      "Ran 1 test in 1.788s\n",
      "\n",
      "OK\n"
     ]
    },
    {
     "name": "stdout",
     "output_type": "stream",
     "text": [
      "Name                  Stmts   Miss  Cover   Missing\n",
      "---------------------------------------------------\n",
      "estimate_pi.py           26     12    54%   18-19, 23-36\n",
      "test_estimate_pi.py       9      0   100%\n",
      "---------------------------------------------------\n",
      "TOTAL                    35     12    66%\n"
     ]
    }
   ],
   "source": [
    "!coverage run test_estimate_pi.py\n",
    "!coverage report -m"
   ]
  },
  {
   "attachments": {},
   "cell_type": "markdown",
   "metadata": {},
   "source": [
    "How can we interprete the results?"
   ]
  },
  {
   "attachments": {},
   "cell_type": "markdown",
   "metadata": {},
   "source": [
    "- In estimate_pi.py there are 26 statements 12 of them statements are missing and has not be covered, \n",
    "the procentg value that the test covered are 12/26 which is 54% and precented under the column cover, \n",
    "the missing column precent the rows that not covered.\n",
    "- The missing rows 18-19 that the test has not cover is the function def write in the class PiFileWriter which is not be tested.\n",
    "- The other missing rows 23-36 is a part of the program that dont need to test beacuse this part meant to be tested only when the script is executed as the main program, not when it is imported as a module.\n",
    "- In test_estimate_pi.py there are 9 statements and all of them has bein covered that why we have 0 under Miss and 100% under Cover\n",
    "- In Total there are 26+9 = 23 statements and 12 of them has bein Miss and the total procentig that the test covered is 12/35 = 66%"
   ]
  },
  {
   "attachments": {},
   "cell_type": "markdown",
   "metadata": {},
   "source": [
    "### 2.2 Branch coverage\n",
    "Now compute the branch coverage of the program using [`coverage.py`](https://coverage.readthedocs.io/en/latest/index.html). "
   ]
  },
  {
   "cell_type": "code",
   "execution_count": 24,
   "metadata": {},
   "outputs": [
    {
     "name": "stderr",
     "output_type": "stream",
     "text": [
      ".\n",
      "----------------------------------------------------------------------\n",
      "Ran 1 test in 2.097s\n",
      "\n",
      "OK\n"
     ]
    },
    {
     "name": "stdout",
     "output_type": "stream",
     "text": [
      "Name                  Stmts   Miss Branch BrPart  Cover   Missing\n",
      "-----------------------------------------------------------------\n",
      "estimate_pi.py           26     12     10      1    53%   18-19, 23-36\n",
      "test_estimate_pi.py       9      0      2      1    91%   11->exit\n",
      "-----------------------------------------------------------------\n",
      "TOTAL                    35     12     12      2    62%\n"
     ]
    }
   ],
   "source": [
    "!coverage run --branch test_estimate_pi.py\n",
    "!coverage report -m"
   ]
  },
  {
   "attachments": {},
   "cell_type": "markdown",
   "metadata": {},
   "source": [
    "How can we interprete the results?"
   ]
  },
  {
   "attachments": {},
   "cell_type": "markdown",
   "metadata": {},
   "source": [
    "- In estimate_pi.py there are 10 branchs one of them is had only one possible outcome that why we have an BrPart 1 in the estimate_pi.py.\n",
    "the missing rows and the other column value is the same as in the previous report.\n",
    "- In test_estimate_pi.py containt 2 branchs the value for BrPart is 1 beacuse the file had only one possible outcome.\n",
    "there still no Miss of the statments but there are 2 Branch and one of them is had only one possible outcome that why we have an BrPart 1. \n",
    "the Missing column point out in which rows that the branch is.\n",
    "- Total there are 35 statement and 12 missed and total branch 12 and 2 of them is had only one possible outcome the total covered that the test has bein coverd is 62%\n"
   ]
  },
  {
   "attachments": {},
   "cell_type": "markdown",
   "metadata": {},
   "source": [
    "### 2.3 Dataflow coverage\n",
    "\n",
    "Draw the flow graph for the function `estimate_pi` defined in `estimate_pi.py`. Annotate the graph with definition and use information. Note: Please submit a separate image file or PDF with the name `dataflow_coverage.<file_extension>` for this task.\n",
    "\n",
    "Identify and describe the minimum number of test cases to achieve: all-defs coverage, and all-uses coverage. "
   ]
  },
  {
   "attachments": {},
   "cell_type": "markdown",
   "metadata": {},
   "source": [
    "- All-defs coverage: \n",
    "  The minimum number\n",
    "  1 test case following path <1,2,3,4,5,6,7> covers at least one def-clear path for every definition of n,count,x and y to at least a c-use or p-use of n,count,x and y.\n",
    "- All-uses coverage\n",
    "  The minimum number\n",
    "  2 test case beacuse if the if statment is true so we cover the def-clear pth for every definition of count and the other variables to every c-use or p-use. but when it not we can't cover it count in node 6."
   ]
  },
  {
   "attachments": {},
   "cell_type": "markdown",
   "metadata": {},
   "source": [
    "## 3. More unit tests\n",
    "\n",
    "Add two more unit tests with the principles you learned in the lecture. Describe what principle you have used."
   ]
  },
  {
   "attachments": {},
   "cell_type": "markdown",
   "metadata": {},
   "source": [
    "- Unit test on the method write in class PiFileWriter and it cover following principles -fast, -independent, -Repeatable and Self-validating but is not Thorough beacuse it not cover all use case, it cover just a single containt not if there is a long containt such as text with 400 word or more.\n",
    "- Unit test that verify what is the input that pass into the function estimate_pi if it is a int or str or float."
   ]
  },
  {
   "attachments": {},
   "cell_type": "markdown",
   "metadata": {},
   "source": [
    "## 4. Mocking\n",
    "\n",
    "We want to store the resulting number persistently on our file system. We use the following class. "
   ]
  },
  {
   "cell_type": "code",
   "execution_count": 4,
   "metadata": {},
   "outputs": [],
   "source": [
    "class PiFileWriter:\n",
    "    @staticmethod\n",
    "    def write(content, file_path):\n",
    "        with open(file_path, 'w') as file:\n",
    "            file.write(content)"
   ]
  },
  {
   "attachments": {},
   "cell_type": "markdown",
   "metadata": {},
   "source": [
    "Implement a test double for `PiFileWriter` and add your implementation to `test_estimate_pi.py`. Discuss what type of test double you have implemented."
   ]
  },
  {
   "attachments": {},
   "cell_type": "markdown",
   "metadata": {},
   "source": [
    "- In this example I implementes a test double of type \"dummy\" that create a dummy version of PiFileWriter and stor the text and file path that passed to it, but dose not actually write somthing to the file. \n",
    "that make me able to verify that i pass the correct argumment to the method, also i abvoid to write to the file and incress the speed of my test."
   ]
  },
  {
   "attachments": {},
   "cell_type": "markdown",
   "metadata": {},
   "source": [
    "Name three other types of unit tests you would want to mock and explain why."
   ]
  },
  {
   "attachments": {},
   "cell_type": "markdown",
   "metadata": {},
   "source": [
    "- Mocking the estimate_pi function, so i can test the function write from the class PiFileWriter without \n",
    "dependece of what estimate_pi will return. \n",
    "- Mocking the random number that x and y variable are in estimate_pi function if i do so this help to control how large sequence of numbers produced\n",
    "- Mocking the file system so i test method write to se how it handel an invalid input, this will ensur that write method correctly handling the inputs type. "
   ]
  },
  {
   "attachments": {},
   "cell_type": "markdown",
   "metadata": {},
   "source": [
    "## 5. Coverage revisited\n",
    "\n",
    "Rerun statement and branch coverage and discuss the differences and changes."
   ]
  },
  {
   "cell_type": "code",
   "execution_count": 30,
   "metadata": {},
   "outputs": [
    {
     "name": "stderr",
     "output_type": "stream",
     "text": [
      "...\n",
      "----------------------------------------------------------------------\n",
      "Ran 3 tests in 1.875s\n",
      "\n",
      "OK\n"
     ]
    },
    {
     "name": "stdout",
     "output_type": "stream",
     "text": [
      "Name                  Stmts   Miss  Cover   Missing\n",
      "---------------------------------------------------\n",
      "estimate_pi.py           26     10    62%   23-36\n",
      "test_estimate_pi.py      33      0   100%\n",
      "---------------------------------------------------\n",
      "TOTAL                    59     10    83%\n"
     ]
    }
   ],
   "source": [
    "!coverage run test_estimate_pi.py\n",
    "!coverage report -m"
   ]
  },
  {
   "cell_type": "code",
   "execution_count": 31,
   "metadata": {},
   "outputs": [
    {
     "name": "stderr",
     "output_type": "stream",
     "text": [
      "...\n",
      "----------------------------------------------------------------------\n",
      "Ran 3 tests in 2.311s\n",
      "\n",
      "OK\n"
     ]
    },
    {
     "name": "stdout",
     "output_type": "stream",
     "text": [
      "Name                  Stmts   Miss Branch BrPart  Cover   Missing\n",
      "-----------------------------------------------------------------\n",
      "estimate_pi.py           26     10     10      1    58%   23-36\n",
      "test_estimate_pi.py      33      0      2      1    97%   41->exit\n",
      "-----------------------------------------------------------------\n",
      "TOTAL                    59     10     12      2    77%\n"
     ]
    }
   ],
   "source": [
    "!coverage run --branch test_estimate_pi.py\n",
    "!coverage report -m"
   ]
  },
  {
   "attachments": {},
   "cell_type": "markdown",
   "metadata": {},
   "source": [
    "- For the statement coverage there is no big difference. The changes that occurs are:\n",
    "    - the number of missing statement in estimate_pi.py file has decres which we see that rows 18-19 are no longer miss, the test has covered this part.\n",
    "    - that the number of statement in test_estimate_pi.py file has been increased from 9 to 33 now. thats why the total percentage of cover has being incress as will, and the total number of statement.\n",
    "- For the branch coverage there are no different between the previous report but because of the changes that occurs on the number of statement the total cover has increased but still the brach not covered and missing 1 for each file. "
   ]
  },
  {
   "attachments": {},
   "cell_type": "markdown",
   "metadata": {},
   "source": [
    "# BONUS: `doctest`\n",
    "\n",
    "If you are curious or want to stand out, check out [`doctest`](https://en.wikipedia.org/wiki/Doctest). This task is optional. \n",
    "\n",
    "Add two `doctest` test cases and run the `doctest` tests."
   ]
  },
  {
   "cell_type": "code",
   "execution_count": 7,
   "metadata": {},
   "outputs": [],
   "source": [
    "!"
   ]
  },
  {
   "attachments": {},
   "cell_type": "markdown",
   "metadata": {},
   "source": [
    "How do you like `doctest`?"
   ]
  },
  {
   "cell_type": "markdown",
   "metadata": {},
   "source": []
  },
  {
   "attachments": {},
   "cell_type": "markdown",
   "metadata": {},
   "source": [
    "## 6. Submit to Canvas\n",
    "\n",
    "Almost done, but the most tricky part is missing: submitting. :)\n",
    "\n",
    "Before submitting, make sure\n",
    "- you completed all non-optional tasks in this assignment (i.e., all empty cells are filled with meaningful content)\n",
    "- you don't use external libraries except `coverage.py`\n",
    "- the notebook runs straight through\n",
    "- your test code works\n",
    "- your code is readable and follows the Python coding conventions\n",
    "\n",
    "All set? Great. Just two steps away from happiness. \n",
    "\n",
    "1. Go through the list above and check again\n",
    "2. Submit *three* files to canvas:\n",
    "    - `assignment.ipynb`\n",
    "    - `test_estimate_pi.py`\n",
    "    - `dataflow_coverage.<file_extension>`\n",
    "3. Take a deep breath and carpe diem.\n"
   ]
  }
 ],
 "metadata": {
  "kernelspec": {
   "display_name": "Python 3",
   "language": "python",
   "name": "python3"
  },
  "language_info": {
   "codemirror_mode": {
    "name": "ipython",
    "version": 3
   },
   "file_extension": ".py",
   "mimetype": "text/x-python",
   "name": "python",
   "nbconvert_exporter": "python",
   "pygments_lexer": "ipython3",
   "version": "3.11.0"
  },
  "orig_nbformat": 4
 },
 "nbformat": 4,
 "nbformat_minor": 2
}
