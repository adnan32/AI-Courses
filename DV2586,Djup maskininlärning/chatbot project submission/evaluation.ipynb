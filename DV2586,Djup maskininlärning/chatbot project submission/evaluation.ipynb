{
 "cells": [
  {
   "cell_type": "code",
   "execution_count": 32,
   "metadata": {},
   "outputs": [],
   "source": [
    "from predict import model_prediction\n",
    "from tensorflow.keras.models import load_model\n",
    "import pickle\n",
    "import pandas as pd\n",
    "import numpy as np\n",
    "from tensorflow.keras.preprocessing.sequence import pad_sequences"
   ]
  },
  {
   "cell_type": "code",
   "execution_count": 33,
   "metadata": {},
   "outputs": [],
   "source": [
    "test= pd.read_csv('Synthetic-Persona-Chat_test.csv')"
   ]
  },
  {
   "cell_type": "markdown",
   "metadata": {},
   "source": [
    "#### Importing models and tokenizer "
   ]
  },
  {
   "cell_type": "code",
   "execution_count": 34,
   "metadata": {},
   "outputs": [],
   "source": [
    "model_1 = load_model('model_embedding_512.h5')"
   ]
  },
  {
   "cell_type": "code",
   "execution_count": 35,
   "metadata": {},
   "outputs": [],
   "source": [
    "model_2 = load_model('model_embedding_1024.h5')"
   ]
  },
  {
   "cell_type": "code",
   "execution_count": 36,
   "metadata": {},
   "outputs": [],
   "source": [
    "with open('tokenizer_1.pickle', 'rb') as handle:\n",
    "    tokenizer = pickle.load(handle)"
   ]
  },
  {
   "cell_type": "markdown",
   "metadata": {},
   "source": [
    "#### Test Samples"
   ]
  },
  {
   "cell_type": "code",
   "execution_count": 37,
   "metadata": {},
   "outputs": [],
   "source": [
    "input_text=[\"hello, how are you doing today?\",\"my name is John\",\"i like to play football\",\"how are doing\",\"hello\",\"hi\",\"i like to swim\",\"what do you work with\",\"do you like to read\"]\n",
    "target_text=[\"hello, i am fine\",\"nice to meet you, my name is sarah\",\"i like to play football too\",\"i am doing fine\",\"hello\",\"hi\",\"i like to swim too\",\"i work with data science\", \"yes, i like to read adventures books\"]"
   ]
  },
  {
   "cell_type": "markdown",
   "metadata": {},
   "source": [
    "#### Models humain test, BELU score and cosine similarity"
   ]
  },
  {
   "cell_type": "code",
   "execution_count": 38,
   "metadata": {},
   "outputs": [
    {
     "name": "stdout",
     "output_type": "stream",
     "text": [
      "User:  hello, how are you doing today?\n",
      "Bot:  i'm doing well thanks for asking how are you\n",
      "The blue score  0.007443229846793787\n",
      "cosinr similarity  0.1239626017782641\n",
      "=====================================\n",
      "User:  my name is John\n",
      "Bot:  my favorite color is blue\n",
      "The blue score  0.014100024578768862\n",
      "cosinr similarity  0.13108090760253618\n",
      "=====================================\n",
      "User:  i like to play football\n",
      "Bot:  i like to play video games\n",
      "The blue score  0.01292072524371386\n",
      "cosinr similarity  0.8132738314368942\n",
      "=====================================\n",
      "User:  how are doing\n",
      "Bot:  good to meet someone who is interested in\n",
      "The blue score  0.007574421758634933\n",
      "cosinr similarity  0.6329237429678658\n",
      "=====================================\n",
      "User:  hello\n",
      "Bot:  hi there\n",
      "The blue score  0.03303164318013808\n",
      "cosinr similarity  0.47409982303501746\n",
      "=====================================\n",
      "User:  hi\n",
      "Bot:  hi there i'm always up for a good game\n",
      "The blue score  0.00579653593359586\n",
      "cosinr similarity  0.22805009255846098\n",
      "=====================================\n",
      "User:  i like to swim\n",
      "Bot:  i like to run marathons\n",
      "The blue score  0.01434533437144611\n",
      "cosinr similarity  0.2606082551733991\n",
      "=====================================\n",
      "User:  what do you work with\n",
      "Bot:  i'm a teacher\n",
      "The blue score  0.02613022659677714\n",
      "cosinr similarity  0.01783453302834867\n",
      "=====================================\n",
      "User:  do you like to read\n",
      "Bot:  i love to read books about history\n",
      "The blue score  0.010774489009686417\n",
      "cosinr similarity  0.21276260784447693\n",
      "=====================================\n"
     ]
    }
   ],
   "source": [
    "obj_model_1 = model_prediction(model_1,tokenizer)\n",
    "for i in range(len(input_text)):\n",
    "    print(\"User: \",input_text[i])\n",
    "    print(\"Bot: \",obj_model_1.predict(input_text[i],obj_model_1.encoder_model(model_1),obj_model_1.decoder_model(model_1),tokenizer))\n",
    "    print(\"The blue score \",obj_model_1.calculate_bleu_score(input_text[i],target_text[i],obj_model_1.encoder_model(model_1),obj_model_1.decoder_model(model_1),tokenizer))\n",
    "    print(\"cosinr similarity \",obj_model_1.calculate_cosine_similarity(input_text[i],target_text[i],obj_model_1.encoder_model(model_1),obj_model_1.decoder_model(model_1),tokenizer))\n",
    "    print(\"=====================================\")\n",
    "    "
   ]
  },
  {
   "cell_type": "code",
   "execution_count": 39,
   "metadata": {},
   "outputs": [
    {
     "name": "stdout",
     "output_type": "stream",
     "text": [
      "User:  hello, how are you doing today?\n",
      "Bot:  i'm doing well thank you for asking how about you\n",
      "The blue score  0.006659271909516516\n",
      "cosinr similarity  0.320853848057932\n",
      "=====================================\n",
      "User:  my name is John\n",
      "Bot:  my name is mary\n",
      "The blue score  0.022894156860669916\n",
      "cosinr similarity  0.027903985932171325\n",
      "=====================================\n",
      "User:  i like to play football\n",
      "Bot:  that's cool i like to play basketball\n",
      "The blue score  0.00912715392450193\n",
      "cosinr similarity  0.02045342459635757\n",
      "=====================================\n",
      "User:  how are doing\n",
      "Bot:  i'm also a big fan of the yankees\n",
      "The blue score  0.009784168213672301\n",
      "cosinr similarity  0.0647070670867975\n",
      "=====================================\n",
      "User:  hello\n",
      "Bot:  hi there\n",
      "The blue score  0.03303164318013808\n",
      "cosinr similarity  0.47409982303501746\n",
      "=====================================\n",
      "User:  hi\n",
      "Bot:  hi 2 nice colorado so what are you doing today\n",
      "The blue score  0.004753731294736233\n",
      "cosinr similarity  0.04886266900592322\n",
      "=====================================\n",
      "User:  i like to swim\n",
      "Bot:  i love the beach too\n",
      "The blue score  0.015071676257541071\n",
      "cosinr similarity  0.9974585031081943\n",
      "=====================================\n",
      "User:  what do you work with\n",
      "Bot:  i work at a grocery store\n",
      "The blue score  0.013796620851017117\n",
      "cosinr similarity  0.09048818222663321\n",
      "=====================================\n",
      "User:  do you like to read\n",
      "Bot:  i love to read i like to go to the beach and play basketball\n",
      "The blue score  0.005983375887662023\n",
      "cosinr similarity  0.021427756791705183\n",
      "=====================================\n"
     ]
    }
   ],
   "source": [
    "obj_model_2 = model_prediction(model_2,tokenizer)\n",
    "for i in range(len(input_text)):\n",
    "    print(\"User: \",input_text[i])\n",
    "    print(\"Bot: \",obj_model_2.predict(input_text[i],obj_model_2.encoder_model(model_2),obj_model_2.decoder_model(model_2),tokenizer))\n",
    "    print(\"The blue score \",obj_model_2.calculate_bleu_score(input_text[i],target_text[i],obj_model_2.encoder_model(model_2),obj_model_2.decoder_model(model_2),tokenizer))\n",
    "    print(\"cosinr similarity \",obj_model_2.calculate_cosine_similarity(input_text[i],target_text[i],obj_model_2.encoder_model(model_2),obj_model_2.decoder_model(model_2),tokenizer))\n",
    "    print(\"=====================================\")"
   ]
  }
 ],
 "metadata": {
  "kernelspec": {
   "display_name": "Python 3",
   "language": "python",
   "name": "python3"
  },
  "language_info": {
   "codemirror_mode": {
    "name": "ipython",
    "version": 3
   },
   "file_extension": ".py",
   "mimetype": "text/x-python",
   "name": "python",
   "nbconvert_exporter": "python",
   "pygments_lexer": "ipython3",
   "version": "3.11.0"
  }
 },
 "nbformat": 4,
 "nbformat_minor": 2
}
