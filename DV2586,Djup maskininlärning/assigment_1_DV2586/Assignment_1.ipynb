{
 "cells": [
  {
   "cell_type": "code",
   "execution_count": 23,
   "metadata": {},
   "outputs": [],
   "source": [
    "import numpy as np\n",
    "import matplotlib.pyplot as plt\n",
    "import math\n",
    "import pandas as pd\n",
    "import tensorflow as tf\n",
    "from tensorflow.keras.callbacks import EarlyStopping\n",
    "from tensorflow.keras.preprocessing.image import ImageDataGenerator\n",
    "from tensorflow.keras.applications.resnet50 import ResNet50\n",
    "from tensorflow.keras.applications import DenseNet121\n",
    "from tensorflow.keras.layers import Dense, GlobalAveragePooling2D\n",
    "from tensorflow.keras import optimizers\n",
    "from tensorflow.keras.models import Model\n",
    "from sklearn.metrics import classification_report, confusion_matrix\n",
    "from VGG_19 import VGG19\n",
    "import os\n",
    "import shutil\n",
    "import numpy as np"
   ]
  },
  {
   "cell_type": "markdown",
   "metadata": {},
   "source": [
    "# Q1"
   ]
  },
  {
   "cell_type": "code",
   "execution_count": 24,
   "metadata": {},
   "outputs": [],
   "source": [
    "# Define the function and its derivatives\n",
    "def func(x, y):\n",
    "    return pow(x, 2) + pow(y, 2) + x*y + 2*x + math.cos(3*x)\n",
    "\n",
    "def derivative_x(x, y):\n",
    "    return 2*x + y + 2 - 3*math.sin(3*x)\n",
    "\n",
    "def derivative_y(x, y):\n",
    "    return 2*y + x"
   ]
  },
  {
   "cell_type": "code",
   "execution_count": 25,
   "metadata": {},
   "outputs": [
    {
     "data": {
      "image/png": "[encoded data removed]",
      "text/plain": [
       "<Figure size 640x480 with 1 Axes>"
      ]
     },
     "metadata": {},
     "output_type": "display_data"
    },
    {
     "name": "stdout",
     "output_type": "stream",
     "text": [
      "min_x:  -1.088156592554671  min_y:  0.5440286008422788  functions_value:  -2.2807097055009007\n"
     ]
    }
   ],
   "source": [
    "# Gradient Descent Implementation\n",
    "def gradient_descent(derivative_func_x, derivative_func_y, initial_x, initial_y, learning_rate, max_iterations, tolerance):\n",
    "    x, y = initial_x, initial_y\n",
    "    path = [(x, y)] # to store the path of gradient descent\n",
    "    \n",
    "    for _ in range(max_iterations):\n",
    "        grad_x = derivative_func_x(x, y)\n",
    "        grad_y = derivative_func_y(x, y)\n",
    "        \n",
    "        # Update x and y\n",
    "        x_new = x - learning_rate * grad_x\n",
    "        y_new = y - learning_rate * grad_y\n",
    "        \n",
    "        # Store the new values in the path\n",
    "        path.append((x_new, y_new))\n",
    "        \n",
    "        # Check for convergence\n",
    "        if math.sqrt((x_new - x)**2 + (y_new - y)**2) < tolerance:\n",
    "            break\n",
    "        \n",
    "        x, y = x_new, y_new\n",
    "    \n",
    "    return x, y, path\n",
    "\n",
    "# Initial parameters for gradient descent\n",
    "initial_x = 0\n",
    "initial_y = 0\n",
    "learning_rate = 0.01\n",
    "max_iterations = 1000\n",
    "tolerance = 1e-6\n",
    "\n",
    "# Run gradient descent\n",
    "minimum_x, minimum_y, path = gradient_descent(derivative_x, derivative_y, initial_x, initial_y, learning_rate, max_iterations, tolerance)\n",
    "\n",
    "# Plotting the results\n",
    "path = np.array(path) # Convert path to numpy array for easier plotting\n",
    "plt.plot(path[:, 0], path[:, 1], '-o', markersize=3, label='Path of Gradient Descent')\n",
    "plt.plot(minimum_x, minimum_y, 'r*', markersize=10, label='Minimum')\n",
    "plt.xlabel('x')\n",
    "plt.ylabel('y')\n",
    "plt.title('Gradient Descent Path')\n",
    "plt.legend()\n",
    "plt.show()\n",
    "\n",
    "print(\"min_x: \",minimum_x,\" min_y: \", minimum_y, \" functions_value: \",func(minimum_x, minimum_y))\n"
   ]
  },
  {
   "cell_type": "markdown",
   "metadata": {},
   "source": [
    "# Q2"
   ]
  },
  {
   "cell_type": "markdown",
   "metadata": {},
   "source": [
    "### Read the data & Prepare"
   ]
  },
  {
   "cell_type": "code",
   "execution_count": 26,
   "metadata": {},
   "outputs": [],
   "source": [
    "# spliting the data into train and test folders\n",
    "def split_data(source_dir, train_dir, test_dir, train_size=0.8):\n",
    "    classes = [d for d in os.listdir(source_dir) if os.path.isdir(os.path.join(source_dir, d))]\n",
    "    for cls in classes:\n",
    "        # Create directories\n",
    "        os.makedirs(os.path.join(train_dir, cls), exist_ok=True)\n",
    "        os.makedirs(os.path.join(test_dir, cls), exist_ok=True)\n",
    "        \n",
    "        # List all files in the class directory\n",
    "        files = [os.path.join(source_dir, cls, f) for f in os.listdir(os.path.join(source_dir, cls))]\n",
    "        np.random.shuffle(files)\n",
    "        \n",
    "        # Split files\n",
    "        train_end = int(len(files) * train_size)\n",
    "        train_files = files[:train_end]\n",
    "        test_files = files[train_end:]\n",
    "        \n",
    "        # Copy files to respective directories\n",
    "        for f in train_files:\n",
    "            shutil.copy(f, os.path.join(train_dir, cls))\n",
    "        for f in test_files:\n",
    "            shutil.copy(f, os.path.join(test_dir, cls))"
   ]
  },
  {
   "cell_type": "code",
   "execution_count": 27,
   "metadata": {},
   "outputs": [],
   "source": [
    "#split_data(\"250000_Final\", \"train\", \"test\")"
   ]
  },
  {
   "cell_type": "code",
   "execution_count": 28,
   "metadata": {},
   "outputs": [
    {
     "name": "stdout",
     "output_type": "stream",
     "text": [
      "Found 161831 images belonging to 10 classes.\n",
      "Found 40453 images belonging to 10 classes.\n",
      "Found 50576 images belonging to 10 classes.\n"
     ]
    }
   ],
   "source": [
    "# Prepare  data\n",
    "datagen = ImageDataGenerator(\n",
    "    validation_split=0.2  # Setting validation split to 20%\n",
    ")\n",
    "\n",
    "train_generator = datagen.flow_from_directory(\n",
    "    'train',\n",
    "    target_size=(32, 32),\n",
    "    batch_size=128,\n",
    "    class_mode='categorical',\n",
    "    subset='training'  # Specify subset as training\n",
    ")\n",
    "\n",
    "validation_generator = datagen.flow_from_directory(\n",
    "    'train',\n",
    "    target_size=(32, 32),\n",
    "    batch_size=128,\n",
    "    class_mode='categorical',\n",
    "    subset='validation'  # Specify subset as validation\n",
    ")\n",
    "\n",
    "test_datagen = ImageDataGenerator()\n",
    "test_generator = test_datagen.flow_from_directory(\n",
    "    'test',\n",
    "    target_size=(32, 32),\n",
    "    batch_size=128,\n",
    "    class_mode='categorical',\n",
    "    shuffle=False\n",
    ")"
   ]
  },
  {
   "cell_type": "markdown",
   "metadata": {},
   "source": [
    "### VGG-19"
   ]
  },
  {
   "cell_type": "code",
   "execution_count": 29,
   "metadata": {},
   "outputs": [
    {
     "name": "stdout",
     "output_type": "stream",
     "text": [
      "Epoch 1/5\n",
      "1265/1265 - 695s - 549ms/step - accuracy: 0.8700 - loss: 0.3743 - val_accuracy: 0.9716 - val_loss: 0.1027\n",
      "Epoch 2/5\n",
      "1265/1265 - 692s - 547ms/step - accuracy: 0.9832 - loss: 0.0617 - val_accuracy: 0.9826 - val_loss: 0.0686\n",
      "Epoch 3/5\n",
      "1265/1265 - 694s - 549ms/step - accuracy: 0.9894 - loss: 0.0426 - val_accuracy: 0.9814 - val_loss: 0.0740\n",
      "Epoch 4/5\n",
      "1265/1265 - 691s - 546ms/step - accuracy: 0.9908 - loss: 0.0378 - val_accuracy: 0.9791 - val_loss: 0.0811\n",
      "Epoch 5/5\n",
      "1265/1265 - 689s - 545ms/step - accuracy: 0.9931 - loss: 0.0296 - val_accuracy: 0.9831 - val_loss: 0.0714\n",
      "Epoch 5: early stopping\n",
      "Restoring model weights from the end of the best epoch: 2.\n"
     ]
    }
   ],
   "source": [
    "# Initialize the model\n",
    "model = VGG19(include_top=True, weights=None, input_shape=(32, 32, 3), classes=10).model\n",
    "\n",
    "# Compile the model\n",
    "model.compile(loss='categorical_crossentropy',\n",
    "              optimizer=optimizers.Adam(learning_rate=0.0001),\n",
    "              metrics=['accuracy'])\n",
    "\n",
    "# Define the Early Stopping callback\n",
    "early_stopping = EarlyStopping(monitor='val_loss', patience=3, verbose=1, restore_best_weights=True)\n",
    "\n",
    "\n",
    "# Train the model\n",
    "history = model.fit(\n",
    "      train_generator,\n",
    "      epochs=5,\n",
    "      validation_data=validation_generator,\n",
    "      verbose=2,\n",
    "      callbacks=[early_stopping]).history\n"
   ]
  },
  {
   "cell_type": "code",
   "execution_count": 30,
   "metadata": {},
   "outputs": [
    {
     "name": "stderr",
     "output_type": "stream",
     "text": [
      "WARNING:absl:You are saving your model as an HDF5 file via `model.save()` or `keras.saving.save_model(model)`. This file format is considered legacy. We recommend using instead the native Keras format, e.g. `model.save('my_model.keras')` or `keras.saving.save_model(model, 'my_model.keras')`. \n"
     ]
    }
   ],
   "source": [
    "model.save(\"VGG19.h5\")"
   ]
  },
  {
   "cell_type": "code",
   "execution_count": 31,
   "metadata": {},
   "outputs": [
    {
     "data": {
      "text/plain": [
       "<matplotlib.legend.Legend at 0x18abb7ea270>"
      ]
     },
     "execution_count": 31,
     "metadata": {},
     "output_type": "execute_result"
    },
    {
     "data": {
      "image/png": "[encoded data removed]",
      "text/plain": [
       "<Figure size 640x480 with 1 Axes>"
      ]
     },
     "metadata": {},
     "output_type": "display_data"
    }
   ],
   "source": [
    "plt.plot(history['loss'], linewidth=2, label='Train')\n",
    "plt.plot(history['val_loss'], linewidth=2, label='Valid')\n",
    "plt.legend(loc='upper right')"
   ]
  },
  {
   "cell_type": "code",
   "execution_count": 32,
   "metadata": {},
   "outputs": [
    {
     "name": "stdout",
     "output_type": "stream",
     "text": [
      "\u001b[1m396/396\u001b[0m \u001b[32m━━━━━━━━━━━━━━━━━━━━\u001b[0m\u001b[37m\u001b[0m \u001b[1m38s\u001b[0m 97ms/step\n"
     ]
    }
   ],
   "source": [
    "# Predict on the test set\n",
    "predictions = model.predict(test_generator, steps=test_generator.samples // test_generator.batch_size+1)\n",
    "predicted_classes = np.argmax(predictions, axis=1)\n",
    "true_classes = test_generator.classes\n",
    "class_labels = list(test_generator.class_indices.keys())"
   ]
  },
  {
   "cell_type": "code",
   "execution_count": 33,
   "metadata": {},
   "outputs": [
    {
     "name": "stdout",
     "output_type": "stream",
     "text": [
      "Classification repot for VGG19: \n",
      "               precision    recall  f1-score   support\n",
      "\n",
      "           0       1.00      0.99      0.99      5008\n",
      "           1       0.99      0.98      0.99      5001\n",
      "           2       0.99      0.99      0.99      5031\n",
      "           3       0.99      0.99      0.99      5010\n",
      "           4       0.99      0.99      0.99      5082\n",
      "           5       0.97      1.00      0.98      5138\n",
      "           6       0.99      0.98      0.99      5142\n",
      "           7       0.97      0.99      0.98      5069\n",
      "           8       0.99      0.98      0.98      5073\n",
      "           9       0.98      0.98      0.98      5022\n",
      "\n",
      "    accuracy                           0.99     50576\n",
      "   macro avg       0.99      0.99      0.99     50576\n",
      "weighted avg       0.99      0.99      0.99     50576\n",
      "\n"
     ]
    }
   ],
   "source": [
    "# Calculate metrics\n",
    "report = classification_report(true_classes, predicted_classes, target_names=class_labels)\n",
    "conf_matrix = confusion_matrix(true_classes, predicted_classes)\n",
    "\n",
    "# print the classification report\n",
    "print(\"Classification repot for VGG19: \\n\",report)"
   ]
  },
  {
   "cell_type": "code",
   "execution_count": 34,
   "metadata": {},
   "outputs": [
    {
     "data": {
      "text/plain": [
       "array([[4959,    3,    1,    5,    1,    3,    7,    2,   16,   11],\n",
       "       [   9, 4899,   10,    2,   21,    0,   14,   37,    2,    7],\n",
       "       [   1,    0, 4975,    6,    2,    4,    0,   11,    7,   25],\n",
       "       [   0,    0,    4, 4946,    8,   24,    0,   10,    4,   14],\n",
       "       [   3,   12,    5,    1, 5018,    5,    4,   16,    2,   16],\n",
       "       [   0,    0,    0,   14,    0, 5116,    3,    1,    3,    1],\n",
       "       [   4,    5,    0,    0,    0,   74, 5045,    2,   12,    0],\n",
       "       [   1,    6,    1,    1,    5,    7,    4, 5030,    3,   11],\n",
       "       [   2,    0,   26,   23,    3,   44,    7,    5, 4954,    9],\n",
       "       [   1,    2,   16,    4,    3,    2,    1,   73,    1, 4919]],\n",
       "      dtype=int64)"
      ]
     },
     "execution_count": 34,
     "metadata": {},
     "output_type": "execute_result"
    }
   ],
   "source": [
    "conf_matrix"
   ]
  },
  {
   "cell_type": "markdown",
   "metadata": {},
   "source": [
    "### ResNet50"
   ]
  },
  {
   "cell_type": "code",
   "execution_count": 35,
   "metadata": {},
   "outputs": [
    {
     "name": "stdout",
     "output_type": "stream",
     "text": [
      "Epoch 1/5\n",
      "1265/1265 - 510s - 403ms/step - accuracy: 0.8582 - loss: 0.4656 - val_accuracy: 0.8881 - val_loss: 0.3523\n",
      "Epoch 2/5\n",
      "1265/1265 - 495s - 392ms/step - accuracy: 0.9732 - loss: 0.0880 - val_accuracy: 0.9438 - val_loss: 0.1815\n",
      "Epoch 3/5\n",
      "1265/1265 - 504s - 398ms/step - accuracy: 0.9802 - loss: 0.0684 - val_accuracy: 0.9619 - val_loss: 0.1363\n",
      "Epoch 4/5\n",
      "1265/1265 - 514s - 407ms/step - accuracy: 0.9840 - loss: 0.0572 - val_accuracy: 0.9108 - val_loss: 0.3155\n",
      "Epoch 5/5\n",
      "1265/1265 - 495s - 391ms/step - accuracy: 0.9852 - loss: 0.0534 - val_accuracy: 0.9431 - val_loss: 0.2293\n"
     ]
    }
   ],
   "source": [
    "base_model = ResNet50(weights=None, include_top=False, input_shape=(32, 32, 3))\n",
    "\n",
    "\n",
    "x = base_model.output\n",
    "x = GlobalAveragePooling2D()(x)\n",
    "x = Dense(1024, activation='relu')(x)\n",
    "predictions = Dense(train_generator.num_classes, activation='softmax')(x)\n",
    "\n",
    "\n",
    "model_resnet = Model(inputs=base_model.input, outputs=predictions)\n",
    "\n",
    "\n",
    "model_resnet.compile(optimizer='adam', loss='categorical_crossentropy', metrics=['accuracy'])\n",
    "\n",
    "history = model_resnet.fit(\n",
    "    train_generator,\n",
    "    validation_data=validation_generator,\n",
    "    epochs=5,\n",
    "    verbose=2\n",
    ").history"
   ]
  },
  {
   "cell_type": "code",
   "execution_count": 36,
   "metadata": {},
   "outputs": [
    {
     "name": "stderr",
     "output_type": "stream",
     "text": [
      "WARNING:absl:You are saving your model as an HDF5 file via `model.save()` or `keras.saving.save_model(model)`. This file format is considered legacy. We recommend using instead the native Keras format, e.g. `model.save('my_model.keras')` or `keras.saving.save_model(model, 'my_model.keras')`. \n"
     ]
    }
   ],
   "source": [
    "model_resnet.save(\"ResNet_50.h5\")"
   ]
  },
  {
   "cell_type": "code",
   "execution_count": 37,
   "metadata": {},
   "outputs": [
    {
     "data": {
      "text/plain": [
       "<matplotlib.legend.Legend at 0x18a4df1e210>"
      ]
     },
     "execution_count": 37,
     "metadata": {},
     "output_type": "execute_result"
    },
    {
     "data": {
      "image/png": "[encoded data removed]",
      "text/plain": [
       "<Figure size 640x480 with 1 Axes>"
      ]
     },
     "metadata": {},
     "output_type": "display_data"
    }
   ],
   "source": [
    "plt.plot(history['loss'], linewidth=2, label='Train')\n",
    "plt.plot(history['val_loss'], linewidth=2, label='Valid')\n",
    "plt.legend(loc='upper right')"
   ]
  },
  {
   "cell_type": "code",
   "execution_count": 38,
   "metadata": {},
   "outputs": [
    {
     "name": "stdout",
     "output_type": "stream",
     "text": [
      "\u001b[1m396/396\u001b[0m \u001b[32m━━━━━━━━━━━━━━━━━━━━\u001b[0m\u001b[37m\u001b[0m \u001b[1m20s\u001b[0m 49ms/step\n"
     ]
    }
   ],
   "source": [
    "# Predict on the test set\n",
    "predictions = model_resnet.predict(test_generator, steps=test_generator.samples // test_generator.batch_size+1)\n",
    "predicted_classes = np.argmax(predictions, axis=1)\n",
    "true_classes = test_generator.classes\n",
    "class_labels = list(test_generator.class_indices.keys())"
   ]
  },
  {
   "cell_type": "code",
   "execution_count": 39,
   "metadata": {},
   "outputs": [
    {
     "name": "stdout",
     "output_type": "stream",
     "text": [
      "Classification repot for ResNet50: \n",
      "               precision    recall  f1-score   support\n",
      "\n",
      "           0       0.99      0.98      0.98      5008\n",
      "           1       0.96      0.97      0.97      5001\n",
      "           2       1.00      0.87      0.93      5031\n",
      "           3       0.98      0.90      0.94      5010\n",
      "           4       0.94      0.98      0.96      5082\n",
      "           5       0.97      0.98      0.98      5138\n",
      "           6       0.95      0.99      0.97      5142\n",
      "           7       0.90      0.97      0.94      5069\n",
      "           8       0.98      0.92      0.95      5073\n",
      "           9       0.90      0.97      0.93      5022\n",
      "\n",
      "    accuracy                           0.95     50576\n",
      "   macro avg       0.96      0.95      0.95     50576\n",
      "weighted avg       0.96      0.95      0.95     50576\n",
      "\n"
     ]
    }
   ],
   "source": [
    "# Calculate metrics\n",
    "report = classification_report(true_classes, predicted_classes, target_names=class_labels)\n",
    "conf_matrix = confusion_matrix(true_classes, predicted_classes)\n",
    "\n",
    "# print the classification report\n",
    "print(\"Classification repot for ResNet50: \\n\",report)"
   ]
  },
  {
   "cell_type": "code",
   "execution_count": 40,
   "metadata": {},
   "outputs": [
    {
     "data": {
      "text/plain": [
       "array([[4910,   15,    0,    3,   10,    5,   14,   15,    7,   29],\n",
       "       [   7, 4873,    7,    0,   36,    1,   26,   45,    0,    6],\n",
       "       [   4,   40, 4374,    9,  113,    8,   19,  122,   77,  265],\n",
       "       [  14,   12,    1, 4524,   87,   69,    4,  151,    9,  139],\n",
       "       [   1,   20,    2,    0, 4993,    3,    4,   45,    4,   10],\n",
       "       [   0,   12,    0,   26,    7, 5035,   24,   18,    4,   12],\n",
       "       [  23,   10,    0,    0,    1,   28, 5077,    1,    2,    0],\n",
       "       [   0,   38,    0,    0,   21,    4,   21, 4938,    2,   45],\n",
       "       [  20,   24,    1,   57,   38,   26,  166,   51, 4672,   18],\n",
       "       [   5,   13,    3,    7,   29,    1,    2,  103,    9, 4850]],\n",
       "      dtype=int64)"
      ]
     },
     "execution_count": 40,
     "metadata": {},
     "output_type": "execute_result"
    }
   ],
   "source": [
    "conf_matrix"
   ]
  },
  {
   "cell_type": "markdown",
   "metadata": {},
   "source": [
    "### DenseNet-121"
   ]
  },
  {
   "cell_type": "code",
   "execution_count": 41,
   "metadata": {},
   "outputs": [
    {
     "name": "stdout",
     "output_type": "stream",
     "text": [
      "Epoch 1/5\n",
      "1265/1265 - 319s - 252ms/step - accuracy: 0.9314 - loss: 0.2119 - val_accuracy: 0.9344 - val_loss: 0.2089\n",
      "Epoch 2/5\n",
      "1265/1265 - 285s - 225ms/step - accuracy: 0.9833 - loss: 0.0579 - val_accuracy: 0.9585 - val_loss: 0.1429\n",
      "Epoch 3/5\n",
      "1265/1265 - 282s - 223ms/step - accuracy: 0.9876 - loss: 0.0434 - val_accuracy: 0.9275 - val_loss: 0.2333\n",
      "Epoch 4/5\n",
      "1265/1265 - 287s - 227ms/step - accuracy: 0.9895 - loss: 0.0374 - val_accuracy: 0.9735 - val_loss: 0.0977\n",
      "Epoch 5/5\n",
      "1265/1265 - 287s - 227ms/step - accuracy: 0.9912 - loss: 0.0310 - val_accuracy: 0.9779 - val_loss: 0.0854\n"
     ]
    }
   ],
   "source": [
    "# initialize the model DenseNet\n",
    "model_densenet = DenseNet121(weights=None, include_top=False, input_shape=(32, 32, 3))\n",
    "\n",
    "x = model_densenet.output\n",
    "x = GlobalAveragePooling2D()(x)\n",
    "x = Dense(1024, activation='relu')(x) \n",
    "predictions = Dense(train_generator.num_classes, activation='softmax')(x)\n",
    "\n",
    "\n",
    "model_densenet = Model(inputs=model_densenet.input, outputs=predictions)\n",
    "\n",
    "\n",
    "model_densenet.compile(optimizer='adam', loss='categorical_crossentropy', metrics=['accuracy'])\n",
    "\n",
    "history = model_densenet.fit(\n",
    "    train_generator,\n",
    "    validation_data=validation_generator,\n",
    "    epochs=5,\n",
    "    verbose=2\n",
    ").history"
   ]
  },
  {
   "cell_type": "code",
   "execution_count": 42,
   "metadata": {},
   "outputs": [
    {
     "name": "stderr",
     "output_type": "stream",
     "text": [
      "WARNING:absl:You are saving your model as an HDF5 file via `model.save()` or `keras.saving.save_model(model)`. This file format is considered legacy. We recommend using instead the native Keras format, e.g. `model.save('my_model.keras')` or `keras.saving.save_model(model, 'my_model.keras')`. \n"
     ]
    }
   ],
   "source": [
    "model_densenet.save(\"DenseNet_121.h5\")"
   ]
  },
  {
   "cell_type": "code",
   "execution_count": 43,
   "metadata": {},
   "outputs": [
    {
     "data": {
      "text/plain": [
       "<matplotlib.legend.Legend at 0x18b71986c00>"
      ]
     },
     "execution_count": 43,
     "metadata": {},
     "output_type": "execute_result"
    },
    {
     "data": {
      "image/png": "[encoded data removed]",
      "text/plain": [
       "<Figure size 640x480 with 1 Axes>"
      ]
     },
     "metadata": {},
     "output_type": "display_data"
    }
   ],
   "source": [
    "plt.plot(history['loss'], linewidth=2, label='Train')\n",
    "plt.plot(history['val_loss'], linewidth=2, label='Valid')\n",
    "plt.legend(loc='upper right')"
   ]
  },
  {
   "cell_type": "code",
   "execution_count": 44,
   "metadata": {},
   "outputs": [
    {
     "name": "stdout",
     "output_type": "stream",
     "text": [
      "\u001b[1m396/396\u001b[0m \u001b[32m━━━━━━━━━━━━━━━━━━━━\u001b[0m\u001b[37m\u001b[0m \u001b[1m26s\u001b[0m 63ms/step\n"
     ]
    }
   ],
   "source": [
    "# Predict on the test set\n",
    "predictions = model_densenet.predict(test_generator, steps=test_generator.samples // test_generator.batch_size+1)\n",
    "predicted_classes = np.argmax(predictions, axis=1)\n",
    "true_classes = test_generator.classes\n",
    "class_labels = list(test_generator.class_indices.keys())"
   ]
  },
  {
   "cell_type": "code",
   "execution_count": 45,
   "metadata": {},
   "outputs": [
    {
     "name": "stdout",
     "output_type": "stream",
     "text": [
      "Classification repot for DenseNet_121: \n",
      "               precision    recall  f1-score   support\n",
      "\n",
      "           0       1.00      0.98      0.99      5008\n",
      "           1       0.98      0.99      0.99      5001\n",
      "           2       0.99      0.97      0.98      5031\n",
      "           3       1.00      0.94      0.97      5010\n",
      "           4       0.99      0.99      0.99      5082\n",
      "           5       0.98      0.99      0.99      5138\n",
      "           6       0.99      0.99      0.99      5142\n",
      "           7       0.97      0.99      0.98      5069\n",
      "           8       0.99      0.99      0.99      5073\n",
      "           9       0.93      0.99      0.96      5022\n",
      "\n",
      "    accuracy                           0.98     50576\n",
      "   macro avg       0.98      0.98      0.98     50576\n",
      "weighted avg       0.98      0.98      0.98     50576\n",
      "\n"
     ]
    }
   ],
   "source": [
    "# Calculate metrics\n",
    "report = classification_report(true_classes, predicted_classes, target_names=class_labels)\n",
    "conf_matrix = confusion_matrix(true_classes, predicted_classes)\n",
    "\n",
    "# print the classification report\n",
    "print(\"Classification repot for DenseNet_121: \\n\",report)"
   ]
  },
  {
   "cell_type": "code",
   "execution_count": 46,
   "metadata": {},
   "outputs": [
    {
     "data": {
      "text/plain": [
       "array([[4928,    4,    2,    0,    2,    2,   16,    1,   10,   43],\n",
       "       [   4, 4932,    8,    0,   27,    0,   13,   12,    2,    3],\n",
       "       [   0,    8, 4888,    1,    1,    1,    1,   18,    4,  109],\n",
       "       [   2,   14,   10, 4732,    5,   48,    1,   49,   25,  124],\n",
       "       [   0,   11,    7,    0, 5014,    4,    3,   17,    5,   21],\n",
       "       [   0,    4,    0,    5,    2, 5099,   15,    4,    1,    8],\n",
       "       [   4,    2,    0,    0,    1,   15, 5110,    1,    9,    0],\n",
       "       [   1,   21,    0,    1,    8,    1,    6, 5007,    3,   21],\n",
       "       [   3,    1,    7,    2,    0,   16,    6,    3, 5015,   20],\n",
       "       [   1,   12,    2,    0,    2,    0,    0,   31,    4, 4970]],\n",
       "      dtype=int64)"
      ]
     },
     "execution_count": 46,
     "metadata": {},
     "output_type": "execute_result"
    }
   ],
   "source": [
    "conf_matrix"
   ]
  },
  {
   "cell_type": "markdown",
   "metadata": {},
   "source": [
    "#### My Deep learning algorithm"
   ]
  },
  {
   "cell_type": "code",
   "execution_count": 47,
   "metadata": {},
   "outputs": [],
   "source": [
    "from my_model import My_model"
   ]
  },
  {
   "cell_type": "code",
   "execution_count": 48,
   "metadata": {},
   "outputs": [
    {
     "name": "stdout",
     "output_type": "stream",
     "text": [
      "Epoch 1/10\n",
      "1265/1265 - 117s - 92ms/step - accuracy: 0.8611 - loss: 0.4104 - val_accuracy: 0.9044 - val_loss: 0.2985\n",
      "Epoch 2/10\n",
      "1265/1265 - 113s - 89ms/step - accuracy: 0.9650 - loss: 0.1095 - val_accuracy: 0.9404 - val_loss: 0.1845\n",
      "Epoch 3/10\n",
      "1265/1265 - 161s - 127ms/step - accuracy: 0.9764 - loss: 0.0736 - val_accuracy: 0.8751 - val_loss: 0.3953\n",
      "Epoch 4/10\n",
      "1265/1265 - 165s - 131ms/step - accuracy: 0.9822 - loss: 0.0557 - val_accuracy: 0.9647 - val_loss: 0.1127\n",
      "Epoch 5/10\n",
      "1265/1265 - 113s - 89ms/step - accuracy: 0.9864 - loss: 0.0430 - val_accuracy: 0.9740 - val_loss: 0.0868\n",
      "Epoch 6/10\n",
      "1265/1265 - 113s - 89ms/step - accuracy: 0.9892 - loss: 0.0347 - val_accuracy: 0.9724 - val_loss: 0.0908\n",
      "Epoch 7/10\n",
      "1265/1265 - 114s - 90ms/step - accuracy: 0.9905 - loss: 0.0296 - val_accuracy: 0.9710 - val_loss: 0.1009\n",
      "Epoch 8/10\n",
      "1265/1265 - 113s - 89ms/step - accuracy: 0.9920 - loss: 0.0244 - val_accuracy: 0.9742 - val_loss: 0.0918\n",
      "Epoch 8: early stopping\n",
      "Restoring model weights from the end of the best epoch: 5.\n"
     ]
    }
   ],
   "source": [
    "# Initialize the model_my\n",
    "model_my = My_model(include_top=True, weights=None, input_shape=(32, 32, 3), classes=10).model\n",
    "\n",
    "# Compile the model_my\n",
    "model_my.compile(loss='categorical_crossentropy',\n",
    "              optimizer=optimizers.Adam(learning_rate=0.0001),\n",
    "              metrics=['accuracy'])\n",
    "\n",
    "# Define the Early Stopping callback\n",
    "early_stopping = EarlyStopping(monitor='val_loss', patience=3, verbose=1, restore_best_weights=True)\n",
    "\n",
    "\n",
    "# Train the model_my\n",
    "history = model_my.fit(\n",
    "      train_generator,\n",
    "      epochs=10,\n",
    "      validation_data=validation_generator,\n",
    "      verbose=2,\n",
    "      callbacks=[early_stopping]).history"
   ]
  },
  {
   "cell_type": "code",
   "execution_count": 49,
   "metadata": {},
   "outputs": [
    {
     "data": {
      "text/plain": [
       "<matplotlib.legend.Legend at 0x18ba8195b80>"
      ]
     },
     "execution_count": 49,
     "metadata": {},
     "output_type": "execute_result"
    },
    {
     "data": {
      "image/png": "[encoded data removed]",
      "text/plain": [
       "<Figure size 640x480 with 1 Axes>"
      ]
     },
     "metadata": {},
     "output_type": "display_data"
    }
   ],
   "source": [
    "plt.plot(history['loss'], linewidth=2, label='Train')\n",
    "plt.plot(history['val_loss'], linewidth=2, label='Valid')\n",
    "plt.legend(loc='upper right')"
   ]
  },
  {
   "cell_type": "code",
   "execution_count": 50,
   "metadata": {},
   "outputs": [
    {
     "name": "stdout",
     "output_type": "stream",
     "text": [
      "\u001b[1m396/396\u001b[0m \u001b[32m━━━━━━━━━━━━━━━━━━━━\u001b[0m\u001b[37m\u001b[0m \u001b[1m9s\u001b[0m 23ms/step\n"
     ]
    }
   ],
   "source": [
    "# Predict on the test set\n",
    "predictions = model_my.predict(test_generator)\n",
    "predicted_classes = np.argmax(predictions, axis=1)\n",
    "true_classes = test_generator.classes\n",
    "class_labels = list(test_generator.class_indices.keys())"
   ]
  },
  {
   "cell_type": "code",
   "execution_count": 51,
   "metadata": {},
   "outputs": [
    {
     "name": "stdout",
     "output_type": "stream",
     "text": [
      "Classification repot for My model: \n",
      "               precision    recall  f1-score   support\n",
      "\n",
      "           0       0.99      0.99      0.99      5008\n",
      "           1       0.98      0.99      0.98      5001\n",
      "           2       0.98      0.98      0.98      5031\n",
      "           3       0.98      0.99      0.98      5010\n",
      "           4       0.98      0.98      0.98      5082\n",
      "           5       1.00      0.95      0.97      5138\n",
      "           6       0.97      0.99      0.98      5142\n",
      "           7       0.99      0.95      0.97      5069\n",
      "           8       0.97      0.98      0.97      5073\n",
      "           9       0.96      0.97      0.96      5022\n",
      "\n",
      "    accuracy                           0.98     50576\n",
      "   macro avg       0.98      0.98      0.98     50576\n",
      "weighted avg       0.98      0.98      0.98     50576\n",
      "\n"
     ]
    }
   ],
   "source": [
    "# Calculate metrics\n",
    "report = classification_report(true_classes, predicted_classes, target_names=class_labels)\n",
    "conf_matrix = confusion_matrix(true_classes, predicted_classes)\n",
    "\n",
    "# print the classification report\n",
    "print(\"Classification repot for My model: \\n\",report)"
   ]
  },
  {
   "cell_type": "code",
   "execution_count": 52,
   "metadata": {},
   "outputs": [
    {
     "data": {
      "text/plain": [
       "array([[4966,    3,    3,    4,    2,    2,   16,    0,    4,    8],\n",
       "       [  10, 4935,    5,    0,   25,    0,   10,   10,    1,    5],\n",
       "       [   3,    8, 4948,   15,    8,    0,    7,    4,   19,   19],\n",
       "       [   2,    2,    8, 4961,    5,    5,    2,    3,   14,    8],\n",
       "       [   2,   28,    7,    8, 4989,    3,    9,    4,   19,   13],\n",
       "       [  16,    5,    7,   38,    9, 4880,  105,    5,   55,   18],\n",
       "       [  13,    6,    0,    1,    1,    6, 5095,    1,   19,    0],\n",
       "       [   3,   43,    3,    8,   33,    2,    7, 4812,   21,  137],\n",
       "       [  15,    2,   15,   20,    4,    5,   27,    1, 4974,   10],\n",
       "       [   3,   20,   40,   17,   11,    0,    0,   24,   23, 4884]],\n",
       "      dtype=int64)"
      ]
     },
     "execution_count": 52,
     "metadata": {},
     "output_type": "execute_result"
    }
   ],
   "source": [
    "conf_matrix"
   ]
  }
 ],
 "metadata": {
  "kernelspec": {
   "display_name": "new",
   "language": "python",
   "name": "python3"
  },
  "language_info": {
   "codemirror_mode": {
    "name": "ipython",
    "version": 3
   },
   "file_extension": ".py",
   "mimetype": "text/x-python",
   "name": "python",
   "nbconvert_exporter": "python",
   "pygments_lexer": "ipython3",
   "version": "3.12.3"
  }
 },
 "nbformat": 4,
 "nbformat_minor": 2
}
