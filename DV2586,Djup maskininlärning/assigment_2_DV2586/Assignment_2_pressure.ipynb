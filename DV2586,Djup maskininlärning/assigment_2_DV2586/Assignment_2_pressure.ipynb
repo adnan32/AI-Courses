{
 "cells": [
  {
   "cell_type": "markdown",
   "metadata": {},
   "source": [
    "# Importing Libraries"
   ]
  },
  {
   "cell_type": "code",
   "execution_count": 101,
   "metadata": {},
   "outputs": [],
   "source": [
    "import numpy as np\n",
    "import pandas as pd\n",
    "import matplotlib.pyplot as plt\n",
    "from keras import optimizers, Sequential\n",
    "from keras.callbacks import ModelCheckpoint, TensorBoard\n",
    "from keras.layers import Dense\n",
    "from keras.layers import LSTM,Input\n",
    "from keras.layers import TimeDistributed\n",
    "from keras.layers import RepeatVector\n",
    "from tensorflow.keras.callbacks import EarlyStopping\n",
    "from sklearn.metrics import confusion_matrix\n",
    "from sklearn.metrics import classification_report\n"
   ]
  },
  {
   "cell_type": "code",
   "execution_count": 102,
   "metadata": {},
   "outputs": [],
   "source": [
    "# Read the data\n",
    "data=pd.read_csv(\"generated_data.csv\")"
   ]
  },
  {
   "cell_type": "code",
   "execution_count": 103,
   "metadata": {},
   "outputs": [
    {
     "data": {
      "text/html": [
       "<div>\n",
       "<style scoped>\n",
       "    .dataframe tbody tr th:only-of-type {\n",
       "        vertical-align: middle;\n",
       "    }\n",
       "\n",
       "    .dataframe tbody tr th {\n",
       "        vertical-align: top;\n",
       "    }\n",
       "\n",
       "    .dataframe thead th {\n",
       "        text-align: right;\n",
       "    }\n",
       "</style>\n",
       "<table border=\"1\" class=\"dataframe\">\n",
       "  <thead>\n",
       "    <tr style=\"text-align: right;\">\n",
       "      <th></th>\n",
       "      <th>timestamp</th>\n",
       "      <th>temperature</th>\n",
       "      <th>pressure</th>\n",
       "      <th>humidity</th>\n",
       "      <th>temperature_status</th>\n",
       "      <th>pressure_status</th>\n",
       "      <th>humidity_status</th>\n",
       "    </tr>\n",
       "  </thead>\n",
       "  <tbody>\n",
       "    <tr>\n",
       "      <th>0</th>\n",
       "      <td>2023-01-01 00:00:00</td>\n",
       "      <td>28.10</td>\n",
       "      <td>105.27</td>\n",
       "      <td>32.26</td>\n",
       "      <td>normal</td>\n",
       "      <td>normal</td>\n",
       "      <td>anomalous</td>\n",
       "    </tr>\n",
       "    <tr>\n",
       "      <th>1</th>\n",
       "      <td>2023-01-01 00:05:00</td>\n",
       "      <td>22.53</td>\n",
       "      <td>102.69</td>\n",
       "      <td>71.83</td>\n",
       "      <td>anomalous</td>\n",
       "      <td>normal</td>\n",
       "      <td>anomalous</td>\n",
       "    </tr>\n",
       "    <tr>\n",
       "      <th>2</th>\n",
       "      <td>2023-01-01 00:10:00</td>\n",
       "      <td>34.63</td>\n",
       "      <td>100.23</td>\n",
       "      <td>65.88</td>\n",
       "      <td>normal</td>\n",
       "      <td>normal</td>\n",
       "      <td>normal</td>\n",
       "    </tr>\n",
       "    <tr>\n",
       "      <th>3</th>\n",
       "      <td>2023-01-01 00:15:00</td>\n",
       "      <td>25.32</td>\n",
       "      <td>81.32</td>\n",
       "      <td>74.68</td>\n",
       "      <td>normal</td>\n",
       "      <td>anomalous</td>\n",
       "      <td>anomalous</td>\n",
       "    </tr>\n",
       "    <tr>\n",
       "      <th>4</th>\n",
       "      <td>2023-01-01 00:20:00</td>\n",
       "      <td>28.75</td>\n",
       "      <td>97.69</td>\n",
       "      <td>42.93</td>\n",
       "      <td>normal</td>\n",
       "      <td>normal</td>\n",
       "      <td>normal</td>\n",
       "    </tr>\n",
       "    <tr>\n",
       "      <th>...</th>\n",
       "      <td>...</td>\n",
       "      <td>...</td>\n",
       "      <td>...</td>\n",
       "      <td>...</td>\n",
       "      <td>...</td>\n",
       "      <td>...</td>\n",
       "      <td>...</td>\n",
       "    </tr>\n",
       "    <tr>\n",
       "      <th>995</th>\n",
       "      <td>2023-01-04 10:55:00</td>\n",
       "      <td>39.72</td>\n",
       "      <td>109.03</td>\n",
       "      <td>57.36</td>\n",
       "      <td>anomalous</td>\n",
       "      <td>normal</td>\n",
       "      <td>normal</td>\n",
       "    </tr>\n",
       "    <tr>\n",
       "      <th>996</th>\n",
       "      <td>2023-01-04 11:00:00</td>\n",
       "      <td>38.78</td>\n",
       "      <td>103.67</td>\n",
       "      <td>77.07</td>\n",
       "      <td>anomalous</td>\n",
       "      <td>normal</td>\n",
       "      <td>anomalous</td>\n",
       "    </tr>\n",
       "    <tr>\n",
       "      <th>997</th>\n",
       "      <td>2023-01-04 11:05:00</td>\n",
       "      <td>35.97</td>\n",
       "      <td>111.50</td>\n",
       "      <td>72.28</td>\n",
       "      <td>anomalous</td>\n",
       "      <td>anomalous</td>\n",
       "      <td>anomalous</td>\n",
       "    </tr>\n",
       "    <tr>\n",
       "      <th>998</th>\n",
       "      <td>2023-01-04 11:10:00</td>\n",
       "      <td>24.67</td>\n",
       "      <td>95.94</td>\n",
       "      <td>68.69</td>\n",
       "      <td>anomalous</td>\n",
       "      <td>normal</td>\n",
       "      <td>normal</td>\n",
       "    </tr>\n",
       "    <tr>\n",
       "      <th>999</th>\n",
       "      <td>2023-01-04 11:15:00</td>\n",
       "      <td>34.21</td>\n",
       "      <td>106.53</td>\n",
       "      <td>45.34</td>\n",
       "      <td>normal</td>\n",
       "      <td>normal</td>\n",
       "      <td>normal</td>\n",
       "    </tr>\n",
       "  </tbody>\n",
       "</table>\n",
       "<p>1000 rows × 7 columns</p>\n",
       "</div>"
      ],
      "text/plain": [
       "               timestamp  temperature  pressure  humidity temperature_status  \\\n",
       "0    2023-01-01 00:00:00        28.10    105.27     32.26             normal   \n",
       "1    2023-01-01 00:05:00        22.53    102.69     71.83          anomalous   \n",
       "2    2023-01-01 00:10:00        34.63    100.23     65.88             normal   \n",
       "3    2023-01-01 00:15:00        25.32     81.32     74.68             normal   \n",
       "4    2023-01-01 00:20:00        28.75     97.69     42.93             normal   \n",
       "..                   ...          ...       ...       ...                ...   \n",
       "995  2023-01-04 10:55:00        39.72    109.03     57.36          anomalous   \n",
       "996  2023-01-04 11:00:00        38.78    103.67     77.07          anomalous   \n",
       "997  2023-01-04 11:05:00        35.97    111.50     72.28          anomalous   \n",
       "998  2023-01-04 11:10:00        24.67     95.94     68.69          anomalous   \n",
       "999  2023-01-04 11:15:00        34.21    106.53     45.34             normal   \n",
       "\n",
       "    pressure_status humidity_status  \n",
       "0            normal       anomalous  \n",
       "1            normal       anomalous  \n",
       "2            normal          normal  \n",
       "3         anomalous       anomalous  \n",
       "4            normal          normal  \n",
       "..              ...             ...  \n",
       "995          normal          normal  \n",
       "996          normal       anomalous  \n",
       "997       anomalous       anomalous  \n",
       "998          normal          normal  \n",
       "999          normal          normal  \n",
       "\n",
       "[1000 rows x 7 columns]"
      ]
     },
     "execution_count": 103,
     "metadata": {},
     "output_type": "execute_result"
    }
   ],
   "source": [
    "data"
   ]
  },
  {
   "cell_type": "markdown",
   "metadata": {},
   "source": [
    "# Pressure sensor"
   ]
  },
  {
   "cell_type": "markdown",
   "metadata": {},
   "source": [
    "#### Convert the pressure status from catorigical to numerical"
   ]
  },
  {
   "cell_type": "code",
   "execution_count": 104,
   "metadata": {},
   "outputs": [
    {
     "data": {
      "text/html": [
       "<div>\n",
       "<style scoped>\n",
       "    .dataframe tbody tr th:only-of-type {\n",
       "        vertical-align: middle;\n",
       "    }\n",
       "\n",
       "    .dataframe tbody tr th {\n",
       "        vertical-align: top;\n",
       "    }\n",
       "\n",
       "    .dataframe thead th {\n",
       "        text-align: right;\n",
       "    }\n",
       "</style>\n",
       "<table border=\"1\" class=\"dataframe\">\n",
       "  <thead>\n",
       "    <tr style=\"text-align: right;\">\n",
       "      <th></th>\n",
       "      <th>timestamp</th>\n",
       "      <th>pressure</th>\n",
       "      <th>pressure_status</th>\n",
       "    </tr>\n",
       "  </thead>\n",
       "  <tbody>\n",
       "    <tr>\n",
       "      <th>0</th>\n",
       "      <td>2023-01-01 00:00:00</td>\n",
       "      <td>105.27</td>\n",
       "      <td>normal</td>\n",
       "    </tr>\n",
       "    <tr>\n",
       "      <th>1</th>\n",
       "      <td>2023-01-01 00:05:00</td>\n",
       "      <td>102.69</td>\n",
       "      <td>normal</td>\n",
       "    </tr>\n",
       "    <tr>\n",
       "      <th>2</th>\n",
       "      <td>2023-01-01 00:10:00</td>\n",
       "      <td>100.23</td>\n",
       "      <td>normal</td>\n",
       "    </tr>\n",
       "    <tr>\n",
       "      <th>3</th>\n",
       "      <td>2023-01-01 00:15:00</td>\n",
       "      <td>81.32</td>\n",
       "      <td>anomalous</td>\n",
       "    </tr>\n",
       "    <tr>\n",
       "      <th>4</th>\n",
       "      <td>2023-01-01 00:20:00</td>\n",
       "      <td>97.69</td>\n",
       "      <td>normal</td>\n",
       "    </tr>\n",
       "    <tr>\n",
       "      <th>...</th>\n",
       "      <td>...</td>\n",
       "      <td>...</td>\n",
       "      <td>...</td>\n",
       "    </tr>\n",
       "    <tr>\n",
       "      <th>995</th>\n",
       "      <td>2023-01-04 10:55:00</td>\n",
       "      <td>109.03</td>\n",
       "      <td>normal</td>\n",
       "    </tr>\n",
       "    <tr>\n",
       "      <th>996</th>\n",
       "      <td>2023-01-04 11:00:00</td>\n",
       "      <td>103.67</td>\n",
       "      <td>normal</td>\n",
       "    </tr>\n",
       "    <tr>\n",
       "      <th>997</th>\n",
       "      <td>2023-01-04 11:05:00</td>\n",
       "      <td>111.50</td>\n",
       "      <td>anomalous</td>\n",
       "    </tr>\n",
       "    <tr>\n",
       "      <th>998</th>\n",
       "      <td>2023-01-04 11:10:00</td>\n",
       "      <td>95.94</td>\n",
       "      <td>normal</td>\n",
       "    </tr>\n",
       "    <tr>\n",
       "      <th>999</th>\n",
       "      <td>2023-01-04 11:15:00</td>\n",
       "      <td>106.53</td>\n",
       "      <td>normal</td>\n",
       "    </tr>\n",
       "  </tbody>\n",
       "</table>\n",
       "<p>1000 rows × 3 columns</p>\n",
       "</div>"
      ],
      "text/plain": [
       "               timestamp  pressure pressure_status\n",
       "0    2023-01-01 00:00:00    105.27          normal\n",
       "1    2023-01-01 00:05:00    102.69          normal\n",
       "2    2023-01-01 00:10:00    100.23          normal\n",
       "3    2023-01-01 00:15:00     81.32       anomalous\n",
       "4    2023-01-01 00:20:00     97.69          normal\n",
       "..                   ...       ...             ...\n",
       "995  2023-01-04 10:55:00    109.03          normal\n",
       "996  2023-01-04 11:00:00    103.67          normal\n",
       "997  2023-01-04 11:05:00    111.50       anomalous\n",
       "998  2023-01-04 11:10:00     95.94          normal\n",
       "999  2023-01-04 11:15:00    106.53          normal\n",
       "\n",
       "[1000 rows x 3 columns]"
      ]
     },
     "execution_count": 104,
     "metadata": {},
     "output_type": "execute_result"
    }
   ],
   "source": [
    "# Select the timestamp,pressure column and the pressure_status column from the data\n",
    "data_pressure = data.loc[:, ['timestamp', 'pressure',\"pressure_status\"]]\n",
    "data_pressure"
   ]
  },
  {
   "cell_type": "code",
   "execution_count": 105,
   "metadata": {},
   "outputs": [
    {
     "data": {
      "text/html": [
       "<div>\n",
       "<style scoped>\n",
       "    .dataframe tbody tr th:only-of-type {\n",
       "        vertical-align: middle;\n",
       "    }\n",
       "\n",
       "    .dataframe tbody tr th {\n",
       "        vertical-align: top;\n",
       "    }\n",
       "\n",
       "    .dataframe thead th {\n",
       "        text-align: right;\n",
       "    }\n",
       "</style>\n",
       "<table border=\"1\" class=\"dataframe\">\n",
       "  <thead>\n",
       "    <tr style=\"text-align: right;\">\n",
       "      <th></th>\n",
       "      <th>timestamp</th>\n",
       "      <th>pressure</th>\n",
       "      <th>pressure_status</th>\n",
       "    </tr>\n",
       "  </thead>\n",
       "  <tbody>\n",
       "    <tr>\n",
       "      <th>0</th>\n",
       "      <td>2023-01-01 00:00:00</td>\n",
       "      <td>105.27</td>\n",
       "      <td>0</td>\n",
       "    </tr>\n",
       "    <tr>\n",
       "      <th>1</th>\n",
       "      <td>2023-01-01 00:05:00</td>\n",
       "      <td>102.69</td>\n",
       "      <td>0</td>\n",
       "    </tr>\n",
       "    <tr>\n",
       "      <th>2</th>\n",
       "      <td>2023-01-01 00:10:00</td>\n",
       "      <td>100.23</td>\n",
       "      <td>0</td>\n",
       "    </tr>\n",
       "    <tr>\n",
       "      <th>3</th>\n",
       "      <td>2023-01-01 00:15:00</td>\n",
       "      <td>81.32</td>\n",
       "      <td>1</td>\n",
       "    </tr>\n",
       "    <tr>\n",
       "      <th>4</th>\n",
       "      <td>2023-01-01 00:20:00</td>\n",
       "      <td>97.69</td>\n",
       "      <td>0</td>\n",
       "    </tr>\n",
       "    <tr>\n",
       "      <th>...</th>\n",
       "      <td>...</td>\n",
       "      <td>...</td>\n",
       "      <td>...</td>\n",
       "    </tr>\n",
       "    <tr>\n",
       "      <th>995</th>\n",
       "      <td>2023-01-04 10:55:00</td>\n",
       "      <td>109.03</td>\n",
       "      <td>0</td>\n",
       "    </tr>\n",
       "    <tr>\n",
       "      <th>996</th>\n",
       "      <td>2023-01-04 11:00:00</td>\n",
       "      <td>103.67</td>\n",
       "      <td>0</td>\n",
       "    </tr>\n",
       "    <tr>\n",
       "      <th>997</th>\n",
       "      <td>2023-01-04 11:05:00</td>\n",
       "      <td>111.50</td>\n",
       "      <td>1</td>\n",
       "    </tr>\n",
       "    <tr>\n",
       "      <th>998</th>\n",
       "      <td>2023-01-04 11:10:00</td>\n",
       "      <td>95.94</td>\n",
       "      <td>0</td>\n",
       "    </tr>\n",
       "    <tr>\n",
       "      <th>999</th>\n",
       "      <td>2023-01-04 11:15:00</td>\n",
       "      <td>106.53</td>\n",
       "      <td>0</td>\n",
       "    </tr>\n",
       "  </tbody>\n",
       "</table>\n",
       "<p>1000 rows × 3 columns</p>\n",
       "</div>"
      ],
      "text/plain": [
       "               timestamp  pressure pressure_status\n",
       "0    2023-01-01 00:00:00    105.27               0\n",
       "1    2023-01-01 00:05:00    102.69               0\n",
       "2    2023-01-01 00:10:00    100.23               0\n",
       "3    2023-01-01 00:15:00     81.32               1\n",
       "4    2023-01-01 00:20:00     97.69               0\n",
       "..                   ...       ...             ...\n",
       "995  2023-01-04 10:55:00    109.03               0\n",
       "996  2023-01-04 11:00:00    103.67               0\n",
       "997  2023-01-04 11:05:00    111.50               1\n",
       "998  2023-01-04 11:10:00     95.94               0\n",
       "999  2023-01-04 11:15:00    106.53               0\n",
       "\n",
       "[1000 rows x 3 columns]"
      ]
     },
     "execution_count": 105,
     "metadata": {},
     "output_type": "execute_result"
    }
   ],
   "source": [
    "# Convert the pressure_status column to binary values\n",
    "data_pressure.loc[data_pressure[\"pressure_status\"]==\"normal\",\"pressure_status\"]=0\n",
    "data_pressure.loc[data_pressure[\"pressure_status\"]==\"anomalous\",\"pressure_status\"]=1\n",
    "data_pressure"
   ]
  },
  {
   "cell_type": "code",
   "execution_count": 106,
   "metadata": {},
   "outputs": [],
   "source": [
    "def standraization(df, column_name):\n",
    "    # Calculate Z-scores\n",
    "    z_scores = np.abs((df[column_name] - df[column_name].mean()) / df[column_name].std())\n",
    "    df[\"pressure_standar\"]=z_scores\n",
    "    return df"
   ]
  },
  {
   "cell_type": "code",
   "execution_count": 107,
   "metadata": {},
   "outputs": [
    {
     "data": {
      "text/plain": [
       "(80.12, 119.98)"
      ]
     },
     "execution_count": 107,
     "metadata": {},
     "output_type": "execute_result"
    }
   ],
   "source": [
    "data_pressure[\"pressure\"].min(), data_pressure[\"pressure\"].max()"
   ]
  },
  {
   "cell_type": "markdown",
   "metadata": {},
   "source": [
    "##### Analysing the data readout and plot a sample"
   ]
  },
  {
   "cell_type": "code",
   "execution_count": 108,
   "metadata": {},
   "outputs": [
    {
     "data": {
      "text/plain": [
       "(533, 467)"
      ]
     },
     "execution_count": 108,
     "metadata": {},
     "output_type": "execute_result"
    }
   ],
   "source": [
    "# The number of normal and anomalous pressure values\n",
    "data_pressure.loc[data_pressure[\"pressure_status\"]==0][\"timestamp\"].count(), data_pressure.loc[data_pressure[\"pressure_status\"]==1][\"timestamp\"].count()"
   ]
  },
  {
   "cell_type": "code",
   "execution_count": 109,
   "metadata": {},
   "outputs": [
    {
     "data": {
      "text/plain": [
       "('2023-01-01 00:00:00', '2023-01-04 11:15:00')"
      ]
     },
     "execution_count": 109,
     "metadata": {},
     "output_type": "execute_result"
    }
   ],
   "source": [
    "# The range of timestamps\n",
    "data_pressure[\"timestamp\"].min(), data_pressure[\"timestamp\"].max()"
   ]
  },
  {
   "cell_type": "code",
   "execution_count": 110,
   "metadata": {},
   "outputs": [
    {
     "data": {
      "text/html": [
       "<div>\n",
       "<style scoped>\n",
       "    .dataframe tbody tr th:only-of-type {\n",
       "        vertical-align: middle;\n",
       "    }\n",
       "\n",
       "    .dataframe tbody tr th {\n",
       "        vertical-align: top;\n",
       "    }\n",
       "\n",
       "    .dataframe thead th {\n",
       "        text-align: right;\n",
       "    }\n",
       "</style>\n",
       "<table border=\"1\" class=\"dataframe\">\n",
       "  <thead>\n",
       "    <tr style=\"text-align: right;\">\n",
       "      <th></th>\n",
       "      <th>timestamp</th>\n",
       "      <th>pressure</th>\n",
       "      <th>pressure_status</th>\n",
       "    </tr>\n",
       "  </thead>\n",
       "  <tbody>\n",
       "    <tr>\n",
       "      <th>0</th>\n",
       "      <td>2023-01-01 00:00:00</td>\n",
       "      <td>105.27</td>\n",
       "      <td>0</td>\n",
       "    </tr>\n",
       "    <tr>\n",
       "      <th>1</th>\n",
       "      <td>2023-01-01 00:05:00</td>\n",
       "      <td>102.69</td>\n",
       "      <td>0</td>\n",
       "    </tr>\n",
       "    <tr>\n",
       "      <th>2</th>\n",
       "      <td>2023-01-01 00:10:00</td>\n",
       "      <td>100.23</td>\n",
       "      <td>0</td>\n",
       "    </tr>\n",
       "    <tr>\n",
       "      <th>3</th>\n",
       "      <td>2023-01-01 00:15:00</td>\n",
       "      <td>81.32</td>\n",
       "      <td>1</td>\n",
       "    </tr>\n",
       "    <tr>\n",
       "      <th>4</th>\n",
       "      <td>2023-01-01 00:20:00</td>\n",
       "      <td>97.69</td>\n",
       "      <td>0</td>\n",
       "    </tr>\n",
       "    <tr>\n",
       "      <th>...</th>\n",
       "      <td>...</td>\n",
       "      <td>...</td>\n",
       "      <td>...</td>\n",
       "    </tr>\n",
       "    <tr>\n",
       "      <th>571</th>\n",
       "      <td>2023-01-02 23:35:00</td>\n",
       "      <td>105.12</td>\n",
       "      <td>0</td>\n",
       "    </tr>\n",
       "    <tr>\n",
       "      <th>572</th>\n",
       "      <td>2023-01-02 23:40:00</td>\n",
       "      <td>105.36</td>\n",
       "      <td>0</td>\n",
       "    </tr>\n",
       "    <tr>\n",
       "      <th>573</th>\n",
       "      <td>2023-01-02 23:45:00</td>\n",
       "      <td>101.92</td>\n",
       "      <td>0</td>\n",
       "    </tr>\n",
       "    <tr>\n",
       "      <th>574</th>\n",
       "      <td>2023-01-02 23:50:00</td>\n",
       "      <td>106.50</td>\n",
       "      <td>0</td>\n",
       "    </tr>\n",
       "    <tr>\n",
       "      <th>575</th>\n",
       "      <td>2023-01-02 23:55:00</td>\n",
       "      <td>91.24</td>\n",
       "      <td>0</td>\n",
       "    </tr>\n",
       "  </tbody>\n",
       "</table>\n",
       "<p>576 rows × 3 columns</p>\n",
       "</div>"
      ],
      "text/plain": [
       "               timestamp  pressure pressure_status\n",
       "0    2023-01-01 00:00:00    105.27               0\n",
       "1    2023-01-01 00:05:00    102.69               0\n",
       "2    2023-01-01 00:10:00    100.23               0\n",
       "3    2023-01-01 00:15:00     81.32               1\n",
       "4    2023-01-01 00:20:00     97.69               0\n",
       "..                   ...       ...             ...\n",
       "571  2023-01-02 23:35:00    105.12               0\n",
       "572  2023-01-02 23:40:00    105.36               0\n",
       "573  2023-01-02 23:45:00    101.92               0\n",
       "574  2023-01-02 23:50:00    106.50               0\n",
       "575  2023-01-02 23:55:00     91.24               0\n",
       "\n",
       "[576 rows x 3 columns]"
      ]
     },
     "execution_count": 110,
     "metadata": {},
     "output_type": "execute_result"
    }
   ],
   "source": [
    "# The number of pressure values recorded on the first two days\n",
    "first_2days= data_pressure.loc[data_pressure[\"timestamp\"]<'2023-01-03']\n",
    "first_2days"
   ]
  },
  {
   "cell_type": "code",
   "execution_count": 111,
   "metadata": {},
   "outputs": [
    {
     "data": {
      "text/plain": [
       "(306, 270)"
      ]
     },
     "execution_count": 111,
     "metadata": {},
     "output_type": "execute_result"
    }
   ],
   "source": [
    "# The number of normal and anomalous pressure values recorded on the first two days\n",
    "first_2days.loc[first_2days[\"pressure_status\"]==0][\"timestamp\"].count(), first_2days.loc[first_2days[\"pressure_status\"]==1][\"timestamp\"].count()"
   ]
  },
  {
   "cell_type": "code",
   "execution_count": 112,
   "metadata": {},
   "outputs": [],
   "source": [
    "therd_day= data_pressure.loc[(data_pressure[\"timestamp\"]>'2023-01-03') & (data_pressure[\"timestamp\"]<'2023-01-04')]"
   ]
  },
  {
   "cell_type": "code",
   "execution_count": 113,
   "metadata": {},
   "outputs": [
    {
     "data": {
      "text/html": [
       "<div>\n",
       "<style scoped>\n",
       "    .dataframe tbody tr th:only-of-type {\n",
       "        vertical-align: middle;\n",
       "    }\n",
       "\n",
       "    .dataframe tbody tr th {\n",
       "        vertical-align: top;\n",
       "    }\n",
       "\n",
       "    .dataframe thead th {\n",
       "        text-align: right;\n",
       "    }\n",
       "</style>\n",
       "<table border=\"1\" class=\"dataframe\">\n",
       "  <thead>\n",
       "    <tr style=\"text-align: right;\">\n",
       "      <th></th>\n",
       "      <th>timestamp</th>\n",
       "      <th>pressure</th>\n",
       "      <th>pressure_status</th>\n",
       "    </tr>\n",
       "  </thead>\n",
       "  <tbody>\n",
       "    <tr>\n",
       "      <th>576</th>\n",
       "      <td>2023-01-03 00:00:00</td>\n",
       "      <td>94.85</td>\n",
       "      <td>0</td>\n",
       "    </tr>\n",
       "    <tr>\n",
       "      <th>577</th>\n",
       "      <td>2023-01-03 00:05:00</td>\n",
       "      <td>95.43</td>\n",
       "      <td>0</td>\n",
       "    </tr>\n",
       "    <tr>\n",
       "      <th>578</th>\n",
       "      <td>2023-01-03 00:10:00</td>\n",
       "      <td>116.52</td>\n",
       "      <td>1</td>\n",
       "    </tr>\n",
       "    <tr>\n",
       "      <th>579</th>\n",
       "      <td>2023-01-03 00:15:00</td>\n",
       "      <td>99.73</td>\n",
       "      <td>0</td>\n",
       "    </tr>\n",
       "    <tr>\n",
       "      <th>580</th>\n",
       "      <td>2023-01-03 00:20:00</td>\n",
       "      <td>95.79</td>\n",
       "      <td>0</td>\n",
       "    </tr>\n",
       "    <tr>\n",
       "      <th>...</th>\n",
       "      <td>...</td>\n",
       "      <td>...</td>\n",
       "      <td>...</td>\n",
       "    </tr>\n",
       "    <tr>\n",
       "      <th>859</th>\n",
       "      <td>2023-01-03 23:35:00</td>\n",
       "      <td>108.97</td>\n",
       "      <td>0</td>\n",
       "    </tr>\n",
       "    <tr>\n",
       "      <th>860</th>\n",
       "      <td>2023-01-03 23:40:00</td>\n",
       "      <td>83.90</td>\n",
       "      <td>1</td>\n",
       "    </tr>\n",
       "    <tr>\n",
       "      <th>861</th>\n",
       "      <td>2023-01-03 23:45:00</td>\n",
       "      <td>83.99</td>\n",
       "      <td>1</td>\n",
       "    </tr>\n",
       "    <tr>\n",
       "      <th>862</th>\n",
       "      <td>2023-01-03 23:50:00</td>\n",
       "      <td>97.30</td>\n",
       "      <td>0</td>\n",
       "    </tr>\n",
       "    <tr>\n",
       "      <th>863</th>\n",
       "      <td>2023-01-03 23:55:00</td>\n",
       "      <td>88.29</td>\n",
       "      <td>1</td>\n",
       "    </tr>\n",
       "  </tbody>\n",
       "</table>\n",
       "<p>288 rows × 3 columns</p>\n",
       "</div>"
      ],
      "text/plain": [
       "               timestamp  pressure pressure_status\n",
       "576  2023-01-03 00:00:00     94.85               0\n",
       "577  2023-01-03 00:05:00     95.43               0\n",
       "578  2023-01-03 00:10:00    116.52               1\n",
       "579  2023-01-03 00:15:00     99.73               0\n",
       "580  2023-01-03 00:20:00     95.79               0\n",
       "..                   ...       ...             ...\n",
       "859  2023-01-03 23:35:00    108.97               0\n",
       "860  2023-01-03 23:40:00     83.90               1\n",
       "861  2023-01-03 23:45:00     83.99               1\n",
       "862  2023-01-03 23:50:00     97.30               0\n",
       "863  2023-01-03 23:55:00     88.29               1\n",
       "\n",
       "[288 rows x 3 columns]"
      ]
     },
     "execution_count": 113,
     "metadata": {},
     "output_type": "execute_result"
    }
   ],
   "source": [
    "therd_day"
   ]
  },
  {
   "cell_type": "code",
   "execution_count": 114,
   "metadata": {},
   "outputs": [
    {
     "data": {
      "text/plain": [
       "(152, 136)"
      ]
     },
     "execution_count": 114,
     "metadata": {},
     "output_type": "execute_result"
    }
   ],
   "source": [
    "# The number of normal and anomalous pressure values recorded on the therd day\n",
    "therd_day.loc[therd_day[\"pressure_status\"]==0][\"timestamp\"].count(), therd_day.loc[therd_day[\"pressure_status\"]==1][\"timestamp\"].count()"
   ]
  },
  {
   "cell_type": "code",
   "execution_count": 115,
   "metadata": {},
   "outputs": [
    {
     "data": {
      "text/html": [
       "<div>\n",
       "<style scoped>\n",
       "    .dataframe tbody tr th:only-of-type {\n",
       "        vertical-align: middle;\n",
       "    }\n",
       "\n",
       "    .dataframe tbody tr th {\n",
       "        vertical-align: top;\n",
       "    }\n",
       "\n",
       "    .dataframe thead th {\n",
       "        text-align: right;\n",
       "    }\n",
       "</style>\n",
       "<table border=\"1\" class=\"dataframe\">\n",
       "  <thead>\n",
       "    <tr style=\"text-align: right;\">\n",
       "      <th></th>\n",
       "      <th>timestamp</th>\n",
       "      <th>pressure</th>\n",
       "      <th>pressure_status</th>\n",
       "    </tr>\n",
       "  </thead>\n",
       "  <tbody>\n",
       "    <tr>\n",
       "      <th>864</th>\n",
       "      <td>2023-01-04 00:00:00</td>\n",
       "      <td>89.37</td>\n",
       "      <td>1</td>\n",
       "    </tr>\n",
       "    <tr>\n",
       "      <th>865</th>\n",
       "      <td>2023-01-04 00:05:00</td>\n",
       "      <td>114.14</td>\n",
       "      <td>1</td>\n",
       "    </tr>\n",
       "    <tr>\n",
       "      <th>866</th>\n",
       "      <td>2023-01-04 00:10:00</td>\n",
       "      <td>106.40</td>\n",
       "      <td>0</td>\n",
       "    </tr>\n",
       "    <tr>\n",
       "      <th>867</th>\n",
       "      <td>2023-01-04 00:15:00</td>\n",
       "      <td>91.31</td>\n",
       "      <td>0</td>\n",
       "    </tr>\n",
       "    <tr>\n",
       "      <th>868</th>\n",
       "      <td>2023-01-04 00:20:00</td>\n",
       "      <td>87.68</td>\n",
       "      <td>1</td>\n",
       "    </tr>\n",
       "    <tr>\n",
       "      <th>...</th>\n",
       "      <td>...</td>\n",
       "      <td>...</td>\n",
       "      <td>...</td>\n",
       "    </tr>\n",
       "    <tr>\n",
       "      <th>995</th>\n",
       "      <td>2023-01-04 10:55:00</td>\n",
       "      <td>109.03</td>\n",
       "      <td>0</td>\n",
       "    </tr>\n",
       "    <tr>\n",
       "      <th>996</th>\n",
       "      <td>2023-01-04 11:00:00</td>\n",
       "      <td>103.67</td>\n",
       "      <td>0</td>\n",
       "    </tr>\n",
       "    <tr>\n",
       "      <th>997</th>\n",
       "      <td>2023-01-04 11:05:00</td>\n",
       "      <td>111.50</td>\n",
       "      <td>1</td>\n",
       "    </tr>\n",
       "    <tr>\n",
       "      <th>998</th>\n",
       "      <td>2023-01-04 11:10:00</td>\n",
       "      <td>95.94</td>\n",
       "      <td>0</td>\n",
       "    </tr>\n",
       "    <tr>\n",
       "      <th>999</th>\n",
       "      <td>2023-01-04 11:15:00</td>\n",
       "      <td>106.53</td>\n",
       "      <td>0</td>\n",
       "    </tr>\n",
       "  </tbody>\n",
       "</table>\n",
       "<p>136 rows × 3 columns</p>\n",
       "</div>"
      ],
      "text/plain": [
       "               timestamp  pressure pressure_status\n",
       "864  2023-01-04 00:00:00     89.37               1\n",
       "865  2023-01-04 00:05:00    114.14               1\n",
       "866  2023-01-04 00:10:00    106.40               0\n",
       "867  2023-01-04 00:15:00     91.31               0\n",
       "868  2023-01-04 00:20:00     87.68               1\n",
       "..                   ...       ...             ...\n",
       "995  2023-01-04 10:55:00    109.03               0\n",
       "996  2023-01-04 11:00:00    103.67               0\n",
       "997  2023-01-04 11:05:00    111.50               1\n",
       "998  2023-01-04 11:10:00     95.94               0\n",
       "999  2023-01-04 11:15:00    106.53               0\n",
       "\n",
       "[136 rows x 3 columns]"
      ]
     },
     "execution_count": 115,
     "metadata": {},
     "output_type": "execute_result"
    }
   ],
   "source": [
    "# The number of pressure values recorded on the last day\n",
    "last_day= data_pressure.loc[data_pressure[\"timestamp\"]>='2023-01-04']\n",
    "last_day"
   ]
  },
  {
   "cell_type": "code",
   "execution_count": 116,
   "metadata": {},
   "outputs": [
    {
     "data": {
      "text/plain": [
       "(75, 61)"
      ]
     },
     "execution_count": 116,
     "metadata": {},
     "output_type": "execute_result"
    }
   ],
   "source": [
    "# The number of normal and anomalous pressure values recorded on the last two days\n",
    "last_day.loc[last_day[\"pressure_status\"]==0][\"timestamp\"].count(), last_day.loc[last_day[\"pressure_status\"]==1][\"timestamp\"].count()"
   ]
  },
  {
   "cell_type": "code",
   "execution_count": 117,
   "metadata": {},
   "outputs": [
    {
     "name": "stderr",
     "output_type": "stream",
     "text": [
      "C:\\Users\\adnan\\AppData\\Local\\Temp\\ipykernel_7616\\3060150468.py:4: SettingWithCopyWarning: \n",
      "A value is trying to be set on a copy of a slice from a DataFrame.\n",
      "Try using .loc[row_indexer,col_indexer] = value instead\n",
      "\n",
      "See the caveats in the documentation: https://pandas.pydata.org/pandas-docs/stable/user_guide/indexing.html#returning-a-view-versus-a-copy\n",
      "  df[\"pressure_standar\"]=z_scores\n",
      "C:\\Users\\adnan\\AppData\\Local\\Temp\\ipykernel_7616\\3060150468.py:4: SettingWithCopyWarning: \n",
      "A value is trying to be set on a copy of a slice from a DataFrame.\n",
      "Try using .loc[row_indexer,col_indexer] = value instead\n",
      "\n",
      "See the caveats in the documentation: https://pandas.pydata.org/pandas-docs/stable/user_guide/indexing.html#returning-a-view-versus-a-copy\n",
      "  df[\"pressure_standar\"]=z_scores\n",
      "C:\\Users\\adnan\\AppData\\Local\\Temp\\ipykernel_7616\\3060150468.py:4: SettingWithCopyWarning: \n",
      "A value is trying to be set on a copy of a slice from a DataFrame.\n",
      "Try using .loc[row_indexer,col_indexer] = value instead\n",
      "\n",
      "See the caveats in the documentation: https://pandas.pydata.org/pandas-docs/stable/user_guide/indexing.html#returning-a-view-versus-a-copy\n",
      "  df[\"pressure_standar\"]=z_scores\n"
     ]
    }
   ],
   "source": [
    "# Standarize the pressure values\n",
    "first_2days=standraization(first_2days, \"pressure\")\n",
    "therd_day=standraization(therd_day, \"pressure\")\n",
    "last_day=standraization(last_day, \"pressure\")"
   ]
  },
  {
   "cell_type": "code",
   "execution_count": 118,
   "metadata": {},
   "outputs": [
    {
     "data": {
      "text/html": [
       "<div>\n",
       "<style scoped>\n",
       "    .dataframe tbody tr th:only-of-type {\n",
       "        vertical-align: middle;\n",
       "    }\n",
       "\n",
       "    .dataframe tbody tr th {\n",
       "        vertical-align: top;\n",
       "    }\n",
       "\n",
       "    .dataframe thead th {\n",
       "        text-align: right;\n",
       "    }\n",
       "</style>\n",
       "<table border=\"1\" class=\"dataframe\">\n",
       "  <thead>\n",
       "    <tr style=\"text-align: right;\">\n",
       "      <th></th>\n",
       "      <th>timestamp</th>\n",
       "      <th>pressure</th>\n",
       "      <th>pressure_status</th>\n",
       "    </tr>\n",
       "  </thead>\n",
       "  <tbody>\n",
       "    <tr>\n",
       "      <th>0</th>\n",
       "      <td>2023-01-01 00:00:00</td>\n",
       "      <td>105.27</td>\n",
       "      <td>0</td>\n",
       "    </tr>\n",
       "    <tr>\n",
       "      <th>1</th>\n",
       "      <td>2023-01-01 00:05:00</td>\n",
       "      <td>102.69</td>\n",
       "      <td>0</td>\n",
       "    </tr>\n",
       "    <tr>\n",
       "      <th>2</th>\n",
       "      <td>2023-01-01 00:10:00</td>\n",
       "      <td>100.23</td>\n",
       "      <td>0</td>\n",
       "    </tr>\n",
       "    <tr>\n",
       "      <th>3</th>\n",
       "      <td>2023-01-01 00:15:00</td>\n",
       "      <td>81.32</td>\n",
       "      <td>1</td>\n",
       "    </tr>\n",
       "    <tr>\n",
       "      <th>4</th>\n",
       "      <td>2023-01-01 00:20:00</td>\n",
       "      <td>97.69</td>\n",
       "      <td>0</td>\n",
       "    </tr>\n",
       "    <tr>\n",
       "      <th>5</th>\n",
       "      <td>2023-01-01 00:25:00</td>\n",
       "      <td>108.99</td>\n",
       "      <td>0</td>\n",
       "    </tr>\n",
       "    <tr>\n",
       "      <th>6</th>\n",
       "      <td>2023-01-01 00:30:00</td>\n",
       "      <td>86.49</td>\n",
       "      <td>1</td>\n",
       "    </tr>\n",
       "  </tbody>\n",
       "</table>\n",
       "</div>"
      ],
      "text/plain": [
       "             timestamp  pressure pressure_status\n",
       "0  2023-01-01 00:00:00    105.27               0\n",
       "1  2023-01-01 00:05:00    102.69               0\n",
       "2  2023-01-01 00:10:00    100.23               0\n",
       "3  2023-01-01 00:15:00     81.32               1\n",
       "4  2023-01-01 00:20:00     97.69               0\n",
       "5  2023-01-01 00:25:00    108.99               0\n",
       "6  2023-01-01 00:30:00     86.49               1"
      ]
     },
     "execution_count": 118,
     "metadata": {},
     "output_type": "execute_result"
    }
   ],
   "source": [
    "# first 7 rows\n",
    "data_pressure.head(7)"
   ]
  },
  {
   "cell_type": "code",
   "execution_count": 119,
   "metadata": {},
   "outputs": [
    {
     "data": {
      "image/png": "[encoded data removed]",
      "text/plain": [
       "<Figure size 3000x1500 with 1 Axes>"
      ]
     },
     "metadata": {},
     "output_type": "display_data"
    }
   ],
   "source": [
    "# Plot the first 7 pressure values\n",
    "plt.figure(figsize=(30,15))\n",
    "plt.plot(data_pressure[\"timestamp\"].head(7), data_pressure[\"pressure\"].head(7), label=\"pressure\")\n",
    "plt.xlabel(\"Time\")\n",
    "plt.ylabel(\"pressure\")\n",
    "plt.legend()\n",
    "plt.show()"
   ]
  },
  {
   "cell_type": "markdown",
   "metadata": {},
   "source": [
    "- The data is balanced there are almost same number of reads out for each class.\n",
    "- We can see the stand pressure can indicate a strong variasion between the previos pressure and the current one whcih help the model to idenife if there are some anomalous values.\n",
    "- Window size of 1 readout which indicate a 5 minute.\n",
    "- Split the data into test and train, the data are collected in 4 days, so train 2 days,valdation 1 day and test 1 day."
   ]
  },
  {
   "cell_type": "markdown",
   "metadata": {},
   "source": [
    "##### Spliting the data"
   ]
  },
  {
   "cell_type": "code",
   "execution_count": 120,
   "metadata": {},
   "outputs": [],
   "source": [
    "train = first_2days\n",
    "valdation= therd_day\n",
    "test = last_day"
   ]
  },
  {
   "cell_type": "code",
   "execution_count": 121,
   "metadata": {},
   "outputs": [
    {
     "data": {
      "text/html": [
       "<div>\n",
       "<style scoped>\n",
       "    .dataframe tbody tr th:only-of-type {\n",
       "        vertical-align: middle;\n",
       "    }\n",
       "\n",
       "    .dataframe tbody tr th {\n",
       "        vertical-align: top;\n",
       "    }\n",
       "\n",
       "    .dataframe thead th {\n",
       "        text-align: right;\n",
       "    }\n",
       "</style>\n",
       "<table border=\"1\" class=\"dataframe\">\n",
       "  <thead>\n",
       "    <tr style=\"text-align: right;\">\n",
       "      <th></th>\n",
       "      <th>timestamp</th>\n",
       "      <th>pressure</th>\n",
       "      <th>pressure_status</th>\n",
       "      <th>pressure_standar</th>\n",
       "    </tr>\n",
       "  </thead>\n",
       "  <tbody>\n",
       "    <tr>\n",
       "      <th>0</th>\n",
       "      <td>2023-01-01 00:00:00</td>\n",
       "      <td>105.27</td>\n",
       "      <td>0</td>\n",
       "      <td>0.498629</td>\n",
       "    </tr>\n",
       "    <tr>\n",
       "      <th>1</th>\n",
       "      <td>2023-01-01 00:05:00</td>\n",
       "      <td>102.69</td>\n",
       "      <td>0</td>\n",
       "      <td>0.270903</td>\n",
       "    </tr>\n",
       "    <tr>\n",
       "      <th>2</th>\n",
       "      <td>2023-01-01 00:10:00</td>\n",
       "      <td>100.23</td>\n",
       "      <td>0</td>\n",
       "      <td>0.053769</td>\n",
       "    </tr>\n",
       "    <tr>\n",
       "      <th>3</th>\n",
       "      <td>2023-01-01 00:15:00</td>\n",
       "      <td>81.32</td>\n",
       "      <td>1</td>\n",
       "      <td>1.615341</td>\n",
       "    </tr>\n",
       "    <tr>\n",
       "      <th>4</th>\n",
       "      <td>2023-01-01 00:20:00</td>\n",
       "      <td>97.69</td>\n",
       "      <td>0</td>\n",
       "      <td>0.170427</td>\n",
       "    </tr>\n",
       "    <tr>\n",
       "      <th>...</th>\n",
       "      <td>...</td>\n",
       "      <td>...</td>\n",
       "      <td>...</td>\n",
       "      <td>...</td>\n",
       "    </tr>\n",
       "    <tr>\n",
       "      <th>571</th>\n",
       "      <td>2023-01-02 23:35:00</td>\n",
       "      <td>105.12</td>\n",
       "      <td>0</td>\n",
       "      <td>0.485389</td>\n",
       "    </tr>\n",
       "    <tr>\n",
       "      <th>572</th>\n",
       "      <td>2023-01-02 23:40:00</td>\n",
       "      <td>105.36</td>\n",
       "      <td>0</td>\n",
       "      <td>0.506573</td>\n",
       "    </tr>\n",
       "    <tr>\n",
       "      <th>573</th>\n",
       "      <td>2023-01-02 23:45:00</td>\n",
       "      <td>101.92</td>\n",
       "      <td>0</td>\n",
       "      <td>0.202938</td>\n",
       "    </tr>\n",
       "    <tr>\n",
       "      <th>574</th>\n",
       "      <td>2023-01-02 23:50:00</td>\n",
       "      <td>106.50</td>\n",
       "      <td>0</td>\n",
       "      <td>0.607197</td>\n",
       "    </tr>\n",
       "    <tr>\n",
       "      <th>575</th>\n",
       "      <td>2023-01-02 23:55:00</td>\n",
       "      <td>91.24</td>\n",
       "      <td>0</td>\n",
       "      <td>0.739743</td>\n",
       "    </tr>\n",
       "  </tbody>\n",
       "</table>\n",
       "<p>576 rows × 4 columns</p>\n",
       "</div>"
      ],
      "text/plain": [
       "               timestamp  pressure pressure_status  pressure_standar\n",
       "0    2023-01-01 00:00:00    105.27               0          0.498629\n",
       "1    2023-01-01 00:05:00    102.69               0          0.270903\n",
       "2    2023-01-01 00:10:00    100.23               0          0.053769\n",
       "3    2023-01-01 00:15:00     81.32               1          1.615341\n",
       "4    2023-01-01 00:20:00     97.69               0          0.170427\n",
       "..                   ...       ...             ...               ...\n",
       "571  2023-01-02 23:35:00    105.12               0          0.485389\n",
       "572  2023-01-02 23:40:00    105.36               0          0.506573\n",
       "573  2023-01-02 23:45:00    101.92               0          0.202938\n",
       "574  2023-01-02 23:50:00    106.50               0          0.607197\n",
       "575  2023-01-02 23:55:00     91.24               0          0.739743\n",
       "\n",
       "[576 rows x 4 columns]"
      ]
     },
     "execution_count": 121,
     "metadata": {},
     "output_type": "execute_result"
    }
   ],
   "source": [
    "train"
   ]
  },
  {
   "cell_type": "markdown",
   "metadata": {},
   "source": [
    "##### Preparing the data in sequences (number of samples, window size, number of features)"
   ]
  },
  {
   "cell_type": "code",
   "execution_count": 122,
   "metadata": {},
   "outputs": [],
   "source": [
    "def sequence(data, timesteps, num_features):\n",
    "    num_samples = len(data) - timesteps + 1  \n",
    "    df = np.zeros((num_samples, timesteps, num_features))\n",
    "    for i in range(num_samples):\n",
    "        df[i] = data[i:i+timesteps, :] \n",
    "\n",
    "    return df"
   ]
  },
  {
   "cell_type": "code",
   "execution_count": 123,
   "metadata": {},
   "outputs": [],
   "source": [
    "def prepare_y(train, timesteps):\n",
    "    num_samples = len(train) - timesteps + 1\n",
    "    y_train = np.zeros((num_samples, 1))\n",
    "    for i in range(num_samples):\n",
    "        y_train[i] = train[\"pressure_status\"].values[i + timesteps - 1]\n",
    "\n",
    "    return y_train"
   ]
  },
  {
   "cell_type": "code",
   "execution_count": 124,
   "metadata": {},
   "outputs": [
    {
     "data": {
      "text/plain": [
       "(306, 1, 1)"
      ]
     },
     "execution_count": 124,
     "metadata": {},
     "output_type": "execute_result"
    }
   ],
   "source": [
    "data_n= train.loc[train[\"pressure_status\"]==0]\n",
    "data_d = data_n.drop(['pressure',\"pressure_status\",\"timestamp\"], axis=1).values\n",
    "x_train = sequence(data_d, 1, 1)\n",
    "x_train.shape"
   ]
  },
  {
   "cell_type": "code",
   "execution_count": 125,
   "metadata": {},
   "outputs": [
    {
     "data": {
      "text/plain": [
       "(152, 1, 1)"
      ]
     },
     "execution_count": 125,
     "metadata": {},
     "output_type": "execute_result"
    }
   ],
   "source": [
    "data_n= valdation.loc[valdation[\"pressure_status\"]==0]\n",
    "data_d = data_n.drop(['pressure',\"pressure_status\",\"timestamp\"], axis=1).values\n",
    "x_valdation = sequence(data_d, 1, 1)\n",
    "x_valdation.shape"
   ]
  },
  {
   "cell_type": "code",
   "execution_count": 126,
   "metadata": {},
   "outputs": [
    {
     "data": {
      "text/plain": [
       "(136, 1, 1)"
      ]
     },
     "execution_count": 126,
     "metadata": {},
     "output_type": "execute_result"
    }
   ],
   "source": [
    "data_t = test.drop(['pressure',\"pressure_status\",\"timestamp\"], axis=1).values\n",
    "x_test = sequence(data_t, 1, 1)\n",
    "x_test.shape"
   ]
  },
  {
   "cell_type": "markdown",
   "metadata": {},
   "source": [
    "#### Autoencoder LSTM model"
   ]
  },
  {
   "cell_type": "code",
   "execution_count": 127,
   "metadata": {},
   "outputs": [
    {
     "data": {
      "text/html": [
       "<pre style=\"white-space:pre;overflow-x:auto;line-height:normal;font-family:Menlo,'DejaVu Sans Mono',consolas,'Courier New',monospace\"><span style=\"font-weight: bold\">Model: \"sequential_4\"</span>\n",
       "</pre>\n"
      ],
      "text/plain": [
       "\u001b[1mModel: \"sequential_4\"\u001b[0m\n"
      ]
     },
     "metadata": {},
     "output_type": "display_data"
    },
    {
     "data": {
      "text/html": [
       "<pre style=\"white-space:pre;overflow-x:auto;line-height:normal;font-family:Menlo,'DejaVu Sans Mono',consolas,'Courier New',monospace\">┏━━━━━━━━━━━━━━━━━━━━━━━━━━━━━━━━━┳━━━━━━━━━━━━━━━━━━━━━━━━┳━━━━━━━━━━━━━━━┓\n",
       "┃<span style=\"font-weight: bold\"> Layer (type)                    </span>┃<span style=\"font-weight: bold\"> Output Shape           </span>┃<span style=\"font-weight: bold\">       Param # </span>┃\n",
       "┡━━━━━━━━━━━━━━━━━━━━━━━━━━━━━━━━━╇━━━━━━━━━━━━━━━━━━━━━━━━╇━━━━━━━━━━━━━━━┩\n",
       "│ lstm_28 (<span style=\"color: #0087ff; text-decoration-color: #0087ff\">LSTM</span>)                  │ (<span style=\"color: #00d7ff; text-decoration-color: #00d7ff\">None</span>, <span style=\"color: #00af00; text-decoration-color: #00af00\">1</span>, <span style=\"color: #00af00; text-decoration-color: #00af00\">16</span>)          │         <span style=\"color: #00af00; text-decoration-color: #00af00\">1,152</span> │\n",
       "├─────────────────────────────────┼────────────────────────┼───────────────┤\n",
       "│ lstm_29 (<span style=\"color: #0087ff; text-decoration-color: #0087ff\">LSTM</span>)                  │ (<span style=\"color: #00d7ff; text-decoration-color: #00d7ff\">None</span>, <span style=\"color: #00af00; text-decoration-color: #00af00\">1</span>, <span style=\"color: #00af00; text-decoration-color: #00af00\">32</span>)          │         <span style=\"color: #00af00; text-decoration-color: #00af00\">6,272</span> │\n",
       "├─────────────────────────────────┼────────────────────────┼───────────────┤\n",
       "│ lstm_30 (<span style=\"color: #0087ff; text-decoration-color: #0087ff\">LSTM</span>)                  │ (<span style=\"color: #00d7ff; text-decoration-color: #00d7ff\">None</span>, <span style=\"color: #00af00; text-decoration-color: #00af00\">1</span>, <span style=\"color: #00af00; text-decoration-color: #00af00\">64</span>)          │        <span style=\"color: #00af00; text-decoration-color: #00af00\">24,832</span> │\n",
       "├─────────────────────────────────┼────────────────────────┼───────────────┤\n",
       "│ lstm_31 (<span style=\"color: #0087ff; text-decoration-color: #0087ff\">LSTM</span>)                  │ (<span style=\"color: #00d7ff; text-decoration-color: #00d7ff\">None</span>, <span style=\"color: #00af00; text-decoration-color: #00af00\">1</span>, <span style=\"color: #00af00; text-decoration-color: #00af00\">128</span>)         │        <span style=\"color: #00af00; text-decoration-color: #00af00\">98,816</span> │\n",
       "├─────────────────────────────────┼────────────────────────┼───────────────┤\n",
       "│ lstm_32 (<span style=\"color: #0087ff; text-decoration-color: #0087ff\">LSTM</span>)                  │ (<span style=\"color: #00d7ff; text-decoration-color: #00d7ff\">None</span>, <span style=\"color: #00af00; text-decoration-color: #00af00\">1</span>, <span style=\"color: #00af00; text-decoration-color: #00af00\">256</span>)         │       <span style=\"color: #00af00; text-decoration-color: #00af00\">394,240</span> │\n",
       "├─────────────────────────────────┼────────────────────────┼───────────────┤\n",
       "│ lstm_33 (<span style=\"color: #0087ff; text-decoration-color: #0087ff\">LSTM</span>)                  │ (<span style=\"color: #00d7ff; text-decoration-color: #00d7ff\">None</span>, <span style=\"color: #00af00; text-decoration-color: #00af00\">512</span>)            │     <span style=\"color: #00af00; text-decoration-color: #00af00\">1,574,912</span> │\n",
       "├─────────────────────────────────┼────────────────────────┼───────────────┤\n",
       "│ repeat_vector_4 (<span style=\"color: #0087ff; text-decoration-color: #0087ff\">RepeatVector</span>)  │ (<span style=\"color: #00d7ff; text-decoration-color: #00d7ff\">None</span>, <span style=\"color: #00af00; text-decoration-color: #00af00\">1</span>, <span style=\"color: #00af00; text-decoration-color: #00af00\">512</span>)         │             <span style=\"color: #00af00; text-decoration-color: #00af00\">0</span> │\n",
       "├─────────────────────────────────┼────────────────────────┼───────────────┤\n",
       "│ lstm_34 (<span style=\"color: #0087ff; text-decoration-color: #0087ff\">LSTM</span>)                  │ (<span style=\"color: #00d7ff; text-decoration-color: #00d7ff\">None</span>, <span style=\"color: #00af00; text-decoration-color: #00af00\">1</span>, <span style=\"color: #00af00; text-decoration-color: #00af00\">512</span>)         │     <span style=\"color: #00af00; text-decoration-color: #00af00\">2,099,200</span> │\n",
       "├─────────────────────────────────┼────────────────────────┼───────────────┤\n",
       "│ lstm_35 (<span style=\"color: #0087ff; text-decoration-color: #0087ff\">LSTM</span>)                  │ (<span style=\"color: #00d7ff; text-decoration-color: #00d7ff\">None</span>, <span style=\"color: #00af00; text-decoration-color: #00af00\">1</span>, <span style=\"color: #00af00; text-decoration-color: #00af00\">256</span>)         │       <span style=\"color: #00af00; text-decoration-color: #00af00\">787,456</span> │\n",
       "├─────────────────────────────────┼────────────────────────┼───────────────┤\n",
       "│ lstm_36 (<span style=\"color: #0087ff; text-decoration-color: #0087ff\">LSTM</span>)                  │ (<span style=\"color: #00d7ff; text-decoration-color: #00d7ff\">None</span>, <span style=\"color: #00af00; text-decoration-color: #00af00\">1</span>, <span style=\"color: #00af00; text-decoration-color: #00af00\">128</span>)         │       <span style=\"color: #00af00; text-decoration-color: #00af00\">197,120</span> │\n",
       "├─────────────────────────────────┼────────────────────────┼───────────────┤\n",
       "│ lstm_37 (<span style=\"color: #0087ff; text-decoration-color: #0087ff\">LSTM</span>)                  │ (<span style=\"color: #00d7ff; text-decoration-color: #00d7ff\">None</span>, <span style=\"color: #00af00; text-decoration-color: #00af00\">1</span>, <span style=\"color: #00af00; text-decoration-color: #00af00\">64</span>)          │        <span style=\"color: #00af00; text-decoration-color: #00af00\">49,408</span> │\n",
       "├─────────────────────────────────┼────────────────────────┼───────────────┤\n",
       "│ lstm_38 (<span style=\"color: #0087ff; text-decoration-color: #0087ff\">LSTM</span>)                  │ (<span style=\"color: #00d7ff; text-decoration-color: #00d7ff\">None</span>, <span style=\"color: #00af00; text-decoration-color: #00af00\">1</span>, <span style=\"color: #00af00; text-decoration-color: #00af00\">32</span>)          │        <span style=\"color: #00af00; text-decoration-color: #00af00\">12,416</span> │\n",
       "├─────────────────────────────────┼────────────────────────┼───────────────┤\n",
       "│ lstm_39 (<span style=\"color: #0087ff; text-decoration-color: #0087ff\">LSTM</span>)                  │ (<span style=\"color: #00d7ff; text-decoration-color: #00d7ff\">None</span>, <span style=\"color: #00af00; text-decoration-color: #00af00\">1</span>, <span style=\"color: #00af00; text-decoration-color: #00af00\">16</span>)          │         <span style=\"color: #00af00; text-decoration-color: #00af00\">3,136</span> │\n",
       "├─────────────────────────────────┼────────────────────────┼───────────────┤\n",
       "│ time_distributed_4              │ (<span style=\"color: #00d7ff; text-decoration-color: #00d7ff\">None</span>, <span style=\"color: #00af00; text-decoration-color: #00af00\">1</span>, <span style=\"color: #00af00; text-decoration-color: #00af00\">1</span>)           │            <span style=\"color: #00af00; text-decoration-color: #00af00\">17</span> │\n",
       "│ (<span style=\"color: #0087ff; text-decoration-color: #0087ff\">TimeDistributed</span>)               │                        │               │\n",
       "└─────────────────────────────────┴────────────────────────┴───────────────┘\n",
       "</pre>\n"
      ],
      "text/plain": [
       "┏━━━━━━━━━━━━━━━━━━━━━━━━━━━━━━━━━┳━━━━━━━━━━━━━━━━━━━━━━━━┳━━━━━━━━━━━━━━━┓\n",
       "┃\u001b[1m \u001b[0m\u001b[1mLayer (type)                   \u001b[0m\u001b[1m \u001b[0m┃\u001b[1m \u001b[0m\u001b[1mOutput Shape          \u001b[0m\u001b[1m \u001b[0m┃\u001b[1m \u001b[0m\u001b[1m      Param #\u001b[0m\u001b[1m \u001b[0m┃\n",
       "┡━━━━━━━━━━━━━━━━━━━━━━━━━━━━━━━━━╇━━━━━━━━━━━━━━━━━━━━━━━━╇━━━━━━━━━━━━━━━┩\n",
       "│ lstm_28 (\u001b[38;5;33mLSTM\u001b[0m)                  │ (\u001b[38;5;45mNone\u001b[0m, \u001b[38;5;34m1\u001b[0m, \u001b[38;5;34m16\u001b[0m)          │         \u001b[38;5;34m1,152\u001b[0m │\n",
       "├─────────────────────────────────┼────────────────────────┼───────────────┤\n",
       "│ lstm_29 (\u001b[38;5;33mLSTM\u001b[0m)                  │ (\u001b[38;5;45mNone\u001b[0m, \u001b[38;5;34m1\u001b[0m, \u001b[38;5;34m32\u001b[0m)          │         \u001b[38;5;34m6,272\u001b[0m │\n",
       "├─────────────────────────────────┼────────────────────────┼───────────────┤\n",
       "│ lstm_30 (\u001b[38;5;33mLSTM\u001b[0m)                  │ (\u001b[38;5;45mNone\u001b[0m, \u001b[38;5;34m1\u001b[0m, \u001b[38;5;34m64\u001b[0m)          │        \u001b[38;5;34m24,832\u001b[0m │\n",
       "├─────────────────────────────────┼────────────────────────┼───────────────┤\n",
       "│ lstm_31 (\u001b[38;5;33mLSTM\u001b[0m)                  │ (\u001b[38;5;45mNone\u001b[0m, \u001b[38;5;34m1\u001b[0m, \u001b[38;5;34m128\u001b[0m)         │        \u001b[38;5;34m98,816\u001b[0m │\n",
       "├─────────────────────────────────┼────────────────────────┼───────────────┤\n",
       "│ lstm_32 (\u001b[38;5;33mLSTM\u001b[0m)                  │ (\u001b[38;5;45mNone\u001b[0m, \u001b[38;5;34m1\u001b[0m, \u001b[38;5;34m256\u001b[0m)         │       \u001b[38;5;34m394,240\u001b[0m │\n",
       "├─────────────────────────────────┼────────────────────────┼───────────────┤\n",
       "│ lstm_33 (\u001b[38;5;33mLSTM\u001b[0m)                  │ (\u001b[38;5;45mNone\u001b[0m, \u001b[38;5;34m512\u001b[0m)            │     \u001b[38;5;34m1,574,912\u001b[0m │\n",
       "├─────────────────────────────────┼────────────────────────┼───────────────┤\n",
       "│ repeat_vector_4 (\u001b[38;5;33mRepeatVector\u001b[0m)  │ (\u001b[38;5;45mNone\u001b[0m, \u001b[38;5;34m1\u001b[0m, \u001b[38;5;34m512\u001b[0m)         │             \u001b[38;5;34m0\u001b[0m │\n",
       "├─────────────────────────────────┼────────────────────────┼───────────────┤\n",
       "│ lstm_34 (\u001b[38;5;33mLSTM\u001b[0m)                  │ (\u001b[38;5;45mNone\u001b[0m, \u001b[38;5;34m1\u001b[0m, \u001b[38;5;34m512\u001b[0m)         │     \u001b[38;5;34m2,099,200\u001b[0m │\n",
       "├─────────────────────────────────┼────────────────────────┼───────────────┤\n",
       "│ lstm_35 (\u001b[38;5;33mLSTM\u001b[0m)                  │ (\u001b[38;5;45mNone\u001b[0m, \u001b[38;5;34m1\u001b[0m, \u001b[38;5;34m256\u001b[0m)         │       \u001b[38;5;34m787,456\u001b[0m │\n",
       "├─────────────────────────────────┼────────────────────────┼───────────────┤\n",
       "│ lstm_36 (\u001b[38;5;33mLSTM\u001b[0m)                  │ (\u001b[38;5;45mNone\u001b[0m, \u001b[38;5;34m1\u001b[0m, \u001b[38;5;34m128\u001b[0m)         │       \u001b[38;5;34m197,120\u001b[0m │\n",
       "├─────────────────────────────────┼────────────────────────┼───────────────┤\n",
       "│ lstm_37 (\u001b[38;5;33mLSTM\u001b[0m)                  │ (\u001b[38;5;45mNone\u001b[0m, \u001b[38;5;34m1\u001b[0m, \u001b[38;5;34m64\u001b[0m)          │        \u001b[38;5;34m49,408\u001b[0m │\n",
       "├─────────────────────────────────┼────────────────────────┼───────────────┤\n",
       "│ lstm_38 (\u001b[38;5;33mLSTM\u001b[0m)                  │ (\u001b[38;5;45mNone\u001b[0m, \u001b[38;5;34m1\u001b[0m, \u001b[38;5;34m32\u001b[0m)          │        \u001b[38;5;34m12,416\u001b[0m │\n",
       "├─────────────────────────────────┼────────────────────────┼───────────────┤\n",
       "│ lstm_39 (\u001b[38;5;33mLSTM\u001b[0m)                  │ (\u001b[38;5;45mNone\u001b[0m, \u001b[38;5;34m1\u001b[0m, \u001b[38;5;34m16\u001b[0m)          │         \u001b[38;5;34m3,136\u001b[0m │\n",
       "├─────────────────────────────────┼────────────────────────┼───────────────┤\n",
       "│ time_distributed_4              │ (\u001b[38;5;45mNone\u001b[0m, \u001b[38;5;34m1\u001b[0m, \u001b[38;5;34m1\u001b[0m)           │            \u001b[38;5;34m17\u001b[0m │\n",
       "│ (\u001b[38;5;33mTimeDistributed\u001b[0m)               │                        │               │\n",
       "└─────────────────────────────────┴────────────────────────┴───────────────┘\n"
      ]
     },
     "metadata": {},
     "output_type": "display_data"
    },
    {
     "data": {
      "text/html": [
       "<pre style=\"white-space:pre;overflow-x:auto;line-height:normal;font-family:Menlo,'DejaVu Sans Mono',consolas,'Courier New',monospace\"><span style=\"font-weight: bold\"> Total params: </span><span style=\"color: #00af00; text-decoration-color: #00af00\">5,248,977</span> (20.02 MB)\n",
       "</pre>\n"
      ],
      "text/plain": [
       "\u001b[1m Total params: \u001b[0m\u001b[38;5;34m5,248,977\u001b[0m (20.02 MB)\n"
      ]
     },
     "metadata": {},
     "output_type": "display_data"
    },
    {
     "data": {
      "text/html": [
       "<pre style=\"white-space:pre;overflow-x:auto;line-height:normal;font-family:Menlo,'DejaVu Sans Mono',consolas,'Courier New',monospace\"><span style=\"font-weight: bold\"> Trainable params: </span><span style=\"color: #00af00; text-decoration-color: #00af00\">5,248,977</span> (20.02 MB)\n",
       "</pre>\n"
      ],
      "text/plain": [
       "\u001b[1m Trainable params: \u001b[0m\u001b[38;5;34m5,248,977\u001b[0m (20.02 MB)\n"
      ]
     },
     "metadata": {},
     "output_type": "display_data"
    },
    {
     "data": {
      "text/html": [
       "<pre style=\"white-space:pre;overflow-x:auto;line-height:normal;font-family:Menlo,'DejaVu Sans Mono',consolas,'Courier New',monospace\"><span style=\"font-weight: bold\"> Non-trainable params: </span><span style=\"color: #00af00; text-decoration-color: #00af00\">0</span> (0.00 B)\n",
       "</pre>\n"
      ],
      "text/plain": [
       "\u001b[1m Non-trainable params: \u001b[0m\u001b[38;5;34m0\u001b[0m (0.00 B)\n"
      ]
     },
     "metadata": {},
     "output_type": "display_data"
    }
   ],
   "source": [
    "\n",
    "timesteps = x_train.shape[1]\n",
    "n_features = x_train.shape[2]\n",
    "\n",
    "lstm_autoencoder = Sequential()\n",
    "# Encoder\n",
    "lstm_autoencoder.add(Input(shape=(timesteps, n_features)))\n",
    "lstm_autoencoder.add(LSTM(16, activation=\"relu\", return_sequences=True))\n",
    "lstm_autoencoder.add(LSTM(32, activation=\"relu\", return_sequences=True))\n",
    "lstm_autoencoder.add(LSTM(64, activation=\"relu\", return_sequences=True))\n",
    "lstm_autoencoder.add(LSTM(128, activation=\"relu\", return_sequences=True))\n",
    "lstm_autoencoder.add(LSTM(256, activation=\"relu\", return_sequences=True))\n",
    "lstm_autoencoder.add(LSTM(512, activation=\"relu\", return_sequences=False))\n",
    "\n",
    "# Adding RepeatVector to match the input sequence length for decoding\n",
    "lstm_autoencoder.add(RepeatVector(timesteps))\n",
    "\n",
    "# Decoder\n",
    "lstm_autoencoder.add(LSTM(512, activation=\"relu\", return_sequences=True))\n",
    "lstm_autoencoder.add(LSTM(256, activation=\"relu\", return_sequences=True))\n",
    "lstm_autoencoder.add(LSTM(128, activation=\"relu\", return_sequences=True))\n",
    "lstm_autoencoder.add(LSTM(64, activation=\"relu\", return_sequences=True))\n",
    "lstm_autoencoder.add(LSTM(32, activation=\"relu\", return_sequences=True))\n",
    "lstm_autoencoder.add(LSTM(16, activation=\"relu\", return_sequences=True))\n",
    "lstm_autoencoder.add(TimeDistributed(Dense(n_features)))\n",
    "\n",
    "lstm_autoencoder.summary()"
   ]
  },
  {
   "cell_type": "code",
   "execution_count": 128,
   "metadata": {},
   "outputs": [],
   "source": [
    "# Define the Early Stopping callback\n",
    "early_stopping = EarlyStopping(monitor='val_loss', patience=2,mode=\"min\", verbose=1, restore_best_weights=True)"
   ]
  },
  {
   "cell_type": "code",
   "execution_count": 129,
   "metadata": {},
   "outputs": [
    {
     "name": "stdout",
     "output_type": "stream",
     "text": [
      "Epoch 1/400\n"
     ]
    },
    {
     "name": "stdout",
     "output_type": "stream",
     "text": [
      "10/10 - 7s - 747ms/step - loss: 0.2730 - val_loss: 0.2575\n",
      "Epoch 2/400\n",
      "10/10 - 0s - 17ms/step - loss: 0.2720 - val_loss: 0.2565\n",
      "Epoch 3/400\n",
      "10/10 - 0s - 16ms/step - loss: 0.2709 - val_loss: 0.2554\n",
      "Epoch 4/400\n",
      "10/10 - 0s - 17ms/step - loss: 0.2698 - val_loss: 0.2544\n",
      "Epoch 5/400\n",
      "10/10 - 0s - 18ms/step - loss: 0.2687 - val_loss: 0.2533\n",
      "Epoch 6/400\n",
      "10/10 - 0s - 17ms/step - loss: 0.2677 - val_loss: 0.2523\n",
      "Epoch 7/400\n",
      "10/10 - 0s - 17ms/step - loss: 0.2666 - val_loss: 0.2513\n",
      "Epoch 8/400\n",
      "10/10 - 0s - 18ms/step - loss: 0.2655 - val_loss: 0.2502\n",
      "Epoch 9/400\n",
      "10/10 - 0s - 18ms/step - loss: 0.2644 - val_loss: 0.2492\n",
      "Epoch 10/400\n",
      "10/10 - 0s - 16ms/step - loss: 0.2634 - val_loss: 0.2482\n",
      "Epoch 11/400\n",
      "10/10 - 0s - 16ms/step - loss: 0.2623 - val_loss: 0.2471\n",
      "Epoch 12/400\n",
      "10/10 - 0s - 16ms/step - loss: 0.2612 - val_loss: 0.2461\n",
      "Epoch 13/400\n",
      "10/10 - 0s - 18ms/step - loss: 0.2601 - val_loss: 0.2450\n",
      "Epoch 14/400\n",
      "10/10 - 0s - 17ms/step - loss: 0.2590 - val_loss: 0.2439\n",
      "Epoch 15/400\n",
      "10/10 - 0s - 16ms/step - loss: 0.2579 - val_loss: 0.2429\n",
      "Epoch 16/400\n",
      "10/10 - 0s - 17ms/step - loss: 0.2568 - val_loss: 0.2418\n",
      "Epoch 17/400\n",
      "10/10 - 0s - 17ms/step - loss: 0.2556 - val_loss: 0.2407\n",
      "Epoch 18/400\n",
      "10/10 - 0s - 17ms/step - loss: 0.2545 - val_loss: 0.2396\n",
      "Epoch 19/400\n",
      "10/10 - 0s - 17ms/step - loss: 0.2534 - val_loss: 0.2385\n",
      "Epoch 20/400\n",
      "10/10 - 0s - 17ms/step - loss: 0.2522 - val_loss: 0.2374\n",
      "Epoch 21/400\n",
      "10/10 - 0s - 16ms/step - loss: 0.2511 - val_loss: 0.2363\n",
      "Epoch 22/400\n",
      "10/10 - 0s - 17ms/step - loss: 0.2499 - val_loss: 0.2352\n",
      "Epoch 23/400\n",
      "10/10 - 0s - 17ms/step - loss: 0.2487 - val_loss: 0.2341\n",
      "Epoch 24/400\n",
      "10/10 - 0s - 16ms/step - loss: 0.2476 - val_loss: 0.2329\n",
      "Epoch 25/400\n",
      "10/10 - 0s - 18ms/step - loss: 0.2463 - val_loss: 0.2317\n",
      "Epoch 26/400\n",
      "10/10 - 0s - 17ms/step - loss: 0.2451 - val_loss: 0.2305\n",
      "Epoch 27/400\n",
      "10/10 - 0s - 17ms/step - loss: 0.2438 - val_loss: 0.2293\n",
      "Epoch 28/400\n",
      "10/10 - 0s - 17ms/step - loss: 0.2426 - val_loss: 0.2280\n",
      "Epoch 29/400\n",
      "10/10 - 0s - 17ms/step - loss: 0.2412 - val_loss: 0.2267\n",
      "Epoch 30/400\n",
      "10/10 - 0s - 17ms/step - loss: 0.2398 - val_loss: 0.2254\n",
      "Epoch 31/400\n",
      "10/10 - 0s - 17ms/step - loss: 0.2384 - val_loss: 0.2239\n",
      "Epoch 32/400\n",
      "10/10 - 0s - 17ms/step - loss: 0.2368 - val_loss: 0.2224\n",
      "Epoch 33/400\n",
      "10/10 - 0s - 17ms/step - loss: 0.2351 - val_loss: 0.2206\n",
      "Epoch 34/400\n",
      "10/10 - 0s - 16ms/step - loss: 0.2332 - val_loss: 0.2187\n",
      "Epoch 35/400\n",
      "10/10 - 0s - 17ms/step - loss: 0.2312 - val_loss: 0.2165\n",
      "Epoch 36/400\n",
      "10/10 - 0s - 17ms/step - loss: 0.2286 - val_loss: 0.2138\n",
      "Epoch 37/400\n",
      "10/10 - 0s - 18ms/step - loss: 0.2254 - val_loss: 0.2103\n",
      "Epoch 38/400\n",
      "10/10 - 0s - 18ms/step - loss: 0.2212 - val_loss: 0.2051\n",
      "Epoch 39/400\n",
      "10/10 - 0s - 17ms/step - loss: 0.2144 - val_loss: 0.1967\n",
      "Epoch 40/400\n",
      "10/10 - 0s - 17ms/step - loss: 0.2026 - val_loss: 0.1799\n",
      "Epoch 41/400\n",
      "10/10 - 0s - 17ms/step - loss: 0.1760 - val_loss: 0.1367\n",
      "Epoch 42/400\n",
      "10/10 - 0s - 17ms/step - loss: 0.1042 - val_loss: 0.0727\n",
      "Epoch 43/400\n",
      "10/10 - 0s - 18ms/step - loss: 0.0771 - val_loss: 0.0658\n",
      "Epoch 44/400\n",
      "10/10 - 0s - 17ms/step - loss: 0.0699 - val_loss: 0.0654\n",
      "Epoch 45/400\n",
      "10/10 - 0s - 16ms/step - loss: 0.0650 - val_loss: 0.0677\n",
      "Epoch 46/400\n",
      "10/10 - 0s - 17ms/step - loss: 0.0653 - val_loss: 0.0645\n",
      "Epoch 47/400\n",
      "10/10 - 0s - 17ms/step - loss: 0.0645 - val_loss: 0.0645\n",
      "Epoch 48/400\n",
      "10/10 - 0s - 16ms/step - loss: 0.0642 - val_loss: 0.0648\n",
      "Epoch 48: early stopping\n",
      "Restoring model weights from the end of the best epoch: 46.\n"
     ]
    }
   ],
   "source": [
    "epochs = 400\n",
    "batch = 32\n",
    "lr = 0.0001\n",
    "adam = optimizers.Adam(lr)\n",
    "lstm_autoencoder.compile(loss='mse', optimizer=adam)\n",
    "\n",
    "cp = ModelCheckpoint(filepath=\"lstm_autoencoder_classifier.keras\",\n",
    "                               save_best_only=True,\n",
    "                               verbose=0)\n",
    "\n",
    "tb = TensorBoard(log_dir='./logs',\n",
    "                histogram_freq=0,\n",
    "                write_graph=True,\n",
    "                write_images=True)\n",
    "\n",
    "lstm_autoencoder_history = lstm_autoencoder.fit(x_train,x_train, \n",
    "                                                epochs=epochs, \n",
    "                                                batch_size=batch,\n",
    "                                                validation_data=(x_valdation, x_valdation),\n",
    "                                                callbacks=early_stopping,\n",
    "                                                verbose=2).history\n"
   ]
  },
  {
   "cell_type": "code",
   "execution_count": 130,
   "metadata": {},
   "outputs": [
    {
     "data": {
      "image/png": "[encoded data removed]",
      "text/plain": [
       "<Figure size 640x480 with 1 Axes>"
      ]
     },
     "metadata": {},
     "output_type": "display_data"
    }
   ],
   "source": [
    "plt.plot(lstm_autoencoder_history['loss'], linewidth=2, label='Train')\n",
    "plt.plot(lstm_autoencoder_history['val_loss'], linewidth=2, label='Valid')\n",
    "plt.legend(loc='upper right')\n",
    "plt.show()"
   ]
  },
  {
   "cell_type": "code",
   "execution_count": 131,
   "metadata": {},
   "outputs": [
    {
     "name": "stdout",
     "output_type": "stream",
     "text": [
      "\u001b[1m10/10\u001b[0m \u001b[32m━━━━━━━━━━━━━━━━━━━━\u001b[0m\u001b[37m\u001b[0m \u001b[1m1s\u001b[0m 72ms/step\n",
      "Reconstruction error threshold: 0.4701170974099722\n"
     ]
    },
    {
     "data": {
      "image/png": "[encoded data removed]",
      "text/plain": [
       "<Figure size 640x480 with 1 Axes>"
      ]
     },
     "metadata": {},
     "output_type": "display_data"
    }
   ],
   "source": [
    "# Mean Absolute Error loss\n",
    "x_train_pred = lstm_autoencoder.predict(x_train)\n",
    "train_mae_loss = np.mean(np.abs(x_train_pred - x_train), axis=1)\n",
    "\n",
    "plt.hist(train_mae_loss, bins=50)\n",
    "plt.xlabel('Train MAE loss')\n",
    "plt.ylabel('Number of Samples')\n",
    "\n",
    "# Set reconstruction error threshold\n",
    "threshold = np.max(train_mae_loss)\n",
    "\n",
    "print('Reconstruction error threshold:',threshold)"
   ]
  },
  {
   "cell_type": "code",
   "execution_count": 132,
   "metadata": {},
   "outputs": [
    {
     "name": "stdout",
     "output_type": "stream",
     "text": [
      "\u001b[1m5/5\u001b[0m \u001b[32m━━━━━━━━━━━━━━━━━━━━\u001b[0m\u001b[37m\u001b[0m \u001b[1m0s\u001b[0m 2ms/step \n"
     ]
    },
    {
     "data": {
      "text/plain": [
       "Text(0, 0.5, 'Number of samples')"
      ]
     },
     "execution_count": 132,
     "metadata": {},
     "output_type": "execute_result"
    },
    {
     "data": {
      "image/png": "[encoded data removed]",
      "text/plain": [
       "<Figure size 640x480 with 1 Axes>"
      ]
     },
     "metadata": {},
     "output_type": "display_data"
    }
   ],
   "source": [
    "X_test_pred = lstm_autoencoder.predict(x_test, verbose=1)\n",
    "test_mae_loss = np.mean(np.abs(X_test_pred-x_test), axis=1)\n",
    "\n",
    "plt.hist(test_mae_loss, bins=50)\n",
    "plt.xlabel('Test MAE loss')\n",
    "plt.ylabel('Number of samples')"
   ]
  },
  {
   "cell_type": "code",
   "execution_count": 133,
   "metadata": {},
   "outputs": [
    {
     "data": {
      "text/html": [
       "<div>\n",
       "<style scoped>\n",
       "    .dataframe tbody tr th:only-of-type {\n",
       "        vertical-align: middle;\n",
       "    }\n",
       "\n",
       "    .dataframe tbody tr th {\n",
       "        vertical-align: top;\n",
       "    }\n",
       "\n",
       "    .dataframe thead th {\n",
       "        text-align: right;\n",
       "    }\n",
       "</style>\n",
       "<table border=\"1\" class=\"dataframe\">\n",
       "  <thead>\n",
       "    <tr style=\"text-align: right;\">\n",
       "      <th></th>\n",
       "      <th>timestamp</th>\n",
       "      <th>pressure</th>\n",
       "      <th>pressure_status</th>\n",
       "      <th>pressure_standar</th>\n",
       "      <th>loss</th>\n",
       "      <th>threshold</th>\n",
       "      <th>anomaly</th>\n",
       "    </tr>\n",
       "  </thead>\n",
       "  <tbody>\n",
       "    <tr>\n",
       "      <th>864</th>\n",
       "      <td>2023-01-04 00:00:00</td>\n",
       "      <td>89.37</td>\n",
       "      <td>1</td>\n",
       "      <td>0.992871</td>\n",
       "      <td>0.553917</td>\n",
       "      <td>0.470117</td>\n",
       "      <td>True</td>\n",
       "    </tr>\n",
       "    <tr>\n",
       "      <th>865</th>\n",
       "      <td>2023-01-04 00:05:00</td>\n",
       "      <td>114.14</td>\n",
       "      <td>1</td>\n",
       "      <td>1.269480</td>\n",
       "      <td>0.830511</td>\n",
       "      <td>0.470117</td>\n",
       "      <td>True</td>\n",
       "    </tr>\n",
       "    <tr>\n",
       "      <th>866</th>\n",
       "      <td>2023-01-04 00:10:00</td>\n",
       "      <td>106.40</td>\n",
       "      <td>0</td>\n",
       "      <td>0.562552</td>\n",
       "      <td>0.123624</td>\n",
       "      <td>0.470117</td>\n",
       "      <td>False</td>\n",
       "    </tr>\n",
       "    <tr>\n",
       "      <th>867</th>\n",
       "      <td>2023-01-04 00:15:00</td>\n",
       "      <td>91.31</td>\n",
       "      <td>0</td>\n",
       "      <td>0.815683</td>\n",
       "      <td>0.376739</td>\n",
       "      <td>0.470117</td>\n",
       "      <td>False</td>\n",
       "    </tr>\n",
       "    <tr>\n",
       "      <th>868</th>\n",
       "      <td>2023-01-04 00:20:00</td>\n",
       "      <td>87.68</td>\n",
       "      <td>1</td>\n",
       "      <td>1.147226</td>\n",
       "      <td>0.708264</td>\n",
       "      <td>0.470117</td>\n",
       "      <td>True</td>\n",
       "    </tr>\n",
       "    <tr>\n",
       "      <th>...</th>\n",
       "      <td>...</td>\n",
       "      <td>...</td>\n",
       "      <td>...</td>\n",
       "      <td>...</td>\n",
       "      <td>...</td>\n",
       "      <td>...</td>\n",
       "      <td>...</td>\n",
       "    </tr>\n",
       "    <tr>\n",
       "      <th>995</th>\n",
       "      <td>2023-01-04 10:55:00</td>\n",
       "      <td>109.03</td>\n",
       "      <td>0</td>\n",
       "      <td>0.802761</td>\n",
       "      <td>0.363818</td>\n",
       "      <td>0.470117</td>\n",
       "      <td>False</td>\n",
       "    </tr>\n",
       "    <tr>\n",
       "      <th>996</th>\n",
       "      <td>2023-01-04 11:00:00</td>\n",
       "      <td>103.67</td>\n",
       "      <td>0</td>\n",
       "      <td>0.313210</td>\n",
       "      <td>0.125702</td>\n",
       "      <td>0.470117</td>\n",
       "      <td>False</td>\n",
       "    </tr>\n",
       "    <tr>\n",
       "      <th>997</th>\n",
       "      <td>2023-01-04 11:05:00</td>\n",
       "      <td>111.50</td>\n",
       "      <td>1</td>\n",
       "      <td>1.028357</td>\n",
       "      <td>0.589401</td>\n",
       "      <td>0.470117</td>\n",
       "      <td>True</td>\n",
       "    </tr>\n",
       "    <tr>\n",
       "      <th>998</th>\n",
       "      <td>2023-01-04 11:10:00</td>\n",
       "      <td>95.94</td>\n",
       "      <td>0</td>\n",
       "      <td>0.392805</td>\n",
       "      <td>0.046112</td>\n",
       "      <td>0.470117</td>\n",
       "      <td>False</td>\n",
       "    </tr>\n",
       "    <tr>\n",
       "      <th>999</th>\n",
       "      <td>2023-01-04 11:15:00</td>\n",
       "      <td>106.53</td>\n",
       "      <td>0</td>\n",
       "      <td>0.574426</td>\n",
       "      <td>0.135497</td>\n",
       "      <td>0.470117</td>\n",
       "      <td>False</td>\n",
       "    </tr>\n",
       "  </tbody>\n",
       "</table>\n",
       "<p>136 rows × 7 columns</p>\n",
       "</div>"
      ],
      "text/plain": [
       "               timestamp  pressure pressure_status  pressure_standar  \\\n",
       "864  2023-01-04 00:00:00     89.37               1          0.992871   \n",
       "865  2023-01-04 00:05:00    114.14               1          1.269480   \n",
       "866  2023-01-04 00:10:00    106.40               0          0.562552   \n",
       "867  2023-01-04 00:15:00     91.31               0          0.815683   \n",
       "868  2023-01-04 00:20:00     87.68               1          1.147226   \n",
       "..                   ...       ...             ...               ...   \n",
       "995  2023-01-04 10:55:00    109.03               0          0.802761   \n",
       "996  2023-01-04 11:00:00    103.67               0          0.313210   \n",
       "997  2023-01-04 11:05:00    111.50               1          1.028357   \n",
       "998  2023-01-04 11:10:00     95.94               0          0.392805   \n",
       "999  2023-01-04 11:15:00    106.53               0          0.574426   \n",
       "\n",
       "         loss  threshold  anomaly  \n",
       "864  0.553917   0.470117     True  \n",
       "865  0.830511   0.470117     True  \n",
       "866  0.123624   0.470117    False  \n",
       "867  0.376739   0.470117    False  \n",
       "868  0.708264   0.470117     True  \n",
       "..        ...        ...      ...  \n",
       "995  0.363818   0.470117    False  \n",
       "996  0.125702   0.470117    False  \n",
       "997  0.589401   0.470117     True  \n",
       "998  0.046112   0.470117    False  \n",
       "999  0.135497   0.470117    False  \n",
       "\n",
       "[136 rows x 7 columns]"
      ]
     },
     "execution_count": 133,
     "metadata": {},
     "output_type": "execute_result"
    }
   ],
   "source": [
    "anomaly_df = test.copy()\n",
    "anomaly_df.loc[:, 'loss'] = test_mae_loss\n",
    "anomaly_df.loc[:, 'threshold'] = threshold\n",
    "anomaly_df.loc[:, 'anomaly'] = anomaly_df['loss'] > anomaly_df['threshold']\n",
    "anomaly_df"
   ]
  },
  {
   "cell_type": "code",
   "execution_count": 134,
   "metadata": {},
   "outputs": [
    {
     "name": "stderr",
     "output_type": "stream",
     "text": [
      "C:\\Users\\adnan\\AppData\\Local\\Temp\\ipykernel_7616\\1612888637.py:1: FutureWarning: Setting an item of incompatible dtype is deprecated and will raise an error in a future version of pandas. Value '0' has dtype incompatible with bool, please explicitly cast to a compatible dtype first.\n",
      "  anomaly_df.loc[anomaly_df['anomaly']==False]=0\n"
     ]
    },
    {
     "data": {
      "text/html": [
       "<div>\n",
       "<style scoped>\n",
       "    .dataframe tbody tr th:only-of-type {\n",
       "        vertical-align: middle;\n",
       "    }\n",
       "\n",
       "    .dataframe tbody tr th {\n",
       "        vertical-align: top;\n",
       "    }\n",
       "\n",
       "    .dataframe thead th {\n",
       "        text-align: right;\n",
       "    }\n",
       "</style>\n",
       "<table border=\"1\" class=\"dataframe\">\n",
       "  <thead>\n",
       "    <tr style=\"text-align: right;\">\n",
       "      <th></th>\n",
       "      <th>timestamp</th>\n",
       "      <th>pressure</th>\n",
       "      <th>pressure_status</th>\n",
       "      <th>pressure_standar</th>\n",
       "      <th>loss</th>\n",
       "      <th>threshold</th>\n",
       "      <th>anomaly</th>\n",
       "    </tr>\n",
       "  </thead>\n",
       "  <tbody>\n",
       "    <tr>\n",
       "      <th>864</th>\n",
       "      <td>1</td>\n",
       "      <td>1.0</td>\n",
       "      <td>1</td>\n",
       "      <td>1.0</td>\n",
       "      <td>1.0</td>\n",
       "      <td>1.0</td>\n",
       "      <td>1</td>\n",
       "    </tr>\n",
       "    <tr>\n",
       "      <th>865</th>\n",
       "      <td>1</td>\n",
       "      <td>1.0</td>\n",
       "      <td>1</td>\n",
       "      <td>1.0</td>\n",
       "      <td>1.0</td>\n",
       "      <td>1.0</td>\n",
       "      <td>1</td>\n",
       "    </tr>\n",
       "    <tr>\n",
       "      <th>866</th>\n",
       "      <td>0</td>\n",
       "      <td>0.0</td>\n",
       "      <td>0</td>\n",
       "      <td>0.0</td>\n",
       "      <td>0.0</td>\n",
       "      <td>0.0</td>\n",
       "      <td>0</td>\n",
       "    </tr>\n",
       "    <tr>\n",
       "      <th>867</th>\n",
       "      <td>0</td>\n",
       "      <td>0.0</td>\n",
       "      <td>0</td>\n",
       "      <td>0.0</td>\n",
       "      <td>0.0</td>\n",
       "      <td>0.0</td>\n",
       "      <td>0</td>\n",
       "    </tr>\n",
       "    <tr>\n",
       "      <th>868</th>\n",
       "      <td>1</td>\n",
       "      <td>1.0</td>\n",
       "      <td>1</td>\n",
       "      <td>1.0</td>\n",
       "      <td>1.0</td>\n",
       "      <td>1.0</td>\n",
       "      <td>1</td>\n",
       "    </tr>\n",
       "    <tr>\n",
       "      <th>...</th>\n",
       "      <td>...</td>\n",
       "      <td>...</td>\n",
       "      <td>...</td>\n",
       "      <td>...</td>\n",
       "      <td>...</td>\n",
       "      <td>...</td>\n",
       "      <td>...</td>\n",
       "    </tr>\n",
       "    <tr>\n",
       "      <th>995</th>\n",
       "      <td>0</td>\n",
       "      <td>0.0</td>\n",
       "      <td>0</td>\n",
       "      <td>0.0</td>\n",
       "      <td>0.0</td>\n",
       "      <td>0.0</td>\n",
       "      <td>0</td>\n",
       "    </tr>\n",
       "    <tr>\n",
       "      <th>996</th>\n",
       "      <td>0</td>\n",
       "      <td>0.0</td>\n",
       "      <td>0</td>\n",
       "      <td>0.0</td>\n",
       "      <td>0.0</td>\n",
       "      <td>0.0</td>\n",
       "      <td>0</td>\n",
       "    </tr>\n",
       "    <tr>\n",
       "      <th>997</th>\n",
       "      <td>1</td>\n",
       "      <td>1.0</td>\n",
       "      <td>1</td>\n",
       "      <td>1.0</td>\n",
       "      <td>1.0</td>\n",
       "      <td>1.0</td>\n",
       "      <td>1</td>\n",
       "    </tr>\n",
       "    <tr>\n",
       "      <th>998</th>\n",
       "      <td>0</td>\n",
       "      <td>0.0</td>\n",
       "      <td>0</td>\n",
       "      <td>0.0</td>\n",
       "      <td>0.0</td>\n",
       "      <td>0.0</td>\n",
       "      <td>0</td>\n",
       "    </tr>\n",
       "    <tr>\n",
       "      <th>999</th>\n",
       "      <td>0</td>\n",
       "      <td>0.0</td>\n",
       "      <td>0</td>\n",
       "      <td>0.0</td>\n",
       "      <td>0.0</td>\n",
       "      <td>0.0</td>\n",
       "      <td>0</td>\n",
       "    </tr>\n",
       "  </tbody>\n",
       "</table>\n",
       "<p>136 rows × 7 columns</p>\n",
       "</div>"
      ],
      "text/plain": [
       "    timestamp  pressure pressure_status  pressure_standar  loss  threshold  \\\n",
       "864         1       1.0               1               1.0   1.0        1.0   \n",
       "865         1       1.0               1               1.0   1.0        1.0   \n",
       "866         0       0.0               0               0.0   0.0        0.0   \n",
       "867         0       0.0               0               0.0   0.0        0.0   \n",
       "868         1       1.0               1               1.0   1.0        1.0   \n",
       "..        ...       ...             ...               ...   ...        ...   \n",
       "995         0       0.0               0               0.0   0.0        0.0   \n",
       "996         0       0.0               0               0.0   0.0        0.0   \n",
       "997         1       1.0               1               1.0   1.0        1.0   \n",
       "998         0       0.0               0               0.0   0.0        0.0   \n",
       "999         0       0.0               0               0.0   0.0        0.0   \n",
       "\n",
       "    anomaly  \n",
       "864       1  \n",
       "865       1  \n",
       "866       0  \n",
       "867       0  \n",
       "868       1  \n",
       "..      ...  \n",
       "995       0  \n",
       "996       0  \n",
       "997       1  \n",
       "998       0  \n",
       "999       0  \n",
       "\n",
       "[136 rows x 7 columns]"
      ]
     },
     "execution_count": 134,
     "metadata": {},
     "output_type": "execute_result"
    }
   ],
   "source": [
    "anomaly_df.loc[anomaly_df['anomaly']==False]=0\n",
    "anomaly_df.loc[anomaly_df['anomaly']==True]=1\n",
    "anomaly_df"
   ]
  },
  {
   "cell_type": "code",
   "execution_count": 135,
   "metadata": {},
   "outputs": [],
   "source": [
    "anomaly_df_temp_status=anomaly_df[\"pressure_status\"].astype(int)\n",
    "anomaly_df_predicted=anomaly_df[\"anomaly\"].astype(int)"
   ]
  },
  {
   "cell_type": "code",
   "execution_count": 136,
   "metadata": {},
   "outputs": [
    {
     "name": "stdout",
     "output_type": "stream",
     "text": [
      "              precision    recall  f1-score   support\n",
      "\n",
      "           0       1.00      1.00      1.00        75\n",
      "           1       1.00      1.00      1.00        61\n",
      "\n",
      "    accuracy                           1.00       136\n",
      "   macro avg       1.00      1.00      1.00       136\n",
      "weighted avg       1.00      1.00      1.00       136\n",
      "\n",
      "[[75  0]\n",
      " [ 0 61]]\n"
     ]
    }
   ],
   "source": [
    "report=classification_report(anomaly_df_temp_status, anomaly_df_predicted)\n",
    "print(report)\n",
    "conf=confusion_matrix(anomaly_df_temp_status, anomaly_df_predicted)\n",
    "print(conf)"
   ]
  },
  {
   "cell_type": "markdown",
   "metadata": {},
   "source": [
    "# ______________________________________________________________________________"
   ]
  },
  {
   "cell_type": "code",
   "execution_count": 137,
   "metadata": {},
   "outputs": [
    {
     "data": {
      "text/plain": [
       "(576, 1, 1)"
      ]
     },
     "execution_count": 137,
     "metadata": {},
     "output_type": "execute_result"
    }
   ],
   "source": [
    "data_d = train.drop(['pressure',\"pressure_status\",\"timestamp\"], axis=1).values\n",
    "x_train_both = sequence(data_d, 1, 1)\n",
    "x_train_both.shape"
   ]
  },
  {
   "cell_type": "code",
   "execution_count": 138,
   "metadata": {},
   "outputs": [
    {
     "data": {
      "text/plain": [
       "(288, 1, 1)"
      ]
     },
     "execution_count": 138,
     "metadata": {},
     "output_type": "execute_result"
    }
   ],
   "source": [
    "data_d = valdation.drop(['pressure',\"pressure_status\",\"timestamp\"], axis=1).values\n",
    "x_valdation_both = sequence(data_d, 1, 1)\n",
    "x_valdation_both.shape"
   ]
  },
  {
   "cell_type": "code",
   "execution_count": 139,
   "metadata": {},
   "outputs": [
    {
     "data": {
      "text/plain": [
       "(136, 1, 1)"
      ]
     },
     "execution_count": 139,
     "metadata": {},
     "output_type": "execute_result"
    }
   ],
   "source": [
    "data_t = test.drop(['pressure',\"pressure_status\",\"timestamp\"], axis=1).values\n",
    "x_test_both = sequence(data_t, 1, 1)\n",
    "x_test_both.shape"
   ]
  },
  {
   "cell_type": "code",
   "execution_count": 140,
   "metadata": {},
   "outputs": [
    {
     "data": {
      "text/html": [
       "<pre style=\"white-space:pre;overflow-x:auto;line-height:normal;font-family:Menlo,'DejaVu Sans Mono',consolas,'Courier New',monospace\"><span style=\"font-weight: bold\">Model: \"sequential_5\"</span>\n",
       "</pre>\n"
      ],
      "text/plain": [
       "\u001b[1mModel: \"sequential_5\"\u001b[0m\n"
      ]
     },
     "metadata": {},
     "output_type": "display_data"
    },
    {
     "data": {
      "text/html": [
       "<pre style=\"white-space:pre;overflow-x:auto;line-height:normal;font-family:Menlo,'DejaVu Sans Mono',consolas,'Courier New',monospace\">┏━━━━━━━━━━━━━━━━━━━━━━━━━━━━━━━━━┳━━━━━━━━━━━━━━━━━━━━━━━━┳━━━━━━━━━━━━━━━┓\n",
       "┃<span style=\"font-weight: bold\"> Layer (type)                    </span>┃<span style=\"font-weight: bold\"> Output Shape           </span>┃<span style=\"font-weight: bold\">       Param # </span>┃\n",
       "┡━━━━━━━━━━━━━━━━━━━━━━━━━━━━━━━━━╇━━━━━━━━━━━━━━━━━━━━━━━━╇━━━━━━━━━━━━━━━┩\n",
       "│ lstm_40 (<span style=\"color: #0087ff; text-decoration-color: #0087ff\">LSTM</span>)                  │ (<span style=\"color: #00d7ff; text-decoration-color: #00d7ff\">None</span>, <span style=\"color: #00af00; text-decoration-color: #00af00\">512</span>)            │     <span style=\"color: #00af00; text-decoration-color: #00af00\">1,052,672</span> │\n",
       "├─────────────────────────────────┼────────────────────────┼───────────────┤\n",
       "│ repeat_vector_5 (<span style=\"color: #0087ff; text-decoration-color: #0087ff\">RepeatVector</span>)  │ (<span style=\"color: #00d7ff; text-decoration-color: #00d7ff\">None</span>, <span style=\"color: #00af00; text-decoration-color: #00af00\">1</span>, <span style=\"color: #00af00; text-decoration-color: #00af00\">512</span>)         │             <span style=\"color: #00af00; text-decoration-color: #00af00\">0</span> │\n",
       "├─────────────────────────────────┼────────────────────────┼───────────────┤\n",
       "│ lstm_41 (<span style=\"color: #0087ff; text-decoration-color: #0087ff\">LSTM</span>)                  │ (<span style=\"color: #00d7ff; text-decoration-color: #00d7ff\">None</span>, <span style=\"color: #00af00; text-decoration-color: #00af00\">1</span>, <span style=\"color: #00af00; text-decoration-color: #00af00\">512</span>)         │     <span style=\"color: #00af00; text-decoration-color: #00af00\">2,099,200</span> │\n",
       "├─────────────────────────────────┼────────────────────────┼───────────────┤\n",
       "│ time_distributed_5              │ (<span style=\"color: #00d7ff; text-decoration-color: #00d7ff\">None</span>, <span style=\"color: #00af00; text-decoration-color: #00af00\">1</span>, <span style=\"color: #00af00; text-decoration-color: #00af00\">1</span>)           │           <span style=\"color: #00af00; text-decoration-color: #00af00\">513</span> │\n",
       "│ (<span style=\"color: #0087ff; text-decoration-color: #0087ff\">TimeDistributed</span>)               │                        │               │\n",
       "└─────────────────────────────────┴────────────────────────┴───────────────┘\n",
       "</pre>\n"
      ],
      "text/plain": [
       "┏━━━━━━━━━━━━━━━━━━━━━━━━━━━━━━━━━┳━━━━━━━━━━━━━━━━━━━━━━━━┳━━━━━━━━━━━━━━━┓\n",
       "┃\u001b[1m \u001b[0m\u001b[1mLayer (type)                   \u001b[0m\u001b[1m \u001b[0m┃\u001b[1m \u001b[0m\u001b[1mOutput Shape          \u001b[0m\u001b[1m \u001b[0m┃\u001b[1m \u001b[0m\u001b[1m      Param #\u001b[0m\u001b[1m \u001b[0m┃\n",
       "┡━━━━━━━━━━━━━━━━━━━━━━━━━━━━━━━━━╇━━━━━━━━━━━━━━━━━━━━━━━━╇━━━━━━━━━━━━━━━┩\n",
       "│ lstm_40 (\u001b[38;5;33mLSTM\u001b[0m)                  │ (\u001b[38;5;45mNone\u001b[0m, \u001b[38;5;34m512\u001b[0m)            │     \u001b[38;5;34m1,052,672\u001b[0m │\n",
       "├─────────────────────────────────┼────────────────────────┼───────────────┤\n",
       "│ repeat_vector_5 (\u001b[38;5;33mRepeatVector\u001b[0m)  │ (\u001b[38;5;45mNone\u001b[0m, \u001b[38;5;34m1\u001b[0m, \u001b[38;5;34m512\u001b[0m)         │             \u001b[38;5;34m0\u001b[0m │\n",
       "├─────────────────────────────────┼────────────────────────┼───────────────┤\n",
       "│ lstm_41 (\u001b[38;5;33mLSTM\u001b[0m)                  │ (\u001b[38;5;45mNone\u001b[0m, \u001b[38;5;34m1\u001b[0m, \u001b[38;5;34m512\u001b[0m)         │     \u001b[38;5;34m2,099,200\u001b[0m │\n",
       "├─────────────────────────────────┼────────────────────────┼───────────────┤\n",
       "│ time_distributed_5              │ (\u001b[38;5;45mNone\u001b[0m, \u001b[38;5;34m1\u001b[0m, \u001b[38;5;34m1\u001b[0m)           │           \u001b[38;5;34m513\u001b[0m │\n",
       "│ (\u001b[38;5;33mTimeDistributed\u001b[0m)               │                        │               │\n",
       "└─────────────────────────────────┴────────────────────────┴───────────────┘\n"
      ]
     },
     "metadata": {},
     "output_type": "display_data"
    },
    {
     "data": {
      "text/html": [
       "<pre style=\"white-space:pre;overflow-x:auto;line-height:normal;font-family:Menlo,'DejaVu Sans Mono',consolas,'Courier New',monospace\"><span style=\"font-weight: bold\"> Total params: </span><span style=\"color: #00af00; text-decoration-color: #00af00\">3,152,385</span> (12.03 MB)\n",
       "</pre>\n"
      ],
      "text/plain": [
       "\u001b[1m Total params: \u001b[0m\u001b[38;5;34m3,152,385\u001b[0m (12.03 MB)\n"
      ]
     },
     "metadata": {},
     "output_type": "display_data"
    },
    {
     "data": {
      "text/html": [
       "<pre style=\"white-space:pre;overflow-x:auto;line-height:normal;font-family:Menlo,'DejaVu Sans Mono',consolas,'Courier New',monospace\"><span style=\"font-weight: bold\"> Trainable params: </span><span style=\"color: #00af00; text-decoration-color: #00af00\">3,152,385</span> (12.03 MB)\n",
       "</pre>\n"
      ],
      "text/plain": [
       "\u001b[1m Trainable params: \u001b[0m\u001b[38;5;34m3,152,385\u001b[0m (12.03 MB)\n"
      ]
     },
     "metadata": {},
     "output_type": "display_data"
    },
    {
     "data": {
      "text/html": [
       "<pre style=\"white-space:pre;overflow-x:auto;line-height:normal;font-family:Menlo,'DejaVu Sans Mono',consolas,'Courier New',monospace\"><span style=\"font-weight: bold\"> Non-trainable params: </span><span style=\"color: #00af00; text-decoration-color: #00af00\">0</span> (0.00 B)\n",
       "</pre>\n"
      ],
      "text/plain": [
       "\u001b[1m Non-trainable params: \u001b[0m\u001b[38;5;34m0\u001b[0m (0.00 B)\n"
      ]
     },
     "metadata": {},
     "output_type": "display_data"
    }
   ],
   "source": [
    "timesteps = x_train_both.shape[1]\n",
    "n_features = x_train_both.shape[2]\n",
    "\n",
    "lstm_autoencoder_both = Sequential()\n",
    "# Encoder\n",
    "lstm_autoencoder_both.add(Input(shape=(timesteps, n_features)))\n",
    "\n",
    "lstm_autoencoder_both.add(LSTM(512, activation=\"sigmoid\", return_sequences=False))\n",
    "\n",
    "# Adding RepeatVector to match the input sequence length for decoding\n",
    "lstm_autoencoder_both.add(RepeatVector(timesteps))\n",
    "\n",
    "# Decoder\n",
    "lstm_autoencoder_both.add(LSTM(512, activation=\"sigmoid\", return_sequences=True))\n",
    "\n",
    "lstm_autoencoder_both.add(TimeDistributed(Dense(n_features)))\n",
    "\n",
    "lstm_autoencoder_both.summary()"
   ]
  },
  {
   "cell_type": "code",
   "execution_count": 141,
   "metadata": {},
   "outputs": [],
   "source": [
    "# Define the Early Stopping callback\n",
    "early_stopping = EarlyStopping(monitor='val_loss', patience=2,mode=\"min\", verbose=1, restore_best_weights=True)"
   ]
  },
  {
   "cell_type": "code",
   "execution_count": 142,
   "metadata": {},
   "outputs": [
    {
     "name": "stdout",
     "output_type": "stream",
     "text": [
      "Epoch 1/400\n",
      "18/18 - 1s - 69ms/step - loss: 0.4057 - val_loss: 0.2949\n",
      "Epoch 2/400\n",
      "18/18 - 0s - 9ms/step - loss: 0.2624 - val_loss: 0.2613\n",
      "Epoch 3/400\n",
      "18/18 - 0s - 10ms/step - loss: 0.2563 - val_loss: 0.2575\n",
      "Epoch 4/400\n",
      "18/18 - 0s - 9ms/step - loss: 0.2548 - val_loss: 0.2563\n",
      "Epoch 5/400\n",
      "18/18 - 0s - 9ms/step - loss: 0.2532 - val_loss: 0.2562\n",
      "Epoch 6/400\n",
      "18/18 - 0s - 8ms/step - loss: 0.2530 - val_loss: 0.2549\n",
      "Epoch 7/400\n",
      "18/18 - 0s - 8ms/step - loss: 0.2517 - val_loss: 0.2542\n",
      "Epoch 8/400\n",
      "18/18 - 0s - 9ms/step - loss: 0.2542 - val_loss: 0.2573\n",
      "Epoch 9/400\n",
      "18/18 - 0s - 8ms/step - loss: 0.2500 - val_loss: 0.2535\n",
      "Epoch 10/400\n",
      "18/18 - 0s - 9ms/step - loss: 0.2533 - val_loss: 0.2535\n",
      "Epoch 11/400\n",
      "18/18 - 0s - 9ms/step - loss: 0.2539 - val_loss: 0.2605\n",
      "Epoch 12/400\n",
      "18/18 - 0s - 9ms/step - loss: 0.2543 - val_loss: 0.2515\n",
      "Epoch 13/400\n",
      "18/18 - 0s - 9ms/step - loss: 0.2481 - val_loss: 0.2501\n",
      "Epoch 14/400\n",
      "18/18 - 0s - 9ms/step - loss: 0.2464 - val_loss: 0.2496\n",
      "Epoch 15/400\n",
      "18/18 - 0s - 9ms/step - loss: 0.2461 - val_loss: 0.2482\n",
      "Epoch 16/400\n",
      "18/18 - 0s - 9ms/step - loss: 0.2452 - val_loss: 0.2469\n",
      "Epoch 17/400\n",
      "18/18 - 0s - 9ms/step - loss: 0.2450 - val_loss: 0.2458\n",
      "Epoch 18/400\n",
      "18/18 - 0s - 8ms/step - loss: 0.2430 - val_loss: 0.2447\n",
      "Epoch 19/400\n",
      "18/18 - 0s - 9ms/step - loss: 0.2445 - val_loss: 0.2460\n",
      "Epoch 20/400\n",
      "18/18 - 0s - 9ms/step - loss: 0.2386 - val_loss: 0.2428\n",
      "Epoch 21/400\n",
      "18/18 - 0s - 10ms/step - loss: 0.2392 - val_loss: 0.2404\n",
      "Epoch 22/400\n",
      "18/18 - 0s - 8ms/step - loss: 0.2389 - val_loss: 0.2408\n",
      "Epoch 23/400\n",
      "18/18 - 0s - 8ms/step - loss: 0.2392 - val_loss: 0.2374\n",
      "Epoch 24/400\n",
      "18/18 - 0s - 9ms/step - loss: 0.2334 - val_loss: 0.2353\n",
      "Epoch 25/400\n",
      "18/18 - 0s - 9ms/step - loss: 0.2313 - val_loss: 0.2334\n",
      "Epoch 26/400\n",
      "18/18 - 0s - 9ms/step - loss: 0.2303 - val_loss: 0.2311\n",
      "Epoch 27/400\n",
      "18/18 - 0s - 9ms/step - loss: 0.2272 - val_loss: 0.2292\n",
      "Epoch 28/400\n",
      "18/18 - 0s - 9ms/step - loss: 0.2251 - val_loss: 0.2261\n",
      "Epoch 29/400\n",
      "18/18 - 0s - 9ms/step - loss: 0.2221 - val_loss: 0.2244\n",
      "Epoch 30/400\n",
      "18/18 - 0s - 9ms/step - loss: 0.2228 - val_loss: 0.2224\n",
      "Epoch 31/400\n",
      "18/18 - 0s - 8ms/step - loss: 0.2184 - val_loss: 0.2175\n",
      "Epoch 32/400\n",
      "18/18 - 0s - 9ms/step - loss: 0.2154 - val_loss: 0.2147\n",
      "Epoch 33/400\n",
      "18/18 - 0s - 9ms/step - loss: 0.2105 - val_loss: 0.2109\n",
      "Epoch 34/400\n",
      "18/18 - 0s - 9ms/step - loss: 0.2064 - val_loss: 0.2072\n",
      "Epoch 35/400\n",
      "18/18 - 0s - 9ms/step - loss: 0.2040 - val_loss: 0.2070\n",
      "Epoch 36/400\n",
      "18/18 - 0s - 8ms/step - loss: 0.1999 - val_loss: 0.1993\n",
      "Epoch 37/400\n",
      "18/18 - 0s - 8ms/step - loss: 0.1945 - val_loss: 0.1958\n",
      "Epoch 38/400\n",
      "18/18 - 0s - 8ms/step - loss: 0.1927 - val_loss: 0.1921\n",
      "Epoch 39/400\n",
      "18/18 - 0s - 8ms/step - loss: 0.1892 - val_loss: 0.1863\n",
      "Epoch 40/400\n",
      "18/18 - 0s - 9ms/step - loss: 0.1854 - val_loss: 0.1814\n",
      "Epoch 41/400\n",
      "18/18 - 0s - 9ms/step - loss: 0.1773 - val_loss: 0.1825\n",
      "Epoch 42/400\n",
      "18/18 - 0s - 9ms/step - loss: 0.1744 - val_loss: 0.1704\n",
      "Epoch 43/400\n",
      "18/18 - 0s - 9ms/step - loss: 0.1662 - val_loss: 0.1653\n",
      "Epoch 44/400\n",
      "18/18 - 0s - 9ms/step - loss: 0.1590 - val_loss: 0.1652\n",
      "Epoch 45/400\n",
      "18/18 - 0s - 8ms/step - loss: 0.1580 - val_loss: 0.1531\n",
      "Epoch 46/400\n",
      "18/18 - 0s - 9ms/step - loss: 0.1497 - val_loss: 0.1474\n",
      "Epoch 47/400\n",
      "18/18 - 0s - 9ms/step - loss: 0.1421 - val_loss: 0.1404\n",
      "Epoch 48/400\n",
      "18/18 - 0s - 9ms/step - loss: 0.1357 - val_loss: 0.1345\n",
      "Epoch 49/400\n",
      "18/18 - 0s - 9ms/step - loss: 0.1304 - val_loss: 0.1274\n",
      "Epoch 50/400\n",
      "18/18 - 0s - 9ms/step - loss: 0.1245 - val_loss: 0.1209\n",
      "Epoch 51/400\n",
      "18/18 - 0s - 8ms/step - loss: 0.1203 - val_loss: 0.1148\n",
      "Epoch 52/400\n",
      "18/18 - 0s - 9ms/step - loss: 0.1109 - val_loss: 0.1186\n",
      "Epoch 53/400\n",
      "18/18 - 0s - 9ms/step - loss: 0.1053 - val_loss: 0.1045\n",
      "Epoch 54/400\n",
      "18/18 - 0s - 9ms/step - loss: 0.1013 - val_loss: 0.0963\n",
      "Epoch 55/400\n",
      "18/18 - 0s - 8ms/step - loss: 0.0924 - val_loss: 0.0898\n",
      "Epoch 56/400\n",
      "18/18 - 0s - 8ms/step - loss: 0.0844 - val_loss: 0.0818\n",
      "Epoch 57/400\n",
      "18/18 - 0s - 8ms/step - loss: 0.0777 - val_loss: 0.0752\n",
      "Epoch 58/400\n",
      "18/18 - 0s - 8ms/step - loss: 0.0729 - val_loss: 0.0706\n",
      "Epoch 59/400\n",
      "18/18 - 0s - 9ms/step - loss: 0.0686 - val_loss: 0.0649\n",
      "Epoch 60/400\n",
      "18/18 - 0s - 9ms/step - loss: 0.0612 - val_loss: 0.0601\n",
      "Epoch 61/400\n",
      "18/18 - 0s - 9ms/step - loss: 0.0547 - val_loss: 0.0519\n",
      "Epoch 62/400\n",
      "18/18 - 0s - 9ms/step - loss: 0.0495 - val_loss: 0.0468\n",
      "Epoch 63/400\n",
      "18/18 - 0s - 9ms/step - loss: 0.0462 - val_loss: 0.0425\n",
      "Epoch 64/400\n",
      "18/18 - 0s - 9ms/step - loss: 0.0403 - val_loss: 0.0374\n",
      "Epoch 65/400\n",
      "18/18 - 0s - 9ms/step - loss: 0.0359 - val_loss: 0.0344\n",
      "Epoch 66/400\n",
      "18/18 - 0s - 9ms/step - loss: 0.0314 - val_loss: 0.0293\n",
      "Epoch 67/400\n",
      "18/18 - 0s - 8ms/step - loss: 0.0277 - val_loss: 0.0255\n",
      "Epoch 68/400\n",
      "18/18 - 0s - 8ms/step - loss: 0.0244 - val_loss: 0.0222\n",
      "Epoch 69/400\n",
      "18/18 - 0s - 8ms/step - loss: 0.0207 - val_loss: 0.0193\n",
      "Epoch 70/400\n",
      "18/18 - 0s - 8ms/step - loss: 0.0180 - val_loss: 0.0166\n",
      "Epoch 71/400\n",
      "18/18 - 0s - 9ms/step - loss: 0.0158 - val_loss: 0.0145\n",
      "Epoch 72/400\n",
      "18/18 - 0s - 9ms/step - loss: 0.0131 - val_loss: 0.0123\n",
      "Epoch 73/400\n",
      "18/18 - 0s - 9ms/step - loss: 0.0113 - val_loss: 0.0103\n",
      "Epoch 74/400\n",
      "18/18 - 0s - 8ms/step - loss: 0.0099 - val_loss: 0.0091\n",
      "Epoch 75/400\n",
      "18/18 - 0s - 9ms/step - loss: 0.0080 - val_loss: 0.0071\n",
      "Epoch 76/400\n",
      "18/18 - 0s - 9ms/step - loss: 0.0065 - val_loss: 0.0061\n",
      "Epoch 77/400\n",
      "18/18 - 0s - 8ms/step - loss: 0.0056 - val_loss: 0.0049\n",
      "Epoch 78/400\n",
      "18/18 - 0s - 9ms/step - loss: 0.0045 - val_loss: 0.0040\n",
      "Epoch 79/400\n",
      "18/18 - 0s - 9ms/step - loss: 0.0036 - val_loss: 0.0034\n",
      "Epoch 80/400\n",
      "18/18 - 0s - 9ms/step - loss: 0.0030 - val_loss: 0.0028\n",
      "Epoch 81/400\n",
      "18/18 - 0s - 9ms/step - loss: 0.0024 - val_loss: 0.0021\n",
      "Epoch 82/400\n",
      "18/18 - 0s - 9ms/step - loss: 0.0020 - val_loss: 0.0019\n",
      "Epoch 83/400\n",
      "18/18 - 0s - 8ms/step - loss: 0.0016 - val_loss: 0.0013\n",
      "Epoch 84/400\n",
      "18/18 - 0s - 9ms/step - loss: 0.0012 - val_loss: 0.0011\n",
      "Epoch 85/400\n",
      "18/18 - 0s - 9ms/step - loss: 9.7337e-04 - val_loss: 8.6346e-04\n",
      "Epoch 86/400\n",
      "18/18 - 0s - 9ms/step - loss: 7.6840e-04 - val_loss: 6.7339e-04\n",
      "Epoch 87/400\n",
      "18/18 - 0s - 9ms/step - loss: 6.0999e-04 - val_loss: 5.2944e-04\n",
      "Epoch 88/400\n",
      "18/18 - 0s - 8ms/step - loss: 4.9717e-04 - val_loss: 4.2906e-04\n",
      "Epoch 89/400\n",
      "18/18 - 0s - 8ms/step - loss: 3.7822e-04 - val_loss: 3.3691e-04\n",
      "Epoch 90/400\n",
      "18/18 - 0s - 8ms/step - loss: 3.0459e-04 - val_loss: 2.4129e-04\n",
      "Epoch 91/400\n",
      "18/18 - 0s - 9ms/step - loss: 2.2049e-04 - val_loss: 1.8700e-04\n",
      "Epoch 92/400\n",
      "18/18 - 0s - 9ms/step - loss: 1.7275e-04 - val_loss: 1.4421e-04\n",
      "Epoch 93/400\n",
      "18/18 - 0s - 8ms/step - loss: 1.3383e-04 - val_loss: 1.1087e-04\n",
      "Epoch 94/400\n",
      "18/18 - 0s - 8ms/step - loss: 1.0418e-04 - val_loss: 8.5632e-05\n",
      "Epoch 95/400\n",
      "18/18 - 0s - 8ms/step - loss: 8.2429e-05 - val_loss: 7.3388e-05\n",
      "Epoch 96/400\n",
      "18/18 - 0s - 8ms/step - loss: 6.7608e-05 - val_loss: 4.9791e-05\n",
      "Epoch 97/400\n",
      "18/18 - 0s - 9ms/step - loss: 5.2369e-05 - val_loss: 3.8556e-05\n",
      "Epoch 98/400\n",
      "18/18 - 0s - 9ms/step - loss: 4.1726e-05 - val_loss: 3.4858e-05\n",
      "Epoch 99/400\n",
      "18/18 - 0s - 9ms/step - loss: 3.5203e-05 - val_loss: 2.7155e-05\n",
      "Epoch 100/400\n",
      "18/18 - 0s - 8ms/step - loss: 2.7857e-05 - val_loss: 2.0827e-05\n",
      "Epoch 101/400\n",
      "18/18 - 0s - 8ms/step - loss: 2.3012e-05 - val_loss: 1.6666e-05\n",
      "Epoch 102/400\n",
      "18/18 - 0s - 8ms/step - loss: 1.9490e-05 - val_loss: 1.4782e-05\n",
      "Epoch 103/400\n",
      "18/18 - 0s - 8ms/step - loss: 1.6778e-05 - val_loss: 1.2524e-05\n",
      "Epoch 104/400\n",
      "18/18 - 0s - 9ms/step - loss: 1.4699e-05 - val_loss: 1.1629e-05\n",
      "Epoch 105/400\n",
      "18/18 - 0s - 8ms/step - loss: 1.3205e-05 - val_loss: 1.0562e-05\n",
      "Epoch 106/400\n",
      "18/18 - 0s - 9ms/step - loss: 1.2664e-05 - val_loss: 1.0406e-05\n",
      "Epoch 107/400\n",
      "18/18 - 0s - 9ms/step - loss: 1.2932e-05 - val_loss: 1.1709e-05\n",
      "Epoch 108/400\n",
      "18/18 - 0s - 8ms/step - loss: 1.1903e-05 - val_loss: 9.2982e-06\n",
      "Epoch 109/400\n",
      "18/18 - 0s - 8ms/step - loss: 1.0828e-05 - val_loss: 9.0374e-06\n",
      "Epoch 110/400\n",
      "18/18 - 0s - 9ms/step - loss: 1.0916e-05 - val_loss: 8.9401e-06\n",
      "Epoch 111/400\n",
      "18/18 - 0s - 9ms/step - loss: 1.0823e-05 - val_loss: 8.9536e-06\n",
      "Epoch 112/400\n",
      "18/18 - 0s - 9ms/step - loss: 1.0780e-05 - val_loss: 9.1333e-06\n",
      "Epoch 112: early stopping\n",
      "Restoring model weights from the end of the best epoch: 110.\n"
     ]
    }
   ],
   "source": [
    "epochs = 400\n",
    "batch = 32\n",
    "lr = 0.0001\n",
    "adam = optimizers.Adam(lr)\n",
    "lstm_autoencoder_both.compile(loss='mse', optimizer=adam)\n",
    "\n",
    "cp = ModelCheckpoint(filepath=\"lstm_autoencoder_classifier.keras\",\n",
    "                               save_best_only=True,\n",
    "                               verbose=0)\n",
    "\n",
    "tb = TensorBoard(log_dir='./logs',\n",
    "                histogram_freq=0,\n",
    "                write_graph=True,\n",
    "                write_images=True)\n",
    "\n",
    "lstm_autoencoder_history_both = lstm_autoencoder_both.fit(x_train_both,x_train_both, \n",
    "                                                epochs=epochs, \n",
    "                                                batch_size=batch,\n",
    "                                                validation_data=(x_valdation_both, x_valdation_both),\n",
    "                                                callbacks=early_stopping,\n",
    "                                                verbose=2).history\n"
   ]
  },
  {
   "cell_type": "code",
   "execution_count": 143,
   "metadata": {},
   "outputs": [
    {
     "data": {
      "image/png": "[encoded data removed]",
      "text/plain": [
       "<Figure size 640x480 with 1 Axes>"
      ]
     },
     "metadata": {},
     "output_type": "display_data"
    }
   ],
   "source": [
    "plt.plot(lstm_autoencoder_history_both['loss'], linewidth=2, label='Train')\n",
    "plt.plot(lstm_autoencoder_history_both['val_loss'], linewidth=2, label='Valid')\n",
    "plt.legend(loc='upper right')\n",
    "plt.show()"
   ]
  },
  {
   "cell_type": "code",
   "execution_count": 144,
   "metadata": {},
   "outputs": [
    {
     "name": "stdout",
     "output_type": "stream",
     "text": [
      "\u001b[1m18/18\u001b[0m \u001b[32m━━━━━━━━━━━━━━━━━━━━\u001b[0m\u001b[37m\u001b[0m \u001b[1m0s\u001b[0m 1ms/step  \n"
     ]
    },
    {
     "data": {
      "text/plain": [
       "Text(0, 0.5, 'Number of Samples')"
      ]
     },
     "execution_count": 144,
     "metadata": {},
     "output_type": "execute_result"
    },
    {
     "data": {
      "image/png": "[encoded data removed]",
      "text/plain": [
       "<Figure size 640x480 with 1 Axes>"
      ]
     },
     "metadata": {},
     "output_type": "display_data"
    }
   ],
   "source": [
    "# Mean Absolute Error loss\n",
    "x_train_pred = lstm_autoencoder_both.predict(x_train_both)\n",
    "train_mae_loss = np.mean(np.abs(x_train_pred - x_train_both), axis=1)\n",
    "\n",
    "plt.hist(train_mae_loss, bins=50)\n",
    "plt.xlabel('Train MAE loss')\n",
    "plt.ylabel('Number of Samples')"
   ]
  },
  {
   "cell_type": "code",
   "execution_count": 157,
   "metadata": {},
   "outputs": [],
   "source": [
    "threshold = 0.004"
   ]
  },
  {
   "cell_type": "code",
   "execution_count": 158,
   "metadata": {},
   "outputs": [
    {
     "name": "stdout",
     "output_type": "stream",
     "text": [
      "\u001b[1m5/5\u001b[0m \u001b[32m━━━━━━━━━━━━━━━━━━━━\u001b[0m\u001b[37m\u001b[0m \u001b[1m0s\u001b[0m 1ms/step \n"
     ]
    },
    {
     "data": {
      "text/plain": [
       "Text(0, 0.5, 'Number of samples')"
      ]
     },
     "execution_count": 158,
     "metadata": {},
     "output_type": "execute_result"
    },
    {
     "data": {
      "image/png": "[encoded data removed]",
      "text/plain": [
       "<Figure size 640x480 with 1 Axes>"
      ]
     },
     "metadata": {},
     "output_type": "display_data"
    }
   ],
   "source": [
    "X_test_pred = lstm_autoencoder_both.predict(x_test_both, verbose=1)\n",
    "test_mae_loss = np.mean(np.abs(X_test_pred-x_test_both), axis=1)\n",
    "\n",
    "plt.hist(test_mae_loss, bins=50)\n",
    "plt.xlabel('Test MAE loss')\n",
    "plt.ylabel('Number of samples')"
   ]
  },
  {
   "cell_type": "code",
   "execution_count": 159,
   "metadata": {},
   "outputs": [
    {
     "data": {
      "text/html": [
       "<div>\n",
       "<style scoped>\n",
       "    .dataframe tbody tr th:only-of-type {\n",
       "        vertical-align: middle;\n",
       "    }\n",
       "\n",
       "    .dataframe tbody tr th {\n",
       "        vertical-align: top;\n",
       "    }\n",
       "\n",
       "    .dataframe thead th {\n",
       "        text-align: right;\n",
       "    }\n",
       "</style>\n",
       "<table border=\"1\" class=\"dataframe\">\n",
       "  <thead>\n",
       "    <tr style=\"text-align: right;\">\n",
       "      <th></th>\n",
       "      <th>timestamp</th>\n",
       "      <th>pressure</th>\n",
       "      <th>pressure_status</th>\n",
       "      <th>pressure_standar</th>\n",
       "      <th>loss</th>\n",
       "      <th>threshold</th>\n",
       "      <th>anomaly</th>\n",
       "    </tr>\n",
       "  </thead>\n",
       "  <tbody>\n",
       "    <tr>\n",
       "      <th>864</th>\n",
       "      <td>2023-01-04 00:00:00</td>\n",
       "      <td>89.37</td>\n",
       "      <td>1</td>\n",
       "      <td>0.992871</td>\n",
       "      <td>0.003678</td>\n",
       "      <td>0.004</td>\n",
       "      <td>False</td>\n",
       "    </tr>\n",
       "    <tr>\n",
       "      <th>865</th>\n",
       "      <td>2023-01-04 00:05:00</td>\n",
       "      <td>114.14</td>\n",
       "      <td>1</td>\n",
       "      <td>1.269480</td>\n",
       "      <td>0.001965</td>\n",
       "      <td>0.004</td>\n",
       "      <td>False</td>\n",
       "    </tr>\n",
       "    <tr>\n",
       "      <th>866</th>\n",
       "      <td>2023-01-04 00:10:00</td>\n",
       "      <td>106.40</td>\n",
       "      <td>0</td>\n",
       "      <td>0.562552</td>\n",
       "      <td>0.002101</td>\n",
       "      <td>0.004</td>\n",
       "      <td>False</td>\n",
       "    </tr>\n",
       "    <tr>\n",
       "      <th>867</th>\n",
       "      <td>2023-01-04 00:15:00</td>\n",
       "      <td>91.31</td>\n",
       "      <td>0</td>\n",
       "      <td>0.815683</td>\n",
       "      <td>0.003545</td>\n",
       "      <td>0.004</td>\n",
       "      <td>False</td>\n",
       "    </tr>\n",
       "    <tr>\n",
       "      <th>868</th>\n",
       "      <td>2023-01-04 00:20:00</td>\n",
       "      <td>87.68</td>\n",
       "      <td>1</td>\n",
       "      <td>1.147226</td>\n",
       "      <td>0.003044</td>\n",
       "      <td>0.004</td>\n",
       "      <td>False</td>\n",
       "    </tr>\n",
       "    <tr>\n",
       "      <th>...</th>\n",
       "      <td>...</td>\n",
       "      <td>...</td>\n",
       "      <td>...</td>\n",
       "      <td>...</td>\n",
       "      <td>...</td>\n",
       "      <td>...</td>\n",
       "      <td>...</td>\n",
       "    </tr>\n",
       "    <tr>\n",
       "      <th>995</th>\n",
       "      <td>2023-01-04 10:55:00</td>\n",
       "      <td>109.03</td>\n",
       "      <td>0</td>\n",
       "      <td>0.802761</td>\n",
       "      <td>0.003504</td>\n",
       "      <td>0.004</td>\n",
       "      <td>False</td>\n",
       "    </tr>\n",
       "    <tr>\n",
       "      <th>996</th>\n",
       "      <td>2023-01-04 11:00:00</td>\n",
       "      <td>103.67</td>\n",
       "      <td>0</td>\n",
       "      <td>0.313210</td>\n",
       "      <td>0.000295</td>\n",
       "      <td>0.004</td>\n",
       "      <td>False</td>\n",
       "    </tr>\n",
       "    <tr>\n",
       "      <th>997</th>\n",
       "      <td>2023-01-04 11:05:00</td>\n",
       "      <td>111.50</td>\n",
       "      <td>1</td>\n",
       "      <td>1.028357</td>\n",
       "      <td>0.003599</td>\n",
       "      <td>0.004</td>\n",
       "      <td>False</td>\n",
       "    </tr>\n",
       "    <tr>\n",
       "      <th>998</th>\n",
       "      <td>2023-01-04 11:10:00</td>\n",
       "      <td>95.94</td>\n",
       "      <td>0</td>\n",
       "      <td>0.392805</td>\n",
       "      <td>0.000543</td>\n",
       "      <td>0.004</td>\n",
       "      <td>False</td>\n",
       "    </tr>\n",
       "    <tr>\n",
       "      <th>999</th>\n",
       "      <td>2023-01-04 11:15:00</td>\n",
       "      <td>106.53</td>\n",
       "      <td>0</td>\n",
       "      <td>0.574426</td>\n",
       "      <td>0.002195</td>\n",
       "      <td>0.004</td>\n",
       "      <td>False</td>\n",
       "    </tr>\n",
       "  </tbody>\n",
       "</table>\n",
       "<p>136 rows × 7 columns</p>\n",
       "</div>"
      ],
      "text/plain": [
       "               timestamp  pressure pressure_status  pressure_standar  \\\n",
       "864  2023-01-04 00:00:00     89.37               1          0.992871   \n",
       "865  2023-01-04 00:05:00    114.14               1          1.269480   \n",
       "866  2023-01-04 00:10:00    106.40               0          0.562552   \n",
       "867  2023-01-04 00:15:00     91.31               0          0.815683   \n",
       "868  2023-01-04 00:20:00     87.68               1          1.147226   \n",
       "..                   ...       ...             ...               ...   \n",
       "995  2023-01-04 10:55:00    109.03               0          0.802761   \n",
       "996  2023-01-04 11:00:00    103.67               0          0.313210   \n",
       "997  2023-01-04 11:05:00    111.50               1          1.028357   \n",
       "998  2023-01-04 11:10:00     95.94               0          0.392805   \n",
       "999  2023-01-04 11:15:00    106.53               0          0.574426   \n",
       "\n",
       "         loss  threshold  anomaly  \n",
       "864  0.003678      0.004    False  \n",
       "865  0.001965      0.004    False  \n",
       "866  0.002101      0.004    False  \n",
       "867  0.003545      0.004    False  \n",
       "868  0.003044      0.004    False  \n",
       "..        ...        ...      ...  \n",
       "995  0.003504      0.004    False  \n",
       "996  0.000295      0.004    False  \n",
       "997  0.003599      0.004    False  \n",
       "998  0.000543      0.004    False  \n",
       "999  0.002195      0.004    False  \n",
       "\n",
       "[136 rows x 7 columns]"
      ]
     },
     "execution_count": 159,
     "metadata": {},
     "output_type": "execute_result"
    }
   ],
   "source": [
    "anomaly_df_both = test.copy()\n",
    "anomaly_df_both.loc[:, 'loss'] = test_mae_loss\n",
    "anomaly_df_both.loc[:, 'threshold'] = threshold\n",
    "anomaly_df_both.loc[:, 'anomaly'] = anomaly_df_both['loss'] > anomaly_df_both['threshold']\n",
    "anomaly_df_both"
   ]
  },
  {
   "cell_type": "code",
   "execution_count": 160,
   "metadata": {},
   "outputs": [
    {
     "data": {
      "text/plain": [
       "timestamp           13\n",
       "pressure            13\n",
       "pressure_status     13\n",
       "pressure_standar    13\n",
       "loss                13\n",
       "threshold           13\n",
       "anomaly             13\n",
       "dtype: int64"
      ]
     },
     "execution_count": 160,
     "metadata": {},
     "output_type": "execute_result"
    }
   ],
   "source": [
    "anomaly_df_both.loc[anomaly_df_both['anomaly']==True].count()"
   ]
  },
  {
   "cell_type": "code",
   "execution_count": 161,
   "metadata": {},
   "outputs": [],
   "source": [
    "anomaly_df_temp_status=anomaly_df_both[\"pressure_status\"].astype(int)\n",
    "anomaly_df_predicted=anomaly_df_both[\"anomaly\"].astype(int)"
   ]
  },
  {
   "cell_type": "code",
   "execution_count": 162,
   "metadata": {},
   "outputs": [
    {
     "name": "stdout",
     "output_type": "stream",
     "text": [
      "              precision    recall  f1-score   support\n",
      "\n",
      "           0       0.61      1.00      0.76        75\n",
      "           1       1.00      0.21      0.35        61\n",
      "\n",
      "    accuracy                           0.65       136\n",
      "   macro avg       0.80      0.61      0.55       136\n",
      "weighted avg       0.78      0.65      0.58       136\n",
      "\n",
      "[[75  0]\n",
      " [48 13]]\n"
     ]
    }
   ],
   "source": [
    "report=classification_report(anomaly_df_temp_status, anomaly_df_predicted)\n",
    "print(report)\n",
    "conf=confusion_matrix(anomaly_df_temp_status, anomaly_df_predicted)\n",
    "print(conf)"
   ]
  }
 ],
 "metadata": {
  "kernelspec": {
   "display_name": "Python 3",
   "language": "python",
   "name": "python3"
  },
  "language_info": {
   "codemirror_mode": {
    "name": "ipython",
    "version": 3
   },
   "file_extension": ".py",
   "mimetype": "text/x-python",
   "name": "python",
   "nbconvert_exporter": "python",
   "pygments_lexer": "ipython3",
   "version": "3.12.3"
  }
 },
 "nbformat": 4,
 "nbformat_minor": 2
}
