{
 "cells": [
  {
   "cell_type": "markdown",
   "metadata": {},
   "source": [
    "# Importing Libraries"
   ]
  },
  {
   "cell_type": "code",
   "execution_count": 1,
   "metadata": {},
   "outputs": [],
   "source": [
    "import numpy as np\n",
    "import pandas as pd\n",
    "import matplotlib.pyplot as plt\n",
    "from keras import optimizers, Sequential\n",
    "from keras.callbacks import ModelCheckpoint, TensorBoard\n",
    "from keras.layers import Dense\n",
    "from keras.layers import LSTM,Input\n",
    "from keras.layers import TimeDistributed\n",
    "from keras.layers import RepeatVector\n",
    "from tensorflow.keras.callbacks import EarlyStopping\n",
    "from sklearn.metrics import confusion_matrix\n",
    "from sklearn.metrics import classification_report\n"
   ]
  },
  {
   "cell_type": "code",
   "execution_count": 2,
   "metadata": {},
   "outputs": [],
   "source": [
    "# Read the data\n",
    "data=pd.read_csv(\"generated_data.csv\")"
   ]
  },
  {
   "cell_type": "code",
   "execution_count": 3,
   "metadata": {},
   "outputs": [
    {
     "data": {
      "text/html": [
       "<div>\n",
       "<style scoped>\n",
       "    .dataframe tbody tr th:only-of-type {\n",
       "        vertical-align: middle;\n",
       "    }\n",
       "\n",
       "    .dataframe tbody tr th {\n",
       "        vertical-align: top;\n",
       "    }\n",
       "\n",
       "    .dataframe thead th {\n",
       "        text-align: right;\n",
       "    }\n",
       "</style>\n",
       "<table border=\"1\" class=\"dataframe\">\n",
       "  <thead>\n",
       "    <tr style=\"text-align: right;\">\n",
       "      <th></th>\n",
       "      <th>timestamp</th>\n",
       "      <th>temperature</th>\n",
       "      <th>pressure</th>\n",
       "      <th>humidity</th>\n",
       "      <th>temperature_status</th>\n",
       "      <th>pressure_status</th>\n",
       "      <th>humidity_status</th>\n",
       "    </tr>\n",
       "  </thead>\n",
       "  <tbody>\n",
       "    <tr>\n",
       "      <th>0</th>\n",
       "      <td>2023-01-01 00:00:00</td>\n",
       "      <td>28.10</td>\n",
       "      <td>105.27</td>\n",
       "      <td>32.26</td>\n",
       "      <td>normal</td>\n",
       "      <td>normal</td>\n",
       "      <td>anomalous</td>\n",
       "    </tr>\n",
       "    <tr>\n",
       "      <th>1</th>\n",
       "      <td>2023-01-01 00:05:00</td>\n",
       "      <td>22.53</td>\n",
       "      <td>102.69</td>\n",
       "      <td>71.83</td>\n",
       "      <td>anomalous</td>\n",
       "      <td>normal</td>\n",
       "      <td>anomalous</td>\n",
       "    </tr>\n",
       "    <tr>\n",
       "      <th>2</th>\n",
       "      <td>2023-01-01 00:10:00</td>\n",
       "      <td>34.63</td>\n",
       "      <td>100.23</td>\n",
       "      <td>65.88</td>\n",
       "      <td>normal</td>\n",
       "      <td>normal</td>\n",
       "      <td>normal</td>\n",
       "    </tr>\n",
       "    <tr>\n",
       "      <th>3</th>\n",
       "      <td>2023-01-01 00:15:00</td>\n",
       "      <td>25.32</td>\n",
       "      <td>81.32</td>\n",
       "      <td>74.68</td>\n",
       "      <td>normal</td>\n",
       "      <td>anomalous</td>\n",
       "      <td>anomalous</td>\n",
       "    </tr>\n",
       "    <tr>\n",
       "      <th>4</th>\n",
       "      <td>2023-01-01 00:20:00</td>\n",
       "      <td>28.75</td>\n",
       "      <td>97.69</td>\n",
       "      <td>42.93</td>\n",
       "      <td>normal</td>\n",
       "      <td>normal</td>\n",
       "      <td>normal</td>\n",
       "    </tr>\n",
       "    <tr>\n",
       "      <th>...</th>\n",
       "      <td>...</td>\n",
       "      <td>...</td>\n",
       "      <td>...</td>\n",
       "      <td>...</td>\n",
       "      <td>...</td>\n",
       "      <td>...</td>\n",
       "      <td>...</td>\n",
       "    </tr>\n",
       "    <tr>\n",
       "      <th>995</th>\n",
       "      <td>2023-01-04 10:55:00</td>\n",
       "      <td>39.72</td>\n",
       "      <td>109.03</td>\n",
       "      <td>57.36</td>\n",
       "      <td>anomalous</td>\n",
       "      <td>normal</td>\n",
       "      <td>normal</td>\n",
       "    </tr>\n",
       "    <tr>\n",
       "      <th>996</th>\n",
       "      <td>2023-01-04 11:00:00</td>\n",
       "      <td>38.78</td>\n",
       "      <td>103.67</td>\n",
       "      <td>77.07</td>\n",
       "      <td>anomalous</td>\n",
       "      <td>normal</td>\n",
       "      <td>anomalous</td>\n",
       "    </tr>\n",
       "    <tr>\n",
       "      <th>997</th>\n",
       "      <td>2023-01-04 11:05:00</td>\n",
       "      <td>35.97</td>\n",
       "      <td>111.50</td>\n",
       "      <td>72.28</td>\n",
       "      <td>anomalous</td>\n",
       "      <td>anomalous</td>\n",
       "      <td>anomalous</td>\n",
       "    </tr>\n",
       "    <tr>\n",
       "      <th>998</th>\n",
       "      <td>2023-01-04 11:10:00</td>\n",
       "      <td>24.67</td>\n",
       "      <td>95.94</td>\n",
       "      <td>68.69</td>\n",
       "      <td>anomalous</td>\n",
       "      <td>normal</td>\n",
       "      <td>normal</td>\n",
       "    </tr>\n",
       "    <tr>\n",
       "      <th>999</th>\n",
       "      <td>2023-01-04 11:15:00</td>\n",
       "      <td>34.21</td>\n",
       "      <td>106.53</td>\n",
       "      <td>45.34</td>\n",
       "      <td>normal</td>\n",
       "      <td>normal</td>\n",
       "      <td>normal</td>\n",
       "    </tr>\n",
       "  </tbody>\n",
       "</table>\n",
       "<p>1000 rows × 7 columns</p>\n",
       "</div>"
      ],
      "text/plain": [
       "               timestamp  temperature  pressure  humidity temperature_status  \\\n",
       "0    2023-01-01 00:00:00        28.10    105.27     32.26             normal   \n",
       "1    2023-01-01 00:05:00        22.53    102.69     71.83          anomalous   \n",
       "2    2023-01-01 00:10:00        34.63    100.23     65.88             normal   \n",
       "3    2023-01-01 00:15:00        25.32     81.32     74.68             normal   \n",
       "4    2023-01-01 00:20:00        28.75     97.69     42.93             normal   \n",
       "..                   ...          ...       ...       ...                ...   \n",
       "995  2023-01-04 10:55:00        39.72    109.03     57.36          anomalous   \n",
       "996  2023-01-04 11:00:00        38.78    103.67     77.07          anomalous   \n",
       "997  2023-01-04 11:05:00        35.97    111.50     72.28          anomalous   \n",
       "998  2023-01-04 11:10:00        24.67     95.94     68.69          anomalous   \n",
       "999  2023-01-04 11:15:00        34.21    106.53     45.34             normal   \n",
       "\n",
       "    pressure_status humidity_status  \n",
       "0            normal       anomalous  \n",
       "1            normal       anomalous  \n",
       "2            normal          normal  \n",
       "3         anomalous       anomalous  \n",
       "4            normal          normal  \n",
       "..              ...             ...  \n",
       "995          normal          normal  \n",
       "996          normal       anomalous  \n",
       "997       anomalous       anomalous  \n",
       "998          normal          normal  \n",
       "999          normal          normal  \n",
       "\n",
       "[1000 rows x 7 columns]"
      ]
     },
     "execution_count": 3,
     "metadata": {},
     "output_type": "execute_result"
    }
   ],
   "source": [
    "data"
   ]
  },
  {
   "cell_type": "markdown",
   "metadata": {},
   "source": [
    "# Temperature sensor"
   ]
  },
  {
   "cell_type": "markdown",
   "metadata": {},
   "source": [
    "#### Convert the temperature status from catorigical to numerical"
   ]
  },
  {
   "cell_type": "code",
   "execution_count": 4,
   "metadata": {},
   "outputs": [
    {
     "data": {
      "text/html": [
       "<div>\n",
       "<style scoped>\n",
       "    .dataframe tbody tr th:only-of-type {\n",
       "        vertical-align: middle;\n",
       "    }\n",
       "\n",
       "    .dataframe tbody tr th {\n",
       "        vertical-align: top;\n",
       "    }\n",
       "\n",
       "    .dataframe thead th {\n",
       "        text-align: right;\n",
       "    }\n",
       "</style>\n",
       "<table border=\"1\" class=\"dataframe\">\n",
       "  <thead>\n",
       "    <tr style=\"text-align: right;\">\n",
       "      <th></th>\n",
       "      <th>timestamp</th>\n",
       "      <th>temperature</th>\n",
       "      <th>temperature_status</th>\n",
       "    </tr>\n",
       "  </thead>\n",
       "  <tbody>\n",
       "    <tr>\n",
       "      <th>0</th>\n",
       "      <td>2023-01-01 00:00:00</td>\n",
       "      <td>28.10</td>\n",
       "      <td>normal</td>\n",
       "    </tr>\n",
       "    <tr>\n",
       "      <th>1</th>\n",
       "      <td>2023-01-01 00:05:00</td>\n",
       "      <td>22.53</td>\n",
       "      <td>anomalous</td>\n",
       "    </tr>\n",
       "    <tr>\n",
       "      <th>2</th>\n",
       "      <td>2023-01-01 00:10:00</td>\n",
       "      <td>34.63</td>\n",
       "      <td>normal</td>\n",
       "    </tr>\n",
       "    <tr>\n",
       "      <th>3</th>\n",
       "      <td>2023-01-01 00:15:00</td>\n",
       "      <td>25.32</td>\n",
       "      <td>normal</td>\n",
       "    </tr>\n",
       "    <tr>\n",
       "      <th>4</th>\n",
       "      <td>2023-01-01 00:20:00</td>\n",
       "      <td>28.75</td>\n",
       "      <td>normal</td>\n",
       "    </tr>\n",
       "    <tr>\n",
       "      <th>...</th>\n",
       "      <td>...</td>\n",
       "      <td>...</td>\n",
       "      <td>...</td>\n",
       "    </tr>\n",
       "    <tr>\n",
       "      <th>995</th>\n",
       "      <td>2023-01-04 10:55:00</td>\n",
       "      <td>39.72</td>\n",
       "      <td>anomalous</td>\n",
       "    </tr>\n",
       "    <tr>\n",
       "      <th>996</th>\n",
       "      <td>2023-01-04 11:00:00</td>\n",
       "      <td>38.78</td>\n",
       "      <td>anomalous</td>\n",
       "    </tr>\n",
       "    <tr>\n",
       "      <th>997</th>\n",
       "      <td>2023-01-04 11:05:00</td>\n",
       "      <td>35.97</td>\n",
       "      <td>anomalous</td>\n",
       "    </tr>\n",
       "    <tr>\n",
       "      <th>998</th>\n",
       "      <td>2023-01-04 11:10:00</td>\n",
       "      <td>24.67</td>\n",
       "      <td>anomalous</td>\n",
       "    </tr>\n",
       "    <tr>\n",
       "      <th>999</th>\n",
       "      <td>2023-01-04 11:15:00</td>\n",
       "      <td>34.21</td>\n",
       "      <td>normal</td>\n",
       "    </tr>\n",
       "  </tbody>\n",
       "</table>\n",
       "<p>1000 rows × 3 columns</p>\n",
       "</div>"
      ],
      "text/plain": [
       "               timestamp  temperature temperature_status\n",
       "0    2023-01-01 00:00:00        28.10             normal\n",
       "1    2023-01-01 00:05:00        22.53          anomalous\n",
       "2    2023-01-01 00:10:00        34.63             normal\n",
       "3    2023-01-01 00:15:00        25.32             normal\n",
       "4    2023-01-01 00:20:00        28.75             normal\n",
       "..                   ...          ...                ...\n",
       "995  2023-01-04 10:55:00        39.72          anomalous\n",
       "996  2023-01-04 11:00:00        38.78          anomalous\n",
       "997  2023-01-04 11:05:00        35.97          anomalous\n",
       "998  2023-01-04 11:10:00        24.67          anomalous\n",
       "999  2023-01-04 11:15:00        34.21             normal\n",
       "\n",
       "[1000 rows x 3 columns]"
      ]
     },
     "execution_count": 4,
     "metadata": {},
     "output_type": "execute_result"
    }
   ],
   "source": [
    "# Select the timestamp,temperature column and the temperature_status column from the data\n",
    "data_temp = data.loc[:, ['timestamp', 'temperature',\"temperature_status\"]]\n",
    "data_temp "
   ]
  },
  {
   "cell_type": "code",
   "execution_count": 5,
   "metadata": {},
   "outputs": [
    {
     "data": {
      "text/html": [
       "<div>\n",
       "<style scoped>\n",
       "    .dataframe tbody tr th:only-of-type {\n",
       "        vertical-align: middle;\n",
       "    }\n",
       "\n",
       "    .dataframe tbody tr th {\n",
       "        vertical-align: top;\n",
       "    }\n",
       "\n",
       "    .dataframe thead th {\n",
       "        text-align: right;\n",
       "    }\n",
       "</style>\n",
       "<table border=\"1\" class=\"dataframe\">\n",
       "  <thead>\n",
       "    <tr style=\"text-align: right;\">\n",
       "      <th></th>\n",
       "      <th>timestamp</th>\n",
       "      <th>temperature</th>\n",
       "      <th>temperature_status</th>\n",
       "    </tr>\n",
       "  </thead>\n",
       "  <tbody>\n",
       "    <tr>\n",
       "      <th>0</th>\n",
       "      <td>2023-01-01 00:00:00</td>\n",
       "      <td>28.10</td>\n",
       "      <td>0</td>\n",
       "    </tr>\n",
       "    <tr>\n",
       "      <th>1</th>\n",
       "      <td>2023-01-01 00:05:00</td>\n",
       "      <td>22.53</td>\n",
       "      <td>1</td>\n",
       "    </tr>\n",
       "    <tr>\n",
       "      <th>2</th>\n",
       "      <td>2023-01-01 00:10:00</td>\n",
       "      <td>34.63</td>\n",
       "      <td>0</td>\n",
       "    </tr>\n",
       "    <tr>\n",
       "      <th>3</th>\n",
       "      <td>2023-01-01 00:15:00</td>\n",
       "      <td>25.32</td>\n",
       "      <td>0</td>\n",
       "    </tr>\n",
       "    <tr>\n",
       "      <th>4</th>\n",
       "      <td>2023-01-01 00:20:00</td>\n",
       "      <td>28.75</td>\n",
       "      <td>0</td>\n",
       "    </tr>\n",
       "    <tr>\n",
       "      <th>...</th>\n",
       "      <td>...</td>\n",
       "      <td>...</td>\n",
       "      <td>...</td>\n",
       "    </tr>\n",
       "    <tr>\n",
       "      <th>995</th>\n",
       "      <td>2023-01-04 10:55:00</td>\n",
       "      <td>39.72</td>\n",
       "      <td>1</td>\n",
       "    </tr>\n",
       "    <tr>\n",
       "      <th>996</th>\n",
       "      <td>2023-01-04 11:00:00</td>\n",
       "      <td>38.78</td>\n",
       "      <td>1</td>\n",
       "    </tr>\n",
       "    <tr>\n",
       "      <th>997</th>\n",
       "      <td>2023-01-04 11:05:00</td>\n",
       "      <td>35.97</td>\n",
       "      <td>1</td>\n",
       "    </tr>\n",
       "    <tr>\n",
       "      <th>998</th>\n",
       "      <td>2023-01-04 11:10:00</td>\n",
       "      <td>24.67</td>\n",
       "      <td>1</td>\n",
       "    </tr>\n",
       "    <tr>\n",
       "      <th>999</th>\n",
       "      <td>2023-01-04 11:15:00</td>\n",
       "      <td>34.21</td>\n",
       "      <td>0</td>\n",
       "    </tr>\n",
       "  </tbody>\n",
       "</table>\n",
       "<p>1000 rows × 3 columns</p>\n",
       "</div>"
      ],
      "text/plain": [
       "               timestamp  temperature temperature_status\n",
       "0    2023-01-01 00:00:00        28.10                  0\n",
       "1    2023-01-01 00:05:00        22.53                  1\n",
       "2    2023-01-01 00:10:00        34.63                  0\n",
       "3    2023-01-01 00:15:00        25.32                  0\n",
       "4    2023-01-01 00:20:00        28.75                  0\n",
       "..                   ...          ...                ...\n",
       "995  2023-01-04 10:55:00        39.72                  1\n",
       "996  2023-01-04 11:00:00        38.78                  1\n",
       "997  2023-01-04 11:05:00        35.97                  1\n",
       "998  2023-01-04 11:10:00        24.67                  1\n",
       "999  2023-01-04 11:15:00        34.21                  0\n",
       "\n",
       "[1000 rows x 3 columns]"
      ]
     },
     "execution_count": 5,
     "metadata": {},
     "output_type": "execute_result"
    }
   ],
   "source": [
    "# Convert the temperature_status column to binary values\n",
    "data_temp.loc[data_temp[\"temperature_status\"]==\"normal\",\"temperature_status\"]=0\n",
    "data_temp.loc[data_temp[\"temperature_status\"]==\"anomalous\",\"temperature_status\"]=1\n",
    "data_temp"
   ]
  },
  {
   "cell_type": "code",
   "execution_count": 6,
   "metadata": {},
   "outputs": [],
   "source": [
    "def standraization(df, column_name):\n",
    "    # Calculate Z-scores\n",
    "    z_scores = np.abs((df[column_name] - df[column_name].mean()) / df[column_name].std())\n",
    "    df[\"temperature_standar\"]=z_scores\n",
    "    return df"
   ]
  },
  {
   "cell_type": "code",
   "execution_count": 7,
   "metadata": {},
   "outputs": [
    {
     "data": {
      "text/plain": [
       "(20.02, 39.98)"
      ]
     },
     "execution_count": 7,
     "metadata": {},
     "output_type": "execute_result"
    }
   ],
   "source": [
    "data_temp[\"temperature\"].min(), data_temp[\"temperature\"].max()"
   ]
  },
  {
   "cell_type": "markdown",
   "metadata": {},
   "source": [
    "##### Analysing the data readout and plot a sample"
   ]
  },
  {
   "cell_type": "code",
   "execution_count": 8,
   "metadata": {},
   "outputs": [
    {
     "data": {
      "text/plain": [
       "(508, 492)"
      ]
     },
     "execution_count": 8,
     "metadata": {},
     "output_type": "execute_result"
    }
   ],
   "source": [
    "# The number of normal and anomalous temperature values\n",
    "data_temp.loc[data_temp[\"temperature_status\"]==0][\"timestamp\"].count(), data_temp.loc[data_temp[\"temperature_status\"]==1][\"timestamp\"].count()"
   ]
  },
  {
   "cell_type": "code",
   "execution_count": 9,
   "metadata": {},
   "outputs": [
    {
     "data": {
      "text/plain": [
       "('2023-01-01 00:00:00', '2023-01-04 11:15:00')"
      ]
     },
     "execution_count": 9,
     "metadata": {},
     "output_type": "execute_result"
    }
   ],
   "source": [
    "# The range of timestamps\n",
    "data_temp[\"timestamp\"].min(), data_temp[\"timestamp\"].max()"
   ]
  },
  {
   "cell_type": "code",
   "execution_count": 10,
   "metadata": {},
   "outputs": [
    {
     "data": {
      "text/html": [
       "<div>\n",
       "<style scoped>\n",
       "    .dataframe tbody tr th:only-of-type {\n",
       "        vertical-align: middle;\n",
       "    }\n",
       "\n",
       "    .dataframe tbody tr th {\n",
       "        vertical-align: top;\n",
       "    }\n",
       "\n",
       "    .dataframe thead th {\n",
       "        text-align: right;\n",
       "    }\n",
       "</style>\n",
       "<table border=\"1\" class=\"dataframe\">\n",
       "  <thead>\n",
       "    <tr style=\"text-align: right;\">\n",
       "      <th></th>\n",
       "      <th>timestamp</th>\n",
       "      <th>temperature</th>\n",
       "      <th>temperature_status</th>\n",
       "    </tr>\n",
       "  </thead>\n",
       "  <tbody>\n",
       "    <tr>\n",
       "      <th>0</th>\n",
       "      <td>2023-01-01 00:00:00</td>\n",
       "      <td>28.10</td>\n",
       "      <td>0</td>\n",
       "    </tr>\n",
       "    <tr>\n",
       "      <th>1</th>\n",
       "      <td>2023-01-01 00:05:00</td>\n",
       "      <td>22.53</td>\n",
       "      <td>1</td>\n",
       "    </tr>\n",
       "    <tr>\n",
       "      <th>2</th>\n",
       "      <td>2023-01-01 00:10:00</td>\n",
       "      <td>34.63</td>\n",
       "      <td>0</td>\n",
       "    </tr>\n",
       "    <tr>\n",
       "      <th>3</th>\n",
       "      <td>2023-01-01 00:15:00</td>\n",
       "      <td>25.32</td>\n",
       "      <td>0</td>\n",
       "    </tr>\n",
       "    <tr>\n",
       "      <th>4</th>\n",
       "      <td>2023-01-01 00:20:00</td>\n",
       "      <td>28.75</td>\n",
       "      <td>0</td>\n",
       "    </tr>\n",
       "    <tr>\n",
       "      <th>...</th>\n",
       "      <td>...</td>\n",
       "      <td>...</td>\n",
       "      <td>...</td>\n",
       "    </tr>\n",
       "    <tr>\n",
       "      <th>571</th>\n",
       "      <td>2023-01-02 23:35:00</td>\n",
       "      <td>33.79</td>\n",
       "      <td>0</td>\n",
       "    </tr>\n",
       "    <tr>\n",
       "      <th>572</th>\n",
       "      <td>2023-01-02 23:40:00</td>\n",
       "      <td>33.82</td>\n",
       "      <td>0</td>\n",
       "    </tr>\n",
       "    <tr>\n",
       "      <th>573</th>\n",
       "      <td>2023-01-02 23:45:00</td>\n",
       "      <td>38.10</td>\n",
       "      <td>1</td>\n",
       "    </tr>\n",
       "    <tr>\n",
       "      <th>574</th>\n",
       "      <td>2023-01-02 23:50:00</td>\n",
       "      <td>36.80</td>\n",
       "      <td>1</td>\n",
       "    </tr>\n",
       "    <tr>\n",
       "      <th>575</th>\n",
       "      <td>2023-01-02 23:55:00</td>\n",
       "      <td>38.43</td>\n",
       "      <td>1</td>\n",
       "    </tr>\n",
       "  </tbody>\n",
       "</table>\n",
       "<p>576 rows × 3 columns</p>\n",
       "</div>"
      ],
      "text/plain": [
       "               timestamp  temperature temperature_status\n",
       "0    2023-01-01 00:00:00        28.10                  0\n",
       "1    2023-01-01 00:05:00        22.53                  1\n",
       "2    2023-01-01 00:10:00        34.63                  0\n",
       "3    2023-01-01 00:15:00        25.32                  0\n",
       "4    2023-01-01 00:20:00        28.75                  0\n",
       "..                   ...          ...                ...\n",
       "571  2023-01-02 23:35:00        33.79                  0\n",
       "572  2023-01-02 23:40:00        33.82                  0\n",
       "573  2023-01-02 23:45:00        38.10                  1\n",
       "574  2023-01-02 23:50:00        36.80                  1\n",
       "575  2023-01-02 23:55:00        38.43                  1\n",
       "\n",
       "[576 rows x 3 columns]"
      ]
     },
     "execution_count": 10,
     "metadata": {},
     "output_type": "execute_result"
    }
   ],
   "source": [
    "# The number of temperature values recorded on the first two days\n",
    "first_2days= data_temp.loc[data_temp[\"timestamp\"]<'2023-01-03']\n",
    "first_2days"
   ]
  },
  {
   "cell_type": "code",
   "execution_count": 11,
   "metadata": {},
   "outputs": [
    {
     "data": {
      "text/plain": [
       "(297, 279)"
      ]
     },
     "execution_count": 11,
     "metadata": {},
     "output_type": "execute_result"
    }
   ],
   "source": [
    "# The number of normal and anomalous temperature values recorded on the first two days\n",
    "first_2days.loc[first_2days[\"temperature_status\"]==0][\"timestamp\"].count(), first_2days.loc[first_2days[\"temperature_status\"]==1][\"timestamp\"].count()"
   ]
  },
  {
   "cell_type": "code",
   "execution_count": 12,
   "metadata": {},
   "outputs": [],
   "source": [
    "therd_day= data_temp.loc[(data_temp[\"timestamp\"]>'2023-01-03') & (data_temp[\"timestamp\"]<'2023-01-04')]"
   ]
  },
  {
   "cell_type": "code",
   "execution_count": 13,
   "metadata": {},
   "outputs": [
    {
     "data": {
      "text/html": [
       "<div>\n",
       "<style scoped>\n",
       "    .dataframe tbody tr th:only-of-type {\n",
       "        vertical-align: middle;\n",
       "    }\n",
       "\n",
       "    .dataframe tbody tr th {\n",
       "        vertical-align: top;\n",
       "    }\n",
       "\n",
       "    .dataframe thead th {\n",
       "        text-align: right;\n",
       "    }\n",
       "</style>\n",
       "<table border=\"1\" class=\"dataframe\">\n",
       "  <thead>\n",
       "    <tr style=\"text-align: right;\">\n",
       "      <th></th>\n",
       "      <th>timestamp</th>\n",
       "      <th>temperature</th>\n",
       "      <th>temperature_status</th>\n",
       "    </tr>\n",
       "  </thead>\n",
       "  <tbody>\n",
       "    <tr>\n",
       "      <th>576</th>\n",
       "      <td>2023-01-03 00:00:00</td>\n",
       "      <td>31.02</td>\n",
       "      <td>0</td>\n",
       "    </tr>\n",
       "    <tr>\n",
       "      <th>577</th>\n",
       "      <td>2023-01-03 00:05:00</td>\n",
       "      <td>26.88</td>\n",
       "      <td>0</td>\n",
       "    </tr>\n",
       "    <tr>\n",
       "      <th>578</th>\n",
       "      <td>2023-01-03 00:10:00</td>\n",
       "      <td>23.28</td>\n",
       "      <td>1</td>\n",
       "    </tr>\n",
       "    <tr>\n",
       "      <th>579</th>\n",
       "      <td>2023-01-03 00:15:00</td>\n",
       "      <td>23.87</td>\n",
       "      <td>1</td>\n",
       "    </tr>\n",
       "    <tr>\n",
       "      <th>580</th>\n",
       "      <td>2023-01-03 00:20:00</td>\n",
       "      <td>28.87</td>\n",
       "      <td>0</td>\n",
       "    </tr>\n",
       "    <tr>\n",
       "      <th>...</th>\n",
       "      <td>...</td>\n",
       "      <td>...</td>\n",
       "      <td>...</td>\n",
       "    </tr>\n",
       "    <tr>\n",
       "      <th>859</th>\n",
       "      <td>2023-01-03 23:35:00</td>\n",
       "      <td>34.65</td>\n",
       "      <td>0</td>\n",
       "    </tr>\n",
       "    <tr>\n",
       "      <th>860</th>\n",
       "      <td>2023-01-03 23:40:00</td>\n",
       "      <td>32.64</td>\n",
       "      <td>0</td>\n",
       "    </tr>\n",
       "    <tr>\n",
       "      <th>861</th>\n",
       "      <td>2023-01-03 23:45:00</td>\n",
       "      <td>29.05</td>\n",
       "      <td>0</td>\n",
       "    </tr>\n",
       "    <tr>\n",
       "      <th>862</th>\n",
       "      <td>2023-01-03 23:50:00</td>\n",
       "      <td>34.41</td>\n",
       "      <td>0</td>\n",
       "    </tr>\n",
       "    <tr>\n",
       "      <th>863</th>\n",
       "      <td>2023-01-03 23:55:00</td>\n",
       "      <td>29.43</td>\n",
       "      <td>0</td>\n",
       "    </tr>\n",
       "  </tbody>\n",
       "</table>\n",
       "<p>288 rows × 3 columns</p>\n",
       "</div>"
      ],
      "text/plain": [
       "               timestamp  temperature temperature_status\n",
       "576  2023-01-03 00:00:00        31.02                  0\n",
       "577  2023-01-03 00:05:00        26.88                  0\n",
       "578  2023-01-03 00:10:00        23.28                  1\n",
       "579  2023-01-03 00:15:00        23.87                  1\n",
       "580  2023-01-03 00:20:00        28.87                  0\n",
       "..                   ...          ...                ...\n",
       "859  2023-01-03 23:35:00        34.65                  0\n",
       "860  2023-01-03 23:40:00        32.64                  0\n",
       "861  2023-01-03 23:45:00        29.05                  0\n",
       "862  2023-01-03 23:50:00        34.41                  0\n",
       "863  2023-01-03 23:55:00        29.43                  0\n",
       "\n",
       "[288 rows x 3 columns]"
      ]
     },
     "execution_count": 13,
     "metadata": {},
     "output_type": "execute_result"
    }
   ],
   "source": [
    "therd_day"
   ]
  },
  {
   "cell_type": "code",
   "execution_count": 14,
   "metadata": {},
   "outputs": [
    {
     "data": {
      "text/plain": [
       "(147, 141)"
      ]
     },
     "execution_count": 14,
     "metadata": {},
     "output_type": "execute_result"
    }
   ],
   "source": [
    "# The number of normal and anomalous temperature values recorded on the therd day\n",
    "therd_day.loc[therd_day[\"temperature_status\"]==0][\"timestamp\"].count(), therd_day.loc[therd_day[\"temperature_status\"]==1][\"timestamp\"].count()"
   ]
  },
  {
   "cell_type": "code",
   "execution_count": 15,
   "metadata": {},
   "outputs": [
    {
     "data": {
      "text/html": [
       "<div>\n",
       "<style scoped>\n",
       "    .dataframe tbody tr th:only-of-type {\n",
       "        vertical-align: middle;\n",
       "    }\n",
       "\n",
       "    .dataframe tbody tr th {\n",
       "        vertical-align: top;\n",
       "    }\n",
       "\n",
       "    .dataframe thead th {\n",
       "        text-align: right;\n",
       "    }\n",
       "</style>\n",
       "<table border=\"1\" class=\"dataframe\">\n",
       "  <thead>\n",
       "    <tr style=\"text-align: right;\">\n",
       "      <th></th>\n",
       "      <th>timestamp</th>\n",
       "      <th>temperature</th>\n",
       "      <th>temperature_status</th>\n",
       "    </tr>\n",
       "  </thead>\n",
       "  <tbody>\n",
       "    <tr>\n",
       "      <th>864</th>\n",
       "      <td>2023-01-04 00:00:00</td>\n",
       "      <td>25.53</td>\n",
       "      <td>0</td>\n",
       "    </tr>\n",
       "    <tr>\n",
       "      <th>865</th>\n",
       "      <td>2023-01-04 00:05:00</td>\n",
       "      <td>35.28</td>\n",
       "      <td>1</td>\n",
       "    </tr>\n",
       "    <tr>\n",
       "      <th>866</th>\n",
       "      <td>2023-01-04 00:10:00</td>\n",
       "      <td>39.47</td>\n",
       "      <td>1</td>\n",
       "    </tr>\n",
       "    <tr>\n",
       "      <th>867</th>\n",
       "      <td>2023-01-04 00:15:00</td>\n",
       "      <td>20.80</td>\n",
       "      <td>1</td>\n",
       "    </tr>\n",
       "    <tr>\n",
       "      <th>868</th>\n",
       "      <td>2023-01-04 00:20:00</td>\n",
       "      <td>34.56</td>\n",
       "      <td>0</td>\n",
       "    </tr>\n",
       "    <tr>\n",
       "      <th>...</th>\n",
       "      <td>...</td>\n",
       "      <td>...</td>\n",
       "      <td>...</td>\n",
       "    </tr>\n",
       "    <tr>\n",
       "      <th>995</th>\n",
       "      <td>2023-01-04 10:55:00</td>\n",
       "      <td>39.72</td>\n",
       "      <td>1</td>\n",
       "    </tr>\n",
       "    <tr>\n",
       "      <th>996</th>\n",
       "      <td>2023-01-04 11:00:00</td>\n",
       "      <td>38.78</td>\n",
       "      <td>1</td>\n",
       "    </tr>\n",
       "    <tr>\n",
       "      <th>997</th>\n",
       "      <td>2023-01-04 11:05:00</td>\n",
       "      <td>35.97</td>\n",
       "      <td>1</td>\n",
       "    </tr>\n",
       "    <tr>\n",
       "      <th>998</th>\n",
       "      <td>2023-01-04 11:10:00</td>\n",
       "      <td>24.67</td>\n",
       "      <td>1</td>\n",
       "    </tr>\n",
       "    <tr>\n",
       "      <th>999</th>\n",
       "      <td>2023-01-04 11:15:00</td>\n",
       "      <td>34.21</td>\n",
       "      <td>0</td>\n",
       "    </tr>\n",
       "  </tbody>\n",
       "</table>\n",
       "<p>136 rows × 3 columns</p>\n",
       "</div>"
      ],
      "text/plain": [
       "               timestamp  temperature temperature_status\n",
       "864  2023-01-04 00:00:00        25.53                  0\n",
       "865  2023-01-04 00:05:00        35.28                  1\n",
       "866  2023-01-04 00:10:00        39.47                  1\n",
       "867  2023-01-04 00:15:00        20.80                  1\n",
       "868  2023-01-04 00:20:00        34.56                  0\n",
       "..                   ...          ...                ...\n",
       "995  2023-01-04 10:55:00        39.72                  1\n",
       "996  2023-01-04 11:00:00        38.78                  1\n",
       "997  2023-01-04 11:05:00        35.97                  1\n",
       "998  2023-01-04 11:10:00        24.67                  1\n",
       "999  2023-01-04 11:15:00        34.21                  0\n",
       "\n",
       "[136 rows x 3 columns]"
      ]
     },
     "execution_count": 15,
     "metadata": {},
     "output_type": "execute_result"
    }
   ],
   "source": [
    "# The number of temperature values recorded on the last day\n",
    "last_day= data_temp.loc[data_temp[\"timestamp\"]>='2023-01-04']\n",
    "last_day"
   ]
  },
  {
   "cell_type": "code",
   "execution_count": 16,
   "metadata": {},
   "outputs": [
    {
     "data": {
      "text/plain": [
       "(64, 72)"
      ]
     },
     "execution_count": 16,
     "metadata": {},
     "output_type": "execute_result"
    }
   ],
   "source": [
    "# The number of normal and anomalous temperature values recorded on the last two days\n",
    "last_day.loc[last_day[\"temperature_status\"]==0][\"timestamp\"].count(), last_day.loc[last_day[\"temperature_status\"]==1][\"timestamp\"].count()"
   ]
  },
  {
   "cell_type": "code",
   "execution_count": 17,
   "metadata": {},
   "outputs": [
    {
     "name": "stderr",
     "output_type": "stream",
     "text": [
      "C:\\Users\\adnan\\AppData\\Local\\Temp\\ipykernel_14400\\2181701519.py:4: SettingWithCopyWarning: \n",
      "A value is trying to be set on a copy of a slice from a DataFrame.\n",
      "Try using .loc[row_indexer,col_indexer] = value instead\n",
      "\n",
      "See the caveats in the documentation: https://pandas.pydata.org/pandas-docs/stable/user_guide/indexing.html#returning-a-view-versus-a-copy\n",
      "  df[\"temperature_standar\"]=z_scores\n",
      "C:\\Users\\adnan\\AppData\\Local\\Temp\\ipykernel_14400\\2181701519.py:4: SettingWithCopyWarning: \n",
      "A value is trying to be set on a copy of a slice from a DataFrame.\n",
      "Try using .loc[row_indexer,col_indexer] = value instead\n",
      "\n",
      "See the caveats in the documentation: https://pandas.pydata.org/pandas-docs/stable/user_guide/indexing.html#returning-a-view-versus-a-copy\n",
      "  df[\"temperature_standar\"]=z_scores\n",
      "C:\\Users\\adnan\\AppData\\Local\\Temp\\ipykernel_14400\\2181701519.py:4: SettingWithCopyWarning: \n",
      "A value is trying to be set on a copy of a slice from a DataFrame.\n",
      "Try using .loc[row_indexer,col_indexer] = value instead\n",
      "\n",
      "See the caveats in the documentation: https://pandas.pydata.org/pandas-docs/stable/user_guide/indexing.html#returning-a-view-versus-a-copy\n",
      "  df[\"temperature_standar\"]=z_scores\n"
     ]
    }
   ],
   "source": [
    "# Standarize the temperature values\n",
    "first_2days=standraization(first_2days, \"temperature\")\n",
    "therd_day=standraization(therd_day, \"temperature\")\n",
    "last_day=standraization(last_day, \"temperature\")"
   ]
  },
  {
   "cell_type": "code",
   "execution_count": 18,
   "metadata": {},
   "outputs": [
    {
     "data": {
      "text/html": [
       "<div>\n",
       "<style scoped>\n",
       "    .dataframe tbody tr th:only-of-type {\n",
       "        vertical-align: middle;\n",
       "    }\n",
       "\n",
       "    .dataframe tbody tr th {\n",
       "        vertical-align: top;\n",
       "    }\n",
       "\n",
       "    .dataframe thead th {\n",
       "        text-align: right;\n",
       "    }\n",
       "</style>\n",
       "<table border=\"1\" class=\"dataframe\">\n",
       "  <thead>\n",
       "    <tr style=\"text-align: right;\">\n",
       "      <th></th>\n",
       "      <th>timestamp</th>\n",
       "      <th>temperature</th>\n",
       "      <th>temperature_status</th>\n",
       "    </tr>\n",
       "  </thead>\n",
       "  <tbody>\n",
       "    <tr>\n",
       "      <th>0</th>\n",
       "      <td>2023-01-01 00:00:00</td>\n",
       "      <td>28.10</td>\n",
       "      <td>0</td>\n",
       "    </tr>\n",
       "    <tr>\n",
       "      <th>1</th>\n",
       "      <td>2023-01-01 00:05:00</td>\n",
       "      <td>22.53</td>\n",
       "      <td>1</td>\n",
       "    </tr>\n",
       "    <tr>\n",
       "      <th>2</th>\n",
       "      <td>2023-01-01 00:10:00</td>\n",
       "      <td>34.63</td>\n",
       "      <td>0</td>\n",
       "    </tr>\n",
       "    <tr>\n",
       "      <th>3</th>\n",
       "      <td>2023-01-01 00:15:00</td>\n",
       "      <td>25.32</td>\n",
       "      <td>0</td>\n",
       "    </tr>\n",
       "    <tr>\n",
       "      <th>4</th>\n",
       "      <td>2023-01-01 00:20:00</td>\n",
       "      <td>28.75</td>\n",
       "      <td>0</td>\n",
       "    </tr>\n",
       "    <tr>\n",
       "      <th>5</th>\n",
       "      <td>2023-01-01 00:25:00</td>\n",
       "      <td>22.56</td>\n",
       "      <td>1</td>\n",
       "    </tr>\n",
       "    <tr>\n",
       "      <th>6</th>\n",
       "      <td>2023-01-01 00:30:00</td>\n",
       "      <td>29.44</td>\n",
       "      <td>0</td>\n",
       "    </tr>\n",
       "  </tbody>\n",
       "</table>\n",
       "</div>"
      ],
      "text/plain": [
       "             timestamp  temperature temperature_status\n",
       "0  2023-01-01 00:00:00        28.10                  0\n",
       "1  2023-01-01 00:05:00        22.53                  1\n",
       "2  2023-01-01 00:10:00        34.63                  0\n",
       "3  2023-01-01 00:15:00        25.32                  0\n",
       "4  2023-01-01 00:20:00        28.75                  0\n",
       "5  2023-01-01 00:25:00        22.56                  1\n",
       "6  2023-01-01 00:30:00        29.44                  0"
      ]
     },
     "execution_count": 18,
     "metadata": {},
     "output_type": "execute_result"
    }
   ],
   "source": [
    "# first 7 rows\n",
    "data_temp.head(7)"
   ]
  },
  {
   "cell_type": "code",
   "execution_count": 19,
   "metadata": {},
   "outputs": [
    {
     "data": {
      "image/png": "[encoded data removed]",
      "text/plain": [
       "<Figure size 3000x1500 with 1 Axes>"
      ]
     },
     "metadata": {},
     "output_type": "display_data"
    }
   ],
   "source": [
    "# Plot the first 7 temperature values\n",
    "plt.figure(figsize=(30,15))\n",
    "plt.plot(data_temp[\"timestamp\"].head(7), data_temp[\"temperature\"].head(7), label=\"Temperature\")\n",
    "plt.xlabel(\"Time\")\n",
    "plt.ylabel(\"Temperature\")\n",
    "plt.legend()\n",
    "plt.show()"
   ]
  },
  {
   "cell_type": "markdown",
   "metadata": {},
   "source": [
    "- The data is balanced there are almost same number of reads out for each class.\n",
    "- We can see the stand temperature can indicate a strong variasion between the previos temperatuer and the current one whcih help the model to idenife if there are some anomalous values.\n",
    "- Window size of 1 readout which indicate a 5 minute.\n",
    "- Split the data into test and train, the data are collected in 4 days, so train 2 days,valdation 1 day and test 1 day."
   ]
  },
  {
   "cell_type": "markdown",
   "metadata": {},
   "source": [
    "##### Spliting the data"
   ]
  },
  {
   "cell_type": "code",
   "execution_count": 20,
   "metadata": {},
   "outputs": [],
   "source": [
    "train = first_2days\n",
    "valdation= therd_day\n",
    "test = last_day"
   ]
  },
  {
   "cell_type": "code",
   "execution_count": 21,
   "metadata": {},
   "outputs": [
    {
     "data": {
      "text/html": [
       "<div>\n",
       "<style scoped>\n",
       "    .dataframe tbody tr th:only-of-type {\n",
       "        vertical-align: middle;\n",
       "    }\n",
       "\n",
       "    .dataframe tbody tr th {\n",
       "        vertical-align: top;\n",
       "    }\n",
       "\n",
       "    .dataframe thead th {\n",
       "        text-align: right;\n",
       "    }\n",
       "</style>\n",
       "<table border=\"1\" class=\"dataframe\">\n",
       "  <thead>\n",
       "    <tr style=\"text-align: right;\">\n",
       "      <th></th>\n",
       "      <th>timestamp</th>\n",
       "      <th>temperature</th>\n",
       "      <th>temperature_status</th>\n",
       "      <th>temperature_standar</th>\n",
       "    </tr>\n",
       "  </thead>\n",
       "  <tbody>\n",
       "    <tr>\n",
       "      <th>0</th>\n",
       "      <td>2023-01-01 00:00:00</td>\n",
       "      <td>28.10</td>\n",
       "      <td>0</td>\n",
       "      <td>0.365068</td>\n",
       "    </tr>\n",
       "    <tr>\n",
       "      <th>1</th>\n",
       "      <td>2023-01-01 00:05:00</td>\n",
       "      <td>22.53</td>\n",
       "      <td>1</td>\n",
       "      <td>1.329595</td>\n",
       "    </tr>\n",
       "    <tr>\n",
       "      <th>2</th>\n",
       "      <td>2023-01-01 00:10:00</td>\n",
       "      <td>34.63</td>\n",
       "      <td>0</td>\n",
       "      <td>0.765697</td>\n",
       "    </tr>\n",
       "    <tr>\n",
       "      <th>3</th>\n",
       "      <td>2023-01-01 00:15:00</td>\n",
       "      <td>25.32</td>\n",
       "      <td>0</td>\n",
       "      <td>0.846466</td>\n",
       "    </tr>\n",
       "    <tr>\n",
       "      <th>4</th>\n",
       "      <td>2023-01-01 00:20:00</td>\n",
       "      <td>28.75</td>\n",
       "      <td>0</td>\n",
       "      <td>0.252511</td>\n",
       "    </tr>\n",
       "    <tr>\n",
       "      <th>...</th>\n",
       "      <td>...</td>\n",
       "      <td>...</td>\n",
       "      <td>...</td>\n",
       "      <td>...</td>\n",
       "    </tr>\n",
       "    <tr>\n",
       "      <th>571</th>\n",
       "      <td>2023-01-02 23:35:00</td>\n",
       "      <td>33.79</td>\n",
       "      <td>0</td>\n",
       "      <td>0.620239</td>\n",
       "    </tr>\n",
       "    <tr>\n",
       "      <th>572</th>\n",
       "      <td>2023-01-02 23:40:00</td>\n",
       "      <td>33.82</td>\n",
       "      <td>0</td>\n",
       "      <td>0.625434</td>\n",
       "    </tr>\n",
       "    <tr>\n",
       "      <th>573</th>\n",
       "      <td>2023-01-02 23:45:00</td>\n",
       "      <td>38.10</td>\n",
       "      <td>1</td>\n",
       "      <td>1.366579</td>\n",
       "    </tr>\n",
       "    <tr>\n",
       "      <th>574</th>\n",
       "      <td>2023-01-02 23:50:00</td>\n",
       "      <td>36.80</td>\n",
       "      <td>1</td>\n",
       "      <td>1.141465</td>\n",
       "    </tr>\n",
       "    <tr>\n",
       "      <th>575</th>\n",
       "      <td>2023-01-02 23:55:00</td>\n",
       "      <td>38.43</td>\n",
       "      <td>1</td>\n",
       "      <td>1.423723</td>\n",
       "    </tr>\n",
       "  </tbody>\n",
       "</table>\n",
       "<p>576 rows × 4 columns</p>\n",
       "</div>"
      ],
      "text/plain": [
       "               timestamp  temperature temperature_status  temperature_standar\n",
       "0    2023-01-01 00:00:00        28.10                  0             0.365068\n",
       "1    2023-01-01 00:05:00        22.53                  1             1.329595\n",
       "2    2023-01-01 00:10:00        34.63                  0             0.765697\n",
       "3    2023-01-01 00:15:00        25.32                  0             0.846466\n",
       "4    2023-01-01 00:20:00        28.75                  0             0.252511\n",
       "..                   ...          ...                ...                  ...\n",
       "571  2023-01-02 23:35:00        33.79                  0             0.620239\n",
       "572  2023-01-02 23:40:00        33.82                  0             0.625434\n",
       "573  2023-01-02 23:45:00        38.10                  1             1.366579\n",
       "574  2023-01-02 23:50:00        36.80                  1             1.141465\n",
       "575  2023-01-02 23:55:00        38.43                  1             1.423723\n",
       "\n",
       "[576 rows x 4 columns]"
      ]
     },
     "execution_count": 21,
     "metadata": {},
     "output_type": "execute_result"
    }
   ],
   "source": [
    "train"
   ]
  },
  {
   "cell_type": "markdown",
   "metadata": {},
   "source": [
    "##### Preparing the data in sequences (number of samples, window size, number of features)"
   ]
  },
  {
   "cell_type": "code",
   "execution_count": 22,
   "metadata": {},
   "outputs": [],
   "source": [
    "def sequence(data, timesteps, num_features):\n",
    "    num_samples = len(data) - timesteps + 1  \n",
    "    df = np.zeros((num_samples, timesteps, num_features))\n",
    "    for i in range(num_samples):\n",
    "        df[i] = data[i:i+timesteps, :] \n",
    "\n",
    "    return df"
   ]
  },
  {
   "cell_type": "code",
   "execution_count": 23,
   "metadata": {},
   "outputs": [],
   "source": [
    "def prepare_y(train, timesteps):\n",
    "    num_samples = len(train) - timesteps + 1\n",
    "    y_train = np.zeros((num_samples, 1))\n",
    "    for i in range(num_samples):\n",
    "        y_train[i] = train[\"temperature_status\"].values[i + timesteps - 1]\n",
    "\n",
    "    return y_train"
   ]
  },
  {
   "cell_type": "code",
   "execution_count": 24,
   "metadata": {},
   "outputs": [
    {
     "data": {
      "text/plain": [
       "(297, 1, 1)"
      ]
     },
     "execution_count": 24,
     "metadata": {},
     "output_type": "execute_result"
    }
   ],
   "source": [
    "data_n= train.loc[train[\"temperature_status\"]==0]\n",
    "data_d = data_n.drop(['temperature',\"temperature_status\",\"timestamp\"], axis=1).values\n",
    "x_train = sequence(data_d, 1, 1)\n",
    "x_train.shape"
   ]
  },
  {
   "cell_type": "code",
   "execution_count": 25,
   "metadata": {},
   "outputs": [
    {
     "data": {
      "text/plain": [
       "(147, 1, 1)"
      ]
     },
     "execution_count": 25,
     "metadata": {},
     "output_type": "execute_result"
    }
   ],
   "source": [
    "data_n= valdation.loc[valdation[\"temperature_status\"]==0]\n",
    "data_d = data_n.drop(['temperature',\"temperature_status\",\"timestamp\"], axis=1).values\n",
    "x_valdation = sequence(data_d, 1, 1)\n",
    "x_valdation.shape"
   ]
  },
  {
   "cell_type": "code",
   "execution_count": 26,
   "metadata": {},
   "outputs": [
    {
     "data": {
      "text/plain": [
       "(136, 1, 1)"
      ]
     },
     "execution_count": 26,
     "metadata": {},
     "output_type": "execute_result"
    }
   ],
   "source": [
    "data_t = test.drop(['temperature',\"temperature_status\",\"timestamp\"], axis=1).values\n",
    "x_test = sequence(data_t, 1, 1)\n",
    "x_test.shape"
   ]
  },
  {
   "cell_type": "markdown",
   "metadata": {},
   "source": [
    "#### Autoencoder LSTM model"
   ]
  },
  {
   "cell_type": "code",
   "execution_count": 27,
   "metadata": {},
   "outputs": [
    {
     "data": {
      "text/html": [
       "<pre style=\"white-space:pre;overflow-x:auto;line-height:normal;font-family:Menlo,'DejaVu Sans Mono',consolas,'Courier New',monospace\"><span style=\"font-weight: bold\">Model: \"sequential\"</span>\n",
       "</pre>\n"
      ],
      "text/plain": [
       "\u001b[1mModel: \"sequential\"\u001b[0m\n"
      ]
     },
     "metadata": {},
     "output_type": "display_data"
    },
    {
     "data": {
      "text/html": [
       "<pre style=\"white-space:pre;overflow-x:auto;line-height:normal;font-family:Menlo,'DejaVu Sans Mono',consolas,'Courier New',monospace\">┏━━━━━━━━━━━━━━━━━━━━━━━━━━━━━━━━━┳━━━━━━━━━━━━━━━━━━━━━━━━┳━━━━━━━━━━━━━━━┓\n",
       "┃<span style=\"font-weight: bold\"> Layer (type)                    </span>┃<span style=\"font-weight: bold\"> Output Shape           </span>┃<span style=\"font-weight: bold\">       Param # </span>┃\n",
       "┡━━━━━━━━━━━━━━━━━━━━━━━━━━━━━━━━━╇━━━━━━━━━━━━━━━━━━━━━━━━╇━━━━━━━━━━━━━━━┩\n",
       "│ lstm (<span style=\"color: #0087ff; text-decoration-color: #0087ff\">LSTM</span>)                     │ (<span style=\"color: #00d7ff; text-decoration-color: #00d7ff\">None</span>, <span style=\"color: #00af00; text-decoration-color: #00af00\">1</span>, <span style=\"color: #00af00; text-decoration-color: #00af00\">16</span>)          │         <span style=\"color: #00af00; text-decoration-color: #00af00\">1,152</span> │\n",
       "├─────────────────────────────────┼────────────────────────┼───────────────┤\n",
       "│ lstm_1 (<span style=\"color: #0087ff; text-decoration-color: #0087ff\">LSTM</span>)                   │ (<span style=\"color: #00d7ff; text-decoration-color: #00d7ff\">None</span>, <span style=\"color: #00af00; text-decoration-color: #00af00\">1</span>, <span style=\"color: #00af00; text-decoration-color: #00af00\">32</span>)          │         <span style=\"color: #00af00; text-decoration-color: #00af00\">6,272</span> │\n",
       "├─────────────────────────────────┼────────────────────────┼───────────────┤\n",
       "│ lstm_2 (<span style=\"color: #0087ff; text-decoration-color: #0087ff\">LSTM</span>)                   │ (<span style=\"color: #00d7ff; text-decoration-color: #00d7ff\">None</span>, <span style=\"color: #00af00; text-decoration-color: #00af00\">1</span>, <span style=\"color: #00af00; text-decoration-color: #00af00\">64</span>)          │        <span style=\"color: #00af00; text-decoration-color: #00af00\">24,832</span> │\n",
       "├─────────────────────────────────┼────────────────────────┼───────────────┤\n",
       "│ lstm_3 (<span style=\"color: #0087ff; text-decoration-color: #0087ff\">LSTM</span>)                   │ (<span style=\"color: #00d7ff; text-decoration-color: #00d7ff\">None</span>, <span style=\"color: #00af00; text-decoration-color: #00af00\">1</span>, <span style=\"color: #00af00; text-decoration-color: #00af00\">128</span>)         │        <span style=\"color: #00af00; text-decoration-color: #00af00\">98,816</span> │\n",
       "├─────────────────────────────────┼────────────────────────┼───────────────┤\n",
       "│ lstm_4 (<span style=\"color: #0087ff; text-decoration-color: #0087ff\">LSTM</span>)                   │ (<span style=\"color: #00d7ff; text-decoration-color: #00d7ff\">None</span>, <span style=\"color: #00af00; text-decoration-color: #00af00\">1</span>, <span style=\"color: #00af00; text-decoration-color: #00af00\">256</span>)         │       <span style=\"color: #00af00; text-decoration-color: #00af00\">394,240</span> │\n",
       "├─────────────────────────────────┼────────────────────────┼───────────────┤\n",
       "│ lstm_5 (<span style=\"color: #0087ff; text-decoration-color: #0087ff\">LSTM</span>)                   │ (<span style=\"color: #00d7ff; text-decoration-color: #00d7ff\">None</span>, <span style=\"color: #00af00; text-decoration-color: #00af00\">512</span>)            │     <span style=\"color: #00af00; text-decoration-color: #00af00\">1,574,912</span> │\n",
       "├─────────────────────────────────┼────────────────────────┼───────────────┤\n",
       "│ repeat_vector (<span style=\"color: #0087ff; text-decoration-color: #0087ff\">RepeatVector</span>)    │ (<span style=\"color: #00d7ff; text-decoration-color: #00d7ff\">None</span>, <span style=\"color: #00af00; text-decoration-color: #00af00\">1</span>, <span style=\"color: #00af00; text-decoration-color: #00af00\">512</span>)         │             <span style=\"color: #00af00; text-decoration-color: #00af00\">0</span> │\n",
       "├─────────────────────────────────┼────────────────────────┼───────────────┤\n",
       "│ lstm_6 (<span style=\"color: #0087ff; text-decoration-color: #0087ff\">LSTM</span>)                   │ (<span style=\"color: #00d7ff; text-decoration-color: #00d7ff\">None</span>, <span style=\"color: #00af00; text-decoration-color: #00af00\">1</span>, <span style=\"color: #00af00; text-decoration-color: #00af00\">512</span>)         │     <span style=\"color: #00af00; text-decoration-color: #00af00\">2,099,200</span> │\n",
       "├─────────────────────────────────┼────────────────────────┼───────────────┤\n",
       "│ lstm_7 (<span style=\"color: #0087ff; text-decoration-color: #0087ff\">LSTM</span>)                   │ (<span style=\"color: #00d7ff; text-decoration-color: #00d7ff\">None</span>, <span style=\"color: #00af00; text-decoration-color: #00af00\">1</span>, <span style=\"color: #00af00; text-decoration-color: #00af00\">256</span>)         │       <span style=\"color: #00af00; text-decoration-color: #00af00\">787,456</span> │\n",
       "├─────────────────────────────────┼────────────────────────┼───────────────┤\n",
       "│ lstm_8 (<span style=\"color: #0087ff; text-decoration-color: #0087ff\">LSTM</span>)                   │ (<span style=\"color: #00d7ff; text-decoration-color: #00d7ff\">None</span>, <span style=\"color: #00af00; text-decoration-color: #00af00\">1</span>, <span style=\"color: #00af00; text-decoration-color: #00af00\">128</span>)         │       <span style=\"color: #00af00; text-decoration-color: #00af00\">197,120</span> │\n",
       "├─────────────────────────────────┼────────────────────────┼───────────────┤\n",
       "│ lstm_9 (<span style=\"color: #0087ff; text-decoration-color: #0087ff\">LSTM</span>)                   │ (<span style=\"color: #00d7ff; text-decoration-color: #00d7ff\">None</span>, <span style=\"color: #00af00; text-decoration-color: #00af00\">1</span>, <span style=\"color: #00af00; text-decoration-color: #00af00\">64</span>)          │        <span style=\"color: #00af00; text-decoration-color: #00af00\">49,408</span> │\n",
       "├─────────────────────────────────┼────────────────────────┼───────────────┤\n",
       "│ lstm_10 (<span style=\"color: #0087ff; text-decoration-color: #0087ff\">LSTM</span>)                  │ (<span style=\"color: #00d7ff; text-decoration-color: #00d7ff\">None</span>, <span style=\"color: #00af00; text-decoration-color: #00af00\">1</span>, <span style=\"color: #00af00; text-decoration-color: #00af00\">32</span>)          │        <span style=\"color: #00af00; text-decoration-color: #00af00\">12,416</span> │\n",
       "├─────────────────────────────────┼────────────────────────┼───────────────┤\n",
       "│ lstm_11 (<span style=\"color: #0087ff; text-decoration-color: #0087ff\">LSTM</span>)                  │ (<span style=\"color: #00d7ff; text-decoration-color: #00d7ff\">None</span>, <span style=\"color: #00af00; text-decoration-color: #00af00\">1</span>, <span style=\"color: #00af00; text-decoration-color: #00af00\">16</span>)          │         <span style=\"color: #00af00; text-decoration-color: #00af00\">3,136</span> │\n",
       "├─────────────────────────────────┼────────────────────────┼───────────────┤\n",
       "│ time_distributed                │ (<span style=\"color: #00d7ff; text-decoration-color: #00d7ff\">None</span>, <span style=\"color: #00af00; text-decoration-color: #00af00\">1</span>, <span style=\"color: #00af00; text-decoration-color: #00af00\">1</span>)           │            <span style=\"color: #00af00; text-decoration-color: #00af00\">17</span> │\n",
       "│ (<span style=\"color: #0087ff; text-decoration-color: #0087ff\">TimeDistributed</span>)               │                        │               │\n",
       "└─────────────────────────────────┴────────────────────────┴───────────────┘\n",
       "</pre>\n"
      ],
      "text/plain": [
       "┏━━━━━━━━━━━━━━━━━━━━━━━━━━━━━━━━━┳━━━━━━━━━━━━━━━━━━━━━━━━┳━━━━━━━━━━━━━━━┓\n",
       "┃\u001b[1m \u001b[0m\u001b[1mLayer (type)                   \u001b[0m\u001b[1m \u001b[0m┃\u001b[1m \u001b[0m\u001b[1mOutput Shape          \u001b[0m\u001b[1m \u001b[0m┃\u001b[1m \u001b[0m\u001b[1m      Param #\u001b[0m\u001b[1m \u001b[0m┃\n",
       "┡━━━━━━━━━━━━━━━━━━━━━━━━━━━━━━━━━╇━━━━━━━━━━━━━━━━━━━━━━━━╇━━━━━━━━━━━━━━━┩\n",
       "│ lstm (\u001b[38;5;33mLSTM\u001b[0m)                     │ (\u001b[38;5;45mNone\u001b[0m, \u001b[38;5;34m1\u001b[0m, \u001b[38;5;34m16\u001b[0m)          │         \u001b[38;5;34m1,152\u001b[0m │\n",
       "├─────────────────────────────────┼────────────────────────┼───────────────┤\n",
       "│ lstm_1 (\u001b[38;5;33mLSTM\u001b[0m)                   │ (\u001b[38;5;45mNone\u001b[0m, \u001b[38;5;34m1\u001b[0m, \u001b[38;5;34m32\u001b[0m)          │         \u001b[38;5;34m6,272\u001b[0m │\n",
       "├─────────────────────────────────┼────────────────────────┼───────────────┤\n",
       "│ lstm_2 (\u001b[38;5;33mLSTM\u001b[0m)                   │ (\u001b[38;5;45mNone\u001b[0m, \u001b[38;5;34m1\u001b[0m, \u001b[38;5;34m64\u001b[0m)          │        \u001b[38;5;34m24,832\u001b[0m │\n",
       "├─────────────────────────────────┼────────────────────────┼───────────────┤\n",
       "│ lstm_3 (\u001b[38;5;33mLSTM\u001b[0m)                   │ (\u001b[38;5;45mNone\u001b[0m, \u001b[38;5;34m1\u001b[0m, \u001b[38;5;34m128\u001b[0m)         │        \u001b[38;5;34m98,816\u001b[0m │\n",
       "├─────────────────────────────────┼────────────────────────┼───────────────┤\n",
       "│ lstm_4 (\u001b[38;5;33mLSTM\u001b[0m)                   │ (\u001b[38;5;45mNone\u001b[0m, \u001b[38;5;34m1\u001b[0m, \u001b[38;5;34m256\u001b[0m)         │       \u001b[38;5;34m394,240\u001b[0m │\n",
       "├─────────────────────────────────┼────────────────────────┼───────────────┤\n",
       "│ lstm_5 (\u001b[38;5;33mLSTM\u001b[0m)                   │ (\u001b[38;5;45mNone\u001b[0m, \u001b[38;5;34m512\u001b[0m)            │     \u001b[38;5;34m1,574,912\u001b[0m │\n",
       "├─────────────────────────────────┼────────────────────────┼───────────────┤\n",
       "│ repeat_vector (\u001b[38;5;33mRepeatVector\u001b[0m)    │ (\u001b[38;5;45mNone\u001b[0m, \u001b[38;5;34m1\u001b[0m, \u001b[38;5;34m512\u001b[0m)         │             \u001b[38;5;34m0\u001b[0m │\n",
       "├─────────────────────────────────┼────────────────────────┼───────────────┤\n",
       "│ lstm_6 (\u001b[38;5;33mLSTM\u001b[0m)                   │ (\u001b[38;5;45mNone\u001b[0m, \u001b[38;5;34m1\u001b[0m, \u001b[38;5;34m512\u001b[0m)         │     \u001b[38;5;34m2,099,200\u001b[0m │\n",
       "├─────────────────────────────────┼────────────────────────┼───────────────┤\n",
       "│ lstm_7 (\u001b[38;5;33mLSTM\u001b[0m)                   │ (\u001b[38;5;45mNone\u001b[0m, \u001b[38;5;34m1\u001b[0m, \u001b[38;5;34m256\u001b[0m)         │       \u001b[38;5;34m787,456\u001b[0m │\n",
       "├─────────────────────────────────┼────────────────────────┼───────────────┤\n",
       "│ lstm_8 (\u001b[38;5;33mLSTM\u001b[0m)                   │ (\u001b[38;5;45mNone\u001b[0m, \u001b[38;5;34m1\u001b[0m, \u001b[38;5;34m128\u001b[0m)         │       \u001b[38;5;34m197,120\u001b[0m │\n",
       "├─────────────────────────────────┼────────────────────────┼───────────────┤\n",
       "│ lstm_9 (\u001b[38;5;33mLSTM\u001b[0m)                   │ (\u001b[38;5;45mNone\u001b[0m, \u001b[38;5;34m1\u001b[0m, \u001b[38;5;34m64\u001b[0m)          │        \u001b[38;5;34m49,408\u001b[0m │\n",
       "├─────────────────────────────────┼────────────────────────┼───────────────┤\n",
       "│ lstm_10 (\u001b[38;5;33mLSTM\u001b[0m)                  │ (\u001b[38;5;45mNone\u001b[0m, \u001b[38;5;34m1\u001b[0m, \u001b[38;5;34m32\u001b[0m)          │        \u001b[38;5;34m12,416\u001b[0m │\n",
       "├─────────────────────────────────┼────────────────────────┼───────────────┤\n",
       "│ lstm_11 (\u001b[38;5;33mLSTM\u001b[0m)                  │ (\u001b[38;5;45mNone\u001b[0m, \u001b[38;5;34m1\u001b[0m, \u001b[38;5;34m16\u001b[0m)          │         \u001b[38;5;34m3,136\u001b[0m │\n",
       "├─────────────────────────────────┼────────────────────────┼───────────────┤\n",
       "│ time_distributed                │ (\u001b[38;5;45mNone\u001b[0m, \u001b[38;5;34m1\u001b[0m, \u001b[38;5;34m1\u001b[0m)           │            \u001b[38;5;34m17\u001b[0m │\n",
       "│ (\u001b[38;5;33mTimeDistributed\u001b[0m)               │                        │               │\n",
       "└─────────────────────────────────┴────────────────────────┴───────────────┘\n"
      ]
     },
     "metadata": {},
     "output_type": "display_data"
    },
    {
     "data": {
      "text/html": [
       "<pre style=\"white-space:pre;overflow-x:auto;line-height:normal;font-family:Menlo,'DejaVu Sans Mono',consolas,'Courier New',monospace\"><span style=\"font-weight: bold\"> Total params: </span><span style=\"color: #00af00; text-decoration-color: #00af00\">5,248,977</span> (20.02 MB)\n",
       "</pre>\n"
      ],
      "text/plain": [
       "\u001b[1m Total params: \u001b[0m\u001b[38;5;34m5,248,977\u001b[0m (20.02 MB)\n"
      ]
     },
     "metadata": {},
     "output_type": "display_data"
    },
    {
     "data": {
      "text/html": [
       "<pre style=\"white-space:pre;overflow-x:auto;line-height:normal;font-family:Menlo,'DejaVu Sans Mono',consolas,'Courier New',monospace\"><span style=\"font-weight: bold\"> Trainable params: </span><span style=\"color: #00af00; text-decoration-color: #00af00\">5,248,977</span> (20.02 MB)\n",
       "</pre>\n"
      ],
      "text/plain": [
       "\u001b[1m Trainable params: \u001b[0m\u001b[38;5;34m5,248,977\u001b[0m (20.02 MB)\n"
      ]
     },
     "metadata": {},
     "output_type": "display_data"
    },
    {
     "data": {
      "text/html": [
       "<pre style=\"white-space:pre;overflow-x:auto;line-height:normal;font-family:Menlo,'DejaVu Sans Mono',consolas,'Courier New',monospace\"><span style=\"font-weight: bold\"> Non-trainable params: </span><span style=\"color: #00af00; text-decoration-color: #00af00\">0</span> (0.00 B)\n",
       "</pre>\n"
      ],
      "text/plain": [
       "\u001b[1m Non-trainable params: \u001b[0m\u001b[38;5;34m0\u001b[0m (0.00 B)\n"
      ]
     },
     "metadata": {},
     "output_type": "display_data"
    }
   ],
   "source": [
    "\n",
    "timesteps = x_train.shape[1]\n",
    "n_features = x_train.shape[2]\n",
    "\n",
    "lstm_autoencoder = Sequential()\n",
    "# Encoder\n",
    "lstm_autoencoder.add(Input(shape=(timesteps, n_features)))\n",
    "lstm_autoencoder.add(LSTM(16, activation=\"relu\", return_sequences=True))\n",
    "lstm_autoencoder.add(LSTM(32, activation=\"relu\", return_sequences=True))\n",
    "lstm_autoencoder.add(LSTM(64, activation=\"relu\", return_sequences=True))\n",
    "lstm_autoencoder.add(LSTM(128, activation=\"relu\", return_sequences=True))\n",
    "lstm_autoencoder.add(LSTM(256, activation=\"relu\", return_sequences=True))\n",
    "lstm_autoencoder.add(LSTM(512, activation=\"relu\", return_sequences=False))\n",
    "\n",
    "# Adding RepeatVector to match the input sequence length for decoding\n",
    "lstm_autoencoder.add(RepeatVector(timesteps))\n",
    "\n",
    "# Decoder\n",
    "lstm_autoencoder.add(LSTM(512, activation=\"relu\", return_sequences=True))\n",
    "lstm_autoencoder.add(LSTM(256, activation=\"relu\", return_sequences=True))\n",
    "lstm_autoencoder.add(LSTM(128, activation=\"relu\", return_sequences=True))\n",
    "lstm_autoencoder.add(LSTM(64, activation=\"relu\", return_sequences=True))\n",
    "lstm_autoencoder.add(LSTM(32, activation=\"relu\", return_sequences=True))\n",
    "lstm_autoencoder.add(LSTM(16, activation=\"relu\", return_sequences=True))\n",
    "lstm_autoencoder.add(TimeDistributed(Dense(n_features)))\n",
    "\n",
    "lstm_autoencoder.summary()"
   ]
  },
  {
   "cell_type": "code",
   "execution_count": 28,
   "metadata": {},
   "outputs": [],
   "source": [
    "# Define the Early Stopping callback\n",
    "early_stopping = EarlyStopping(monitor='val_loss', patience=2,mode=\"min\", verbose=1, restore_best_weights=True)"
   ]
  },
  {
   "cell_type": "code",
   "execution_count": 29,
   "metadata": {},
   "outputs": [
    {
     "name": "stdout",
     "output_type": "stream",
     "text": [
      "Epoch 1/400\n"
     ]
    },
    {
     "name": "stdout",
     "output_type": "stream",
     "text": [
      "10/10 - 7s - 731ms/step - loss: 0.2635 - val_loss: 0.2736\n",
      "Epoch 2/400\n",
      "10/10 - 0s - 16ms/step - loss: 0.2619 - val_loss: 0.2719\n",
      "Epoch 3/400\n",
      "10/10 - 0s - 16ms/step - loss: 0.2602 - val_loss: 0.2702\n",
      "Epoch 4/400\n",
      "10/10 - 0s - 16ms/step - loss: 0.2585 - val_loss: 0.2685\n",
      "Epoch 5/400\n",
      "10/10 - 0s - 16ms/step - loss: 0.2568 - val_loss: 0.2667\n",
      "Epoch 6/400\n",
      "10/10 - 0s - 17ms/step - loss: 0.2550 - val_loss: 0.2648\n",
      "Epoch 7/400\n",
      "10/10 - 0s - 16ms/step - loss: 0.2531 - val_loss: 0.2629\n",
      "Epoch 8/400\n",
      "10/10 - 0s - 16ms/step - loss: 0.2512 - val_loss: 0.2610\n",
      "Epoch 9/400\n",
      "10/10 - 0s - 19ms/step - loss: 0.2493 - val_loss: 0.2590\n",
      "Epoch 10/400\n",
      "10/10 - 0s - 17ms/step - loss: 0.2473 - val_loss: 0.2570\n",
      "Epoch 11/400\n",
      "10/10 - 0s - 17ms/step - loss: 0.2454 - val_loss: 0.2550\n",
      "Epoch 12/400\n",
      "10/10 - 0s - 16ms/step - loss: 0.2434 - val_loss: 0.2530\n",
      "Epoch 13/400\n",
      "10/10 - 0s - 16ms/step - loss: 0.2413 - val_loss: 0.2509\n",
      "Epoch 14/400\n",
      "10/10 - 0s - 18ms/step - loss: 0.2392 - val_loss: 0.2488\n",
      "Epoch 15/400\n",
      "10/10 - 0s - 17ms/step - loss: 0.2370 - val_loss: 0.2465\n",
      "Epoch 16/400\n",
      "10/10 - 0s - 16ms/step - loss: 0.2348 - val_loss: 0.2442\n",
      "Epoch 17/400\n",
      "10/10 - 0s - 17ms/step - loss: 0.2325 - val_loss: 0.2418\n",
      "Epoch 18/400\n",
      "10/10 - 0s - 18ms/step - loss: 0.2300 - val_loss: 0.2392\n",
      "Epoch 19/400\n",
      "10/10 - 0s - 17ms/step - loss: 0.2274 - val_loss: 0.2365\n",
      "Epoch 20/400\n",
      "10/10 - 0s - 16ms/step - loss: 0.2246 - val_loss: 0.2335\n",
      "Epoch 21/400\n",
      "10/10 - 0s - 17ms/step - loss: 0.2216 - val_loss: 0.2303\n",
      "Epoch 22/400\n",
      "10/10 - 0s - 16ms/step - loss: 0.2182 - val_loss: 0.2265\n",
      "Epoch 23/400\n",
      "10/10 - 0s - 17ms/step - loss: 0.2142 - val_loss: 0.2222\n",
      "Epoch 24/400\n",
      "10/10 - 0s - 16ms/step - loss: 0.2097 - val_loss: 0.2168\n",
      "Epoch 25/400\n",
      "10/10 - 0s - 16ms/step - loss: 0.2037 - val_loss: 0.2099\n",
      "Epoch 26/400\n",
      "10/10 - 0s - 16ms/step - loss: 0.1958 - val_loss: 0.2001\n",
      "Epoch 27/400\n",
      "10/10 - 0s - 16ms/step - loss: 0.1841 - val_loss: 0.1847\n",
      "Epoch 28/400\n",
      "10/10 - 0s - 16ms/step - loss: 0.1651 - val_loss: 0.1583\n",
      "Epoch 29/400\n",
      "10/10 - 0s - 17ms/step - loss: 0.1315 - val_loss: 0.1090\n",
      "Epoch 30/400\n",
      "10/10 - 0s - 16ms/step - loss: 0.0768 - val_loss: 0.0713\n",
      "Epoch 31/400\n",
      "10/10 - 0s - 16ms/step - loss: 0.0655 - val_loss: 0.0664\n",
      "Epoch 32/400\n",
      "10/10 - 0s - 16ms/step - loss: 0.0606 - val_loss: 0.0679\n",
      "Epoch 33/400\n",
      "10/10 - 0s - 16ms/step - loss: 0.0596 - val_loss: 0.0661\n",
      "Epoch 34/400\n",
      "10/10 - 0s - 16ms/step - loss: 0.0588 - val_loss: 0.0660\n",
      "Epoch 35/400\n",
      "10/10 - 0s - 16ms/step - loss: 0.0595 - val_loss: 0.0670\n",
      "Epoch 36/400\n",
      "10/10 - 0s - 15ms/step - loss: 0.0587 - val_loss: 0.0660\n",
      "Epoch 36: early stopping\n",
      "Restoring model weights from the end of the best epoch: 34.\n"
     ]
    }
   ],
   "source": [
    "epochs = 400\n",
    "batch = 32\n",
    "lr = 0.0001\n",
    "adam = optimizers.Adam(lr)\n",
    "lstm_autoencoder.compile(loss='mse', optimizer=adam)\n",
    "\n",
    "cp = ModelCheckpoint(filepath=\"lstm_autoencoder_classifier.keras\",\n",
    "                               save_best_only=True,\n",
    "                               verbose=0)\n",
    "\n",
    "tb = TensorBoard(log_dir='./logs',\n",
    "                histogram_freq=0,\n",
    "                write_graph=True,\n",
    "                write_images=True)\n",
    "\n",
    "lstm_autoencoder_history = lstm_autoencoder.fit(x_train,x_train, \n",
    "                                                epochs=epochs, \n",
    "                                                batch_size=batch,\n",
    "                                                validation_data=(x_valdation, x_valdation),\n",
    "                                                callbacks=early_stopping,\n",
    "                                                verbose=2).history\n"
   ]
  },
  {
   "cell_type": "code",
   "execution_count": 30,
   "metadata": {},
   "outputs": [
    {
     "data": {
      "image/png": "[encoded data removed]",
      "text/plain": [
       "<Figure size 640x480 with 1 Axes>"
      ]
     },
     "metadata": {},
     "output_type": "display_data"
    }
   ],
   "source": [
    "plt.plot(lstm_autoencoder_history['loss'], linewidth=2, label='Train')\n",
    "plt.plot(lstm_autoencoder_history['val_loss'], linewidth=2, label='Valid')\n",
    "plt.legend(loc='upper right')\n",
    "plt.show()"
   ]
  },
  {
   "cell_type": "code",
   "execution_count": 31,
   "metadata": {},
   "outputs": [
    {
     "name": "stdout",
     "output_type": "stream",
     "text": [
      "\u001b[1m10/10\u001b[0m \u001b[32m━━━━━━━━━━━━━━━━━━━━\u001b[0m\u001b[37m\u001b[0m \u001b[1m1s\u001b[0m 74ms/step\n",
      "Reconstruction error threshold: 0.4504168570050672\n"
     ]
    },
    {
     "data": {
      "image/png": "[encoded data removed]",
      "text/plain": [
       "<Figure size 640x480 with 1 Axes>"
      ]
     },
     "metadata": {},
     "output_type": "display_data"
    }
   ],
   "source": [
    "# Mean Absolute Error loss\n",
    "x_train_pred = lstm_autoencoder.predict(x_train)\n",
    "train_mae_loss = np.mean(np.abs(x_train_pred - x_train), axis=1)\n",
    "\n",
    "plt.hist(train_mae_loss, bins=50)\n",
    "plt.xlabel('Train MAE loss')\n",
    "plt.ylabel('Number of Samples')\n",
    "\n",
    "# Set reconstruction error threshold\n",
    "threshold = np.max(train_mae_loss)\n",
    "\n",
    "print('Reconstruction error threshold:',threshold)"
   ]
  },
  {
   "cell_type": "code",
   "execution_count": 32,
   "metadata": {},
   "outputs": [
    {
     "name": "stdout",
     "output_type": "stream",
     "text": [
      "\u001b[1m5/5\u001b[0m \u001b[32m━━━━━━━━━━━━━━━━━━━━\u001b[0m\u001b[37m\u001b[0m \u001b[1m0s\u001b[0m 2ms/step \n"
     ]
    },
    {
     "data": {
      "text/plain": [
       "Text(0, 0.5, 'Number of samples')"
      ]
     },
     "execution_count": 32,
     "metadata": {},
     "output_type": "execute_result"
    },
    {
     "data": {
      "image/png": "[encoded data removed]",
      "text/plain": [
       "<Figure size 640x480 with 1 Axes>"
      ]
     },
     "metadata": {},
     "output_type": "display_data"
    }
   ],
   "source": [
    "X_test_pred = lstm_autoencoder.predict(x_test, verbose=1)\n",
    "test_mae_loss = np.mean(np.abs(X_test_pred-x_test), axis=1)\n",
    "\n",
    "plt.hist(test_mae_loss, bins=50)\n",
    "plt.xlabel('Test MAE loss')\n",
    "plt.ylabel('Number of samples')"
   ]
  },
  {
   "cell_type": "code",
   "execution_count": 33,
   "metadata": {},
   "outputs": [
    {
     "data": {
      "text/html": [
       "<div>\n",
       "<style scoped>\n",
       "    .dataframe tbody tr th:only-of-type {\n",
       "        vertical-align: middle;\n",
       "    }\n",
       "\n",
       "    .dataframe tbody tr th {\n",
       "        vertical-align: top;\n",
       "    }\n",
       "\n",
       "    .dataframe thead th {\n",
       "        text-align: right;\n",
       "    }\n",
       "</style>\n",
       "<table border=\"1\" class=\"dataframe\">\n",
       "  <thead>\n",
       "    <tr style=\"text-align: right;\">\n",
       "      <th></th>\n",
       "      <th>timestamp</th>\n",
       "      <th>temperature</th>\n",
       "      <th>temperature_status</th>\n",
       "      <th>temperature_standar</th>\n",
       "      <th>loss</th>\n",
       "      <th>threshold</th>\n",
       "      <th>anomaly</th>\n",
       "    </tr>\n",
       "  </thead>\n",
       "  <tbody>\n",
       "    <tr>\n",
       "      <th>864</th>\n",
       "      <td>2023-01-04 00:00:00</td>\n",
       "      <td>25.53</td>\n",
       "      <td>0</td>\n",
       "      <td>0.778164</td>\n",
       "      <td>0.327261</td>\n",
       "      <td>0.450417</td>\n",
       "      <td>False</td>\n",
       "    </tr>\n",
       "    <tr>\n",
       "      <th>865</th>\n",
       "      <td>2023-01-04 00:05:00</td>\n",
       "      <td>35.28</td>\n",
       "      <td>1</td>\n",
       "      <td>0.879792</td>\n",
       "      <td>0.428865</td>\n",
       "      <td>0.450417</td>\n",
       "      <td>False</td>\n",
       "    </tr>\n",
       "    <tr>\n",
       "      <th>866</th>\n",
       "      <td>2023-01-04 00:10:00</td>\n",
       "      <td>39.47</td>\n",
       "      <td>1</td>\n",
       "      <td>1.592288</td>\n",
       "      <td>1.141182</td>\n",
       "      <td>0.450417</td>\n",
       "      <td>True</td>\n",
       "    </tr>\n",
       "    <tr>\n",
       "      <th>867</th>\n",
       "      <td>2023-01-04 00:15:00</td>\n",
       "      <td>20.80</td>\n",
       "      <td>1</td>\n",
       "      <td>1.582485</td>\n",
       "      <td>1.131381</td>\n",
       "      <td>0.450417</td>\n",
       "      <td>True</td>\n",
       "    </tr>\n",
       "    <tr>\n",
       "      <th>868</th>\n",
       "      <td>2023-01-04 00:20:00</td>\n",
       "      <td>34.56</td>\n",
       "      <td>0</td>\n",
       "      <td>0.757358</td>\n",
       "      <td>0.306460</td>\n",
       "      <td>0.450417</td>\n",
       "      <td>False</td>\n",
       "    </tr>\n",
       "    <tr>\n",
       "      <th>...</th>\n",
       "      <td>...</td>\n",
       "      <td>...</td>\n",
       "      <td>...</td>\n",
       "      <td>...</td>\n",
       "      <td>...</td>\n",
       "      <td>...</td>\n",
       "      <td>...</td>\n",
       "    </tr>\n",
       "    <tr>\n",
       "      <th>995</th>\n",
       "      <td>2023-01-04 10:55:00</td>\n",
       "      <td>39.72</td>\n",
       "      <td>1</td>\n",
       "      <td>1.634800</td>\n",
       "      <td>1.183682</td>\n",
       "      <td>0.450417</td>\n",
       "      <td>True</td>\n",
       "    </tr>\n",
       "    <tr>\n",
       "      <th>996</th>\n",
       "      <td>2023-01-04 11:00:00</td>\n",
       "      <td>38.78</td>\n",
       "      <td>1</td>\n",
       "      <td>1.474956</td>\n",
       "      <td>1.023880</td>\n",
       "      <td>0.450417</td>\n",
       "      <td>True</td>\n",
       "    </tr>\n",
       "    <tr>\n",
       "      <th>997</th>\n",
       "      <td>2023-01-04 11:05:00</td>\n",
       "      <td>35.97</td>\n",
       "      <td>1</td>\n",
       "      <td>0.997124</td>\n",
       "      <td>0.546169</td>\n",
       "      <td>0.450417</td>\n",
       "      <td>True</td>\n",
       "    </tr>\n",
       "    <tr>\n",
       "      <th>998</th>\n",
       "      <td>2023-01-04 11:10:00</td>\n",
       "      <td>24.67</td>\n",
       "      <td>1</td>\n",
       "      <td>0.924404</td>\n",
       "      <td>0.473466</td>\n",
       "      <td>0.450417</td>\n",
       "      <td>True</td>\n",
       "    </tr>\n",
       "    <tr>\n",
       "      <th>999</th>\n",
       "      <td>2023-01-04 11:15:00</td>\n",
       "      <td>34.21</td>\n",
       "      <td>0</td>\n",
       "      <td>0.697842</td>\n",
       "      <td>0.246959</td>\n",
       "      <td>0.450417</td>\n",
       "      <td>False</td>\n",
       "    </tr>\n",
       "  </tbody>\n",
       "</table>\n",
       "<p>136 rows × 7 columns</p>\n",
       "</div>"
      ],
      "text/plain": [
       "               timestamp  temperature temperature_status  temperature_standar  \\\n",
       "864  2023-01-04 00:00:00        25.53                  0             0.778164   \n",
       "865  2023-01-04 00:05:00        35.28                  1             0.879792   \n",
       "866  2023-01-04 00:10:00        39.47                  1             1.592288   \n",
       "867  2023-01-04 00:15:00        20.80                  1             1.582485   \n",
       "868  2023-01-04 00:20:00        34.56                  0             0.757358   \n",
       "..                   ...          ...                ...                  ...   \n",
       "995  2023-01-04 10:55:00        39.72                  1             1.634800   \n",
       "996  2023-01-04 11:00:00        38.78                  1             1.474956   \n",
       "997  2023-01-04 11:05:00        35.97                  1             0.997124   \n",
       "998  2023-01-04 11:10:00        24.67                  1             0.924404   \n",
       "999  2023-01-04 11:15:00        34.21                  0             0.697842   \n",
       "\n",
       "         loss  threshold  anomaly  \n",
       "864  0.327261   0.450417    False  \n",
       "865  0.428865   0.450417    False  \n",
       "866  1.141182   0.450417     True  \n",
       "867  1.131381   0.450417     True  \n",
       "868  0.306460   0.450417    False  \n",
       "..        ...        ...      ...  \n",
       "995  1.183682   0.450417     True  \n",
       "996  1.023880   0.450417     True  \n",
       "997  0.546169   0.450417     True  \n",
       "998  0.473466   0.450417     True  \n",
       "999  0.246959   0.450417    False  \n",
       "\n",
       "[136 rows x 7 columns]"
      ]
     },
     "execution_count": 33,
     "metadata": {},
     "output_type": "execute_result"
    }
   ],
   "source": [
    "anomaly_df = test.copy()\n",
    "anomaly_df.loc[:, 'loss'] = test_mae_loss\n",
    "anomaly_df.loc[:, 'threshold'] = threshold\n",
    "anomaly_df.loc[:, 'anomaly'] = anomaly_df['loss'] > anomaly_df['threshold']\n",
    "anomaly_df"
   ]
  },
  {
   "cell_type": "code",
   "execution_count": 34,
   "metadata": {},
   "outputs": [
    {
     "name": "stderr",
     "output_type": "stream",
     "text": [
      "C:\\Users\\adnan\\AppData\\Local\\Temp\\ipykernel_14400\\1612888637.py:1: FutureWarning: Setting an item of incompatible dtype is deprecated and will raise an error in a future version of pandas. Value '0' has dtype incompatible with bool, please explicitly cast to a compatible dtype first.\n",
      "  anomaly_df.loc[anomaly_df['anomaly']==False]=0\n"
     ]
    },
    {
     "data": {
      "text/html": [
       "<div>\n",
       "<style scoped>\n",
       "    .dataframe tbody tr th:only-of-type {\n",
       "        vertical-align: middle;\n",
       "    }\n",
       "\n",
       "    .dataframe tbody tr th {\n",
       "        vertical-align: top;\n",
       "    }\n",
       "\n",
       "    .dataframe thead th {\n",
       "        text-align: right;\n",
       "    }\n",
       "</style>\n",
       "<table border=\"1\" class=\"dataframe\">\n",
       "  <thead>\n",
       "    <tr style=\"text-align: right;\">\n",
       "      <th></th>\n",
       "      <th>timestamp</th>\n",
       "      <th>temperature</th>\n",
       "      <th>temperature_status</th>\n",
       "      <th>temperature_standar</th>\n",
       "      <th>loss</th>\n",
       "      <th>threshold</th>\n",
       "      <th>anomaly</th>\n",
       "    </tr>\n",
       "  </thead>\n",
       "  <tbody>\n",
       "    <tr>\n",
       "      <th>864</th>\n",
       "      <td>0</td>\n",
       "      <td>0.0</td>\n",
       "      <td>0</td>\n",
       "      <td>0.0</td>\n",
       "      <td>0.0</td>\n",
       "      <td>0.0</td>\n",
       "      <td>0</td>\n",
       "    </tr>\n",
       "    <tr>\n",
       "      <th>865</th>\n",
       "      <td>0</td>\n",
       "      <td>0.0</td>\n",
       "      <td>0</td>\n",
       "      <td>0.0</td>\n",
       "      <td>0.0</td>\n",
       "      <td>0.0</td>\n",
       "      <td>0</td>\n",
       "    </tr>\n",
       "    <tr>\n",
       "      <th>866</th>\n",
       "      <td>1</td>\n",
       "      <td>1.0</td>\n",
       "      <td>1</td>\n",
       "      <td>1.0</td>\n",
       "      <td>1.0</td>\n",
       "      <td>1.0</td>\n",
       "      <td>1</td>\n",
       "    </tr>\n",
       "    <tr>\n",
       "      <th>867</th>\n",
       "      <td>1</td>\n",
       "      <td>1.0</td>\n",
       "      <td>1</td>\n",
       "      <td>1.0</td>\n",
       "      <td>1.0</td>\n",
       "      <td>1.0</td>\n",
       "      <td>1</td>\n",
       "    </tr>\n",
       "    <tr>\n",
       "      <th>868</th>\n",
       "      <td>0</td>\n",
       "      <td>0.0</td>\n",
       "      <td>0</td>\n",
       "      <td>0.0</td>\n",
       "      <td>0.0</td>\n",
       "      <td>0.0</td>\n",
       "      <td>0</td>\n",
       "    </tr>\n",
       "    <tr>\n",
       "      <th>...</th>\n",
       "      <td>...</td>\n",
       "      <td>...</td>\n",
       "      <td>...</td>\n",
       "      <td>...</td>\n",
       "      <td>...</td>\n",
       "      <td>...</td>\n",
       "      <td>...</td>\n",
       "    </tr>\n",
       "    <tr>\n",
       "      <th>995</th>\n",
       "      <td>1</td>\n",
       "      <td>1.0</td>\n",
       "      <td>1</td>\n",
       "      <td>1.0</td>\n",
       "      <td>1.0</td>\n",
       "      <td>1.0</td>\n",
       "      <td>1</td>\n",
       "    </tr>\n",
       "    <tr>\n",
       "      <th>996</th>\n",
       "      <td>1</td>\n",
       "      <td>1.0</td>\n",
       "      <td>1</td>\n",
       "      <td>1.0</td>\n",
       "      <td>1.0</td>\n",
       "      <td>1.0</td>\n",
       "      <td>1</td>\n",
       "    </tr>\n",
       "    <tr>\n",
       "      <th>997</th>\n",
       "      <td>1</td>\n",
       "      <td>1.0</td>\n",
       "      <td>1</td>\n",
       "      <td>1.0</td>\n",
       "      <td>1.0</td>\n",
       "      <td>1.0</td>\n",
       "      <td>1</td>\n",
       "    </tr>\n",
       "    <tr>\n",
       "      <th>998</th>\n",
       "      <td>1</td>\n",
       "      <td>1.0</td>\n",
       "      <td>1</td>\n",
       "      <td>1.0</td>\n",
       "      <td>1.0</td>\n",
       "      <td>1.0</td>\n",
       "      <td>1</td>\n",
       "    </tr>\n",
       "    <tr>\n",
       "      <th>999</th>\n",
       "      <td>0</td>\n",
       "      <td>0.0</td>\n",
       "      <td>0</td>\n",
       "      <td>0.0</td>\n",
       "      <td>0.0</td>\n",
       "      <td>0.0</td>\n",
       "      <td>0</td>\n",
       "    </tr>\n",
       "  </tbody>\n",
       "</table>\n",
       "<p>136 rows × 7 columns</p>\n",
       "</div>"
      ],
      "text/plain": [
       "    timestamp  temperature temperature_status  temperature_standar  loss  \\\n",
       "864         0          0.0                  0                  0.0   0.0   \n",
       "865         0          0.0                  0                  0.0   0.0   \n",
       "866         1          1.0                  1                  1.0   1.0   \n",
       "867         1          1.0                  1                  1.0   1.0   \n",
       "868         0          0.0                  0                  0.0   0.0   \n",
       "..        ...          ...                ...                  ...   ...   \n",
       "995         1          1.0                  1                  1.0   1.0   \n",
       "996         1          1.0                  1                  1.0   1.0   \n",
       "997         1          1.0                  1                  1.0   1.0   \n",
       "998         1          1.0                  1                  1.0   1.0   \n",
       "999         0          0.0                  0                  0.0   0.0   \n",
       "\n",
       "     threshold anomaly  \n",
       "864        0.0       0  \n",
       "865        0.0       0  \n",
       "866        1.0       1  \n",
       "867        1.0       1  \n",
       "868        0.0       0  \n",
       "..         ...     ...  \n",
       "995        1.0       1  \n",
       "996        1.0       1  \n",
       "997        1.0       1  \n",
       "998        1.0       1  \n",
       "999        0.0       0  \n",
       "\n",
       "[136 rows x 7 columns]"
      ]
     },
     "execution_count": 34,
     "metadata": {},
     "output_type": "execute_result"
    }
   ],
   "source": [
    "anomaly_df.loc[anomaly_df['anomaly']==False]=0\n",
    "anomaly_df.loc[anomaly_df['anomaly']==True]=1\n",
    "anomaly_df"
   ]
  },
  {
   "cell_type": "code",
   "execution_count": 35,
   "metadata": {},
   "outputs": [],
   "source": [
    "anomaly_df_temp_status=anomaly_df[\"temperature_status\"].astype(int)\n",
    "anomaly_df_predicted=anomaly_df[\"anomaly\"].astype(int)"
   ]
  },
  {
   "cell_type": "code",
   "execution_count": 36,
   "metadata": {},
   "outputs": [
    {
     "name": "stdout",
     "output_type": "stream",
     "text": [
      "              precision    recall  f1-score   support\n",
      "\n",
      "           0       1.00      1.00      1.00        70\n",
      "           1       1.00      1.00      1.00        66\n",
      "\n",
      "    accuracy                           1.00       136\n",
      "   macro avg       1.00      1.00      1.00       136\n",
      "weighted avg       1.00      1.00      1.00       136\n",
      "\n",
      "[[70  0]\n",
      " [ 0 66]]\n"
     ]
    }
   ],
   "source": [
    "report=classification_report(anomaly_df_temp_status, anomaly_df_predicted)\n",
    "print(report)\n",
    "conf=confusion_matrix(anomaly_df_temp_status, anomaly_df_predicted)\n",
    "print(conf)"
   ]
  },
  {
   "cell_type": "markdown",
   "metadata": {},
   "source": [
    "# __________________________________________________________________________________________"
   ]
  },
  {
   "cell_type": "code",
   "execution_count": 37,
   "metadata": {},
   "outputs": [
    {
     "data": {
      "text/plain": [
       "(576, 1, 1)"
      ]
     },
     "execution_count": 37,
     "metadata": {},
     "output_type": "execute_result"
    }
   ],
   "source": [
    "data_d = train.drop(['temperature',\"temperature_status\",\"timestamp\"], axis=1).values\n",
    "x_train_both = sequence(data_d, 1, 1)\n",
    "x_train_both.shape"
   ]
  },
  {
   "cell_type": "code",
   "execution_count": 38,
   "metadata": {},
   "outputs": [
    {
     "data": {
      "text/plain": [
       "(288, 1, 1)"
      ]
     },
     "execution_count": 38,
     "metadata": {},
     "output_type": "execute_result"
    }
   ],
   "source": [
    "data_d = valdation.drop(['temperature',\"temperature_status\",\"timestamp\"], axis=1).values\n",
    "x_valdation_both = sequence(data_d, 1, 1)\n",
    "x_valdation_both.shape"
   ]
  },
  {
   "cell_type": "code",
   "execution_count": 39,
   "metadata": {},
   "outputs": [
    {
     "data": {
      "text/plain": [
       "(136, 1, 1)"
      ]
     },
     "execution_count": 39,
     "metadata": {},
     "output_type": "execute_result"
    }
   ],
   "source": [
    "data_t = test.drop(['temperature',\"temperature_status\",\"timestamp\"], axis=1).values\n",
    "x_test_both = sequence(data_t, 1, 1)\n",
    "x_test_both.shape"
   ]
  },
  {
   "cell_type": "code",
   "execution_count": 40,
   "metadata": {},
   "outputs": [
    {
     "data": {
      "text/html": [
       "<pre style=\"white-space:pre;overflow-x:auto;line-height:normal;font-family:Menlo,'DejaVu Sans Mono',consolas,'Courier New',monospace\"><span style=\"font-weight: bold\">Model: \"sequential_1\"</span>\n",
       "</pre>\n"
      ],
      "text/plain": [
       "\u001b[1mModel: \"sequential_1\"\u001b[0m\n"
      ]
     },
     "metadata": {},
     "output_type": "display_data"
    },
    {
     "data": {
      "text/html": [
       "<pre style=\"white-space:pre;overflow-x:auto;line-height:normal;font-family:Menlo,'DejaVu Sans Mono',consolas,'Courier New',monospace\">┏━━━━━━━━━━━━━━━━━━━━━━━━━━━━━━━━━┳━━━━━━━━━━━━━━━━━━━━━━━━┳━━━━━━━━━━━━━━━┓\n",
       "┃<span style=\"font-weight: bold\"> Layer (type)                    </span>┃<span style=\"font-weight: bold\"> Output Shape           </span>┃<span style=\"font-weight: bold\">       Param # </span>┃\n",
       "┡━━━━━━━━━━━━━━━━━━━━━━━━━━━━━━━━━╇━━━━━━━━━━━━━━━━━━━━━━━━╇━━━━━━━━━━━━━━━┩\n",
       "│ lstm_12 (<span style=\"color: #0087ff; text-decoration-color: #0087ff\">LSTM</span>)                  │ (<span style=\"color: #00d7ff; text-decoration-color: #00d7ff\">None</span>, <span style=\"color: #00af00; text-decoration-color: #00af00\">512</span>)            │     <span style=\"color: #00af00; text-decoration-color: #00af00\">1,052,672</span> │\n",
       "├─────────────────────────────────┼────────────────────────┼───────────────┤\n",
       "│ repeat_vector_1 (<span style=\"color: #0087ff; text-decoration-color: #0087ff\">RepeatVector</span>)  │ (<span style=\"color: #00d7ff; text-decoration-color: #00d7ff\">None</span>, <span style=\"color: #00af00; text-decoration-color: #00af00\">1</span>, <span style=\"color: #00af00; text-decoration-color: #00af00\">512</span>)         │             <span style=\"color: #00af00; text-decoration-color: #00af00\">0</span> │\n",
       "├─────────────────────────────────┼────────────────────────┼───────────────┤\n",
       "│ lstm_13 (<span style=\"color: #0087ff; text-decoration-color: #0087ff\">LSTM</span>)                  │ (<span style=\"color: #00d7ff; text-decoration-color: #00d7ff\">None</span>, <span style=\"color: #00af00; text-decoration-color: #00af00\">1</span>, <span style=\"color: #00af00; text-decoration-color: #00af00\">512</span>)         │     <span style=\"color: #00af00; text-decoration-color: #00af00\">2,099,200</span> │\n",
       "├─────────────────────────────────┼────────────────────────┼───────────────┤\n",
       "│ time_distributed_1              │ (<span style=\"color: #00d7ff; text-decoration-color: #00d7ff\">None</span>, <span style=\"color: #00af00; text-decoration-color: #00af00\">1</span>, <span style=\"color: #00af00; text-decoration-color: #00af00\">1</span>)           │           <span style=\"color: #00af00; text-decoration-color: #00af00\">513</span> │\n",
       "│ (<span style=\"color: #0087ff; text-decoration-color: #0087ff\">TimeDistributed</span>)               │                        │               │\n",
       "└─────────────────────────────────┴────────────────────────┴───────────────┘\n",
       "</pre>\n"
      ],
      "text/plain": [
       "┏━━━━━━━━━━━━━━━━━━━━━━━━━━━━━━━━━┳━━━━━━━━━━━━━━━━━━━━━━━━┳━━━━━━━━━━━━━━━┓\n",
       "┃\u001b[1m \u001b[0m\u001b[1mLayer (type)                   \u001b[0m\u001b[1m \u001b[0m┃\u001b[1m \u001b[0m\u001b[1mOutput Shape          \u001b[0m\u001b[1m \u001b[0m┃\u001b[1m \u001b[0m\u001b[1m      Param #\u001b[0m\u001b[1m \u001b[0m┃\n",
       "┡━━━━━━━━━━━━━━━━━━━━━━━━━━━━━━━━━╇━━━━━━━━━━━━━━━━━━━━━━━━╇━━━━━━━━━━━━━━━┩\n",
       "│ lstm_12 (\u001b[38;5;33mLSTM\u001b[0m)                  │ (\u001b[38;5;45mNone\u001b[0m, \u001b[38;5;34m512\u001b[0m)            │     \u001b[38;5;34m1,052,672\u001b[0m │\n",
       "├─────────────────────────────────┼────────────────────────┼───────────────┤\n",
       "│ repeat_vector_1 (\u001b[38;5;33mRepeatVector\u001b[0m)  │ (\u001b[38;5;45mNone\u001b[0m, \u001b[38;5;34m1\u001b[0m, \u001b[38;5;34m512\u001b[0m)         │             \u001b[38;5;34m0\u001b[0m │\n",
       "├─────────────────────────────────┼────────────────────────┼───────────────┤\n",
       "│ lstm_13 (\u001b[38;5;33mLSTM\u001b[0m)                  │ (\u001b[38;5;45mNone\u001b[0m, \u001b[38;5;34m1\u001b[0m, \u001b[38;5;34m512\u001b[0m)         │     \u001b[38;5;34m2,099,200\u001b[0m │\n",
       "├─────────────────────────────────┼────────────────────────┼───────────────┤\n",
       "│ time_distributed_1              │ (\u001b[38;5;45mNone\u001b[0m, \u001b[38;5;34m1\u001b[0m, \u001b[38;5;34m1\u001b[0m)           │           \u001b[38;5;34m513\u001b[0m │\n",
       "│ (\u001b[38;5;33mTimeDistributed\u001b[0m)               │                        │               │\n",
       "└─────────────────────────────────┴────────────────────────┴───────────────┘\n"
      ]
     },
     "metadata": {},
     "output_type": "display_data"
    },
    {
     "data": {
      "text/html": [
       "<pre style=\"white-space:pre;overflow-x:auto;line-height:normal;font-family:Menlo,'DejaVu Sans Mono',consolas,'Courier New',monospace\"><span style=\"font-weight: bold\"> Total params: </span><span style=\"color: #00af00; text-decoration-color: #00af00\">3,152,385</span> (12.03 MB)\n",
       "</pre>\n"
      ],
      "text/plain": [
       "\u001b[1m Total params: \u001b[0m\u001b[38;5;34m3,152,385\u001b[0m (12.03 MB)\n"
      ]
     },
     "metadata": {},
     "output_type": "display_data"
    },
    {
     "data": {
      "text/html": [
       "<pre style=\"white-space:pre;overflow-x:auto;line-height:normal;font-family:Menlo,'DejaVu Sans Mono',consolas,'Courier New',monospace\"><span style=\"font-weight: bold\"> Trainable params: </span><span style=\"color: #00af00; text-decoration-color: #00af00\">3,152,385</span> (12.03 MB)\n",
       "</pre>\n"
      ],
      "text/plain": [
       "\u001b[1m Trainable params: \u001b[0m\u001b[38;5;34m3,152,385\u001b[0m (12.03 MB)\n"
      ]
     },
     "metadata": {},
     "output_type": "display_data"
    },
    {
     "data": {
      "text/html": [
       "<pre style=\"white-space:pre;overflow-x:auto;line-height:normal;font-family:Menlo,'DejaVu Sans Mono',consolas,'Courier New',monospace\"><span style=\"font-weight: bold\"> Non-trainable params: </span><span style=\"color: #00af00; text-decoration-color: #00af00\">0</span> (0.00 B)\n",
       "</pre>\n"
      ],
      "text/plain": [
       "\u001b[1m Non-trainable params: \u001b[0m\u001b[38;5;34m0\u001b[0m (0.00 B)\n"
      ]
     },
     "metadata": {},
     "output_type": "display_data"
    }
   ],
   "source": [
    "timesteps = x_train_both.shape[1]\n",
    "n_features = x_train_both.shape[2]\n",
    "\n",
    "lstm_autoencoder_both = Sequential()\n",
    "# Encoder\n",
    "lstm_autoencoder_both.add(Input(shape=(timesteps, n_features)))\n",
    "\n",
    "lstm_autoencoder_both.add(LSTM(512, activation=\"sigmoid\", return_sequences=False))\n",
    "\n",
    "# Adding RepeatVector to match the input sequence length for decoding\n",
    "lstm_autoencoder_both.add(RepeatVector(timesteps))\n",
    "\n",
    "# Decoder\n",
    "lstm_autoencoder_both.add(LSTM(512, activation=\"sigmoid\", return_sequences=True))\n",
    "\n",
    "lstm_autoencoder_both.add(TimeDistributed(Dense(n_features)))\n",
    "\n",
    "lstm_autoencoder_both.summary()"
   ]
  },
  {
   "cell_type": "code",
   "execution_count": 41,
   "metadata": {},
   "outputs": [],
   "source": [
    "# Define the Early Stopping callback\n",
    "early_stopping = EarlyStopping(monitor='val_loss', patience=2,mode=\"min\", verbose=1, restore_best_weights=True)"
   ]
  },
  {
   "cell_type": "code",
   "execution_count": 42,
   "metadata": {},
   "outputs": [
    {
     "name": "stdout",
     "output_type": "stream",
     "text": [
      "Epoch 1/400\n",
      "18/18 - 1s - 72ms/step - loss: 0.9261 - val_loss: 0.2491\n",
      "Epoch 2/400\n",
      "18/18 - 0s - 9ms/step - loss: 0.2726 - val_loss: 0.2731\n",
      "Epoch 3/400\n",
      "18/18 - 0s - 8ms/step - loss: 0.2591 - val_loss: 0.2415\n",
      "Epoch 4/400\n",
      "18/18 - 0s - 9ms/step - loss: 0.2431 - val_loss: 0.2384\n",
      "Epoch 5/400\n",
      "18/18 - 0s - 9ms/step - loss: 0.2416 - val_loss: 0.2378\n",
      "Epoch 6/400\n",
      "18/18 - 0s - 9ms/step - loss: 0.2409 - val_loss: 0.2374\n",
      "Epoch 7/400\n",
      "18/18 - 0s - 9ms/step - loss: 0.2409 - val_loss: 0.2367\n",
      "Epoch 8/400\n",
      "18/18 - 0s - 8ms/step - loss: 0.2397 - val_loss: 0.2361\n",
      "Epoch 9/400\n",
      "18/18 - 0s - 8ms/step - loss: 0.2412 - val_loss: 0.2365\n",
      "Epoch 10/400\n",
      "18/18 - 0s - 8ms/step - loss: 0.2391 - val_loss: 0.2348\n",
      "Epoch 11/400\n",
      "18/18 - 0s - 8ms/step - loss: 0.2381 - val_loss: 0.2347\n",
      "Epoch 12/400\n",
      "18/18 - 0s - 8ms/step - loss: 0.2372 - val_loss: 0.2340\n",
      "Epoch 13/400\n",
      "18/18 - 0s - 9ms/step - loss: 0.2366 - val_loss: 0.2328\n",
      "Epoch 14/400\n",
      "18/18 - 0s - 8ms/step - loss: 0.2360 - val_loss: 0.2322\n",
      "Epoch 15/400\n",
      "18/18 - 0s - 8ms/step - loss: 0.2355 - val_loss: 0.2323\n",
      "Epoch 16/400\n",
      "18/18 - 0s - 9ms/step - loss: 0.2348 - val_loss: 0.2306\n",
      "Epoch 17/400\n",
      "18/18 - 0s - 9ms/step - loss: 0.2344 - val_loss: 0.2317\n",
      "Epoch 18/400\n",
      "18/18 - 0s - 9ms/step - loss: 0.2338 - val_loss: 0.2301\n",
      "Epoch 19/400\n",
      "18/18 - 0s - 9ms/step - loss: 0.2323 - val_loss: 0.2282\n",
      "Epoch 20/400\n",
      "18/18 - 0s - 9ms/step - loss: 0.2330 - val_loss: 0.2292\n",
      "Epoch 21/400\n",
      "18/18 - 0s - 9ms/step - loss: 0.2331 - val_loss: 0.2266\n",
      "Epoch 22/400\n",
      "18/18 - 0s - 8ms/step - loss: 0.2325 - val_loss: 0.2288\n",
      "Epoch 23/400\n",
      "18/18 - 0s - 8ms/step - loss: 0.2317 - val_loss: 0.2249\n",
      "Epoch 24/400\n",
      "18/18 - 0s - 8ms/step - loss: 0.2308 - val_loss: 0.2253\n",
      "Epoch 25/400\n",
      "18/18 - 0s - 8ms/step - loss: 0.2273 - val_loss: 0.2228\n",
      "Epoch 26/400\n",
      "18/18 - 0s - 9ms/step - loss: 0.2257 - val_loss: 0.2222\n",
      "Epoch 27/400\n",
      "18/18 - 0s - 8ms/step - loss: 0.2259 - val_loss: 0.2236\n",
      "Epoch 28/400\n",
      "18/18 - 0s - 9ms/step - loss: 0.2248 - val_loss: 0.2196\n",
      "Epoch 29/400\n",
      "18/18 - 0s - 8ms/step - loss: 0.2229 - val_loss: 0.2184\n",
      "Epoch 30/400\n",
      "18/18 - 0s - 9ms/step - loss: 0.2220 - val_loss: 0.2190\n",
      "Epoch 31/400\n",
      "18/18 - 0s - 9ms/step - loss: 0.2244 - val_loss: 0.2171\n",
      "Epoch 32/400\n",
      "18/18 - 0s - 9ms/step - loss: 0.2212 - val_loss: 0.2163\n",
      "Epoch 33/400\n",
      "18/18 - 0s - 9ms/step - loss: 0.2189 - val_loss: 0.2146\n",
      "Epoch 34/400\n",
      "18/18 - 0s - 8ms/step - loss: 0.2168 - val_loss: 0.2118\n",
      "Epoch 35/400\n",
      "18/18 - 0s - 8ms/step - loss: 0.2149 - val_loss: 0.2116\n",
      "Epoch 36/400\n",
      "18/18 - 0s - 8ms/step - loss: 0.2161 - val_loss: 0.2129\n",
      "Epoch 37/400\n",
      "18/18 - 0s - 8ms/step - loss: 0.2113 - val_loss: 0.2080\n",
      "Epoch 38/400\n",
      "18/18 - 0s - 8ms/step - loss: 0.2112 - val_loss: 0.2059\n",
      "Epoch 39/400\n",
      "18/18 - 0s - 8ms/step - loss: 0.2082 - val_loss: 0.2036\n",
      "Epoch 40/400\n",
      "18/18 - 0s - 8ms/step - loss: 0.2069 - val_loss: 0.2027\n",
      "Epoch 41/400\n",
      "18/18 - 0s - 9ms/step - loss: 0.2035 - val_loss: 0.1996\n",
      "Epoch 42/400\n",
      "18/18 - 0s - 8ms/step - loss: 0.2037 - val_loss: 0.1982\n",
      "Epoch 43/400\n",
      "18/18 - 0s - 8ms/step - loss: 0.2023 - val_loss: 0.2016\n",
      "Epoch 44/400\n",
      "18/18 - 0s - 8ms/step - loss: 0.2023 - val_loss: 0.1938\n",
      "Epoch 45/400\n",
      "18/18 - 0s - 8ms/step - loss: 0.1978 - val_loss: 0.1952\n",
      "Epoch 46/400\n",
      "18/18 - 0s - 9ms/step - loss: 0.1948 - val_loss: 0.1880\n",
      "Epoch 47/400\n",
      "18/18 - 0s - 9ms/step - loss: 0.1909 - val_loss: 0.1858\n",
      "Epoch 48/400\n",
      "18/18 - 0s - 9ms/step - loss: 0.1870 - val_loss: 0.1825\n",
      "Epoch 49/400\n",
      "18/18 - 0s - 9ms/step - loss: 0.1848 - val_loss: 0.1802\n",
      "Epoch 50/400\n",
      "18/18 - 0s - 9ms/step - loss: 0.1845 - val_loss: 0.1770\n",
      "Epoch 51/400\n",
      "18/18 - 0s - 8ms/step - loss: 0.1784 - val_loss: 0.1741\n",
      "Epoch 52/400\n",
      "18/18 - 0s - 9ms/step - loss: 0.1769 - val_loss: 0.1703\n",
      "Epoch 53/400\n",
      "18/18 - 0s - 8ms/step - loss: 0.1775 - val_loss: 0.1821\n",
      "Epoch 54/400\n",
      "18/18 - 0s - 9ms/step - loss: 0.1715 - val_loss: 0.1665\n",
      "Epoch 55/400\n",
      "18/18 - 0s - 9ms/step - loss: 0.1669 - val_loss: 0.1663\n",
      "Epoch 56/400\n",
      "18/18 - 0s - 9ms/step - loss: 0.1654 - val_loss: 0.1597\n",
      "Epoch 57/400\n",
      "18/18 - 0s - 9ms/step - loss: 0.1619 - val_loss: 0.1539\n",
      "Epoch 58/400\n",
      "18/18 - 0s - 8ms/step - loss: 0.1538 - val_loss: 0.1503\n",
      "Epoch 59/400\n",
      "18/18 - 0s - 8ms/step - loss: 0.1502 - val_loss: 0.1448\n",
      "Epoch 60/400\n",
      "18/18 - 0s - 8ms/step - loss: 0.1452 - val_loss: 0.1416\n",
      "Epoch 61/400\n",
      "18/18 - 0s - 8ms/step - loss: 0.1416 - val_loss: 0.1366\n",
      "Epoch 62/400\n",
      "18/18 - 0s - 8ms/step - loss: 0.1387 - val_loss: 0.1338\n",
      "Epoch 63/400\n",
      "18/18 - 0s - 10ms/step - loss: 0.1340 - val_loss: 0.1279\n",
      "Epoch 64/400\n",
      "18/18 - 0s - 8ms/step - loss: 0.1288 - val_loss: 0.1250\n",
      "Epoch 65/400\n",
      "18/18 - 0s - 8ms/step - loss: 0.1262 - val_loss: 0.1200\n",
      "Epoch 66/400\n",
      "18/18 - 0s - 8ms/step - loss: 0.1207 - val_loss: 0.1167\n",
      "Epoch 67/400\n",
      "18/18 - 0s - 8ms/step - loss: 0.1136 - val_loss: 0.1101\n",
      "Epoch 68/400\n",
      "18/18 - 0s - 8ms/step - loss: 0.1097 - val_loss: 0.1056\n",
      "Epoch 69/400\n",
      "18/18 - 0s - 8ms/step - loss: 0.1043 - val_loss: 0.1002\n",
      "Epoch 70/400\n",
      "18/18 - 0s - 8ms/step - loss: 0.0995 - val_loss: 0.0976\n",
      "Epoch 71/400\n",
      "18/18 - 0s - 8ms/step - loss: 0.0950 - val_loss: 0.0909\n",
      "Epoch 72/400\n",
      "18/18 - 0s - 8ms/step - loss: 0.0912 - val_loss: 0.0912\n",
      "Epoch 73/400\n",
      "18/18 - 0s - 8ms/step - loss: 0.0872 - val_loss: 0.0815\n",
      "Epoch 74/400\n",
      "18/18 - 0s - 8ms/step - loss: 0.0806 - val_loss: 0.0767\n",
      "Epoch 75/400\n",
      "18/18 - 0s - 8ms/step - loss: 0.0762 - val_loss: 0.0723\n",
      "Epoch 76/400\n",
      "18/18 - 0s - 8ms/step - loss: 0.0722 - val_loss: 0.0723\n",
      "Epoch 77/400\n",
      "18/18 - 0s - 8ms/step - loss: 0.0670 - val_loss: 0.0633\n",
      "Epoch 78/400\n",
      "18/18 - 0s - 8ms/step - loss: 0.0631 - val_loss: 0.0595\n",
      "Epoch 79/400\n",
      "18/18 - 0s - 8ms/step - loss: 0.0585 - val_loss: 0.0549\n",
      "Epoch 80/400\n",
      "18/18 - 0s - 8ms/step - loss: 0.0559 - val_loss: 0.0532\n",
      "Epoch 81/400\n",
      "18/18 - 0s - 8ms/step - loss: 0.0511 - val_loss: 0.0494\n",
      "Epoch 82/400\n",
      "18/18 - 0s - 8ms/step - loss: 0.0464 - val_loss: 0.0435\n",
      "Epoch 83/400\n",
      "18/18 - 0s - 8ms/step - loss: 0.0428 - val_loss: 0.0393\n",
      "Epoch 84/400\n",
      "18/18 - 0s - 8ms/step - loss: 0.0388 - val_loss: 0.0358\n",
      "Epoch 85/400\n",
      "18/18 - 0s - 8ms/step - loss: 0.0352 - val_loss: 0.0326\n",
      "Epoch 86/400\n",
      "18/18 - 0s - 8ms/step - loss: 0.0321 - val_loss: 0.0294\n",
      "Epoch 87/400\n",
      "18/18 - 0s - 8ms/step - loss: 0.0286 - val_loss: 0.0271\n",
      "Epoch 88/400\n",
      "18/18 - 0s - 8ms/step - loss: 0.0260 - val_loss: 0.0239\n",
      "Epoch 89/400\n",
      "18/18 - 0s - 8ms/step - loss: 0.0240 - val_loss: 0.0213\n",
      "Epoch 90/400\n",
      "18/18 - 0s - 8ms/step - loss: 0.0209 - val_loss: 0.0189\n",
      "Epoch 91/400\n",
      "18/18 - 0s - 8ms/step - loss: 0.0184 - val_loss: 0.0168\n",
      "Epoch 92/400\n",
      "18/18 - 0s - 8ms/step - loss: 0.0161 - val_loss: 0.0148\n",
      "Epoch 93/400\n",
      "18/18 - 0s - 8ms/step - loss: 0.0143 - val_loss: 0.0131\n",
      "Epoch 94/400\n",
      "18/18 - 0s - 8ms/step - loss: 0.0125 - val_loss: 0.0118\n",
      "Epoch 95/400\n",
      "18/18 - 0s - 8ms/step - loss: 0.0109 - val_loss: 0.0100\n",
      "Epoch 96/400\n",
      "18/18 - 0s - 8ms/step - loss: 0.0095 - val_loss: 0.0087\n",
      "Epoch 97/400\n",
      "18/18 - 0s - 8ms/step - loss: 0.0083 - val_loss: 0.0074\n",
      "Epoch 98/400\n",
      "18/18 - 0s - 9ms/step - loss: 0.0071 - val_loss: 0.0066\n",
      "Epoch 99/400\n",
      "18/18 - 0s - 8ms/step - loss: 0.0062 - val_loss: 0.0055\n",
      "Epoch 100/400\n",
      "18/18 - 0s - 8ms/step - loss: 0.0052 - val_loss: 0.0047\n",
      "Epoch 101/400\n",
      "18/18 - 0s - 8ms/step - loss: 0.0045 - val_loss: 0.0040\n",
      "Epoch 102/400\n",
      "18/18 - 0s - 9ms/step - loss: 0.0038 - val_loss: 0.0034\n",
      "Epoch 103/400\n",
      "18/18 - 0s - 9ms/step - loss: 0.0033 - val_loss: 0.0030\n",
      "Epoch 104/400\n",
      "18/18 - 0s - 9ms/step - loss: 0.0028 - val_loss: 0.0024\n",
      "Epoch 105/400\n",
      "18/18 - 0s - 9ms/step - loss: 0.0022 - val_loss: 0.0020\n",
      "Epoch 106/400\n",
      "18/18 - 0s - 9ms/step - loss: 0.0019 - val_loss: 0.0017\n",
      "Epoch 107/400\n",
      "18/18 - 0s - 8ms/step - loss: 0.0016 - val_loss: 0.0014\n",
      "Epoch 108/400\n",
      "18/18 - 0s - 8ms/step - loss: 0.0013 - val_loss: 0.0012\n",
      "Epoch 109/400\n",
      "18/18 - 0s - 8ms/step - loss: 0.0010 - val_loss: 0.0010\n",
      "Epoch 110/400\n",
      "18/18 - 0s - 8ms/step - loss: 9.0065e-04 - val_loss: 7.7200e-04\n",
      "Epoch 111/400\n",
      "18/18 - 0s - 8ms/step - loss: 7.2742e-04 - val_loss: 6.2809e-04\n",
      "Epoch 112/400\n",
      "18/18 - 0s - 8ms/step - loss: 5.8789e-04 - val_loss: 5.2164e-04\n",
      "Epoch 113/400\n",
      "18/18 - 0s - 8ms/step - loss: 4.8631e-04 - val_loss: 4.1929e-04\n",
      "Epoch 114/400\n",
      "18/18 - 0s - 8ms/step - loss: 3.9783e-04 - val_loss: 3.4294e-04\n",
      "Epoch 115/400\n",
      "18/18 - 0s - 8ms/step - loss: 3.1862e-04 - val_loss: 2.7949e-04\n",
      "Epoch 116/400\n",
      "18/18 - 0s - 8ms/step - loss: 2.5899e-04 - val_loss: 2.3750e-04\n",
      "Epoch 117/400\n",
      "18/18 - 0s - 8ms/step - loss: 2.1417e-04 - val_loss: 1.8564e-04\n",
      "Epoch 118/400\n",
      "18/18 - 0s - 8ms/step - loss: 1.7232e-04 - val_loss: 1.4962e-04\n",
      "Epoch 119/400\n",
      "18/18 - 0s - 9ms/step - loss: 1.4180e-04 - val_loss: 1.2320e-04\n",
      "Epoch 120/400\n",
      "18/18 - 0s - 10ms/step - loss: 1.1637e-04 - val_loss: 1.0197e-04\n",
      "Epoch 121/400\n",
      "18/18 - 0s - 8ms/step - loss: 9.5378e-05 - val_loss: 8.4434e-05\n",
      "Epoch 122/400\n",
      "18/18 - 0s - 8ms/step - loss: 7.9015e-05 - val_loss: 7.1100e-05\n",
      "Epoch 123/400\n",
      "18/18 - 0s - 8ms/step - loss: 6.5432e-05 - val_loss: 5.9531e-05\n",
      "Epoch 124/400\n",
      "18/18 - 0s - 8ms/step - loss: 5.4273e-05 - val_loss: 4.9300e-05\n",
      "Epoch 125/400\n",
      "18/18 - 0s - 8ms/step - loss: 4.6677e-05 - val_loss: 4.2919e-05\n",
      "Epoch 126/400\n",
      "18/18 - 0s - 9ms/step - loss: 4.0306e-05 - val_loss: 3.7095e-05\n",
      "Epoch 127/400\n",
      "18/18 - 0s - 9ms/step - loss: 3.4005e-05 - val_loss: 3.2678e-05\n",
      "Epoch 128/400\n",
      "18/18 - 0s - 8ms/step - loss: 3.0943e-05 - val_loss: 3.0165e-05\n",
      "Epoch 129/400\n",
      "18/18 - 0s - 9ms/step - loss: 2.7273e-05 - val_loss: 2.7074e-05\n",
      "Epoch 130/400\n",
      "18/18 - 0s - 8ms/step - loss: 2.4802e-05 - val_loss: 2.5079e-05\n",
      "Epoch 131/400\n",
      "18/18 - 0s - 9ms/step - loss: 2.3033e-05 - val_loss: 2.3600e-05\n",
      "Epoch 132/400\n",
      "18/18 - 0s - 8ms/step - loss: 2.1510e-05 - val_loss: 2.2563e-05\n",
      "Epoch 133/400\n",
      "18/18 - 0s - 8ms/step - loss: 2.0914e-05 - val_loss: 2.1891e-05\n",
      "Epoch 134/400\n",
      "18/18 - 0s - 8ms/step - loss: 2.2090e-05 - val_loss: 2.3640e-05\n",
      "Epoch 135/400\n",
      "18/18 - 0s - 8ms/step - loss: 2.1649e-05 - val_loss: 2.2787e-05\n",
      "Epoch 135: early stopping\n",
      "Restoring model weights from the end of the best epoch: 133.\n"
     ]
    }
   ],
   "source": [
    "epochs = 400\n",
    "batch = 32\n",
    "lr = 0.0001\n",
    "adam = optimizers.Adam(lr)\n",
    "lstm_autoencoder_both.compile(loss='mse', optimizer=adam)\n",
    "\n",
    "cp = ModelCheckpoint(filepath=\"lstm_autoencoder_classifier.keras\",\n",
    "                               save_best_only=True,\n",
    "                               verbose=0)\n",
    "\n",
    "tb = TensorBoard(log_dir='./logs',\n",
    "                histogram_freq=0,\n",
    "                write_graph=True,\n",
    "                write_images=True)\n",
    "\n",
    "lstm_autoencoder_history_both = lstm_autoencoder_both.fit(x_train_both,x_train_both, \n",
    "                                                epochs=epochs, \n",
    "                                                batch_size=batch,\n",
    "                                                validation_data=(x_valdation_both, x_valdation_both),\n",
    "                                                callbacks=early_stopping,\n",
    "                                                verbose=2).history\n"
   ]
  },
  {
   "cell_type": "code",
   "execution_count": 43,
   "metadata": {},
   "outputs": [
    {
     "data": {
      "image/png": "[encoded data removed]",
      "text/plain": [
       "<Figure size 640x480 with 1 Axes>"
      ]
     },
     "metadata": {},
     "output_type": "display_data"
    }
   ],
   "source": [
    "plt.plot(lstm_autoencoder_history_both['loss'], linewidth=2, label='Train')\n",
    "plt.plot(lstm_autoencoder_history_both['val_loss'], linewidth=2, label='Valid')\n",
    "plt.legend(loc='upper right')\n",
    "plt.show()"
   ]
  },
  {
   "cell_type": "code",
   "execution_count": 44,
   "metadata": {},
   "outputs": [
    {
     "name": "stdout",
     "output_type": "stream",
     "text": [
      "\u001b[1m18/18\u001b[0m \u001b[32m━━━━━━━━━━━━━━━━━━━━\u001b[0m\u001b[37m\u001b[0m \u001b[1m0s\u001b[0m 1ms/step  \n"
     ]
    },
    {
     "data": {
      "text/plain": [
       "Text(0, 0.5, 'Number of Samples')"
      ]
     },
     "execution_count": 44,
     "metadata": {},
     "output_type": "execute_result"
    },
    {
     "data": {
      "image/png": "[encoded data removed]",
      "text/plain": [
       "<Figure size 640x480 with 1 Axes>"
      ]
     },
     "metadata": {},
     "output_type": "display_data"
    }
   ],
   "source": [
    "# Mean Absolute Error loss\n",
    "x_train_pred = lstm_autoencoder_both.predict(x_train_both)\n",
    "train_mae_loss = np.mean(np.abs(x_train_pred - x_train_both), axis=1)\n",
    "\n",
    "plt.hist(train_mae_loss, bins=50)\n",
    "plt.xlabel('Train MAE loss')\n",
    "plt.ylabel('Number of Samples')"
   ]
  },
  {
   "cell_type": "code",
   "execution_count": 72,
   "metadata": {},
   "outputs": [],
   "source": [
    "threshold = 0.005"
   ]
  },
  {
   "cell_type": "code",
   "execution_count": 73,
   "metadata": {},
   "outputs": [
    {
     "name": "stdout",
     "output_type": "stream",
     "text": [
      "\u001b[1m1/5\u001b[0m \u001b[32m━━━━\u001b[0m\u001b[37m━━━━━━━━━━━━━━━━\u001b[0m \u001b[1m0s\u001b[0m 12ms/step"
     ]
    },
    {
     "name": "stdout",
     "output_type": "stream",
     "text": [
      "\u001b[1m5/5\u001b[0m \u001b[32m━━━━━━━━━━━━━━━━━━━━\u001b[0m\u001b[37m\u001b[0m \u001b[1m0s\u001b[0m 1ms/step \n"
     ]
    },
    {
     "data": {
      "text/plain": [
       "Text(0, 0.5, 'Number of samples')"
      ]
     },
     "execution_count": 73,
     "metadata": {},
     "output_type": "execute_result"
    },
    {
     "data": {
      "image/png": "[encoded data removed]",
      "text/plain": [
       "<Figure size 640x480 with 1 Axes>"
      ]
     },
     "metadata": {},
     "output_type": "display_data"
    }
   ],
   "source": [
    "X_test_pred = lstm_autoencoder_both.predict(x_test_both, verbose=1)\n",
    "test_mae_loss = np.mean(np.abs(X_test_pred-x_test_both), axis=1)\n",
    "\n",
    "plt.hist(test_mae_loss, bins=50)\n",
    "plt.xlabel('Test MAE loss')\n",
    "plt.ylabel('Number of samples')"
   ]
  },
  {
   "cell_type": "code",
   "execution_count": 74,
   "metadata": {},
   "outputs": [
    {
     "data": {
      "text/html": [
       "<div>\n",
       "<style scoped>\n",
       "    .dataframe tbody tr th:only-of-type {\n",
       "        vertical-align: middle;\n",
       "    }\n",
       "\n",
       "    .dataframe tbody tr th {\n",
       "        vertical-align: top;\n",
       "    }\n",
       "\n",
       "    .dataframe thead th {\n",
       "        text-align: right;\n",
       "    }\n",
       "</style>\n",
       "<table border=\"1\" class=\"dataframe\">\n",
       "  <thead>\n",
       "    <tr style=\"text-align: right;\">\n",
       "      <th></th>\n",
       "      <th>timestamp</th>\n",
       "      <th>temperature</th>\n",
       "      <th>temperature_status</th>\n",
       "      <th>temperature_standar</th>\n",
       "      <th>loss</th>\n",
       "      <th>threshold</th>\n",
       "      <th>anomaly</th>\n",
       "    </tr>\n",
       "  </thead>\n",
       "  <tbody>\n",
       "    <tr>\n",
       "      <th>864</th>\n",
       "      <td>2023-01-04 00:00:00</td>\n",
       "      <td>25.53</td>\n",
       "      <td>0</td>\n",
       "      <td>0.778164</td>\n",
       "      <td>0.005029</td>\n",
       "      <td>0.005</td>\n",
       "      <td>True</td>\n",
       "    </tr>\n",
       "    <tr>\n",
       "      <th>865</th>\n",
       "      <td>2023-01-04 00:05:00</td>\n",
       "      <td>35.28</td>\n",
       "      <td>1</td>\n",
       "      <td>0.879792</td>\n",
       "      <td>0.005133</td>\n",
       "      <td>0.005</td>\n",
       "      <td>True</td>\n",
       "    </tr>\n",
       "    <tr>\n",
       "      <th>866</th>\n",
       "      <td>2023-01-04 00:10:00</td>\n",
       "      <td>39.47</td>\n",
       "      <td>1</td>\n",
       "      <td>1.592288</td>\n",
       "      <td>0.007474</td>\n",
       "      <td>0.005</td>\n",
       "      <td>True</td>\n",
       "    </tr>\n",
       "    <tr>\n",
       "      <th>867</th>\n",
       "      <td>2023-01-04 00:15:00</td>\n",
       "      <td>20.80</td>\n",
       "      <td>1</td>\n",
       "      <td>1.582485</td>\n",
       "      <td>0.007109</td>\n",
       "      <td>0.005</td>\n",
       "      <td>True</td>\n",
       "    </tr>\n",
       "    <tr>\n",
       "      <th>868</th>\n",
       "      <td>2023-01-04 00:20:00</td>\n",
       "      <td>34.56</td>\n",
       "      <td>0</td>\n",
       "      <td>0.757358</td>\n",
       "      <td>0.004963</td>\n",
       "      <td>0.005</td>\n",
       "      <td>False</td>\n",
       "    </tr>\n",
       "    <tr>\n",
       "      <th>...</th>\n",
       "      <td>...</td>\n",
       "      <td>...</td>\n",
       "      <td>...</td>\n",
       "      <td>...</td>\n",
       "      <td>...</td>\n",
       "      <td>...</td>\n",
       "      <td>...</td>\n",
       "    </tr>\n",
       "    <tr>\n",
       "      <th>995</th>\n",
       "      <td>2023-01-04 10:55:00</td>\n",
       "      <td>39.72</td>\n",
       "      <td>1</td>\n",
       "      <td>1.634800</td>\n",
       "      <td>0.009133</td>\n",
       "      <td>0.005</td>\n",
       "      <td>True</td>\n",
       "    </tr>\n",
       "    <tr>\n",
       "      <th>996</th>\n",
       "      <td>2023-01-04 11:00:00</td>\n",
       "      <td>38.78</td>\n",
       "      <td>1</td>\n",
       "      <td>1.474956</td>\n",
       "      <td>0.003493</td>\n",
       "      <td>0.005</td>\n",
       "      <td>False</td>\n",
       "    </tr>\n",
       "    <tr>\n",
       "      <th>997</th>\n",
       "      <td>2023-01-04 11:05:00</td>\n",
       "      <td>35.97</td>\n",
       "      <td>1</td>\n",
       "      <td>0.997124</td>\n",
       "      <td>0.004759</td>\n",
       "      <td>0.005</td>\n",
       "      <td>False</td>\n",
       "    </tr>\n",
       "    <tr>\n",
       "      <th>998</th>\n",
       "      <td>2023-01-04 11:10:00</td>\n",
       "      <td>24.67</td>\n",
       "      <td>1</td>\n",
       "      <td>0.924404</td>\n",
       "      <td>0.005057</td>\n",
       "      <td>0.005</td>\n",
       "      <td>True</td>\n",
       "    </tr>\n",
       "    <tr>\n",
       "      <th>999</th>\n",
       "      <td>2023-01-04 11:15:00</td>\n",
       "      <td>34.21</td>\n",
       "      <td>0</td>\n",
       "      <td>0.697842</td>\n",
       "      <td>0.004694</td>\n",
       "      <td>0.005</td>\n",
       "      <td>False</td>\n",
       "    </tr>\n",
       "  </tbody>\n",
       "</table>\n",
       "<p>136 rows × 7 columns</p>\n",
       "</div>"
      ],
      "text/plain": [
       "               timestamp  temperature temperature_status  temperature_standar  \\\n",
       "864  2023-01-04 00:00:00        25.53                  0             0.778164   \n",
       "865  2023-01-04 00:05:00        35.28                  1             0.879792   \n",
       "866  2023-01-04 00:10:00        39.47                  1             1.592288   \n",
       "867  2023-01-04 00:15:00        20.80                  1             1.582485   \n",
       "868  2023-01-04 00:20:00        34.56                  0             0.757358   \n",
       "..                   ...          ...                ...                  ...   \n",
       "995  2023-01-04 10:55:00        39.72                  1             1.634800   \n",
       "996  2023-01-04 11:00:00        38.78                  1             1.474956   \n",
       "997  2023-01-04 11:05:00        35.97                  1             0.997124   \n",
       "998  2023-01-04 11:10:00        24.67                  1             0.924404   \n",
       "999  2023-01-04 11:15:00        34.21                  0             0.697842   \n",
       "\n",
       "         loss  threshold  anomaly  \n",
       "864  0.005029      0.005     True  \n",
       "865  0.005133      0.005     True  \n",
       "866  0.007474      0.005     True  \n",
       "867  0.007109      0.005     True  \n",
       "868  0.004963      0.005    False  \n",
       "..        ...        ...      ...  \n",
       "995  0.009133      0.005     True  \n",
       "996  0.003493      0.005    False  \n",
       "997  0.004759      0.005    False  \n",
       "998  0.005057      0.005     True  \n",
       "999  0.004694      0.005    False  \n",
       "\n",
       "[136 rows x 7 columns]"
      ]
     },
     "execution_count": 74,
     "metadata": {},
     "output_type": "execute_result"
    }
   ],
   "source": [
    "anomaly_df_both = test.copy()\n",
    "anomaly_df_both.loc[:, 'loss'] = test_mae_loss\n",
    "anomaly_df_both.loc[:, 'threshold'] = threshold\n",
    "anomaly_df_both.loc[:, 'anomaly'] = anomaly_df_both['loss'] > anomaly_df_both['threshold']\n",
    "anomaly_df_both"
   ]
  },
  {
   "cell_type": "code",
   "execution_count": 75,
   "metadata": {},
   "outputs": [
    {
     "data": {
      "text/plain": [
       "timestamp              24\n",
       "temperature            24\n",
       "temperature_status     24\n",
       "temperature_standar    24\n",
       "loss                   24\n",
       "threshold              24\n",
       "anomaly                24\n",
       "dtype: int64"
      ]
     },
     "execution_count": 75,
     "metadata": {},
     "output_type": "execute_result"
    }
   ],
   "source": [
    "anomaly_df_both.loc[anomaly_df_both['anomaly']==True].count()"
   ]
  },
  {
   "cell_type": "code",
   "execution_count": 76,
   "metadata": {},
   "outputs": [
    {
     "data": {
      "text/plain": [
       "timestamp              112\n",
       "temperature            112\n",
       "temperature_status     112\n",
       "temperature_standar    112\n",
       "loss                   112\n",
       "threshold              112\n",
       "anomaly                112\n",
       "dtype: int64"
      ]
     },
     "execution_count": 76,
     "metadata": {},
     "output_type": "execute_result"
    }
   ],
   "source": [
    "anomaly_df_both.loc[anomaly_df_both['anomaly']==False].count()"
   ]
  },
  {
   "cell_type": "code",
   "execution_count": 77,
   "metadata": {},
   "outputs": [],
   "source": [
    "anomaly_df_temp_status=anomaly_df_both[\"temperature_status\"].astype(int)\n",
    "anomaly_df_predicted=anomaly_df_both[\"anomaly\"].astype(int)"
   ]
  },
  {
   "cell_type": "code",
   "execution_count": 78,
   "metadata": {},
   "outputs": [
    {
     "name": "stdout",
     "output_type": "stream",
     "text": [
      "              precision    recall  f1-score   support\n",
      "\n",
      "           0       0.53      0.92      0.67        64\n",
      "           1       0.79      0.26      0.40        72\n",
      "\n",
      "    accuracy                           0.57       136\n",
      "   macro avg       0.66      0.59      0.53       136\n",
      "weighted avg       0.67      0.57      0.53       136\n",
      "\n",
      "[[59  5]\n",
      " [53 19]]\n"
     ]
    }
   ],
   "source": [
    "report=classification_report(anomaly_df_temp_status, anomaly_df_predicted)\n",
    "print(report)\n",
    "conf=confusion_matrix(anomaly_df_temp_status, anomaly_df_predicted)\n",
    "print(conf)"
   ]
  }
 ],
 "metadata": {
  "kernelspec": {
   "display_name": "Python 3",
   "language": "python",
   "name": "python3"
  },
  "language_info": {
   "codemirror_mode": {
    "name": "ipython",
    "version": 3
   },
   "file_extension": ".py",
   "mimetype": "text/x-python",
   "name": "python",
   "nbconvert_exporter": "python",
   "pygments_lexer": "ipython3",
   "version": "3.10.11"
  }
 },
 "nbformat": 4,
 "nbformat_minor": 2
}
