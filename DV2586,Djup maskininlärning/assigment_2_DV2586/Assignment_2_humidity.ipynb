{
 "cells": [
  {
   "cell_type": "markdown",
   "metadata": {},
   "source": [
    "# Importing Libraries"
   ]
  },
  {
   "cell_type": "code",
   "execution_count": 1,
   "metadata": {},
   "outputs": [],
   "source": [
    "import numpy as np\n",
    "import pandas as pd\n",
    "import matplotlib.pyplot as plt\n",
    "from keras import optimizers, Sequential\n",
    "from keras.callbacks import ModelCheckpoint, TensorBoard\n",
    "from keras.layers import Dense\n",
    "from keras.layers import LSTM,Input\n",
    "from keras.layers import TimeDistributed\n",
    "from keras.layers import RepeatVector\n",
    "from tensorflow.keras.callbacks import EarlyStopping\n",
    "from sklearn.metrics import confusion_matrix\n",
    "from sklearn.metrics import classification_report\n"
   ]
  },
  {
   "cell_type": "code",
   "execution_count": 2,
   "metadata": {},
   "outputs": [],
   "source": [
    "# Read the data\n",
    "data=pd.read_csv(\"generated_data.csv\")"
   ]
  },
  {
   "cell_type": "code",
   "execution_count": 3,
   "metadata": {},
   "outputs": [
    {
     "data": {
      "text/html": [
       "<div>\n",
       "<style scoped>\n",
       "    .dataframe tbody tr th:only-of-type {\n",
       "        vertical-align: middle;\n",
       "    }\n",
       "\n",
       "    .dataframe tbody tr th {\n",
       "        vertical-align: top;\n",
       "    }\n",
       "\n",
       "    .dataframe thead th {\n",
       "        text-align: right;\n",
       "    }\n",
       "</style>\n",
       "<table border=\"1\" class=\"dataframe\">\n",
       "  <thead>\n",
       "    <tr style=\"text-align: right;\">\n",
       "      <th></th>\n",
       "      <th>timestamp</th>\n",
       "      <th>temperature</th>\n",
       "      <th>pressure</th>\n",
       "      <th>humidity</th>\n",
       "      <th>temperature_status</th>\n",
       "      <th>pressure_status</th>\n",
       "      <th>humidity_status</th>\n",
       "    </tr>\n",
       "  </thead>\n",
       "  <tbody>\n",
       "    <tr>\n",
       "      <th>0</th>\n",
       "      <td>2023-01-01 00:00:00</td>\n",
       "      <td>28.10</td>\n",
       "      <td>105.27</td>\n",
       "      <td>32.26</td>\n",
       "      <td>normal</td>\n",
       "      <td>normal</td>\n",
       "      <td>anomalous</td>\n",
       "    </tr>\n",
       "    <tr>\n",
       "      <th>1</th>\n",
       "      <td>2023-01-01 00:05:00</td>\n",
       "      <td>22.53</td>\n",
       "      <td>102.69</td>\n",
       "      <td>71.83</td>\n",
       "      <td>anomalous</td>\n",
       "      <td>normal</td>\n",
       "      <td>anomalous</td>\n",
       "    </tr>\n",
       "    <tr>\n",
       "      <th>2</th>\n",
       "      <td>2023-01-01 00:10:00</td>\n",
       "      <td>34.63</td>\n",
       "      <td>100.23</td>\n",
       "      <td>65.88</td>\n",
       "      <td>normal</td>\n",
       "      <td>normal</td>\n",
       "      <td>normal</td>\n",
       "    </tr>\n",
       "    <tr>\n",
       "      <th>3</th>\n",
       "      <td>2023-01-01 00:15:00</td>\n",
       "      <td>25.32</td>\n",
       "      <td>81.32</td>\n",
       "      <td>74.68</td>\n",
       "      <td>normal</td>\n",
       "      <td>anomalous</td>\n",
       "      <td>anomalous</td>\n",
       "    </tr>\n",
       "    <tr>\n",
       "      <th>4</th>\n",
       "      <td>2023-01-01 00:20:00</td>\n",
       "      <td>28.75</td>\n",
       "      <td>97.69</td>\n",
       "      <td>42.93</td>\n",
       "      <td>normal</td>\n",
       "      <td>normal</td>\n",
       "      <td>normal</td>\n",
       "    </tr>\n",
       "    <tr>\n",
       "      <th>...</th>\n",
       "      <td>...</td>\n",
       "      <td>...</td>\n",
       "      <td>...</td>\n",
       "      <td>...</td>\n",
       "      <td>...</td>\n",
       "      <td>...</td>\n",
       "      <td>...</td>\n",
       "    </tr>\n",
       "    <tr>\n",
       "      <th>995</th>\n",
       "      <td>2023-01-04 10:55:00</td>\n",
       "      <td>39.72</td>\n",
       "      <td>109.03</td>\n",
       "      <td>57.36</td>\n",
       "      <td>anomalous</td>\n",
       "      <td>normal</td>\n",
       "      <td>normal</td>\n",
       "    </tr>\n",
       "    <tr>\n",
       "      <th>996</th>\n",
       "      <td>2023-01-04 11:00:00</td>\n",
       "      <td>38.78</td>\n",
       "      <td>103.67</td>\n",
       "      <td>77.07</td>\n",
       "      <td>anomalous</td>\n",
       "      <td>normal</td>\n",
       "      <td>anomalous</td>\n",
       "    </tr>\n",
       "    <tr>\n",
       "      <th>997</th>\n",
       "      <td>2023-01-04 11:05:00</td>\n",
       "      <td>35.97</td>\n",
       "      <td>111.50</td>\n",
       "      <td>72.28</td>\n",
       "      <td>anomalous</td>\n",
       "      <td>anomalous</td>\n",
       "      <td>anomalous</td>\n",
       "    </tr>\n",
       "    <tr>\n",
       "      <th>998</th>\n",
       "      <td>2023-01-04 11:10:00</td>\n",
       "      <td>24.67</td>\n",
       "      <td>95.94</td>\n",
       "      <td>68.69</td>\n",
       "      <td>anomalous</td>\n",
       "      <td>normal</td>\n",
       "      <td>normal</td>\n",
       "    </tr>\n",
       "    <tr>\n",
       "      <th>999</th>\n",
       "      <td>2023-01-04 11:15:00</td>\n",
       "      <td>34.21</td>\n",
       "      <td>106.53</td>\n",
       "      <td>45.34</td>\n",
       "      <td>normal</td>\n",
       "      <td>normal</td>\n",
       "      <td>normal</td>\n",
       "    </tr>\n",
       "  </tbody>\n",
       "</table>\n",
       "<p>1000 rows × 7 columns</p>\n",
       "</div>"
      ],
      "text/plain": [
       "               timestamp  temperature  pressure  humidity temperature_status  \\\n",
       "0    2023-01-01 00:00:00        28.10    105.27     32.26             normal   \n",
       "1    2023-01-01 00:05:00        22.53    102.69     71.83          anomalous   \n",
       "2    2023-01-01 00:10:00        34.63    100.23     65.88             normal   \n",
       "3    2023-01-01 00:15:00        25.32     81.32     74.68             normal   \n",
       "4    2023-01-01 00:20:00        28.75     97.69     42.93             normal   \n",
       "..                   ...          ...       ...       ...                ...   \n",
       "995  2023-01-04 10:55:00        39.72    109.03     57.36          anomalous   \n",
       "996  2023-01-04 11:00:00        38.78    103.67     77.07          anomalous   \n",
       "997  2023-01-04 11:05:00        35.97    111.50     72.28          anomalous   \n",
       "998  2023-01-04 11:10:00        24.67     95.94     68.69          anomalous   \n",
       "999  2023-01-04 11:15:00        34.21    106.53     45.34             normal   \n",
       "\n",
       "    pressure_status humidity_status  \n",
       "0            normal       anomalous  \n",
       "1            normal       anomalous  \n",
       "2            normal          normal  \n",
       "3         anomalous       anomalous  \n",
       "4            normal          normal  \n",
       "..              ...             ...  \n",
       "995          normal          normal  \n",
       "996          normal       anomalous  \n",
       "997       anomalous       anomalous  \n",
       "998          normal          normal  \n",
       "999          normal          normal  \n",
       "\n",
       "[1000 rows x 7 columns]"
      ]
     },
     "execution_count": 3,
     "metadata": {},
     "output_type": "execute_result"
    }
   ],
   "source": [
    "data"
   ]
  },
  {
   "cell_type": "markdown",
   "metadata": {},
   "source": [
    "# Humidity sensor"
   ]
  },
  {
   "cell_type": "markdown",
   "metadata": {},
   "source": [
    "#### Convert the humidity status from catorigical to numerical"
   ]
  },
  {
   "cell_type": "code",
   "execution_count": 4,
   "metadata": {},
   "outputs": [
    {
     "data": {
      "text/html": [
       "<div>\n",
       "<style scoped>\n",
       "    .dataframe tbody tr th:only-of-type {\n",
       "        vertical-align: middle;\n",
       "    }\n",
       "\n",
       "    .dataframe tbody tr th {\n",
       "        vertical-align: top;\n",
       "    }\n",
       "\n",
       "    .dataframe thead th {\n",
       "        text-align: right;\n",
       "    }\n",
       "</style>\n",
       "<table border=\"1\" class=\"dataframe\">\n",
       "  <thead>\n",
       "    <tr style=\"text-align: right;\">\n",
       "      <th></th>\n",
       "      <th>timestamp</th>\n",
       "      <th>humidity</th>\n",
       "      <th>humidity_status</th>\n",
       "    </tr>\n",
       "  </thead>\n",
       "  <tbody>\n",
       "    <tr>\n",
       "      <th>0</th>\n",
       "      <td>2023-01-01 00:00:00</td>\n",
       "      <td>32.26</td>\n",
       "      <td>anomalous</td>\n",
       "    </tr>\n",
       "    <tr>\n",
       "      <th>1</th>\n",
       "      <td>2023-01-01 00:05:00</td>\n",
       "      <td>71.83</td>\n",
       "      <td>anomalous</td>\n",
       "    </tr>\n",
       "    <tr>\n",
       "      <th>2</th>\n",
       "      <td>2023-01-01 00:10:00</td>\n",
       "      <td>65.88</td>\n",
       "      <td>normal</td>\n",
       "    </tr>\n",
       "    <tr>\n",
       "      <th>3</th>\n",
       "      <td>2023-01-01 00:15:00</td>\n",
       "      <td>74.68</td>\n",
       "      <td>anomalous</td>\n",
       "    </tr>\n",
       "    <tr>\n",
       "      <th>4</th>\n",
       "      <td>2023-01-01 00:20:00</td>\n",
       "      <td>42.93</td>\n",
       "      <td>normal</td>\n",
       "    </tr>\n",
       "    <tr>\n",
       "      <th>...</th>\n",
       "      <td>...</td>\n",
       "      <td>...</td>\n",
       "      <td>...</td>\n",
       "    </tr>\n",
       "    <tr>\n",
       "      <th>995</th>\n",
       "      <td>2023-01-04 10:55:00</td>\n",
       "      <td>57.36</td>\n",
       "      <td>normal</td>\n",
       "    </tr>\n",
       "    <tr>\n",
       "      <th>996</th>\n",
       "      <td>2023-01-04 11:00:00</td>\n",
       "      <td>77.07</td>\n",
       "      <td>anomalous</td>\n",
       "    </tr>\n",
       "    <tr>\n",
       "      <th>997</th>\n",
       "      <td>2023-01-04 11:05:00</td>\n",
       "      <td>72.28</td>\n",
       "      <td>anomalous</td>\n",
       "    </tr>\n",
       "    <tr>\n",
       "      <th>998</th>\n",
       "      <td>2023-01-04 11:10:00</td>\n",
       "      <td>68.69</td>\n",
       "      <td>normal</td>\n",
       "    </tr>\n",
       "    <tr>\n",
       "      <th>999</th>\n",
       "      <td>2023-01-04 11:15:00</td>\n",
       "      <td>45.34</td>\n",
       "      <td>normal</td>\n",
       "    </tr>\n",
       "  </tbody>\n",
       "</table>\n",
       "<p>1000 rows × 3 columns</p>\n",
       "</div>"
      ],
      "text/plain": [
       "               timestamp  humidity humidity_status\n",
       "0    2023-01-01 00:00:00     32.26       anomalous\n",
       "1    2023-01-01 00:05:00     71.83       anomalous\n",
       "2    2023-01-01 00:10:00     65.88          normal\n",
       "3    2023-01-01 00:15:00     74.68       anomalous\n",
       "4    2023-01-01 00:20:00     42.93          normal\n",
       "..                   ...       ...             ...\n",
       "995  2023-01-04 10:55:00     57.36          normal\n",
       "996  2023-01-04 11:00:00     77.07       anomalous\n",
       "997  2023-01-04 11:05:00     72.28       anomalous\n",
       "998  2023-01-04 11:10:00     68.69          normal\n",
       "999  2023-01-04 11:15:00     45.34          normal\n",
       "\n",
       "[1000 rows x 3 columns]"
      ]
     },
     "execution_count": 4,
     "metadata": {},
     "output_type": "execute_result"
    }
   ],
   "source": [
    "# Select the timestamp,humidity column and the humidity_status column from the data\n",
    "data_humidity = data.loc[:, ['timestamp', 'humidity',\"humidity_status\"]]\n",
    "data_humidity"
   ]
  },
  {
   "cell_type": "code",
   "execution_count": 5,
   "metadata": {},
   "outputs": [
    {
     "data": {
      "text/html": [
       "<div>\n",
       "<style scoped>\n",
       "    .dataframe tbody tr th:only-of-type {\n",
       "        vertical-align: middle;\n",
       "    }\n",
       "\n",
       "    .dataframe tbody tr th {\n",
       "        vertical-align: top;\n",
       "    }\n",
       "\n",
       "    .dataframe thead th {\n",
       "        text-align: right;\n",
       "    }\n",
       "</style>\n",
       "<table border=\"1\" class=\"dataframe\">\n",
       "  <thead>\n",
       "    <tr style=\"text-align: right;\">\n",
       "      <th></th>\n",
       "      <th>timestamp</th>\n",
       "      <th>humidity</th>\n",
       "      <th>humidity_status</th>\n",
       "    </tr>\n",
       "  </thead>\n",
       "  <tbody>\n",
       "    <tr>\n",
       "      <th>0</th>\n",
       "      <td>2023-01-01 00:00:00</td>\n",
       "      <td>32.26</td>\n",
       "      <td>1</td>\n",
       "    </tr>\n",
       "    <tr>\n",
       "      <th>1</th>\n",
       "      <td>2023-01-01 00:05:00</td>\n",
       "      <td>71.83</td>\n",
       "      <td>1</td>\n",
       "    </tr>\n",
       "    <tr>\n",
       "      <th>2</th>\n",
       "      <td>2023-01-01 00:10:00</td>\n",
       "      <td>65.88</td>\n",
       "      <td>0</td>\n",
       "    </tr>\n",
       "    <tr>\n",
       "      <th>3</th>\n",
       "      <td>2023-01-01 00:15:00</td>\n",
       "      <td>74.68</td>\n",
       "      <td>1</td>\n",
       "    </tr>\n",
       "    <tr>\n",
       "      <th>4</th>\n",
       "      <td>2023-01-01 00:20:00</td>\n",
       "      <td>42.93</td>\n",
       "      <td>0</td>\n",
       "    </tr>\n",
       "    <tr>\n",
       "      <th>...</th>\n",
       "      <td>...</td>\n",
       "      <td>...</td>\n",
       "      <td>...</td>\n",
       "    </tr>\n",
       "    <tr>\n",
       "      <th>995</th>\n",
       "      <td>2023-01-04 10:55:00</td>\n",
       "      <td>57.36</td>\n",
       "      <td>0</td>\n",
       "    </tr>\n",
       "    <tr>\n",
       "      <th>996</th>\n",
       "      <td>2023-01-04 11:00:00</td>\n",
       "      <td>77.07</td>\n",
       "      <td>1</td>\n",
       "    </tr>\n",
       "    <tr>\n",
       "      <th>997</th>\n",
       "      <td>2023-01-04 11:05:00</td>\n",
       "      <td>72.28</td>\n",
       "      <td>1</td>\n",
       "    </tr>\n",
       "    <tr>\n",
       "      <th>998</th>\n",
       "      <td>2023-01-04 11:10:00</td>\n",
       "      <td>68.69</td>\n",
       "      <td>0</td>\n",
       "    </tr>\n",
       "    <tr>\n",
       "      <th>999</th>\n",
       "      <td>2023-01-04 11:15:00</td>\n",
       "      <td>45.34</td>\n",
       "      <td>0</td>\n",
       "    </tr>\n",
       "  </tbody>\n",
       "</table>\n",
       "<p>1000 rows × 3 columns</p>\n",
       "</div>"
      ],
      "text/plain": [
       "               timestamp  humidity humidity_status\n",
       "0    2023-01-01 00:00:00     32.26               1\n",
       "1    2023-01-01 00:05:00     71.83               1\n",
       "2    2023-01-01 00:10:00     65.88               0\n",
       "3    2023-01-01 00:15:00     74.68               1\n",
       "4    2023-01-01 00:20:00     42.93               0\n",
       "..                   ...       ...             ...\n",
       "995  2023-01-04 10:55:00     57.36               0\n",
       "996  2023-01-04 11:00:00     77.07               1\n",
       "997  2023-01-04 11:05:00     72.28               1\n",
       "998  2023-01-04 11:10:00     68.69               0\n",
       "999  2023-01-04 11:15:00     45.34               0\n",
       "\n",
       "[1000 rows x 3 columns]"
      ]
     },
     "execution_count": 5,
     "metadata": {},
     "output_type": "execute_result"
    }
   ],
   "source": [
    "# Convert the humidity_status column to binary values\n",
    "data_humidity.loc[data_humidity[\"humidity_status\"]==\"normal\",\"humidity_status\"]=0\n",
    "data_humidity.loc[data_humidity[\"humidity_status\"]==\"anomalous\",\"humidity_status\"]=1\n",
    "data_humidity"
   ]
  },
  {
   "cell_type": "code",
   "execution_count": 6,
   "metadata": {},
   "outputs": [],
   "source": [
    "def standraization(df, column_name):\n",
    "    # Calculate Z-scores\n",
    "    z_scores = np.abs((df[column_name] - df[column_name].mean()) / df[column_name].std())\n",
    "    df[\"humidity_standar\"]=z_scores\n",
    "    return df"
   ]
  },
  {
   "cell_type": "code",
   "execution_count": 7,
   "metadata": {},
   "outputs": [
    {
     "data": {
      "text/plain": [
       "(30.09, 79.91)"
      ]
     },
     "execution_count": 7,
     "metadata": {},
     "output_type": "execute_result"
    }
   ],
   "source": [
    "data_humidity[\"humidity\"].min(), data_humidity[\"humidity\"].max()"
   ]
  },
  {
   "cell_type": "markdown",
   "metadata": {},
   "source": [
    "##### Analysing the data readout and plot a sample"
   ]
  },
  {
   "cell_type": "code",
   "execution_count": 8,
   "metadata": {},
   "outputs": [
    {
     "data": {
      "text/plain": [
       "(601, 399)"
      ]
     },
     "execution_count": 8,
     "metadata": {},
     "output_type": "execute_result"
    }
   ],
   "source": [
    "# The number of normal and anomalous humidity values\n",
    "data_humidity.loc[data_humidity[\"humidity_status\"]==0][\"timestamp\"].count(), data_humidity.loc[data_humidity[\"humidity_status\"]==1][\"timestamp\"].count()"
   ]
  },
  {
   "cell_type": "code",
   "execution_count": 9,
   "metadata": {},
   "outputs": [
    {
     "data": {
      "text/plain": [
       "('2023-01-01 00:00:00', '2023-01-04 11:15:00')"
      ]
     },
     "execution_count": 9,
     "metadata": {},
     "output_type": "execute_result"
    }
   ],
   "source": [
    "# The range of timestamps\n",
    "data_humidity[\"timestamp\"].min(), data_humidity[\"timestamp\"].max()"
   ]
  },
  {
   "cell_type": "code",
   "execution_count": 10,
   "metadata": {},
   "outputs": [
    {
     "data": {
      "text/html": [
       "<div>\n",
       "<style scoped>\n",
       "    .dataframe tbody tr th:only-of-type {\n",
       "        vertical-align: middle;\n",
       "    }\n",
       "\n",
       "    .dataframe tbody tr th {\n",
       "        vertical-align: top;\n",
       "    }\n",
       "\n",
       "    .dataframe thead th {\n",
       "        text-align: right;\n",
       "    }\n",
       "</style>\n",
       "<table border=\"1\" class=\"dataframe\">\n",
       "  <thead>\n",
       "    <tr style=\"text-align: right;\">\n",
       "      <th></th>\n",
       "      <th>timestamp</th>\n",
       "      <th>humidity</th>\n",
       "      <th>humidity_status</th>\n",
       "    </tr>\n",
       "  </thead>\n",
       "  <tbody>\n",
       "    <tr>\n",
       "      <th>0</th>\n",
       "      <td>2023-01-01 00:00:00</td>\n",
       "      <td>32.26</td>\n",
       "      <td>1</td>\n",
       "    </tr>\n",
       "    <tr>\n",
       "      <th>1</th>\n",
       "      <td>2023-01-01 00:05:00</td>\n",
       "      <td>71.83</td>\n",
       "      <td>1</td>\n",
       "    </tr>\n",
       "    <tr>\n",
       "      <th>2</th>\n",
       "      <td>2023-01-01 00:10:00</td>\n",
       "      <td>65.88</td>\n",
       "      <td>0</td>\n",
       "    </tr>\n",
       "    <tr>\n",
       "      <th>3</th>\n",
       "      <td>2023-01-01 00:15:00</td>\n",
       "      <td>74.68</td>\n",
       "      <td>1</td>\n",
       "    </tr>\n",
       "    <tr>\n",
       "      <th>4</th>\n",
       "      <td>2023-01-01 00:20:00</td>\n",
       "      <td>42.93</td>\n",
       "      <td>0</td>\n",
       "    </tr>\n",
       "    <tr>\n",
       "      <th>...</th>\n",
       "      <td>...</td>\n",
       "      <td>...</td>\n",
       "      <td>...</td>\n",
       "    </tr>\n",
       "    <tr>\n",
       "      <th>571</th>\n",
       "      <td>2023-01-02 23:35:00</td>\n",
       "      <td>75.94</td>\n",
       "      <td>1</td>\n",
       "    </tr>\n",
       "    <tr>\n",
       "      <th>572</th>\n",
       "      <td>2023-01-02 23:40:00</td>\n",
       "      <td>64.31</td>\n",
       "      <td>0</td>\n",
       "    </tr>\n",
       "    <tr>\n",
       "      <th>573</th>\n",
       "      <td>2023-01-02 23:45:00</td>\n",
       "      <td>53.92</td>\n",
       "      <td>0</td>\n",
       "    </tr>\n",
       "    <tr>\n",
       "      <th>574</th>\n",
       "      <td>2023-01-02 23:50:00</td>\n",
       "      <td>64.05</td>\n",
       "      <td>0</td>\n",
       "    </tr>\n",
       "    <tr>\n",
       "      <th>575</th>\n",
       "      <td>2023-01-02 23:55:00</td>\n",
       "      <td>47.59</td>\n",
       "      <td>0</td>\n",
       "    </tr>\n",
       "  </tbody>\n",
       "</table>\n",
       "<p>576 rows × 3 columns</p>\n",
       "</div>"
      ],
      "text/plain": [
       "               timestamp  humidity humidity_status\n",
       "0    2023-01-01 00:00:00     32.26               1\n",
       "1    2023-01-01 00:05:00     71.83               1\n",
       "2    2023-01-01 00:10:00     65.88               0\n",
       "3    2023-01-01 00:15:00     74.68               1\n",
       "4    2023-01-01 00:20:00     42.93               0\n",
       "..                   ...       ...             ...\n",
       "571  2023-01-02 23:35:00     75.94               1\n",
       "572  2023-01-02 23:40:00     64.31               0\n",
       "573  2023-01-02 23:45:00     53.92               0\n",
       "574  2023-01-02 23:50:00     64.05               0\n",
       "575  2023-01-02 23:55:00     47.59               0\n",
       "\n",
       "[576 rows x 3 columns]"
      ]
     },
     "execution_count": 10,
     "metadata": {},
     "output_type": "execute_result"
    }
   ],
   "source": [
    "# The number of humidity values recorded on the first two days\n",
    "first_2days= data_humidity.loc[data_humidity[\"timestamp\"]<'2023-01-03']\n",
    "first_2days"
   ]
  },
  {
   "cell_type": "code",
   "execution_count": 11,
   "metadata": {},
   "outputs": [
    {
     "data": {
      "text/plain": [
       "(341, 235)"
      ]
     },
     "execution_count": 11,
     "metadata": {},
     "output_type": "execute_result"
    }
   ],
   "source": [
    "# The number of normal and anomalous humidity values recorded on the first two days\n",
    "first_2days.loc[first_2days[\"humidity_status\"]==0][\"timestamp\"].count(), first_2days.loc[first_2days[\"humidity_status\"]==1][\"timestamp\"].count()"
   ]
  },
  {
   "cell_type": "code",
   "execution_count": 12,
   "metadata": {},
   "outputs": [],
   "source": [
    "therd_day= data_humidity.loc[(data_humidity[\"timestamp\"]>'2023-01-03') & (data_humidity[\"timestamp\"]<'2023-01-04')]"
   ]
  },
  {
   "cell_type": "code",
   "execution_count": 13,
   "metadata": {},
   "outputs": [
    {
     "data": {
      "text/html": [
       "<div>\n",
       "<style scoped>\n",
       "    .dataframe tbody tr th:only-of-type {\n",
       "        vertical-align: middle;\n",
       "    }\n",
       "\n",
       "    .dataframe tbody tr th {\n",
       "        vertical-align: top;\n",
       "    }\n",
       "\n",
       "    .dataframe thead th {\n",
       "        text-align: right;\n",
       "    }\n",
       "</style>\n",
       "<table border=\"1\" class=\"dataframe\">\n",
       "  <thead>\n",
       "    <tr style=\"text-align: right;\">\n",
       "      <th></th>\n",
       "      <th>timestamp</th>\n",
       "      <th>humidity</th>\n",
       "      <th>humidity_status</th>\n",
       "    </tr>\n",
       "  </thead>\n",
       "  <tbody>\n",
       "    <tr>\n",
       "      <th>576</th>\n",
       "      <td>2023-01-03 00:00:00</td>\n",
       "      <td>65.99</td>\n",
       "      <td>0</td>\n",
       "    </tr>\n",
       "    <tr>\n",
       "      <th>577</th>\n",
       "      <td>2023-01-03 00:05:00</td>\n",
       "      <td>44.20</td>\n",
       "      <td>0</td>\n",
       "    </tr>\n",
       "    <tr>\n",
       "      <th>578</th>\n",
       "      <td>2023-01-03 00:10:00</td>\n",
       "      <td>31.09</td>\n",
       "      <td>1</td>\n",
       "    </tr>\n",
       "    <tr>\n",
       "      <th>579</th>\n",
       "      <td>2023-01-03 00:15:00</td>\n",
       "      <td>52.76</td>\n",
       "      <td>0</td>\n",
       "    </tr>\n",
       "    <tr>\n",
       "      <th>580</th>\n",
       "      <td>2023-01-03 00:20:00</td>\n",
       "      <td>56.83</td>\n",
       "      <td>0</td>\n",
       "    </tr>\n",
       "    <tr>\n",
       "      <th>...</th>\n",
       "      <td>...</td>\n",
       "      <td>...</td>\n",
       "      <td>...</td>\n",
       "    </tr>\n",
       "    <tr>\n",
       "      <th>859</th>\n",
       "      <td>2023-01-03 23:35:00</td>\n",
       "      <td>56.31</td>\n",
       "      <td>0</td>\n",
       "    </tr>\n",
       "    <tr>\n",
       "      <th>860</th>\n",
       "      <td>2023-01-03 23:40:00</td>\n",
       "      <td>63.42</td>\n",
       "      <td>0</td>\n",
       "    </tr>\n",
       "    <tr>\n",
       "      <th>861</th>\n",
       "      <td>2023-01-03 23:45:00</td>\n",
       "      <td>72.43</td>\n",
       "      <td>1</td>\n",
       "    </tr>\n",
       "    <tr>\n",
       "      <th>862</th>\n",
       "      <td>2023-01-03 23:50:00</td>\n",
       "      <td>57.99</td>\n",
       "      <td>0</td>\n",
       "    </tr>\n",
       "    <tr>\n",
       "      <th>863</th>\n",
       "      <td>2023-01-03 23:55:00</td>\n",
       "      <td>38.24</td>\n",
       "      <td>1</td>\n",
       "    </tr>\n",
       "  </tbody>\n",
       "</table>\n",
       "<p>288 rows × 3 columns</p>\n",
       "</div>"
      ],
      "text/plain": [
       "               timestamp  humidity humidity_status\n",
       "576  2023-01-03 00:00:00     65.99               0\n",
       "577  2023-01-03 00:05:00     44.20               0\n",
       "578  2023-01-03 00:10:00     31.09               1\n",
       "579  2023-01-03 00:15:00     52.76               0\n",
       "580  2023-01-03 00:20:00     56.83               0\n",
       "..                   ...       ...             ...\n",
       "859  2023-01-03 23:35:00     56.31               0\n",
       "860  2023-01-03 23:40:00     63.42               0\n",
       "861  2023-01-03 23:45:00     72.43               1\n",
       "862  2023-01-03 23:50:00     57.99               0\n",
       "863  2023-01-03 23:55:00     38.24               1\n",
       "\n",
       "[288 rows x 3 columns]"
      ]
     },
     "execution_count": 13,
     "metadata": {},
     "output_type": "execute_result"
    }
   ],
   "source": [
    "therd_day"
   ]
  },
  {
   "cell_type": "code",
   "execution_count": 14,
   "metadata": {},
   "outputs": [
    {
     "data": {
      "text/plain": [
       "(183, 105)"
      ]
     },
     "execution_count": 14,
     "metadata": {},
     "output_type": "execute_result"
    }
   ],
   "source": [
    "# The number of normal and anomalous humidity values recorded on the therd day\n",
    "therd_day.loc[therd_day[\"humidity_status\"]==0][\"timestamp\"].count(), therd_day.loc[therd_day[\"humidity_status\"]==1][\"timestamp\"].count()"
   ]
  },
  {
   "cell_type": "code",
   "execution_count": 15,
   "metadata": {},
   "outputs": [
    {
     "data": {
      "text/html": [
       "<div>\n",
       "<style scoped>\n",
       "    .dataframe tbody tr th:only-of-type {\n",
       "        vertical-align: middle;\n",
       "    }\n",
       "\n",
       "    .dataframe tbody tr th {\n",
       "        vertical-align: top;\n",
       "    }\n",
       "\n",
       "    .dataframe thead th {\n",
       "        text-align: right;\n",
       "    }\n",
       "</style>\n",
       "<table border=\"1\" class=\"dataframe\">\n",
       "  <thead>\n",
       "    <tr style=\"text-align: right;\">\n",
       "      <th></th>\n",
       "      <th>timestamp</th>\n",
       "      <th>humidity</th>\n",
       "      <th>humidity_status</th>\n",
       "    </tr>\n",
       "  </thead>\n",
       "  <tbody>\n",
       "    <tr>\n",
       "      <th>864</th>\n",
       "      <td>2023-01-04 00:00:00</td>\n",
       "      <td>67.93</td>\n",
       "      <td>0</td>\n",
       "    </tr>\n",
       "    <tr>\n",
       "      <th>865</th>\n",
       "      <td>2023-01-04 00:05:00</td>\n",
       "      <td>47.10</td>\n",
       "      <td>0</td>\n",
       "    </tr>\n",
       "    <tr>\n",
       "      <th>866</th>\n",
       "      <td>2023-01-04 00:10:00</td>\n",
       "      <td>79.69</td>\n",
       "      <td>1</td>\n",
       "    </tr>\n",
       "    <tr>\n",
       "      <th>867</th>\n",
       "      <td>2023-01-04 00:15:00</td>\n",
       "      <td>65.35</td>\n",
       "      <td>0</td>\n",
       "    </tr>\n",
       "    <tr>\n",
       "      <th>868</th>\n",
       "      <td>2023-01-04 00:20:00</td>\n",
       "      <td>43.16</td>\n",
       "      <td>0</td>\n",
       "    </tr>\n",
       "    <tr>\n",
       "      <th>...</th>\n",
       "      <td>...</td>\n",
       "      <td>...</td>\n",
       "      <td>...</td>\n",
       "    </tr>\n",
       "    <tr>\n",
       "      <th>995</th>\n",
       "      <td>2023-01-04 10:55:00</td>\n",
       "      <td>57.36</td>\n",
       "      <td>0</td>\n",
       "    </tr>\n",
       "    <tr>\n",
       "      <th>996</th>\n",
       "      <td>2023-01-04 11:00:00</td>\n",
       "      <td>77.07</td>\n",
       "      <td>1</td>\n",
       "    </tr>\n",
       "    <tr>\n",
       "      <th>997</th>\n",
       "      <td>2023-01-04 11:05:00</td>\n",
       "      <td>72.28</td>\n",
       "      <td>1</td>\n",
       "    </tr>\n",
       "    <tr>\n",
       "      <th>998</th>\n",
       "      <td>2023-01-04 11:10:00</td>\n",
       "      <td>68.69</td>\n",
       "      <td>0</td>\n",
       "    </tr>\n",
       "    <tr>\n",
       "      <th>999</th>\n",
       "      <td>2023-01-04 11:15:00</td>\n",
       "      <td>45.34</td>\n",
       "      <td>0</td>\n",
       "    </tr>\n",
       "  </tbody>\n",
       "</table>\n",
       "<p>136 rows × 3 columns</p>\n",
       "</div>"
      ],
      "text/plain": [
       "               timestamp  humidity humidity_status\n",
       "864  2023-01-04 00:00:00     67.93               0\n",
       "865  2023-01-04 00:05:00     47.10               0\n",
       "866  2023-01-04 00:10:00     79.69               1\n",
       "867  2023-01-04 00:15:00     65.35               0\n",
       "868  2023-01-04 00:20:00     43.16               0\n",
       "..                   ...       ...             ...\n",
       "995  2023-01-04 10:55:00     57.36               0\n",
       "996  2023-01-04 11:00:00     77.07               1\n",
       "997  2023-01-04 11:05:00     72.28               1\n",
       "998  2023-01-04 11:10:00     68.69               0\n",
       "999  2023-01-04 11:15:00     45.34               0\n",
       "\n",
       "[136 rows x 3 columns]"
      ]
     },
     "execution_count": 15,
     "metadata": {},
     "output_type": "execute_result"
    }
   ],
   "source": [
    "# The number of temperature values recorded on the last day\n",
    "last_day= data_humidity.loc[data_humidity[\"timestamp\"]>='2023-01-04']\n",
    "last_day"
   ]
  },
  {
   "cell_type": "code",
   "execution_count": 16,
   "metadata": {},
   "outputs": [
    {
     "data": {
      "text/plain": [
       "(77, 59)"
      ]
     },
     "execution_count": 16,
     "metadata": {},
     "output_type": "execute_result"
    }
   ],
   "source": [
    "# The number of normal and anomalous humidity values recorded on the last two days\n",
    "last_day.loc[last_day[\"humidity_status\"]==0][\"timestamp\"].count(), last_day.loc[last_day[\"humidity_status\"]==1][\"timestamp\"].count()"
   ]
  },
  {
   "cell_type": "code",
   "execution_count": 17,
   "metadata": {},
   "outputs": [
    {
     "name": "stderr",
     "output_type": "stream",
     "text": [
      "C:\\Users\\adnan\\AppData\\Local\\Temp\\ipykernel_8816\\2015214743.py:4: SettingWithCopyWarning: \n",
      "A value is trying to be set on a copy of a slice from a DataFrame.\n",
      "Try using .loc[row_indexer,col_indexer] = value instead\n",
      "\n",
      "See the caveats in the documentation: https://pandas.pydata.org/pandas-docs/stable/user_guide/indexing.html#returning-a-view-versus-a-copy\n",
      "  df[\"humidity_standar\"]=z_scores\n",
      "C:\\Users\\adnan\\AppData\\Local\\Temp\\ipykernel_8816\\2015214743.py:4: SettingWithCopyWarning: \n",
      "A value is trying to be set on a copy of a slice from a DataFrame.\n",
      "Try using .loc[row_indexer,col_indexer] = value instead\n",
      "\n",
      "See the caveats in the documentation: https://pandas.pydata.org/pandas-docs/stable/user_guide/indexing.html#returning-a-view-versus-a-copy\n",
      "  df[\"humidity_standar\"]=z_scores\n",
      "C:\\Users\\adnan\\AppData\\Local\\Temp\\ipykernel_8816\\2015214743.py:4: SettingWithCopyWarning: \n",
      "A value is trying to be set on a copy of a slice from a DataFrame.\n",
      "Try using .loc[row_indexer,col_indexer] = value instead\n",
      "\n",
      "See the caveats in the documentation: https://pandas.pydata.org/pandas-docs/stable/user_guide/indexing.html#returning-a-view-versus-a-copy\n",
      "  df[\"humidity_standar\"]=z_scores\n"
     ]
    }
   ],
   "source": [
    "# Standarize the humidity values\n",
    "first_2days=standraization(first_2days, \"humidity\")\n",
    "therd_day=standraization(therd_day, \"humidity\")\n",
    "last_day=standraization(last_day, \"humidity\")"
   ]
  },
  {
   "cell_type": "code",
   "execution_count": 18,
   "metadata": {},
   "outputs": [
    {
     "data": {
      "text/html": [
       "<div>\n",
       "<style scoped>\n",
       "    .dataframe tbody tr th:only-of-type {\n",
       "        vertical-align: middle;\n",
       "    }\n",
       "\n",
       "    .dataframe tbody tr th {\n",
       "        vertical-align: top;\n",
       "    }\n",
       "\n",
       "    .dataframe thead th {\n",
       "        text-align: right;\n",
       "    }\n",
       "</style>\n",
       "<table border=\"1\" class=\"dataframe\">\n",
       "  <thead>\n",
       "    <tr style=\"text-align: right;\">\n",
       "      <th></th>\n",
       "      <th>timestamp</th>\n",
       "      <th>humidity</th>\n",
       "      <th>humidity_status</th>\n",
       "    </tr>\n",
       "  </thead>\n",
       "  <tbody>\n",
       "    <tr>\n",
       "      <th>0</th>\n",
       "      <td>2023-01-01 00:00:00</td>\n",
       "      <td>32.26</td>\n",
       "      <td>1</td>\n",
       "    </tr>\n",
       "    <tr>\n",
       "      <th>1</th>\n",
       "      <td>2023-01-01 00:05:00</td>\n",
       "      <td>71.83</td>\n",
       "      <td>1</td>\n",
       "    </tr>\n",
       "    <tr>\n",
       "      <th>2</th>\n",
       "      <td>2023-01-01 00:10:00</td>\n",
       "      <td>65.88</td>\n",
       "      <td>0</td>\n",
       "    </tr>\n",
       "    <tr>\n",
       "      <th>3</th>\n",
       "      <td>2023-01-01 00:15:00</td>\n",
       "      <td>74.68</td>\n",
       "      <td>1</td>\n",
       "    </tr>\n",
       "    <tr>\n",
       "      <th>4</th>\n",
       "      <td>2023-01-01 00:20:00</td>\n",
       "      <td>42.93</td>\n",
       "      <td>0</td>\n",
       "    </tr>\n",
       "    <tr>\n",
       "      <th>5</th>\n",
       "      <td>2023-01-01 00:25:00</td>\n",
       "      <td>71.43</td>\n",
       "      <td>1</td>\n",
       "    </tr>\n",
       "    <tr>\n",
       "      <th>6</th>\n",
       "      <td>2023-01-01 00:30:00</td>\n",
       "      <td>72.46</td>\n",
       "      <td>1</td>\n",
       "    </tr>\n",
       "  </tbody>\n",
       "</table>\n",
       "</div>"
      ],
      "text/plain": [
       "             timestamp  humidity humidity_status\n",
       "0  2023-01-01 00:00:00     32.26               1\n",
       "1  2023-01-01 00:05:00     71.83               1\n",
       "2  2023-01-01 00:10:00     65.88               0\n",
       "3  2023-01-01 00:15:00     74.68               1\n",
       "4  2023-01-01 00:20:00     42.93               0\n",
       "5  2023-01-01 00:25:00     71.43               1\n",
       "6  2023-01-01 00:30:00     72.46               1"
      ]
     },
     "execution_count": 18,
     "metadata": {},
     "output_type": "execute_result"
    }
   ],
   "source": [
    "# first 7 rows\n",
    "data_humidity.head(7)"
   ]
  },
  {
   "cell_type": "code",
   "execution_count": 19,
   "metadata": {},
   "outputs": [
    {
     "data": {
      "image/png": "[encoded data removed]",
      "text/plain": [
       "<Figure size 3000x1500 with 1 Axes>"
      ]
     },
     "metadata": {},
     "output_type": "display_data"
    }
   ],
   "source": [
    "# Plot the first 7 temperature values\n",
    "plt.figure(figsize=(30,15))\n",
    "plt.plot(data_humidity[\"timestamp\"].head(7), data_humidity[\"humidity\"].head(7), label=\"Humidity\")\n",
    "plt.xlabel(\"Time\")\n",
    "plt.ylabel(\"humidity\")\n",
    "plt.legend()\n",
    "plt.show()"
   ]
  },
  {
   "cell_type": "markdown",
   "metadata": {},
   "source": [
    "- The data is balanced there are almost same number of reads out for each class.\n",
    "- We can see the stand temperature can indicate a strong variasion between the previos temperatuer and the current one whcih help the model to idenife if there are some anomalous values.\n",
    "- Window size of 1 readout which indicate a 5 minute.\n",
    "- Split the data into test and train, the data are collected in 4 days, so train 2 days,valdation 1 day and test 1 day."
   ]
  },
  {
   "cell_type": "markdown",
   "metadata": {},
   "source": [
    "##### Spliting the data"
   ]
  },
  {
   "cell_type": "code",
   "execution_count": 20,
   "metadata": {},
   "outputs": [],
   "source": [
    "train = first_2days\n",
    "valdation= therd_day\n",
    "test = last_day"
   ]
  },
  {
   "cell_type": "code",
   "execution_count": 21,
   "metadata": {},
   "outputs": [
    {
     "data": {
      "text/html": [
       "<div>\n",
       "<style scoped>\n",
       "    .dataframe tbody tr th:only-of-type {\n",
       "        vertical-align: middle;\n",
       "    }\n",
       "\n",
       "    .dataframe tbody tr th {\n",
       "        vertical-align: top;\n",
       "    }\n",
       "\n",
       "    .dataframe thead th {\n",
       "        text-align: right;\n",
       "    }\n",
       "</style>\n",
       "<table border=\"1\" class=\"dataframe\">\n",
       "  <thead>\n",
       "    <tr style=\"text-align: right;\">\n",
       "      <th></th>\n",
       "      <th>timestamp</th>\n",
       "      <th>humidity</th>\n",
       "      <th>humidity_status</th>\n",
       "      <th>humidity_standar</th>\n",
       "    </tr>\n",
       "  </thead>\n",
       "  <tbody>\n",
       "    <tr>\n",
       "      <th>0</th>\n",
       "      <td>2023-01-01 00:00:00</td>\n",
       "      <td>32.26</td>\n",
       "      <td>1</td>\n",
       "      <td>1.540756</td>\n",
       "    </tr>\n",
       "    <tr>\n",
       "      <th>1</th>\n",
       "      <td>2023-01-01 00:05:00</td>\n",
       "      <td>71.83</td>\n",
       "      <td>1</td>\n",
       "      <td>1.186153</td>\n",
       "    </tr>\n",
       "    <tr>\n",
       "      <th>2</th>\n",
       "      <td>2023-01-01 00:10:00</td>\n",
       "      <td>65.88</td>\n",
       "      <td>0</td>\n",
       "      <td>0.776117</td>\n",
       "    </tr>\n",
       "    <tr>\n",
       "      <th>3</th>\n",
       "      <td>2023-01-01 00:15:00</td>\n",
       "      <td>74.68</td>\n",
       "      <td>1</td>\n",
       "      <td>1.382556</td>\n",
       "    </tr>\n",
       "    <tr>\n",
       "      <th>4</th>\n",
       "      <td>2023-01-01 00:20:00</td>\n",
       "      <td>42.93</td>\n",
       "      <td>0</td>\n",
       "      <td>0.805449</td>\n",
       "    </tr>\n",
       "    <tr>\n",
       "      <th>...</th>\n",
       "      <td>...</td>\n",
       "      <td>...</td>\n",
       "      <td>...</td>\n",
       "      <td>...</td>\n",
       "    </tr>\n",
       "    <tr>\n",
       "      <th>571</th>\n",
       "      <td>2023-01-02 23:35:00</td>\n",
       "      <td>75.94</td>\n",
       "      <td>1</td>\n",
       "      <td>1.469387</td>\n",
       "    </tr>\n",
       "    <tr>\n",
       "      <th>572</th>\n",
       "      <td>2023-01-02 23:40:00</td>\n",
       "      <td>64.31</td>\n",
       "      <td>0</td>\n",
       "      <td>0.667923</td>\n",
       "    </tr>\n",
       "    <tr>\n",
       "      <th>573</th>\n",
       "      <td>2023-01-02 23:45:00</td>\n",
       "      <td>53.92</td>\n",
       "      <td>0</td>\n",
       "      <td>0.048089</td>\n",
       "    </tr>\n",
       "    <tr>\n",
       "      <th>574</th>\n",
       "      <td>2023-01-02 23:50:00</td>\n",
       "      <td>64.05</td>\n",
       "      <td>0</td>\n",
       "      <td>0.650005</td>\n",
       "    </tr>\n",
       "    <tr>\n",
       "      <th>575</th>\n",
       "      <td>2023-01-02 23:55:00</td>\n",
       "      <td>47.59</td>\n",
       "      <td>0</td>\n",
       "      <td>0.484311</td>\n",
       "    </tr>\n",
       "  </tbody>\n",
       "</table>\n",
       "<p>576 rows × 4 columns</p>\n",
       "</div>"
      ],
      "text/plain": [
       "               timestamp  humidity humidity_status  humidity_standar\n",
       "0    2023-01-01 00:00:00     32.26               1          1.540756\n",
       "1    2023-01-01 00:05:00     71.83               1          1.186153\n",
       "2    2023-01-01 00:10:00     65.88               0          0.776117\n",
       "3    2023-01-01 00:15:00     74.68               1          1.382556\n",
       "4    2023-01-01 00:20:00     42.93               0          0.805449\n",
       "..                   ...       ...             ...               ...\n",
       "571  2023-01-02 23:35:00     75.94               1          1.469387\n",
       "572  2023-01-02 23:40:00     64.31               0          0.667923\n",
       "573  2023-01-02 23:45:00     53.92               0          0.048089\n",
       "574  2023-01-02 23:50:00     64.05               0          0.650005\n",
       "575  2023-01-02 23:55:00     47.59               0          0.484311\n",
       "\n",
       "[576 rows x 4 columns]"
      ]
     },
     "execution_count": 21,
     "metadata": {},
     "output_type": "execute_result"
    }
   ],
   "source": [
    "train"
   ]
  },
  {
   "cell_type": "markdown",
   "metadata": {},
   "source": [
    "##### Preparing the data in sequences (number of samples, window size, number of features)"
   ]
  },
  {
   "cell_type": "code",
   "execution_count": 22,
   "metadata": {},
   "outputs": [],
   "source": [
    "def sequence(data, timesteps, num_features):\n",
    "    num_samples = len(data) - timesteps + 1  \n",
    "    df = np.zeros((num_samples, timesteps, num_features))\n",
    "    for i in range(num_samples):\n",
    "        df[i] = data[i:i+timesteps, :] \n",
    "\n",
    "    return df"
   ]
  },
  {
   "cell_type": "code",
   "execution_count": 23,
   "metadata": {},
   "outputs": [],
   "source": [
    "def prepare_y(train, timesteps):\n",
    "    num_samples = len(train) - timesteps + 1\n",
    "    y_train = np.zeros((num_samples, 1))\n",
    "    for i in range(num_samples):\n",
    "        y_train[i] = train[\"humidity_status\"].values[i + timesteps - 1]\n",
    "\n",
    "    return y_train"
   ]
  },
  {
   "cell_type": "code",
   "execution_count": 24,
   "metadata": {},
   "outputs": [
    {
     "data": {
      "text/plain": [
       "(341, 1, 1)"
      ]
     },
     "execution_count": 24,
     "metadata": {},
     "output_type": "execute_result"
    }
   ],
   "source": [
    "data_n= train.loc[train[\"humidity_status\"]==0]\n",
    "data_d = data_n.drop(['humidity',\"humidity_status\",\"timestamp\"], axis=1).values\n",
    "x_train = sequence(data_d, 1, 1)\n",
    "x_train.shape"
   ]
  },
  {
   "cell_type": "code",
   "execution_count": 25,
   "metadata": {},
   "outputs": [
    {
     "data": {
      "text/plain": [
       "(183, 1, 1)"
      ]
     },
     "execution_count": 25,
     "metadata": {},
     "output_type": "execute_result"
    }
   ],
   "source": [
    "data_n= valdation.loc[valdation[\"humidity_status\"]==0]\n",
    "data_d = data_n.drop(['humidity',\"humidity_status\",\"timestamp\"], axis=1).values\n",
    "x_valdation = sequence(data_d, 1, 1)\n",
    "x_valdation.shape"
   ]
  },
  {
   "cell_type": "code",
   "execution_count": 26,
   "metadata": {},
   "outputs": [
    {
     "data": {
      "text/plain": [
       "(136, 1, 1)"
      ]
     },
     "execution_count": 26,
     "metadata": {},
     "output_type": "execute_result"
    }
   ],
   "source": [
    "data_t = test.drop(['humidity',\"humidity_status\",\"timestamp\"], axis=1).values\n",
    "x_test = sequence(data_t, 1, 1)\n",
    "x_test.shape"
   ]
  },
  {
   "cell_type": "markdown",
   "metadata": {},
   "source": [
    "#### Autoencoder LSTM model"
   ]
  },
  {
   "cell_type": "code",
   "execution_count": 27,
   "metadata": {},
   "outputs": [
    {
     "data": {
      "text/html": [
       "<pre style=\"white-space:pre;overflow-x:auto;line-height:normal;font-family:Menlo,'DejaVu Sans Mono',consolas,'Courier New',monospace\"><span style=\"font-weight: bold\">Model: \"sequential\"</span>\n",
       "</pre>\n"
      ],
      "text/plain": [
       "\u001b[1mModel: \"sequential\"\u001b[0m\n"
      ]
     },
     "metadata": {},
     "output_type": "display_data"
    },
    {
     "data": {
      "text/html": [
       "<pre style=\"white-space:pre;overflow-x:auto;line-height:normal;font-family:Menlo,'DejaVu Sans Mono',consolas,'Courier New',monospace\">┏━━━━━━━━━━━━━━━━━━━━━━━━━━━━━━━━━┳━━━━━━━━━━━━━━━━━━━━━━━━┳━━━━━━━━━━━━━━━┓\n",
       "┃<span style=\"font-weight: bold\"> Layer (type)                    </span>┃<span style=\"font-weight: bold\"> Output Shape           </span>┃<span style=\"font-weight: bold\">       Param # </span>┃\n",
       "┡━━━━━━━━━━━━━━━━━━━━━━━━━━━━━━━━━╇━━━━━━━━━━━━━━━━━━━━━━━━╇━━━━━━━━━━━━━━━┩\n",
       "│ lstm (<span style=\"color: #0087ff; text-decoration-color: #0087ff\">LSTM</span>)                     │ (<span style=\"color: #00d7ff; text-decoration-color: #00d7ff\">None</span>, <span style=\"color: #00af00; text-decoration-color: #00af00\">1</span>, <span style=\"color: #00af00; text-decoration-color: #00af00\">16</span>)          │         <span style=\"color: #00af00; text-decoration-color: #00af00\">1,152</span> │\n",
       "├─────────────────────────────────┼────────────────────────┼───────────────┤\n",
       "│ lstm_1 (<span style=\"color: #0087ff; text-decoration-color: #0087ff\">LSTM</span>)                   │ (<span style=\"color: #00d7ff; text-decoration-color: #00d7ff\">None</span>, <span style=\"color: #00af00; text-decoration-color: #00af00\">1</span>, <span style=\"color: #00af00; text-decoration-color: #00af00\">32</span>)          │         <span style=\"color: #00af00; text-decoration-color: #00af00\">6,272</span> │\n",
       "├─────────────────────────────────┼────────────────────────┼───────────────┤\n",
       "│ lstm_2 (<span style=\"color: #0087ff; text-decoration-color: #0087ff\">LSTM</span>)                   │ (<span style=\"color: #00d7ff; text-decoration-color: #00d7ff\">None</span>, <span style=\"color: #00af00; text-decoration-color: #00af00\">1</span>, <span style=\"color: #00af00; text-decoration-color: #00af00\">64</span>)          │        <span style=\"color: #00af00; text-decoration-color: #00af00\">24,832</span> │\n",
       "├─────────────────────────────────┼────────────────────────┼───────────────┤\n",
       "│ lstm_3 (<span style=\"color: #0087ff; text-decoration-color: #0087ff\">LSTM</span>)                   │ (<span style=\"color: #00d7ff; text-decoration-color: #00d7ff\">None</span>, <span style=\"color: #00af00; text-decoration-color: #00af00\">1</span>, <span style=\"color: #00af00; text-decoration-color: #00af00\">128</span>)         │        <span style=\"color: #00af00; text-decoration-color: #00af00\">98,816</span> │\n",
       "├─────────────────────────────────┼────────────────────────┼───────────────┤\n",
       "│ lstm_4 (<span style=\"color: #0087ff; text-decoration-color: #0087ff\">LSTM</span>)                   │ (<span style=\"color: #00d7ff; text-decoration-color: #00d7ff\">None</span>, <span style=\"color: #00af00; text-decoration-color: #00af00\">1</span>, <span style=\"color: #00af00; text-decoration-color: #00af00\">256</span>)         │       <span style=\"color: #00af00; text-decoration-color: #00af00\">394,240</span> │\n",
       "├─────────────────────────────────┼────────────────────────┼───────────────┤\n",
       "│ lstm_5 (<span style=\"color: #0087ff; text-decoration-color: #0087ff\">LSTM</span>)                   │ (<span style=\"color: #00d7ff; text-decoration-color: #00d7ff\">None</span>, <span style=\"color: #00af00; text-decoration-color: #00af00\">512</span>)            │     <span style=\"color: #00af00; text-decoration-color: #00af00\">1,574,912</span> │\n",
       "├─────────────────────────────────┼────────────────────────┼───────────────┤\n",
       "│ repeat_vector (<span style=\"color: #0087ff; text-decoration-color: #0087ff\">RepeatVector</span>)    │ (<span style=\"color: #00d7ff; text-decoration-color: #00d7ff\">None</span>, <span style=\"color: #00af00; text-decoration-color: #00af00\">1</span>, <span style=\"color: #00af00; text-decoration-color: #00af00\">512</span>)         │             <span style=\"color: #00af00; text-decoration-color: #00af00\">0</span> │\n",
       "├─────────────────────────────────┼────────────────────────┼───────────────┤\n",
       "│ lstm_6 (<span style=\"color: #0087ff; text-decoration-color: #0087ff\">LSTM</span>)                   │ (<span style=\"color: #00d7ff; text-decoration-color: #00d7ff\">None</span>, <span style=\"color: #00af00; text-decoration-color: #00af00\">1</span>, <span style=\"color: #00af00; text-decoration-color: #00af00\">512</span>)         │     <span style=\"color: #00af00; text-decoration-color: #00af00\">2,099,200</span> │\n",
       "├─────────────────────────────────┼────────────────────────┼───────────────┤\n",
       "│ lstm_7 (<span style=\"color: #0087ff; text-decoration-color: #0087ff\">LSTM</span>)                   │ (<span style=\"color: #00d7ff; text-decoration-color: #00d7ff\">None</span>, <span style=\"color: #00af00; text-decoration-color: #00af00\">1</span>, <span style=\"color: #00af00; text-decoration-color: #00af00\">256</span>)         │       <span style=\"color: #00af00; text-decoration-color: #00af00\">787,456</span> │\n",
       "├─────────────────────────────────┼────────────────────────┼───────────────┤\n",
       "│ lstm_8 (<span style=\"color: #0087ff; text-decoration-color: #0087ff\">LSTM</span>)                   │ (<span style=\"color: #00d7ff; text-decoration-color: #00d7ff\">None</span>, <span style=\"color: #00af00; text-decoration-color: #00af00\">1</span>, <span style=\"color: #00af00; text-decoration-color: #00af00\">128</span>)         │       <span style=\"color: #00af00; text-decoration-color: #00af00\">197,120</span> │\n",
       "├─────────────────────────────────┼────────────────────────┼───────────────┤\n",
       "│ lstm_9 (<span style=\"color: #0087ff; text-decoration-color: #0087ff\">LSTM</span>)                   │ (<span style=\"color: #00d7ff; text-decoration-color: #00d7ff\">None</span>, <span style=\"color: #00af00; text-decoration-color: #00af00\">1</span>, <span style=\"color: #00af00; text-decoration-color: #00af00\">64</span>)          │        <span style=\"color: #00af00; text-decoration-color: #00af00\">49,408</span> │\n",
       "├─────────────────────────────────┼────────────────────────┼───────────────┤\n",
       "│ lstm_10 (<span style=\"color: #0087ff; text-decoration-color: #0087ff\">LSTM</span>)                  │ (<span style=\"color: #00d7ff; text-decoration-color: #00d7ff\">None</span>, <span style=\"color: #00af00; text-decoration-color: #00af00\">1</span>, <span style=\"color: #00af00; text-decoration-color: #00af00\">32</span>)          │        <span style=\"color: #00af00; text-decoration-color: #00af00\">12,416</span> │\n",
       "├─────────────────────────────────┼────────────────────────┼───────────────┤\n",
       "│ lstm_11 (<span style=\"color: #0087ff; text-decoration-color: #0087ff\">LSTM</span>)                  │ (<span style=\"color: #00d7ff; text-decoration-color: #00d7ff\">None</span>, <span style=\"color: #00af00; text-decoration-color: #00af00\">1</span>, <span style=\"color: #00af00; text-decoration-color: #00af00\">16</span>)          │         <span style=\"color: #00af00; text-decoration-color: #00af00\">3,136</span> │\n",
       "├─────────────────────────────────┼────────────────────────┼───────────────┤\n",
       "│ time_distributed                │ (<span style=\"color: #00d7ff; text-decoration-color: #00d7ff\">None</span>, <span style=\"color: #00af00; text-decoration-color: #00af00\">1</span>, <span style=\"color: #00af00; text-decoration-color: #00af00\">1</span>)           │            <span style=\"color: #00af00; text-decoration-color: #00af00\">17</span> │\n",
       "│ (<span style=\"color: #0087ff; text-decoration-color: #0087ff\">TimeDistributed</span>)               │                        │               │\n",
       "└─────────────────────────────────┴────────────────────────┴───────────────┘\n",
       "</pre>\n"
      ],
      "text/plain": [
       "┏━━━━━━━━━━━━━━━━━━━━━━━━━━━━━━━━━┳━━━━━━━━━━━━━━━━━━━━━━━━┳━━━━━━━━━━━━━━━┓\n",
       "┃\u001b[1m \u001b[0m\u001b[1mLayer (type)                   \u001b[0m\u001b[1m \u001b[0m┃\u001b[1m \u001b[0m\u001b[1mOutput Shape          \u001b[0m\u001b[1m \u001b[0m┃\u001b[1m \u001b[0m\u001b[1m      Param #\u001b[0m\u001b[1m \u001b[0m┃\n",
       "┡━━━━━━━━━━━━━━━━━━━━━━━━━━━━━━━━━╇━━━━━━━━━━━━━━━━━━━━━━━━╇━━━━━━━━━━━━━━━┩\n",
       "│ lstm (\u001b[38;5;33mLSTM\u001b[0m)                     │ (\u001b[38;5;45mNone\u001b[0m, \u001b[38;5;34m1\u001b[0m, \u001b[38;5;34m16\u001b[0m)          │         \u001b[38;5;34m1,152\u001b[0m │\n",
       "├─────────────────────────────────┼────────────────────────┼───────────────┤\n",
       "│ lstm_1 (\u001b[38;5;33mLSTM\u001b[0m)                   │ (\u001b[38;5;45mNone\u001b[0m, \u001b[38;5;34m1\u001b[0m, \u001b[38;5;34m32\u001b[0m)          │         \u001b[38;5;34m6,272\u001b[0m │\n",
       "├─────────────────────────────────┼────────────────────────┼───────────────┤\n",
       "│ lstm_2 (\u001b[38;5;33mLSTM\u001b[0m)                   │ (\u001b[38;5;45mNone\u001b[0m, \u001b[38;5;34m1\u001b[0m, \u001b[38;5;34m64\u001b[0m)          │        \u001b[38;5;34m24,832\u001b[0m │\n",
       "├─────────────────────────────────┼────────────────────────┼───────────────┤\n",
       "│ lstm_3 (\u001b[38;5;33mLSTM\u001b[0m)                   │ (\u001b[38;5;45mNone\u001b[0m, \u001b[38;5;34m1\u001b[0m, \u001b[38;5;34m128\u001b[0m)         │        \u001b[38;5;34m98,816\u001b[0m │\n",
       "├─────────────────────────────────┼────────────────────────┼───────────────┤\n",
       "│ lstm_4 (\u001b[38;5;33mLSTM\u001b[0m)                   │ (\u001b[38;5;45mNone\u001b[0m, \u001b[38;5;34m1\u001b[0m, \u001b[38;5;34m256\u001b[0m)         │       \u001b[38;5;34m394,240\u001b[0m │\n",
       "├─────────────────────────────────┼────────────────────────┼───────────────┤\n",
       "│ lstm_5 (\u001b[38;5;33mLSTM\u001b[0m)                   │ (\u001b[38;5;45mNone\u001b[0m, \u001b[38;5;34m512\u001b[0m)            │     \u001b[38;5;34m1,574,912\u001b[0m │\n",
       "├─────────────────────────────────┼────────────────────────┼───────────────┤\n",
       "│ repeat_vector (\u001b[38;5;33mRepeatVector\u001b[0m)    │ (\u001b[38;5;45mNone\u001b[0m, \u001b[38;5;34m1\u001b[0m, \u001b[38;5;34m512\u001b[0m)         │             \u001b[38;5;34m0\u001b[0m │\n",
       "├─────────────────────────────────┼────────────────────────┼───────────────┤\n",
       "│ lstm_6 (\u001b[38;5;33mLSTM\u001b[0m)                   │ (\u001b[38;5;45mNone\u001b[0m, \u001b[38;5;34m1\u001b[0m, \u001b[38;5;34m512\u001b[0m)         │     \u001b[38;5;34m2,099,200\u001b[0m │\n",
       "├─────────────────────────────────┼────────────────────────┼───────────────┤\n",
       "│ lstm_7 (\u001b[38;5;33mLSTM\u001b[0m)                   │ (\u001b[38;5;45mNone\u001b[0m, \u001b[38;5;34m1\u001b[0m, \u001b[38;5;34m256\u001b[0m)         │       \u001b[38;5;34m787,456\u001b[0m │\n",
       "├─────────────────────────────────┼────────────────────────┼───────────────┤\n",
       "│ lstm_8 (\u001b[38;5;33mLSTM\u001b[0m)                   │ (\u001b[38;5;45mNone\u001b[0m, \u001b[38;5;34m1\u001b[0m, \u001b[38;5;34m128\u001b[0m)         │       \u001b[38;5;34m197,120\u001b[0m │\n",
       "├─────────────────────────────────┼────────────────────────┼───────────────┤\n",
       "│ lstm_9 (\u001b[38;5;33mLSTM\u001b[0m)                   │ (\u001b[38;5;45mNone\u001b[0m, \u001b[38;5;34m1\u001b[0m, \u001b[38;5;34m64\u001b[0m)          │        \u001b[38;5;34m49,408\u001b[0m │\n",
       "├─────────────────────────────────┼────────────────────────┼───────────────┤\n",
       "│ lstm_10 (\u001b[38;5;33mLSTM\u001b[0m)                  │ (\u001b[38;5;45mNone\u001b[0m, \u001b[38;5;34m1\u001b[0m, \u001b[38;5;34m32\u001b[0m)          │        \u001b[38;5;34m12,416\u001b[0m │\n",
       "├─────────────────────────────────┼────────────────────────┼───────────────┤\n",
       "│ lstm_11 (\u001b[38;5;33mLSTM\u001b[0m)                  │ (\u001b[38;5;45mNone\u001b[0m, \u001b[38;5;34m1\u001b[0m, \u001b[38;5;34m16\u001b[0m)          │         \u001b[38;5;34m3,136\u001b[0m │\n",
       "├─────────────────────────────────┼────────────────────────┼───────────────┤\n",
       "│ time_distributed                │ (\u001b[38;5;45mNone\u001b[0m, \u001b[38;5;34m1\u001b[0m, \u001b[38;5;34m1\u001b[0m)           │            \u001b[38;5;34m17\u001b[0m │\n",
       "│ (\u001b[38;5;33mTimeDistributed\u001b[0m)               │                        │               │\n",
       "└─────────────────────────────────┴────────────────────────┴───────────────┘\n"
      ]
     },
     "metadata": {},
     "output_type": "display_data"
    },
    {
     "data": {
      "text/html": [
       "<pre style=\"white-space:pre;overflow-x:auto;line-height:normal;font-family:Menlo,'DejaVu Sans Mono',consolas,'Courier New',monospace\"><span style=\"font-weight: bold\"> Total params: </span><span style=\"color: #00af00; text-decoration-color: #00af00\">5,248,977</span> (20.02 MB)\n",
       "</pre>\n"
      ],
      "text/plain": [
       "\u001b[1m Total params: \u001b[0m\u001b[38;5;34m5,248,977\u001b[0m (20.02 MB)\n"
      ]
     },
     "metadata": {},
     "output_type": "display_data"
    },
    {
     "data": {
      "text/html": [
       "<pre style=\"white-space:pre;overflow-x:auto;line-height:normal;font-family:Menlo,'DejaVu Sans Mono',consolas,'Courier New',monospace\"><span style=\"font-weight: bold\"> Trainable params: </span><span style=\"color: #00af00; text-decoration-color: #00af00\">5,248,977</span> (20.02 MB)\n",
       "</pre>\n"
      ],
      "text/plain": [
       "\u001b[1m Trainable params: \u001b[0m\u001b[38;5;34m5,248,977\u001b[0m (20.02 MB)\n"
      ]
     },
     "metadata": {},
     "output_type": "display_data"
    },
    {
     "data": {
      "text/html": [
       "<pre style=\"white-space:pre;overflow-x:auto;line-height:normal;font-family:Menlo,'DejaVu Sans Mono',consolas,'Courier New',monospace\"><span style=\"font-weight: bold\"> Non-trainable params: </span><span style=\"color: #00af00; text-decoration-color: #00af00\">0</span> (0.00 B)\n",
       "</pre>\n"
      ],
      "text/plain": [
       "\u001b[1m Non-trainable params: \u001b[0m\u001b[38;5;34m0\u001b[0m (0.00 B)\n"
      ]
     },
     "metadata": {},
     "output_type": "display_data"
    }
   ],
   "source": [
    "\n",
    "timesteps = x_train.shape[1]\n",
    "n_features = x_train.shape[2]\n",
    "\n",
    "lstm_autoencoder = Sequential()\n",
    "# Encoder\n",
    "lstm_autoencoder.add(Input(shape=(timesteps, n_features)))\n",
    "lstm_autoencoder.add(LSTM(16, activation=\"relu\", return_sequences=True))\n",
    "lstm_autoencoder.add(LSTM(32, activation=\"relu\", return_sequences=True))\n",
    "lstm_autoencoder.add(LSTM(64, activation=\"relu\", return_sequences=True))\n",
    "lstm_autoencoder.add(LSTM(128, activation=\"relu\", return_sequences=True))\n",
    "lstm_autoencoder.add(LSTM(256, activation=\"relu\", return_sequences=True))\n",
    "lstm_autoencoder.add(LSTM(512, activation=\"relu\", return_sequences=False))\n",
    "\n",
    "# Adding RepeatVector to match the input sequence length for decoding\n",
    "lstm_autoencoder.add(RepeatVector(timesteps))\n",
    "\n",
    "# Decoder\n",
    "lstm_autoencoder.add(LSTM(512, activation=\"relu\", return_sequences=True))\n",
    "lstm_autoencoder.add(LSTM(256, activation=\"relu\", return_sequences=True))\n",
    "lstm_autoencoder.add(LSTM(128, activation=\"relu\", return_sequences=True))\n",
    "lstm_autoencoder.add(LSTM(64, activation=\"relu\", return_sequences=True))\n",
    "lstm_autoencoder.add(LSTM(32, activation=\"relu\", return_sequences=True))\n",
    "lstm_autoencoder.add(LSTM(16, activation=\"relu\", return_sequences=True))\n",
    "lstm_autoencoder.add(TimeDistributed(Dense(n_features)))\n",
    "\n",
    "lstm_autoencoder.summary()"
   ]
  },
  {
   "cell_type": "code",
   "execution_count": 28,
   "metadata": {},
   "outputs": [],
   "source": [
    "# Define the Early Stopping callback\n",
    "early_stopping = EarlyStopping(monitor='val_loss', patience=2,mode=\"min\", verbose=1, restore_best_weights=True)"
   ]
  },
  {
   "cell_type": "code",
   "execution_count": 29,
   "metadata": {},
   "outputs": [
    {
     "name": "stdout",
     "output_type": "stream",
     "text": [
      "Epoch 1/400\n"
     ]
    },
    {
     "name": "stdout",
     "output_type": "stream",
     "text": [
      "11/11 - 7s - 655ms/step - loss: 0.3357 - val_loss: 0.3384\n",
      "Epoch 2/400\n",
      "11/11 - 0s - 16ms/step - loss: 0.3340 - val_loss: 0.3367\n",
      "Epoch 3/400\n",
      "11/11 - 0s - 16ms/step - loss: 0.3322 - val_loss: 0.3350\n",
      "Epoch 4/400\n",
      "11/11 - 0s - 16ms/step - loss: 0.3304 - val_loss: 0.3332\n",
      "Epoch 5/400\n",
      "11/11 - 0s - 19ms/step - loss: 0.3286 - val_loss: 0.3315\n",
      "Epoch 6/400\n",
      "11/11 - 0s - 17ms/step - loss: 0.3268 - val_loss: 0.3297\n",
      "Epoch 7/400\n",
      "11/11 - 0s - 17ms/step - loss: 0.3250 - val_loss: 0.3279\n",
      "Epoch 8/400\n",
      "11/11 - 0s - 16ms/step - loss: 0.3232 - val_loss: 0.3261\n",
      "Epoch 9/400\n",
      "11/11 - 0s - 17ms/step - loss: 0.3213 - val_loss: 0.3243\n",
      "Epoch 10/400\n",
      "11/11 - 0s - 16ms/step - loss: 0.3194 - val_loss: 0.3225\n",
      "Epoch 11/400\n",
      "11/11 - 0s - 17ms/step - loss: 0.3175 - val_loss: 0.3206\n",
      "Epoch 12/400\n",
      "11/11 - 0s - 16ms/step - loss: 0.3156 - val_loss: 0.3187\n",
      "Epoch 13/400\n",
      "11/11 - 0s - 16ms/step - loss: 0.3136 - val_loss: 0.3167\n",
      "Epoch 14/400\n",
      "11/11 - 0s - 17ms/step - loss: 0.3116 - val_loss: 0.3148\n",
      "Epoch 15/400\n",
      "11/11 - 0s - 19ms/step - loss: 0.3096 - val_loss: 0.3128\n",
      "Epoch 16/400\n",
      "11/11 - 0s - 17ms/step - loss: 0.3075 - val_loss: 0.3107\n",
      "Epoch 17/400\n",
      "11/11 - 0s - 16ms/step - loss: 0.3054 - val_loss: 0.3086\n",
      "Epoch 18/400\n",
      "11/11 - 0s - 16ms/step - loss: 0.3031 - val_loss: 0.3064\n",
      "Epoch 19/400\n",
      "11/11 - 0s - 16ms/step - loss: 0.3009 - val_loss: 0.3042\n",
      "Epoch 20/400\n",
      "11/11 - 0s - 16ms/step - loss: 0.2985 - val_loss: 0.3018\n",
      "Epoch 21/400\n",
      "11/11 - 0s - 16ms/step - loss: 0.2960 - val_loss: 0.2993\n",
      "Epoch 22/400\n",
      "11/11 - 0s - 16ms/step - loss: 0.2933 - val_loss: 0.2966\n",
      "Epoch 23/400\n",
      "11/11 - 0s - 16ms/step - loss: 0.2905 - val_loss: 0.2936\n",
      "Epoch 24/400\n",
      "11/11 - 0s - 16ms/step - loss: 0.2873 - val_loss: 0.2903\n",
      "Epoch 25/400\n",
      "11/11 - 0s - 16ms/step - loss: 0.2837 - val_loss: 0.2865\n",
      "Epoch 26/400\n",
      "11/11 - 0s - 17ms/step - loss: 0.2793 - val_loss: 0.2817\n",
      "Epoch 27/400\n",
      "11/11 - 0s - 16ms/step - loss: 0.2737 - val_loss: 0.2754\n",
      "Epoch 28/400\n",
      "11/11 - 0s - 16ms/step - loss: 0.2661 - val_loss: 0.2659\n",
      "Epoch 29/400\n",
      "11/11 - 0s - 16ms/step - loss: 0.2537 - val_loss: 0.2502\n",
      "Epoch 30/400\n",
      "11/11 - 0s - 16ms/step - loss: 0.2316 - val_loss: 0.2180\n",
      "Epoch 31/400\n",
      "11/11 - 0s - 17ms/step - loss: 0.1800 - val_loss: 0.1408\n",
      "Epoch 32/400\n",
      "11/11 - 0s - 17ms/step - loss: 0.1019 - val_loss: 0.1118\n",
      "Epoch 33/400\n",
      "11/11 - 0s - 16ms/step - loss: 0.0902 - val_loss: 0.1022\n",
      "Epoch 34/400\n",
      "11/11 - 0s - 15ms/step - loss: 0.0859 - val_loss: 0.1023\n",
      "Epoch 35/400\n",
      "11/11 - 0s - 16ms/step - loss: 0.0844 - val_loss: 0.1007\n",
      "Epoch 36/400\n",
      "11/11 - 0s - 16ms/step - loss: 0.0849 - val_loss: 0.1007\n",
      "Epoch 37/400\n",
      "11/11 - 0s - 16ms/step - loss: 0.0843 - val_loss: 0.1013\n",
      "Epoch 37: early stopping\n",
      "Restoring model weights from the end of the best epoch: 35.\n"
     ]
    }
   ],
   "source": [
    "epochs = 400\n",
    "batch = 32\n",
    "lr = 0.0001\n",
    "adam = optimizers.Adam(lr)\n",
    "lstm_autoencoder.compile(loss='mse', optimizer=adam)\n",
    "\n",
    "cp = ModelCheckpoint(filepath=\"lstm_autoencoder_classifier.keras\",\n",
    "                               save_best_only=True,\n",
    "                               verbose=0)\n",
    "\n",
    "tb = TensorBoard(log_dir='./logs',\n",
    "                histogram_freq=0,\n",
    "                write_graph=True,\n",
    "                write_images=True)\n",
    "\n",
    "lstm_autoencoder_history = lstm_autoencoder.fit(x_train,x_train, \n",
    "                                                epochs=epochs, \n",
    "                                                batch_size=batch,\n",
    "                                                validation_data=(x_valdation, x_valdation),\n",
    "                                                callbacks=early_stopping,\n",
    "                                                verbose=2).history\n"
   ]
  },
  {
   "cell_type": "code",
   "execution_count": 30,
   "metadata": {},
   "outputs": [
    {
     "data": {
      "image/png": "[encoded data removed]",
      "text/plain": [
       "<Figure size 640x480 with 1 Axes>"
      ]
     },
     "metadata": {},
     "output_type": "display_data"
    }
   ],
   "source": [
    "plt.plot(lstm_autoencoder_history['loss'], linewidth=2, label='Train')\n",
    "plt.plot(lstm_autoencoder_history['val_loss'], linewidth=2, label='Valid')\n",
    "plt.legend(loc='upper right')\n",
    "plt.show()"
   ]
  },
  {
   "cell_type": "code",
   "execution_count": 31,
   "metadata": {},
   "outputs": [
    {
     "name": "stdout",
     "output_type": "stream",
     "text": [
      "\u001b[1m11/11\u001b[0m \u001b[32m━━━━━━━━━━━━━━━━━━━━\u001b[0m\u001b[37m\u001b[0m \u001b[1m1s\u001b[0m 64ms/step\n",
      "Reconstruction error threshold: 0.5651580729688603\n"
     ]
    },
    {
     "data": {
      "image/png": "[encoded data removed]",
      "text/plain": [
       "<Figure size 640x480 with 1 Axes>"
      ]
     },
     "metadata": {},
     "output_type": "display_data"
    }
   ],
   "source": [
    "# Mean Absolute Error loss\n",
    "x_train_pred = lstm_autoencoder.predict(x_train)\n",
    "train_mae_loss = np.mean(np.abs(x_train_pred - x_train), axis=1)\n",
    "\n",
    "plt.hist(train_mae_loss, bins=50)\n",
    "plt.xlabel('Train MAE loss')\n",
    "plt.ylabel('Number of Samples')\n",
    "\n",
    "# Set reconstruction error threshold\n",
    "threshold = np.max(train_mae_loss)\n",
    "\n",
    "print('Reconstruction error threshold:',threshold)"
   ]
  },
  {
   "cell_type": "code",
   "execution_count": 32,
   "metadata": {},
   "outputs": [
    {
     "name": "stdout",
     "output_type": "stream",
     "text": [
      "\u001b[1m5/5\u001b[0m \u001b[32m━━━━━━━━━━━━━━━━━━━━\u001b[0m\u001b[37m\u001b[0m \u001b[1m0s\u001b[0m 2ms/step \n"
     ]
    },
    {
     "data": {
      "text/plain": [
       "Text(0, 0.5, 'Number of samples')"
      ]
     },
     "execution_count": 32,
     "metadata": {},
     "output_type": "execute_result"
    },
    {
     "data": {
      "image/png": "[encoded data removed]",
      "text/plain": [
       "<Figure size 640x480 with 1 Axes>"
      ]
     },
     "metadata": {},
     "output_type": "display_data"
    }
   ],
   "source": [
    "X_test_pred = lstm_autoencoder.predict(x_test, verbose=1)\n",
    "test_mae_loss = np.mean(np.abs(X_test_pred-x_test), axis=1)\n",
    "\n",
    "plt.hist(test_mae_loss, bins=50)\n",
    "plt.xlabel('Test MAE loss')\n",
    "plt.ylabel('Number of samples')"
   ]
  },
  {
   "cell_type": "code",
   "execution_count": 33,
   "metadata": {},
   "outputs": [
    {
     "data": {
      "text/html": [
       "<div>\n",
       "<style scoped>\n",
       "    .dataframe tbody tr th:only-of-type {\n",
       "        vertical-align: middle;\n",
       "    }\n",
       "\n",
       "    .dataframe tbody tr th {\n",
       "        vertical-align: top;\n",
       "    }\n",
       "\n",
       "    .dataframe thead th {\n",
       "        text-align: right;\n",
       "    }\n",
       "</style>\n",
       "<table border=\"1\" class=\"dataframe\">\n",
       "  <thead>\n",
       "    <tr style=\"text-align: right;\">\n",
       "      <th></th>\n",
       "      <th>timestamp</th>\n",
       "      <th>humidity</th>\n",
       "      <th>humidity_status</th>\n",
       "      <th>humidity_standar</th>\n",
       "      <th>loss</th>\n",
       "      <th>threshold</th>\n",
       "      <th>anomaly</th>\n",
       "    </tr>\n",
       "  </thead>\n",
       "  <tbody>\n",
       "    <tr>\n",
       "      <th>864</th>\n",
       "      <td>2023-01-04 00:00:00</td>\n",
       "      <td>67.93</td>\n",
       "      <td>0</td>\n",
       "      <td>0.670303</td>\n",
       "      <td>0.178342</td>\n",
       "      <td>0.565158</td>\n",
       "      <td>False</td>\n",
       "    </tr>\n",
       "    <tr>\n",
       "      <th>865</th>\n",
       "      <td>2023-01-04 00:05:00</td>\n",
       "      <td>47.10</td>\n",
       "      <td>0</td>\n",
       "      <td>0.721751</td>\n",
       "      <td>0.229769</td>\n",
       "      <td>0.565158</td>\n",
       "      <td>False</td>\n",
       "    </tr>\n",
       "    <tr>\n",
       "      <th>866</th>\n",
       "      <td>2023-01-04 00:10:00</td>\n",
       "      <td>79.69</td>\n",
       "      <td>1</td>\n",
       "      <td>1.456215</td>\n",
       "      <td>0.963923</td>\n",
       "      <td>0.565158</td>\n",
       "      <td>True</td>\n",
       "    </tr>\n",
       "    <tr>\n",
       "      <th>867</th>\n",
       "      <td>2023-01-04 00:15:00</td>\n",
       "      <td>65.35</td>\n",
       "      <td>0</td>\n",
       "      <td>0.497883</td>\n",
       "      <td>0.005994</td>\n",
       "      <td>0.565158</td>\n",
       "      <td>False</td>\n",
       "    </tr>\n",
       "    <tr>\n",
       "      <th>868</th>\n",
       "      <td>2023-01-04 00:20:00</td>\n",
       "      <td>43.16</td>\n",
       "      <td>0</td>\n",
       "      <td>0.985059</td>\n",
       "      <td>0.492963</td>\n",
       "      <td>0.565158</td>\n",
       "      <td>False</td>\n",
       "    </tr>\n",
       "    <tr>\n",
       "      <th>...</th>\n",
       "      <td>...</td>\n",
       "      <td>...</td>\n",
       "      <td>...</td>\n",
       "      <td>...</td>\n",
       "      <td>...</td>\n",
       "      <td>...</td>\n",
       "      <td>...</td>\n",
       "    </tr>\n",
       "    <tr>\n",
       "      <th>995</th>\n",
       "      <td>2023-01-04 10:55:00</td>\n",
       "      <td>57.36</td>\n",
       "      <td>0</td>\n",
       "      <td>0.036083</td>\n",
       "      <td>0.455618</td>\n",
       "      <td>0.565158</td>\n",
       "      <td>False</td>\n",
       "    </tr>\n",
       "    <tr>\n",
       "      <th>996</th>\n",
       "      <td>2023-01-04 11:00:00</td>\n",
       "      <td>77.07</td>\n",
       "      <td>1</td>\n",
       "      <td>1.281122</td>\n",
       "      <td>0.788902</td>\n",
       "      <td>0.565158</td>\n",
       "      <td>True</td>\n",
       "    </tr>\n",
       "    <tr>\n",
       "      <th>997</th>\n",
       "      <td>2023-01-04 11:05:00</td>\n",
       "      <td>72.28</td>\n",
       "      <td>1</td>\n",
       "      <td>0.961010</td>\n",
       "      <td>0.468925</td>\n",
       "      <td>0.565158</td>\n",
       "      <td>False</td>\n",
       "    </tr>\n",
       "    <tr>\n",
       "      <th>998</th>\n",
       "      <td>2023-01-04 11:10:00</td>\n",
       "      <td>68.69</td>\n",
       "      <td>0</td>\n",
       "      <td>0.721093</td>\n",
       "      <td>0.229111</td>\n",
       "      <td>0.565158</td>\n",
       "      <td>False</td>\n",
       "    </tr>\n",
       "    <tr>\n",
       "      <th>999</th>\n",
       "      <td>2023-01-04 11:15:00</td>\n",
       "      <td>45.34</td>\n",
       "      <td>0</td>\n",
       "      <td>0.839371</td>\n",
       "      <td>0.347338</td>\n",
       "      <td>0.565158</td>\n",
       "      <td>False</td>\n",
       "    </tr>\n",
       "  </tbody>\n",
       "</table>\n",
       "<p>136 rows × 7 columns</p>\n",
       "</div>"
      ],
      "text/plain": [
       "               timestamp  humidity humidity_status  humidity_standar  \\\n",
       "864  2023-01-04 00:00:00     67.93               0          0.670303   \n",
       "865  2023-01-04 00:05:00     47.10               0          0.721751   \n",
       "866  2023-01-04 00:10:00     79.69               1          1.456215   \n",
       "867  2023-01-04 00:15:00     65.35               0          0.497883   \n",
       "868  2023-01-04 00:20:00     43.16               0          0.985059   \n",
       "..                   ...       ...             ...               ...   \n",
       "995  2023-01-04 10:55:00     57.36               0          0.036083   \n",
       "996  2023-01-04 11:00:00     77.07               1          1.281122   \n",
       "997  2023-01-04 11:05:00     72.28               1          0.961010   \n",
       "998  2023-01-04 11:10:00     68.69               0          0.721093   \n",
       "999  2023-01-04 11:15:00     45.34               0          0.839371   \n",
       "\n",
       "         loss  threshold  anomaly  \n",
       "864  0.178342   0.565158    False  \n",
       "865  0.229769   0.565158    False  \n",
       "866  0.963923   0.565158     True  \n",
       "867  0.005994   0.565158    False  \n",
       "868  0.492963   0.565158    False  \n",
       "..        ...        ...      ...  \n",
       "995  0.455618   0.565158    False  \n",
       "996  0.788902   0.565158     True  \n",
       "997  0.468925   0.565158    False  \n",
       "998  0.229111   0.565158    False  \n",
       "999  0.347338   0.565158    False  \n",
       "\n",
       "[136 rows x 7 columns]"
      ]
     },
     "execution_count": 33,
     "metadata": {},
     "output_type": "execute_result"
    }
   ],
   "source": [
    "anomaly_df = test.copy()\n",
    "anomaly_df.loc[:, 'loss'] = test_mae_loss\n",
    "anomaly_df.loc[:, 'threshold'] = threshold\n",
    "anomaly_df.loc[:, 'anomaly'] = anomaly_df['loss'] > anomaly_df['threshold']\n",
    "anomaly_df"
   ]
  },
  {
   "cell_type": "code",
   "execution_count": 34,
   "metadata": {},
   "outputs": [
    {
     "name": "stderr",
     "output_type": "stream",
     "text": [
      "C:\\Users\\adnan\\AppData\\Local\\Temp\\ipykernel_8816\\1612888637.py:1: FutureWarning: Setting an item of incompatible dtype is deprecated and will raise an error in a future version of pandas. Value '0' has dtype incompatible with bool, please explicitly cast to a compatible dtype first.\n",
      "  anomaly_df.loc[anomaly_df['anomaly']==False]=0\n"
     ]
    },
    {
     "data": {
      "text/html": [
       "<div>\n",
       "<style scoped>\n",
       "    .dataframe tbody tr th:only-of-type {\n",
       "        vertical-align: middle;\n",
       "    }\n",
       "\n",
       "    .dataframe tbody tr th {\n",
       "        vertical-align: top;\n",
       "    }\n",
       "\n",
       "    .dataframe thead th {\n",
       "        text-align: right;\n",
       "    }\n",
       "</style>\n",
       "<table border=\"1\" class=\"dataframe\">\n",
       "  <thead>\n",
       "    <tr style=\"text-align: right;\">\n",
       "      <th></th>\n",
       "      <th>timestamp</th>\n",
       "      <th>humidity</th>\n",
       "      <th>humidity_status</th>\n",
       "      <th>humidity_standar</th>\n",
       "      <th>loss</th>\n",
       "      <th>threshold</th>\n",
       "      <th>anomaly</th>\n",
       "    </tr>\n",
       "  </thead>\n",
       "  <tbody>\n",
       "    <tr>\n",
       "      <th>864</th>\n",
       "      <td>0</td>\n",
       "      <td>0.0</td>\n",
       "      <td>0</td>\n",
       "      <td>0.0</td>\n",
       "      <td>0.0</td>\n",
       "      <td>0.0</td>\n",
       "      <td>0</td>\n",
       "    </tr>\n",
       "    <tr>\n",
       "      <th>865</th>\n",
       "      <td>0</td>\n",
       "      <td>0.0</td>\n",
       "      <td>0</td>\n",
       "      <td>0.0</td>\n",
       "      <td>0.0</td>\n",
       "      <td>0.0</td>\n",
       "      <td>0</td>\n",
       "    </tr>\n",
       "    <tr>\n",
       "      <th>866</th>\n",
       "      <td>1</td>\n",
       "      <td>1.0</td>\n",
       "      <td>1</td>\n",
       "      <td>1.0</td>\n",
       "      <td>1.0</td>\n",
       "      <td>1.0</td>\n",
       "      <td>1</td>\n",
       "    </tr>\n",
       "    <tr>\n",
       "      <th>867</th>\n",
       "      <td>0</td>\n",
       "      <td>0.0</td>\n",
       "      <td>0</td>\n",
       "      <td>0.0</td>\n",
       "      <td>0.0</td>\n",
       "      <td>0.0</td>\n",
       "      <td>0</td>\n",
       "    </tr>\n",
       "    <tr>\n",
       "      <th>868</th>\n",
       "      <td>0</td>\n",
       "      <td>0.0</td>\n",
       "      <td>0</td>\n",
       "      <td>0.0</td>\n",
       "      <td>0.0</td>\n",
       "      <td>0.0</td>\n",
       "      <td>0</td>\n",
       "    </tr>\n",
       "    <tr>\n",
       "      <th>...</th>\n",
       "      <td>...</td>\n",
       "      <td>...</td>\n",
       "      <td>...</td>\n",
       "      <td>...</td>\n",
       "      <td>...</td>\n",
       "      <td>...</td>\n",
       "      <td>...</td>\n",
       "    </tr>\n",
       "    <tr>\n",
       "      <th>995</th>\n",
       "      <td>0</td>\n",
       "      <td>0.0</td>\n",
       "      <td>0</td>\n",
       "      <td>0.0</td>\n",
       "      <td>0.0</td>\n",
       "      <td>0.0</td>\n",
       "      <td>0</td>\n",
       "    </tr>\n",
       "    <tr>\n",
       "      <th>996</th>\n",
       "      <td>1</td>\n",
       "      <td>1.0</td>\n",
       "      <td>1</td>\n",
       "      <td>1.0</td>\n",
       "      <td>1.0</td>\n",
       "      <td>1.0</td>\n",
       "      <td>1</td>\n",
       "    </tr>\n",
       "    <tr>\n",
       "      <th>997</th>\n",
       "      <td>0</td>\n",
       "      <td>0.0</td>\n",
       "      <td>0</td>\n",
       "      <td>0.0</td>\n",
       "      <td>0.0</td>\n",
       "      <td>0.0</td>\n",
       "      <td>0</td>\n",
       "    </tr>\n",
       "    <tr>\n",
       "      <th>998</th>\n",
       "      <td>0</td>\n",
       "      <td>0.0</td>\n",
       "      <td>0</td>\n",
       "      <td>0.0</td>\n",
       "      <td>0.0</td>\n",
       "      <td>0.0</td>\n",
       "      <td>0</td>\n",
       "    </tr>\n",
       "    <tr>\n",
       "      <th>999</th>\n",
       "      <td>0</td>\n",
       "      <td>0.0</td>\n",
       "      <td>0</td>\n",
       "      <td>0.0</td>\n",
       "      <td>0.0</td>\n",
       "      <td>0.0</td>\n",
       "      <td>0</td>\n",
       "    </tr>\n",
       "  </tbody>\n",
       "</table>\n",
       "<p>136 rows × 7 columns</p>\n",
       "</div>"
      ],
      "text/plain": [
       "    timestamp  humidity humidity_status  humidity_standar  loss  threshold  \\\n",
       "864         0       0.0               0               0.0   0.0        0.0   \n",
       "865         0       0.0               0               0.0   0.0        0.0   \n",
       "866         1       1.0               1               1.0   1.0        1.0   \n",
       "867         0       0.0               0               0.0   0.0        0.0   \n",
       "868         0       0.0               0               0.0   0.0        0.0   \n",
       "..        ...       ...             ...               ...   ...        ...   \n",
       "995         0       0.0               0               0.0   0.0        0.0   \n",
       "996         1       1.0               1               1.0   1.0        1.0   \n",
       "997         0       0.0               0               0.0   0.0        0.0   \n",
       "998         0       0.0               0               0.0   0.0        0.0   \n",
       "999         0       0.0               0               0.0   0.0        0.0   \n",
       "\n",
       "    anomaly  \n",
       "864       0  \n",
       "865       0  \n",
       "866       1  \n",
       "867       0  \n",
       "868       0  \n",
       "..      ...  \n",
       "995       0  \n",
       "996       1  \n",
       "997       0  \n",
       "998       0  \n",
       "999       0  \n",
       "\n",
       "[136 rows x 7 columns]"
      ]
     },
     "execution_count": 34,
     "metadata": {},
     "output_type": "execute_result"
    }
   ],
   "source": [
    "anomaly_df.loc[anomaly_df['anomaly']==False]=0\n",
    "anomaly_df.loc[anomaly_df['anomaly']==True]=1\n",
    "anomaly_df"
   ]
  },
  {
   "cell_type": "code",
   "execution_count": 35,
   "metadata": {},
   "outputs": [],
   "source": [
    "anomaly_df_temp_status=anomaly_df[\"humidity_status\"].astype(int)\n",
    "anomaly_df_predicted=anomaly_df[\"anomaly\"].astype(int)"
   ]
  },
  {
   "cell_type": "code",
   "execution_count": 36,
   "metadata": {},
   "outputs": [
    {
     "name": "stdout",
     "output_type": "stream",
     "text": [
      "              precision    recall  f1-score   support\n",
      "\n",
      "           0       1.00      1.00      1.00        82\n",
      "           1       1.00      1.00      1.00        54\n",
      "\n",
      "    accuracy                           1.00       136\n",
      "   macro avg       1.00      1.00      1.00       136\n",
      "weighted avg       1.00      1.00      1.00       136\n",
      "\n",
      "[[82  0]\n",
      " [ 0 54]]\n"
     ]
    }
   ],
   "source": [
    "report=classification_report(anomaly_df_temp_status, anomaly_df_predicted)\n",
    "print(report)\n",
    "conf=confusion_matrix(anomaly_df_temp_status, anomaly_df_predicted)\n",
    "print(conf)"
   ]
  },
  {
   "cell_type": "markdown",
   "metadata": {},
   "source": [
    "# ___________________________________________________________________"
   ]
  },
  {
   "cell_type": "code",
   "execution_count": 37,
   "metadata": {},
   "outputs": [
    {
     "data": {
      "text/plain": [
       "(576, 1, 1)"
      ]
     },
     "execution_count": 37,
     "metadata": {},
     "output_type": "execute_result"
    }
   ],
   "source": [
    "data_d = train.drop(['humidity',\"humidity_status\",\"timestamp\"], axis=1).values\n",
    "x_train_both = sequence(data_d, 1, 1)\n",
    "x_train_both.shape"
   ]
  },
  {
   "cell_type": "code",
   "execution_count": 38,
   "metadata": {},
   "outputs": [
    {
     "data": {
      "text/plain": [
       "(288, 1, 1)"
      ]
     },
     "execution_count": 38,
     "metadata": {},
     "output_type": "execute_result"
    }
   ],
   "source": [
    "data_d = valdation.drop(['humidity',\"humidity_status\",\"timestamp\"], axis=1).values\n",
    "x_valdation_both = sequence(data_d, 1, 1)\n",
    "x_valdation_both.shape"
   ]
  },
  {
   "cell_type": "code",
   "execution_count": 39,
   "metadata": {},
   "outputs": [
    {
     "data": {
      "text/plain": [
       "(136, 1, 1)"
      ]
     },
     "execution_count": 39,
     "metadata": {},
     "output_type": "execute_result"
    }
   ],
   "source": [
    "data_t = test.drop(['humidity',\"humidity_status\",\"timestamp\"], axis=1).values\n",
    "x_test_both = sequence(data_t, 1, 1)\n",
    "x_test_both.shape"
   ]
  },
  {
   "cell_type": "code",
   "execution_count": 40,
   "metadata": {},
   "outputs": [
    {
     "data": {
      "text/html": [
       "<pre style=\"white-space:pre;overflow-x:auto;line-height:normal;font-family:Menlo,'DejaVu Sans Mono',consolas,'Courier New',monospace\"><span style=\"font-weight: bold\">Model: \"sequential_1\"</span>\n",
       "</pre>\n"
      ],
      "text/plain": [
       "\u001b[1mModel: \"sequential_1\"\u001b[0m\n"
      ]
     },
     "metadata": {},
     "output_type": "display_data"
    },
    {
     "data": {
      "text/html": [
       "<pre style=\"white-space:pre;overflow-x:auto;line-height:normal;font-family:Menlo,'DejaVu Sans Mono',consolas,'Courier New',monospace\">┏━━━━━━━━━━━━━━━━━━━━━━━━━━━━━━━━━┳━━━━━━━━━━━━━━━━━━━━━━━━┳━━━━━━━━━━━━━━━┓\n",
       "┃<span style=\"font-weight: bold\"> Layer (type)                    </span>┃<span style=\"font-weight: bold\"> Output Shape           </span>┃<span style=\"font-weight: bold\">       Param # </span>┃\n",
       "┡━━━━━━━━━━━━━━━━━━━━━━━━━━━━━━━━━╇━━━━━━━━━━━━━━━━━━━━━━━━╇━━━━━━━━━━━━━━━┩\n",
       "│ lstm_12 (<span style=\"color: #0087ff; text-decoration-color: #0087ff\">LSTM</span>)                  │ (<span style=\"color: #00d7ff; text-decoration-color: #00d7ff\">None</span>, <span style=\"color: #00af00; text-decoration-color: #00af00\">512</span>)            │     <span style=\"color: #00af00; text-decoration-color: #00af00\">1,052,672</span> │\n",
       "├─────────────────────────────────┼────────────────────────┼───────────────┤\n",
       "│ repeat_vector_1 (<span style=\"color: #0087ff; text-decoration-color: #0087ff\">RepeatVector</span>)  │ (<span style=\"color: #00d7ff; text-decoration-color: #00d7ff\">None</span>, <span style=\"color: #00af00; text-decoration-color: #00af00\">1</span>, <span style=\"color: #00af00; text-decoration-color: #00af00\">512</span>)         │             <span style=\"color: #00af00; text-decoration-color: #00af00\">0</span> │\n",
       "├─────────────────────────────────┼────────────────────────┼───────────────┤\n",
       "│ lstm_13 (<span style=\"color: #0087ff; text-decoration-color: #0087ff\">LSTM</span>)                  │ (<span style=\"color: #00d7ff; text-decoration-color: #00d7ff\">None</span>, <span style=\"color: #00af00; text-decoration-color: #00af00\">1</span>, <span style=\"color: #00af00; text-decoration-color: #00af00\">512</span>)         │     <span style=\"color: #00af00; text-decoration-color: #00af00\">2,099,200</span> │\n",
       "├─────────────────────────────────┼────────────────────────┼───────────────┤\n",
       "│ time_distributed_1              │ (<span style=\"color: #00d7ff; text-decoration-color: #00d7ff\">None</span>, <span style=\"color: #00af00; text-decoration-color: #00af00\">1</span>, <span style=\"color: #00af00; text-decoration-color: #00af00\">1</span>)           │           <span style=\"color: #00af00; text-decoration-color: #00af00\">513</span> │\n",
       "│ (<span style=\"color: #0087ff; text-decoration-color: #0087ff\">TimeDistributed</span>)               │                        │               │\n",
       "└─────────────────────────────────┴────────────────────────┴───────────────┘\n",
       "</pre>\n"
      ],
      "text/plain": [
       "┏━━━━━━━━━━━━━━━━━━━━━━━━━━━━━━━━━┳━━━━━━━━━━━━━━━━━━━━━━━━┳━━━━━━━━━━━━━━━┓\n",
       "┃\u001b[1m \u001b[0m\u001b[1mLayer (type)                   \u001b[0m\u001b[1m \u001b[0m┃\u001b[1m \u001b[0m\u001b[1mOutput Shape          \u001b[0m\u001b[1m \u001b[0m┃\u001b[1m \u001b[0m\u001b[1m      Param #\u001b[0m\u001b[1m \u001b[0m┃\n",
       "┡━━━━━━━━━━━━━━━━━━━━━━━━━━━━━━━━━╇━━━━━━━━━━━━━━━━━━━━━━━━╇━━━━━━━━━━━━━━━┩\n",
       "│ lstm_12 (\u001b[38;5;33mLSTM\u001b[0m)                  │ (\u001b[38;5;45mNone\u001b[0m, \u001b[38;5;34m512\u001b[0m)            │     \u001b[38;5;34m1,052,672\u001b[0m │\n",
       "├─────────────────────────────────┼────────────────────────┼───────────────┤\n",
       "│ repeat_vector_1 (\u001b[38;5;33mRepeatVector\u001b[0m)  │ (\u001b[38;5;45mNone\u001b[0m, \u001b[38;5;34m1\u001b[0m, \u001b[38;5;34m512\u001b[0m)         │             \u001b[38;5;34m0\u001b[0m │\n",
       "├─────────────────────────────────┼────────────────────────┼───────────────┤\n",
       "│ lstm_13 (\u001b[38;5;33mLSTM\u001b[0m)                  │ (\u001b[38;5;45mNone\u001b[0m, \u001b[38;5;34m1\u001b[0m, \u001b[38;5;34m512\u001b[0m)         │     \u001b[38;5;34m2,099,200\u001b[0m │\n",
       "├─────────────────────────────────┼────────────────────────┼───────────────┤\n",
       "│ time_distributed_1              │ (\u001b[38;5;45mNone\u001b[0m, \u001b[38;5;34m1\u001b[0m, \u001b[38;5;34m1\u001b[0m)           │           \u001b[38;5;34m513\u001b[0m │\n",
       "│ (\u001b[38;5;33mTimeDistributed\u001b[0m)               │                        │               │\n",
       "└─────────────────────────────────┴────────────────────────┴───────────────┘\n"
      ]
     },
     "metadata": {},
     "output_type": "display_data"
    },
    {
     "data": {
      "text/html": [
       "<pre style=\"white-space:pre;overflow-x:auto;line-height:normal;font-family:Menlo,'DejaVu Sans Mono',consolas,'Courier New',monospace\"><span style=\"font-weight: bold\"> Total params: </span><span style=\"color: #00af00; text-decoration-color: #00af00\">3,152,385</span> (12.03 MB)\n",
       "</pre>\n"
      ],
      "text/plain": [
       "\u001b[1m Total params: \u001b[0m\u001b[38;5;34m3,152,385\u001b[0m (12.03 MB)\n"
      ]
     },
     "metadata": {},
     "output_type": "display_data"
    },
    {
     "data": {
      "text/html": [
       "<pre style=\"white-space:pre;overflow-x:auto;line-height:normal;font-family:Menlo,'DejaVu Sans Mono',consolas,'Courier New',monospace\"><span style=\"font-weight: bold\"> Trainable params: </span><span style=\"color: #00af00; text-decoration-color: #00af00\">3,152,385</span> (12.03 MB)\n",
       "</pre>\n"
      ],
      "text/plain": [
       "\u001b[1m Trainable params: \u001b[0m\u001b[38;5;34m3,152,385\u001b[0m (12.03 MB)\n"
      ]
     },
     "metadata": {},
     "output_type": "display_data"
    },
    {
     "data": {
      "text/html": [
       "<pre style=\"white-space:pre;overflow-x:auto;line-height:normal;font-family:Menlo,'DejaVu Sans Mono',consolas,'Courier New',monospace\"><span style=\"font-weight: bold\"> Non-trainable params: </span><span style=\"color: #00af00; text-decoration-color: #00af00\">0</span> (0.00 B)\n",
       "</pre>\n"
      ],
      "text/plain": [
       "\u001b[1m Non-trainable params: \u001b[0m\u001b[38;5;34m0\u001b[0m (0.00 B)\n"
      ]
     },
     "metadata": {},
     "output_type": "display_data"
    }
   ],
   "source": [
    "timesteps = x_train_both.shape[1]\n",
    "n_features = x_train_both.shape[2]\n",
    "\n",
    "lstm_autoencoder_both = Sequential()\n",
    "# Encoder\n",
    "lstm_autoencoder_both.add(Input(shape=(timesteps, n_features)))\n",
    "\n",
    "lstm_autoencoder_both.add(LSTM(512, activation=\"sigmoid\", return_sequences=False))\n",
    "\n",
    "# Adding RepeatVector to match the input sequence length for decoding\n",
    "lstm_autoencoder_both.add(RepeatVector(timesteps))\n",
    "\n",
    "# Decoder\n",
    "lstm_autoencoder_both.add(LSTM(512, activation=\"sigmoid\", return_sequences=True))\n",
    "\n",
    "lstm_autoencoder_both.add(TimeDistributed(Dense(n_features)))\n",
    "\n",
    "lstm_autoencoder_both.summary()"
   ]
  },
  {
   "cell_type": "code",
   "execution_count": 41,
   "metadata": {},
   "outputs": [],
   "source": [
    "# Define the Early Stopping callback\n",
    "early_stopping = EarlyStopping(monitor='val_loss', patience=2,mode=\"min\", verbose=1, restore_best_weights=True)"
   ]
  },
  {
   "cell_type": "code",
   "execution_count": 42,
   "metadata": {},
   "outputs": [
    {
     "name": "stdout",
     "output_type": "stream",
     "text": [
      "Epoch 1/400\n",
      "18/18 - 1s - 70ms/step - loss: 0.3784 - val_loss: 0.3619\n",
      "Epoch 2/400\n",
      "18/18 - 0s - 8ms/step - loss: 0.2752 - val_loss: 0.2965\n",
      "Epoch 3/400\n",
      "18/18 - 0s - 8ms/step - loss: 0.2556 - val_loss: 0.2980\n",
      "Epoch 4/400\n",
      "18/18 - 0s - 8ms/step - loss: 0.2552 - val_loss: 0.2931\n",
      "Epoch 5/400\n",
      "18/18 - 0s - 8ms/step - loss: 0.2546 - val_loss: 0.2944\n",
      "Epoch 6/400\n",
      "18/18 - 0s - 8ms/step - loss: 0.2530 - val_loss: 0.2917\n",
      "Epoch 7/400\n",
      "18/18 - 0s - 8ms/step - loss: 0.2533 - val_loss: 0.2942\n",
      "Epoch 8/400\n",
      "18/18 - 0s - 8ms/step - loss: 0.2517 - val_loss: 0.2902\n",
      "Epoch 9/400\n",
      "18/18 - 0s - 8ms/step - loss: 0.2518 - val_loss: 0.2913\n",
      "Epoch 10/400\n",
      "18/18 - 0s - 8ms/step - loss: 0.2534 - val_loss: 0.2976\n",
      "Epoch 10: early stopping\n",
      "Restoring model weights from the end of the best epoch: 8.\n"
     ]
    }
   ],
   "source": [
    "epochs = 400\n",
    "batch = 32\n",
    "lr = 0.0001\n",
    "adam = optimizers.Adam(lr)\n",
    "lstm_autoencoder_both.compile(loss='mse', optimizer=adam)\n",
    "\n",
    "cp = ModelCheckpoint(filepath=\"lstm_autoencoder_classifier.keras\",\n",
    "                               save_best_only=True,\n",
    "                               verbose=0)\n",
    "\n",
    "tb = TensorBoard(log_dir='./logs',\n",
    "                histogram_freq=0,\n",
    "                write_graph=True,\n",
    "                write_images=True)\n",
    "\n",
    "lstm_autoencoder_history_both = lstm_autoencoder_both.fit(x_train_both,x_train_both, \n",
    "                                                epochs=epochs, \n",
    "                                                batch_size=batch,\n",
    "                                                validation_data=(x_valdation_both, x_valdation_both),\n",
    "                                                callbacks=early_stopping,\n",
    "                                                verbose=2).history\n"
   ]
  },
  {
   "cell_type": "code",
   "execution_count": 43,
   "metadata": {},
   "outputs": [
    {
     "data": {
      "image/png": "[encoded data removed]",
      "text/plain": [
       "<Figure size 640x480 with 1 Axes>"
      ]
     },
     "metadata": {},
     "output_type": "display_data"
    }
   ],
   "source": [
    "plt.plot(lstm_autoencoder_history_both['loss'], linewidth=2, label='Train')\n",
    "plt.plot(lstm_autoencoder_history_both['val_loss'], linewidth=2, label='Valid')\n",
    "plt.legend(loc='upper right')\n",
    "plt.show()"
   ]
  },
  {
   "cell_type": "code",
   "execution_count": 44,
   "metadata": {},
   "outputs": [
    {
     "name": "stdout",
     "output_type": "stream",
     "text": [
      "\u001b[1m18/18\u001b[0m \u001b[32m━━━━━━━━━━━━━━━━━━━━\u001b[0m\u001b[37m\u001b[0m \u001b[1m0s\u001b[0m 1ms/step  \n"
     ]
    },
    {
     "data": {
      "text/plain": [
       "Text(0, 0.5, 'Number of Samples')"
      ]
     },
     "execution_count": 44,
     "metadata": {},
     "output_type": "execute_result"
    },
    {
     "data": {
      "image/png": "[encoded data removed]",
      "text/plain": [
       "<Figure size 640x480 with 1 Axes>"
      ]
     },
     "metadata": {},
     "output_type": "display_data"
    }
   ],
   "source": [
    "# Mean Absolute Error loss\n",
    "x_train_pred = lstm_autoencoder_both.predict(x_train_both)\n",
    "train_mae_loss = np.mean(np.abs(x_train_pred - x_train_both), axis=1)\n",
    "\n",
    "plt.hist(train_mae_loss, bins=50)\n",
    "plt.xlabel('Train MAE loss')\n",
    "plt.ylabel('Number of Samples')"
   ]
  },
  {
   "cell_type": "code",
   "execution_count": 45,
   "metadata": {},
   "outputs": [
    {
     "data": {
      "text/plain": [
       "0.4314975721550772"
      ]
     },
     "execution_count": 45,
     "metadata": {},
     "output_type": "execute_result"
    }
   ],
   "source": [
    "threshold = np.median(train_mae_loss)\n",
    "threshold"
   ]
  },
  {
   "cell_type": "code",
   "execution_count": 46,
   "metadata": {},
   "outputs": [
    {
     "name": "stdout",
     "output_type": "stream",
     "text": [
      "\u001b[1m1/5\u001b[0m \u001b[32m━━━━\u001b[0m\u001b[37m━━━━━━━━━━━━━━━━\u001b[0m \u001b[1m0s\u001b[0m 11ms/step"
     ]
    },
    {
     "name": "stdout",
     "output_type": "stream",
     "text": [
      "\u001b[1m5/5\u001b[0m \u001b[32m━━━━━━━━━━━━━━━━━━━━\u001b[0m\u001b[37m\u001b[0m \u001b[1m0s\u001b[0m 32ms/step\n"
     ]
    },
    {
     "data": {
      "text/plain": [
       "Text(0, 0.5, 'Number of samples')"
      ]
     },
     "execution_count": 46,
     "metadata": {},
     "output_type": "execute_result"
    },
    {
     "data": {
      "image/png": "[encoded data removed]",
      "text/plain": [
       "<Figure size 640x480 with 1 Axes>"
      ]
     },
     "metadata": {},
     "output_type": "display_data"
    }
   ],
   "source": [
    "X_test_pred = lstm_autoencoder_both.predict(x_test_both, verbose=1)\n",
    "test_mae_loss = np.mean(np.abs(X_test_pred-x_test_both), axis=1)\n",
    "\n",
    "plt.hist(test_mae_loss, bins=50)\n",
    "plt.xlabel('Test MAE loss')\n",
    "plt.ylabel('Number of samples')"
   ]
  },
  {
   "cell_type": "code",
   "execution_count": 47,
   "metadata": {},
   "outputs": [
    {
     "data": {
      "text/html": [
       "<div>\n",
       "<style scoped>\n",
       "    .dataframe tbody tr th:only-of-type {\n",
       "        vertical-align: middle;\n",
       "    }\n",
       "\n",
       "    .dataframe tbody tr th {\n",
       "        vertical-align: top;\n",
       "    }\n",
       "\n",
       "    .dataframe thead th {\n",
       "        text-align: right;\n",
       "    }\n",
       "</style>\n",
       "<table border=\"1\" class=\"dataframe\">\n",
       "  <thead>\n",
       "    <tr style=\"text-align: right;\">\n",
       "      <th></th>\n",
       "      <th>timestamp</th>\n",
       "      <th>humidity</th>\n",
       "      <th>humidity_status</th>\n",
       "      <th>humidity_standar</th>\n",
       "      <th>loss</th>\n",
       "      <th>threshold</th>\n",
       "      <th>anomaly</th>\n",
       "    </tr>\n",
       "  </thead>\n",
       "  <tbody>\n",
       "    <tr>\n",
       "      <th>864</th>\n",
       "      <td>2023-01-04 00:00:00</td>\n",
       "      <td>67.93</td>\n",
       "      <td>0</td>\n",
       "      <td>0.670303</td>\n",
       "      <td>0.161385</td>\n",
       "      <td>0.431498</td>\n",
       "      <td>False</td>\n",
       "    </tr>\n",
       "    <tr>\n",
       "      <th>865</th>\n",
       "      <td>2023-01-04 00:05:00</td>\n",
       "      <td>47.10</td>\n",
       "      <td>0</td>\n",
       "      <td>0.721751</td>\n",
       "      <td>0.110276</td>\n",
       "      <td>0.431498</td>\n",
       "      <td>False</td>\n",
       "    </tr>\n",
       "    <tr>\n",
       "      <th>866</th>\n",
       "      <td>2023-01-04 00:10:00</td>\n",
       "      <td>79.69</td>\n",
       "      <td>1</td>\n",
       "      <td>1.456215</td>\n",
       "      <td>0.619337</td>\n",
       "      <td>0.431498</td>\n",
       "      <td>True</td>\n",
       "    </tr>\n",
       "    <tr>\n",
       "      <th>867</th>\n",
       "      <td>2023-01-04 00:15:00</td>\n",
       "      <td>65.35</td>\n",
       "      <td>0</td>\n",
       "      <td>0.497883</td>\n",
       "      <td>0.332667</td>\n",
       "      <td>0.431498</td>\n",
       "      <td>False</td>\n",
       "    </tr>\n",
       "    <tr>\n",
       "      <th>868</th>\n",
       "      <td>2023-01-04 00:20:00</td>\n",
       "      <td>43.16</td>\n",
       "      <td>0</td>\n",
       "      <td>0.985059</td>\n",
       "      <td>0.151293</td>\n",
       "      <td>0.431498</td>\n",
       "      <td>False</td>\n",
       "    </tr>\n",
       "    <tr>\n",
       "      <th>...</th>\n",
       "      <td>...</td>\n",
       "      <td>...</td>\n",
       "      <td>...</td>\n",
       "      <td>...</td>\n",
       "      <td>...</td>\n",
       "      <td>...</td>\n",
       "      <td>...</td>\n",
       "    </tr>\n",
       "    <tr>\n",
       "      <th>995</th>\n",
       "      <td>2023-01-04 10:55:00</td>\n",
       "      <td>57.36</td>\n",
       "      <td>0</td>\n",
       "      <td>0.036083</td>\n",
       "      <td>0.791421</td>\n",
       "      <td>0.431498</td>\n",
       "      <td>True</td>\n",
       "    </tr>\n",
       "    <tr>\n",
       "      <th>996</th>\n",
       "      <td>2023-01-04 11:00:00</td>\n",
       "      <td>77.07</td>\n",
       "      <td>1</td>\n",
       "      <td>1.281122</td>\n",
       "      <td>0.445401</td>\n",
       "      <td>0.431498</td>\n",
       "      <td>True</td>\n",
       "    </tr>\n",
       "    <tr>\n",
       "      <th>997</th>\n",
       "      <td>2023-01-04 11:05:00</td>\n",
       "      <td>72.28</td>\n",
       "      <td>1</td>\n",
       "      <td>0.961010</td>\n",
       "      <td>0.127403</td>\n",
       "      <td>0.431498</td>\n",
       "      <td>False</td>\n",
       "    </tr>\n",
       "    <tr>\n",
       "      <th>998</th>\n",
       "      <td>2023-01-04 11:10:00</td>\n",
       "      <td>68.69</td>\n",
       "      <td>0</td>\n",
       "      <td>0.721093</td>\n",
       "      <td>0.110930</td>\n",
       "      <td>0.431498</td>\n",
       "      <td>False</td>\n",
       "    </tr>\n",
       "    <tr>\n",
       "      <th>999</th>\n",
       "      <td>2023-01-04 11:15:00</td>\n",
       "      <td>45.34</td>\n",
       "      <td>0</td>\n",
       "      <td>0.839371</td>\n",
       "      <td>0.006567</td>\n",
       "      <td>0.431498</td>\n",
       "      <td>False</td>\n",
       "    </tr>\n",
       "  </tbody>\n",
       "</table>\n",
       "<p>136 rows × 7 columns</p>\n",
       "</div>"
      ],
      "text/plain": [
       "               timestamp  humidity humidity_status  humidity_standar  \\\n",
       "864  2023-01-04 00:00:00     67.93               0          0.670303   \n",
       "865  2023-01-04 00:05:00     47.10               0          0.721751   \n",
       "866  2023-01-04 00:10:00     79.69               1          1.456215   \n",
       "867  2023-01-04 00:15:00     65.35               0          0.497883   \n",
       "868  2023-01-04 00:20:00     43.16               0          0.985059   \n",
       "..                   ...       ...             ...               ...   \n",
       "995  2023-01-04 10:55:00     57.36               0          0.036083   \n",
       "996  2023-01-04 11:00:00     77.07               1          1.281122   \n",
       "997  2023-01-04 11:05:00     72.28               1          0.961010   \n",
       "998  2023-01-04 11:10:00     68.69               0          0.721093   \n",
       "999  2023-01-04 11:15:00     45.34               0          0.839371   \n",
       "\n",
       "         loss  threshold  anomaly  \n",
       "864  0.161385   0.431498    False  \n",
       "865  0.110276   0.431498    False  \n",
       "866  0.619337   0.431498     True  \n",
       "867  0.332667   0.431498    False  \n",
       "868  0.151293   0.431498    False  \n",
       "..        ...        ...      ...  \n",
       "995  0.791421   0.431498     True  \n",
       "996  0.445401   0.431498     True  \n",
       "997  0.127403   0.431498    False  \n",
       "998  0.110930   0.431498    False  \n",
       "999  0.006567   0.431498    False  \n",
       "\n",
       "[136 rows x 7 columns]"
      ]
     },
     "execution_count": 47,
     "metadata": {},
     "output_type": "execute_result"
    }
   ],
   "source": [
    "anomaly_df_both = test.copy()\n",
    "anomaly_df_both.loc[:, 'loss'] = test_mae_loss\n",
    "anomaly_df_both.loc[:, 'threshold'] = threshold\n",
    "anomaly_df_both.loc[:, 'anomaly'] = anomaly_df_both['loss'] > anomaly_df_both['threshold']\n",
    "anomaly_df_both"
   ]
  },
  {
   "cell_type": "code",
   "execution_count": 48,
   "metadata": {},
   "outputs": [
    {
     "data": {
      "text/plain": [
       "timestamp           60\n",
       "humidity            60\n",
       "humidity_status     60\n",
       "humidity_standar    60\n",
       "loss                60\n",
       "threshold           60\n",
       "anomaly             60\n",
       "dtype: int64"
      ]
     },
     "execution_count": 48,
     "metadata": {},
     "output_type": "execute_result"
    }
   ],
   "source": [
    "anomaly_df_both.loc[anomaly_df_both['anomaly']==True].count()"
   ]
  },
  {
   "cell_type": "code",
   "execution_count": 49,
   "metadata": {},
   "outputs": [
    {
     "data": {
      "text/plain": [
       "timestamp           76\n",
       "humidity            76\n",
       "humidity_status     76\n",
       "humidity_standar    76\n",
       "loss                76\n",
       "threshold           76\n",
       "anomaly             76\n",
       "dtype: int64"
      ]
     },
     "execution_count": 49,
     "metadata": {},
     "output_type": "execute_result"
    }
   ],
   "source": [
    "anomaly_df_both.loc[anomaly_df_both['anomaly']==False].count()"
   ]
  },
  {
   "cell_type": "code",
   "execution_count": 50,
   "metadata": {},
   "outputs": [],
   "source": [
    "anomaly_df_temp_status=anomaly_df_both[\"humidity_status\"].astype(int)\n",
    "anomaly_df_predicted=anomaly_df_both[\"anomaly\"].astype(int)"
   ]
  },
  {
   "cell_type": "code",
   "execution_count": 51,
   "metadata": {},
   "outputs": [
    {
     "name": "stdout",
     "output_type": "stream",
     "text": [
      "              precision    recall  f1-score   support\n",
      "\n",
      "           0       0.66      0.65      0.65        77\n",
      "           1       0.55      0.56      0.55        59\n",
      "\n",
      "    accuracy                           0.61       136\n",
      "   macro avg       0.60      0.60      0.60       136\n",
      "weighted avg       0.61      0.61      0.61       136\n",
      "\n",
      "[[50 27]\n",
      " [26 33]]\n"
     ]
    }
   ],
   "source": [
    "report=classification_report(anomaly_df_temp_status, anomaly_df_predicted)\n",
    "print(report)\n",
    "conf=confusion_matrix(anomaly_df_temp_status, anomaly_df_predicted)\n",
    "print(conf)"
   ]
  }
 ],
 "metadata": {
  "kernelspec": {
   "display_name": "Python 3",
   "language": "python",
   "name": "python3"
  },
  "language_info": {
   "codemirror_mode": {
    "name": "ipython",
    "version": 3
   },
   "file_extension": ".py",
   "mimetype": "text/x-python",
   "name": "python",
   "nbconvert_exporter": "python",
   "pygments_lexer": "ipython3",
   "version": "3.12.3"
  }
 },
 "nbformat": 4,
 "nbformat_minor": 2
}
