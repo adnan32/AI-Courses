{
 "cells": [
  {
   "cell_type": "markdown",
   "id": "e97145ef",
   "metadata": {},
   "source": [
    "## Assignment 1 Intelligent Data Analysis DV1597\n",
    "### Adnan Altukleh, Abdulkarim Dawalibi \n",
    "###### adnantakleh12@gamil.com\n",
    "###### karimdawalibi@gmail.com"
   ]
  },
  {
   "cell_type": "markdown",
   "id": "66c96f8b",
   "metadata": {},
   "source": [
    "### Q1. Explain the data cleaning steps you consider for analyzing the provided dataset. You must motivate and describe why, how, and in which order you are going to apply the selected steps to the dataset."
   ]
  },
  {
   "cell_type": "markdown",
   "id": "7c37ccc6",
   "metadata": {},
   "source": [
    "* First of all, we will start by printing out the first and last five values in the dataset and try to understand what does each column in the data represent, what type of data it contains and the importance of it. This gives us a view of the data and make easier for us in the furthur steps.  \n",
    "* Check how many rows there are in the dataset, in this way we get to know how big the dataset is.\n",
    "* Check if there is any missing values, in case of founding missing values we will evalute the importance of it and decide what is the best solution to deal with it. \n",
    "* Check if there are any duplicated records in the dataset. In case of founding duplicates we will remove them to avoid them from affecting the analysis result.\n",
    "* Check the uniform of the data, e.g if there is any values with many decimal.\n",
    "* Check if there are outliers in the dataset. In case of founding outliers will we remove them to improve the analysis result."
   ]
  },
  {
   "cell_type": "code",
   "execution_count": 631,
   "id": "4d57c7fd",
   "metadata": {},
   "outputs": [],
   "source": [
    "%matplotlib inline"
   ]
  },
  {
   "cell_type": "code",
   "execution_count": 632,
   "id": "3d6a7ed3",
   "metadata": {},
   "outputs": [],
   "source": [
    "import matplotlib.pyplot as mpl\n",
    "import numpy as np\n",
    "import pandas as pd\n",
    "import scipy.stats as scp\n",
    "import matplotlib.dates as mdates\n",
    "from datetime import datetime\n",
    "import seaborn as sns\n",
    "import scipy.stats as st"
   ]
  },
  {
   "cell_type": "markdown",
   "id": "0d604508",
   "metadata": {},
   "source": [
    "#### Reading the Dataset:"
   ]
  },
  {
   "cell_type": "code",
   "execution_count": 633,
   "id": "381643e4",
   "metadata": {},
   "outputs": [
    {
     "data": {
      "text/html": [
       "<div>\n",
       "<style scoped>\n",
       "    .dataframe tbody tr th:only-of-type {\n",
       "        vertical-align: middle;\n",
       "    }\n",
       "\n",
       "    .dataframe tbody tr th {\n",
       "        vertical-align: top;\n",
       "    }\n",
       "\n",
       "    .dataframe thead th {\n",
       "        text-align: right;\n",
       "    }\n",
       "</style>\n",
       "<table border=\"1\" class=\"dataframe\">\n",
       "  <thead>\n",
       "    <tr style=\"text-align: right;\">\n",
       "      <th></th>\n",
       "      <th>Datum</th>\n",
       "      <th>Tid (UTC)</th>\n",
       "      <th>Lufttemperatur</th>\n",
       "      <th>Kvalitet</th>\n",
       "    </tr>\n",
       "  </thead>\n",
       "  <tbody>\n",
       "    <tr>\n",
       "      <th>0</th>\n",
       "      <td>2010-03-01</td>\n",
       "      <td>00:00:00</td>\n",
       "      <td>2.0</td>\n",
       "      <td>G</td>\n",
       "    </tr>\n",
       "    <tr>\n",
       "      <th>1</th>\n",
       "      <td>2010-03-01</td>\n",
       "      <td>01:00:00</td>\n",
       "      <td>NaN</td>\n",
       "      <td>Y</td>\n",
       "    </tr>\n",
       "    <tr>\n",
       "      <th>2</th>\n",
       "      <td>2010-03-01</td>\n",
       "      <td>02:00:00</td>\n",
       "      <td>2.2</td>\n",
       "      <td>Y</td>\n",
       "    </tr>\n",
       "    <tr>\n",
       "      <th>3</th>\n",
       "      <td>2010-03-01</td>\n",
       "      <td>03:00:00</td>\n",
       "      <td>1.7</td>\n",
       "      <td>G</td>\n",
       "    </tr>\n",
       "    <tr>\n",
       "      <th>4</th>\n",
       "      <td>2010-03-01</td>\n",
       "      <td>04:00:00</td>\n",
       "      <td>1.7</td>\n",
       "      <td>Y</td>\n",
       "    </tr>\n",
       "    <tr>\n",
       "      <th>...</th>\n",
       "      <td>...</td>\n",
       "      <td>...</td>\n",
       "      <td>...</td>\n",
       "      <td>...</td>\n",
       "    </tr>\n",
       "    <tr>\n",
       "      <th>105111</th>\n",
       "      <td>2022-01-01</td>\n",
       "      <td>03:00:00</td>\n",
       "      <td>5.1</td>\n",
       "      <td>G</td>\n",
       "    </tr>\n",
       "    <tr>\n",
       "      <th>105112</th>\n",
       "      <td>2022-01-01</td>\n",
       "      <td>04:00:00</td>\n",
       "      <td>4.2</td>\n",
       "      <td>G</td>\n",
       "    </tr>\n",
       "    <tr>\n",
       "      <th>105113</th>\n",
       "      <td>2022-01-01</td>\n",
       "      <td>05:00:00</td>\n",
       "      <td>4.1</td>\n",
       "      <td>G</td>\n",
       "    </tr>\n",
       "    <tr>\n",
       "      <th>105114</th>\n",
       "      <td>2022-01-01</td>\n",
       "      <td>05:00:00</td>\n",
       "      <td>4.1</td>\n",
       "      <td>G</td>\n",
       "    </tr>\n",
       "    <tr>\n",
       "      <th>105115</th>\n",
       "      <td>2022-01-01</td>\n",
       "      <td>06:00:00</td>\n",
       "      <td>5.8</td>\n",
       "      <td>G</td>\n",
       "    </tr>\n",
       "  </tbody>\n",
       "</table>\n",
       "<p>105116 rows × 4 columns</p>\n",
       "</div>"
      ],
      "text/plain": [
       "             Datum Tid (UTC)  Lufttemperatur Kvalitet\n",
       "0       2010-03-01  00:00:00             2.0        G\n",
       "1       2010-03-01  01:00:00             NaN        Y\n",
       "2       2010-03-01  02:00:00             2.2        Y\n",
       "3       2010-03-01  03:00:00             1.7        G\n",
       "4       2010-03-01  04:00:00             1.7        Y\n",
       "...            ...       ...             ...      ...\n",
       "105111  2022-01-01  03:00:00             5.1        G\n",
       "105112  2022-01-01  04:00:00             4.2        G\n",
       "105113  2022-01-01  05:00:00             4.1        G\n",
       "105114  2022-01-01  05:00:00             4.1        G\n",
       "105115  2022-01-01  06:00:00             5.8        G\n",
       "\n",
       "[105116 rows x 4 columns]"
      ]
     },
     "execution_count": 633,
     "metadata": {},
     "output_type": "execute_result"
    }
   ],
   "source": [
    "data_set=pd.read_csv(\"SMHI_Data.csv\",sep=\",\")\n",
    "data_set"
   ]
  },
  {
   "cell_type": "markdown",
   "id": "f7d82b24",
   "metadata": {},
   "source": [
    "NOTE! Our dataset contain 105116 rows and 4 columns."
   ]
  },
  {
   "cell_type": "markdown",
   "id": "9a00b701",
   "metadata": {},
   "source": [
    "#### Check if Duplicates exists in this case 'Datum' and 'Tid(UTC)':"
   ]
  },
  {
   "cell_type": "code",
   "execution_count": 634,
   "id": "55a6643b",
   "metadata": {
    "scrolled": true
   },
   "outputs": [
    {
     "data": {
      "text/html": [
       "<div>\n",
       "<style scoped>\n",
       "    .dataframe tbody tr th:only-of-type {\n",
       "        vertical-align: middle;\n",
       "    }\n",
       "\n",
       "    .dataframe tbody tr th {\n",
       "        vertical-align: top;\n",
       "    }\n",
       "\n",
       "    .dataframe thead th {\n",
       "        text-align: right;\n",
       "    }\n",
       "</style>\n",
       "<table border=\"1\" class=\"dataframe\">\n",
       "  <thead>\n",
       "    <tr style=\"text-align: right;\">\n",
       "      <th></th>\n",
       "      <th>Datum</th>\n",
       "      <th>Tid (UTC)</th>\n",
       "      <th>Lufttemperatur</th>\n",
       "      <th>Kvalitet</th>\n",
       "    </tr>\n",
       "  </thead>\n",
       "  <tbody>\n",
       "    <tr>\n",
       "      <th>170</th>\n",
       "      <td>2010-03-08</td>\n",
       "      <td>03:00:00</td>\n",
       "      <td>-4.4</td>\n",
       "      <td>G</td>\n",
       "    </tr>\n",
       "    <tr>\n",
       "      <th>228</th>\n",
       "      <td>2010-03-10</td>\n",
       "      <td>13:00:00</td>\n",
       "      <td>-2.2</td>\n",
       "      <td>Y</td>\n",
       "    </tr>\n",
       "    <tr>\n",
       "      <th>367</th>\n",
       "      <td>2010-03-16</td>\n",
       "      <td>07:00:00</td>\n",
       "      <td>-4.1</td>\n",
       "      <td>Y</td>\n",
       "    </tr>\n",
       "    <tr>\n",
       "      <th>392</th>\n",
       "      <td>2010-03-17</td>\n",
       "      <td>07:00:00</td>\n",
       "      <td>1.3</td>\n",
       "      <td>Y</td>\n",
       "    </tr>\n",
       "    <tr>\n",
       "      <th>414</th>\n",
       "      <td>2010-03-18</td>\n",
       "      <td>04:00:00</td>\n",
       "      <td>-0.7</td>\n",
       "      <td>Y</td>\n",
       "    </tr>\n",
       "    <tr>\n",
       "      <th>...</th>\n",
       "      <td>...</td>\n",
       "      <td>...</td>\n",
       "      <td>...</td>\n",
       "      <td>...</td>\n",
       "    </tr>\n",
       "    <tr>\n",
       "      <th>104910</th>\n",
       "      <td>2021-12-23</td>\n",
       "      <td>21:00:00</td>\n",
       "      <td>0.0</td>\n",
       "      <td>G</td>\n",
       "    </tr>\n",
       "    <tr>\n",
       "      <th>104989</th>\n",
       "      <td>2021-12-27</td>\n",
       "      <td>03:00:00</td>\n",
       "      <td>-6.0</td>\n",
       "      <td>G</td>\n",
       "    </tr>\n",
       "    <tr>\n",
       "      <th>105091</th>\n",
       "      <td>2021-12-31</td>\n",
       "      <td>08:00:00</td>\n",
       "      <td>6.2</td>\n",
       "      <td>G</td>\n",
       "    </tr>\n",
       "    <tr>\n",
       "      <th>105111</th>\n",
       "      <td>2022-01-01</td>\n",
       "      <td>03:00:00</td>\n",
       "      <td>5.1</td>\n",
       "      <td>G</td>\n",
       "    </tr>\n",
       "    <tr>\n",
       "      <th>105114</th>\n",
       "      <td>2022-01-01</td>\n",
       "      <td>05:00:00</td>\n",
       "      <td>4.1</td>\n",
       "      <td>G</td>\n",
       "    </tr>\n",
       "  </tbody>\n",
       "</table>\n",
       "<p>1939 rows × 4 columns</p>\n",
       "</div>"
      ],
      "text/plain": [
       "             Datum Tid (UTC)  Lufttemperatur Kvalitet\n",
       "170     2010-03-08  03:00:00            -4.4        G\n",
       "228     2010-03-10  13:00:00            -2.2        Y\n",
       "367     2010-03-16  07:00:00            -4.1        Y\n",
       "392     2010-03-17  07:00:00             1.3        Y\n",
       "414     2010-03-18  04:00:00            -0.7        Y\n",
       "...            ...       ...             ...      ...\n",
       "104910  2021-12-23  21:00:00             0.0        G\n",
       "104989  2021-12-27  03:00:00            -6.0        G\n",
       "105091  2021-12-31  08:00:00             6.2        G\n",
       "105111  2022-01-01  03:00:00             5.1        G\n",
       "105114  2022-01-01  05:00:00             4.1        G\n",
       "\n",
       "[1939 rows x 4 columns]"
      ]
     },
     "execution_count": 634,
     "metadata": {},
     "output_type": "execute_result"
    }
   ],
   "source": [
    "data_set[data_set.duplicated([\"Datum\",'Tid (UTC)'])]"
   ]
  },
  {
   "cell_type": "markdown",
   "id": "1b21b416",
   "metadata": {},
   "source": [
    "Removing the duplicated rows from the dataset"
   ]
  },
  {
   "cell_type": "code",
   "execution_count": 635,
   "id": "3ce22a3b",
   "metadata": {
    "scrolled": false
   },
   "outputs": [],
   "source": [
    "data_set=data_set.drop_duplicates(subset=[\"Datum\",'Tid (UTC)'])"
   ]
  },
  {
   "cell_type": "markdown",
   "id": "3caca699",
   "metadata": {},
   "source": [
    "#### Round all values in 'Lufttemperatur' to 1 decimal "
   ]
  },
  {
   "cell_type": "code",
   "execution_count": 636,
   "id": "604501c0",
   "metadata": {},
   "outputs": [],
   "source": [
    "data_set=data_set.round({\"Lufttemperatur\":1})"
   ]
  },
  {
   "cell_type": "markdown",
   "id": "72f66fe9",
   "metadata": {},
   "source": [
    "### Q2. Does the dataset contain any missing values? If so, how many in both absolute terms and percentages? Reflect on the number of missing values. Do you regard it as much, or not?"
   ]
  },
  {
   "cell_type": "markdown",
   "id": "da1faec7",
   "metadata": {},
   "source": [
    "Check the existence of missing values"
   ]
  },
  {
   "cell_type": "code",
   "execution_count": 637,
   "id": "79a9ee16",
   "metadata": {},
   "outputs": [
    {
     "data": {
      "text/plain": [
       "True"
      ]
     },
     "execution_count": 637,
     "metadata": {},
     "output_type": "execute_result"
    }
   ],
   "source": [
    "data_set.isnull().values.any()"
   ]
  },
  {
   "cell_type": "markdown",
   "id": "8b3288da",
   "metadata": {},
   "source": [
    "Check how many and where is the missing values"
   ]
  },
  {
   "cell_type": "code",
   "execution_count": 638,
   "id": "7b622505",
   "metadata": {},
   "outputs": [
    {
     "data": {
      "text/plain": [
       "6191"
      ]
     },
     "execution_count": 638,
     "metadata": {},
     "output_type": "execute_result"
    }
   ],
   "source": [
    "null =data_set[\"Lufttemperatur\"].isnull().sum()\n",
    "null"
   ]
  },
  {
   "cell_type": "markdown",
   "id": "ad85020f",
   "metadata": {},
   "source": [
    "calculating the percentage of the missing values of the dataset "
   ]
  },
  {
   "cell_type": "code",
   "execution_count": 639,
   "id": "fe773621",
   "metadata": {},
   "outputs": [
    {
     "name": "stdout",
     "output_type": "stream",
     "text": [
      "%6.0\n"
     ]
    }
   ],
   "source": [
    "percentage = round((null/data_set.shape[0])*100,1)\n",
    "print(f'%{percentage}')"
   ]
  },
  {
   "cell_type": "markdown",
   "id": "89b30a74",
   "metadata": {},
   "source": [
    "We recognize that only the 'Lufttemperatur' column that have missing values, and the sum of missing value is 6191 which is 6% of the total rows in the dataset. In this case the rows are meaningless and they will not impact the final result, if we remove them. The number of rows that missing a value is big but if we compare it with the total number of all rows so we recognize that the rows which has a missing value is not big."
   ]
  },
  {
   "cell_type": "markdown",
   "id": "ff3b9d35",
   "metadata": {},
   "source": [
    "### Q3. Which strategy was used for handling the missing values? Motivate why you consider the selected strategy the most suitable for this task."
   ]
  },
  {
   "cell_type": "markdown",
   "id": "77413c7d",
   "metadata": {},
   "source": [
    "If we look at the first five values we can notice that they do not differ much but the last five have a big difference between.\n",
    "Therefore we can not filling the missing value with previous value, instead we remove them from the dataset, so that the dataset becomes more understandable and as we mentioned above the missing values rows won't make a huge affect of the result if we remove them."
   ]
  },
  {
   "cell_type": "markdown",
   "id": "2b39c106",
   "metadata": {},
   "source": [
    "We drop the rows that missing value using the command below"
   ]
  },
  {
   "cell_type": "code",
   "execution_count": 640,
   "id": "3e77d1f6",
   "metadata": {},
   "outputs": [],
   "source": [
    "data_set=data_set.dropna()"
   ]
  },
  {
   "cell_type": "markdown",
   "id": "d8bde4b8",
   "metadata": {},
   "source": [
    "Now we check if we succeeded removing the missing values"
   ]
  },
  {
   "cell_type": "code",
   "execution_count": 641,
   "id": "1f8ed678",
   "metadata": {},
   "outputs": [
    {
     "data": {
      "text/plain": [
       "False"
      ]
     },
     "execution_count": 641,
     "metadata": {},
     "output_type": "execute_result"
    }
   ],
   "source": [
    "data_set.isnull().values.any()"
   ]
  },
  {
   "cell_type": "code",
   "execution_count": 642,
   "id": "2a3a8174",
   "metadata": {},
   "outputs": [
    {
     "data": {
      "text/plain": [
       "(96986, 4)"
      ]
     },
     "execution_count": 642,
     "metadata": {},
     "output_type": "execute_result"
    }
   ],
   "source": [
    "data_set.shape"
   ]
  },
  {
   "cell_type": "markdown",
   "id": "bfc3c7d6",
   "metadata": {},
   "source": [
    "Using the box plot to check if any outliers exists:"
   ]
  },
  {
   "cell_type": "code",
   "execution_count": 643,
   "id": "5d96140c",
   "metadata": {},
   "outputs": [
    {
     "data": {
      "image/png": "[encoded data removed]",
      "text/plain": [
       "<Figure size 648x360 with 1 Axes>"
      ]
     },
     "metadata": {
      "needs_background": "light"
     },
     "output_type": "display_data"
    }
   ],
   "source": [
    "x=data_set[\"Lufttemperatur\"]\n",
    "fig = mpl.figure(figsize=(9,5))\n",
    "ax=fig.add_subplot()\n",
    "ax.boxplot(x)\n",
    "ax.set_xlabel(\"X Axis\")\n",
    "ax.set_ylabel(\"Y Axis\")\n",
    "ax.set_title(\"box Plot\")\n",
    "ax.grid()"
   ]
  },
  {
   "cell_type": "markdown",
   "id": "122cce3e",
   "metadata": {},
   "source": [
    "Chnage the value of the founded outliers to NaN to be removed in the next steps"
   ]
  },
  {
   "cell_type": "code",
   "execution_count": 644,
   "id": "3f6705a0",
   "metadata": {},
   "outputs": [],
   "source": [
    "for x in [\"Lufttemperatur\"]:\n",
    "    q75,q25 = np.percentile(data_set.loc[:,x],[75,25])\n",
    "    intr_qr = q75-q25\n",
    " \n",
    "    max = q75+(1.5*intr_qr)\n",
    "    min = q25-(1.5*intr_qr)\n",
    " \n",
    "    data_set.loc[data_set[x] < min,x] = np.nan\n",
    "    data_set.loc[data_set[x] > max,x] = np.nan"
   ]
  },
  {
   "cell_type": "code",
   "execution_count": 645,
   "id": "b026a581",
   "metadata": {},
   "outputs": [],
   "source": [
    "data_set=data_set.dropna()"
   ]
  },
  {
   "cell_type": "code",
   "execution_count": 646,
   "id": "67f79cb8",
   "metadata": {},
   "outputs": [
    {
     "data": {
      "image/png": "[encoded data removed]",
      "text/plain": [
       "<Figure size 648x360 with 1 Axes>"
      ]
     },
     "metadata": {
      "needs_background": "light"
     },
     "output_type": "display_data"
    }
   ],
   "source": [
    "x=data_set[\"Lufttemperatur\"]\n",
    "fig = mpl.figure(figsize=(9,5))\n",
    "ax=fig.add_subplot()\n",
    "ax.boxplot(x)\n",
    "ax.set_xlabel(\"X Axis\")\n",
    "ax.set_ylabel(\"Y Axis\")\n",
    "ax.set_title(\"box Plot\")\n",
    "ax.grid()"
   ]
  },
  {
   "cell_type": "markdown",
   "id": "fbf8be5a",
   "metadata": {},
   "source": [
    "### Q4. Calculate the following statistics for the air temperature values in the dataset:\n",
    "* minimum value\n",
    "* maximum value\n",
    "* sample mean\n",
    "* Q1/Q2/Q3 quartiles\n",
    "* sample standard deviation\n",
    "* 95% confidence interval of the mean"
   ]
  },
  {
   "cell_type": "markdown",
   "id": "4d869cbf",
   "metadata": {},
   "source": [
    "* ##### printing minimum value in the data set för air temperature"
   ]
  },
  {
   "cell_type": "code",
   "execution_count": 647,
   "id": "acfd62a1",
   "metadata": {},
   "outputs": [],
   "source": [
    "x=data_set[\"Lufttemperatur\"].min()"
   ]
  },
  {
   "cell_type": "code",
   "execution_count": 648,
   "id": "06fd066b",
   "metadata": {},
   "outputs": [
    {
     "data": {
      "text/plain": [
       "-12.5"
      ]
     },
     "execution_count": 648,
     "metadata": {},
     "output_type": "execute_result"
    }
   ],
   "source": [
    "x"
   ]
  },
  {
   "cell_type": "markdown",
   "id": "95e0947c",
   "metadata": {},
   "source": [
    "printing when the minimum value exist"
   ]
  },
  {
   "cell_type": "code",
   "execution_count": 649,
   "id": "d4e846fc",
   "metadata": {},
   "outputs": [
    {
     "data": {
      "text/html": [
       "<div>\n",
       "<style scoped>\n",
       "    .dataframe tbody tr th:only-of-type {\n",
       "        vertical-align: middle;\n",
       "    }\n",
       "\n",
       "    .dataframe tbody tr th {\n",
       "        vertical-align: top;\n",
       "    }\n",
       "\n",
       "    .dataframe thead th {\n",
       "        text-align: right;\n",
       "    }\n",
       "</style>\n",
       "<table border=\"1\" class=\"dataframe\">\n",
       "  <thead>\n",
       "    <tr style=\"text-align: right;\">\n",
       "      <th></th>\n",
       "      <th>Datum</th>\n",
       "      <th>Tid (UTC)</th>\n",
       "      <th>Lufttemperatur</th>\n",
       "      <th>Kvalitet</th>\n",
       "    </tr>\n",
       "  </thead>\n",
       "  <tbody>\n",
       "    <tr>\n",
       "      <th>17014</th>\n",
       "      <td>2012-02-04</td>\n",
       "      <td>06:00:00</td>\n",
       "      <td>-12.5</td>\n",
       "      <td>G</td>\n",
       "    </tr>\n",
       "  </tbody>\n",
       "</table>\n",
       "</div>"
      ],
      "text/plain": [
       "            Datum Tid (UTC)  Lufttemperatur Kvalitet\n",
       "17014  2012-02-04  06:00:00           -12.5        G"
      ]
     },
     "execution_count": 649,
     "metadata": {},
     "output_type": "execute_result"
    }
   ],
   "source": [
    "data_set.loc[data_set['Lufttemperatur'] == x]"
   ]
  },
  {
   "cell_type": "markdown",
   "id": "18ae57ee",
   "metadata": {},
   "source": [
    "* ##### printing Maximum value in the data set for air temperature"
   ]
  },
  {
   "cell_type": "code",
   "execution_count": 650,
   "id": "05db0cb1",
   "metadata": {},
   "outputs": [],
   "source": [
    "y=data_set[\"Lufttemperatur\"].max()"
   ]
  },
  {
   "cell_type": "code",
   "execution_count": 651,
   "id": "53a322f8",
   "metadata": {},
   "outputs": [
    {
     "data": {
      "text/plain": [
       "30.6"
      ]
     },
     "execution_count": 651,
     "metadata": {},
     "output_type": "execute_result"
    }
   ],
   "source": [
    "y"
   ]
  },
  {
   "cell_type": "markdown",
   "id": "d70563d0",
   "metadata": {},
   "source": [
    "printing when the Maximum value exist"
   ]
  },
  {
   "cell_type": "code",
   "execution_count": 652,
   "id": "c2e31e2d",
   "metadata": {},
   "outputs": [
    {
     "data": {
      "text/html": [
       "<div>\n",
       "<style scoped>\n",
       "    .dataframe tbody tr th:only-of-type {\n",
       "        vertical-align: middle;\n",
       "    }\n",
       "\n",
       "    .dataframe tbody tr th {\n",
       "        vertical-align: top;\n",
       "    }\n",
       "\n",
       "    .dataframe thead th {\n",
       "        text-align: right;\n",
       "    }\n",
       "</style>\n",
       "<table border=\"1\" class=\"dataframe\">\n",
       "  <thead>\n",
       "    <tr style=\"text-align: right;\">\n",
       "      <th></th>\n",
       "      <th>Datum</th>\n",
       "      <th>Tid (UTC)</th>\n",
       "      <th>Lufttemperatur</th>\n",
       "      <th>Kvalitet</th>\n",
       "    </tr>\n",
       "  </thead>\n",
       "  <tbody>\n",
       "    <tr>\n",
       "      <th>3153</th>\n",
       "      <td>2010-07-12</td>\n",
       "      <td>12:00:00</td>\n",
       "      <td>30.6</td>\n",
       "      <td>G</td>\n",
       "    </tr>\n",
       "  </tbody>\n",
       "</table>\n",
       "</div>"
      ],
      "text/plain": [
       "           Datum Tid (UTC)  Lufttemperatur Kvalitet\n",
       "3153  2010-07-12  12:00:00            30.6        G"
      ]
     },
     "execution_count": 652,
     "metadata": {},
     "output_type": "execute_result"
    }
   ],
   "source": [
    "data_set.loc[data_set['Lufttemperatur'] == y]"
   ]
  },
  {
   "cell_type": "markdown",
   "id": "68e13338",
   "metadata": {},
   "source": [
    "* ##### printing sample mean of  air temperature"
   ]
  },
  {
   "cell_type": "code",
   "execution_count": 653,
   "id": "e9d4c43b",
   "metadata": {},
   "outputs": [],
   "source": [
    "m=data_set['Lufttemperatur'].mean()"
   ]
  },
  {
   "cell_type": "code",
   "execution_count": 654,
   "id": "ad8642ee",
   "metadata": {},
   "outputs": [
    {
     "data": {
      "text/plain": [
       "9.386289373128387"
      ]
     },
     "execution_count": 654,
     "metadata": {},
     "output_type": "execute_result"
    }
   ],
   "source": [
    "m"
   ]
  },
  {
   "cell_type": "markdown",
   "id": "f94308ad",
   "metadata": {},
   "source": [
    "* ##### printing Q1/Q2/Q3 quartiles"
   ]
  },
  {
   "cell_type": "code",
   "execution_count": 655,
   "id": "874e0f3a",
   "metadata": {},
   "outputs": [
    {
     "data": {
      "text/plain": [
       "0.25     4.1\n",
       "0.50     9.0\n",
       "0.75    15.2\n",
       "Name: Lufttemperatur, dtype: float64"
      ]
     },
     "execution_count": 655,
     "metadata": {},
     "output_type": "execute_result"
    }
   ],
   "source": [
    "data_set[\"Lufttemperatur\"].quantile([.25, .5, .75])"
   ]
  },
  {
   "cell_type": "markdown",
   "id": "1b72e0c9",
   "metadata": {},
   "source": [
    "* ##### sample standard deviation"
   ]
  },
  {
   "cell_type": "code",
   "execution_count": 656,
   "id": "e0cf35a6",
   "metadata": {},
   "outputs": [],
   "source": [
    "s=data_set['Lufttemperatur'].std()"
   ]
  },
  {
   "cell_type": "code",
   "execution_count": 657,
   "id": "a9c0348f",
   "metadata": {},
   "outputs": [
    {
     "data": {
      "text/plain": [
       "6.955889553853636"
      ]
     },
     "execution_count": 657,
     "metadata": {},
     "output_type": "execute_result"
    }
   ],
   "source": [
    "s"
   ]
  },
  {
   "cell_type": "markdown",
   "id": "9eb49813",
   "metadata": {},
   "source": [
    "* ##### 95% confidence interval of the mean"
   ]
  },
  {
   "cell_type": "markdown",
   "id": "f72bb480",
   "metadata": {},
   "source": [
    "the formula is \n",
    "* Lower Value  $\\overline{x}$ - z$\\frac{s}{\\sqrt{n}}$\n",
    "* Upper Value  $\\overline{x}$ + z$\\frac{s}{\\sqrt{n}}$"
   ]
  },
  {
   "cell_type": "markdown",
   "id": "0c6d1ab8",
   "metadata": {},
   "source": [
    "* X (mean) = m (9.386289373128387)\n",
    "* Z = 1.960 (from the table above for 95%)\n",
    "* s (standard deviation) = s (6.955889553853636)\n",
    "* n (sample size) = 96830 (after cleaning)"
   ]
  },
  {
   "cell_type": "markdown",
   "id": "0ac8e675",
   "metadata": {},
   "source": [
    "calucleting z$\\frac{s}{\\sqrt{n}}$"
   ]
  },
  {
   "cell_type": "code",
   "execution_count": 658,
   "id": "2ce9ed43",
   "metadata": {},
   "outputs": [],
   "source": [
    "a=1.96*(s/pow(96830,(1/2)))"
   ]
  },
  {
   "cell_type": "markdown",
   "id": "d540faf7",
   "metadata": {},
   "source": [
    "* getting lower and upper values"
   ]
  },
  {
   "cell_type": "code",
   "execution_count": 659,
   "id": "598523cf",
   "metadata": {},
   "outputs": [
    {
     "data": {
      "text/plain": [
       "('Lower Value', 9.342476293280633)"
      ]
     },
     "execution_count": 659,
     "metadata": {},
     "output_type": "execute_result"
    }
   ],
   "source": [
    "\"Lower Value\", m-a"
   ]
  },
  {
   "cell_type": "code",
   "execution_count": 660,
   "id": "80022181",
   "metadata": {},
   "outputs": [
    {
     "data": {
      "text/plain": [
       "('Upper Value', 9.43010245297614)"
      ]
     },
     "execution_count": 660,
     "metadata": {},
     "output_type": "execute_result"
    }
   ],
   "source": [
    "\"Upper Value\",m+a"
   ]
  },
  {
   "cell_type": "markdown",
   "id": "2d253ca9",
   "metadata": {},
   "source": [
    "### Q5. Plot all available air temperature data as a line plot with dates on the x-axis.\n"
   ]
  },
  {
   "cell_type": "code",
   "execution_count": 661,
   "id": "2dec1186",
   "metadata": {
    "scrolled": true
   },
   "outputs": [
    {
     "data": {
      "image/png": "[encoded data removed]",
      "text/plain": [
       "<Figure size 2160x360 with 1 Axes>"
      ]
     },
     "metadata": {
      "needs_background": "light"
     },
     "output_type": "display_data"
    }
   ],
   "source": [
    "x= data_set.Datum\n",
    "y= data_set.Lufttemperatur\n",
    "\n",
    "# Plotting\n",
    "fig = mpl.figure(figsize=(30,5))\n",
    "ax=fig.add_subplot()\n",
    "ax.plot(x,y,color=\"orange\",linewidth=2)\n",
    "half_year_locator = mdates.MonthLocator(interval=6)\n",
    "ax.xaxis.set_major_locator(half_year_locator)\n",
    "fig.autofmt_xdate()\n",
    "ax.set_xlabel('Date')\n",
    "ax.set_ylabel('Air Temperature')\n",
    "ax.scatter(x,y)\n",
    "ax.grid()"
   ]
  },
  {
   "cell_type": "markdown",
   "id": "f709886a",
   "metadata": {},
   "source": [
    "### Q6. Rank the overall temperature per month, sort from the coldest to the warmest. List the top ten (10) coldest months in the dataset. Format the output as: YEAR/Month: temp, e.g.“2010/January: -5.0”"
   ]
  },
  {
   "cell_type": "markdown",
   "id": "44191910",
   "metadata": {},
   "source": [
    "Groupby data Date (month,year) and Temperature"
   ]
  },
  {
   "cell_type": "code",
   "execution_count": 662,
   "id": "72bbd9a2",
   "metadata": {},
   "outputs": [
    {
     "data": {
      "text/html": [
       "<div>\n",
       "<style scoped>\n",
       "    .dataframe tbody tr th:only-of-type {\n",
       "        vertical-align: middle;\n",
       "    }\n",
       "\n",
       "    .dataframe tbody tr th {\n",
       "        vertical-align: top;\n",
       "    }\n",
       "\n",
       "    .dataframe thead th {\n",
       "        text-align: right;\n",
       "    }\n",
       "</style>\n",
       "<table border=\"1\" class=\"dataframe\">\n",
       "  <thead>\n",
       "    <tr style=\"text-align: right;\">\n",
       "      <th></th>\n",
       "      <th>Lufttemperatur</th>\n",
       "    </tr>\n",
       "    <tr>\n",
       "      <th>Datum</th>\n",
       "      <th></th>\n",
       "    </tr>\n",
       "  </thead>\n",
       "  <tbody>\n",
       "    <tr>\n",
       "      <th>2010-03</th>\n",
       "      <td>0.5</td>\n",
       "    </tr>\n",
       "    <tr>\n",
       "      <th>2010-04</th>\n",
       "      <td>6.0</td>\n",
       "    </tr>\n",
       "    <tr>\n",
       "      <th>2010-05</th>\n",
       "      <td>9.7</td>\n",
       "    </tr>\n",
       "    <tr>\n",
       "      <th>2010-06</th>\n",
       "      <td>14.8</td>\n",
       "    </tr>\n",
       "    <tr>\n",
       "      <th>2010-07</th>\n",
       "      <td>19.4</td>\n",
       "    </tr>\n",
       "    <tr>\n",
       "      <th>...</th>\n",
       "      <td>...</td>\n",
       "    </tr>\n",
       "    <tr>\n",
       "      <th>2021-09</th>\n",
       "      <td>14.7</td>\n",
       "    </tr>\n",
       "    <tr>\n",
       "      <th>2021-10</th>\n",
       "      <td>10.9</td>\n",
       "    </tr>\n",
       "    <tr>\n",
       "      <th>2021-11</th>\n",
       "      <td>6.6</td>\n",
       "    </tr>\n",
       "    <tr>\n",
       "      <th>2021-12</th>\n",
       "      <td>0.9</td>\n",
       "    </tr>\n",
       "    <tr>\n",
       "      <th>2022-01</th>\n",
       "      <td>5.2</td>\n",
       "    </tr>\n",
       "  </tbody>\n",
       "</table>\n",
       "<p>143 rows × 1 columns</p>\n",
       "</div>"
      ],
      "text/plain": [
       "         Lufttemperatur\n",
       "Datum                  \n",
       "2010-03             0.5\n",
       "2010-04             6.0\n",
       "2010-05             9.7\n",
       "2010-06            14.8\n",
       "2010-07            19.4\n",
       "...                 ...\n",
       "2021-09            14.7\n",
       "2021-10            10.9\n",
       "2021-11             6.6\n",
       "2021-12             0.9\n",
       "2022-01             5.2\n",
       "\n",
       "[143 rows x 1 columns]"
      ]
     },
     "execution_count": 662,
     "metadata": {},
     "output_type": "execute_result"
    }
   ],
   "source": [
    "da=data_set.Datum.str[:-3]\n",
    "a=round(data_set.groupby(da)['Lufttemperatur'].mean(),1)\n",
    "dt=pd.DataFrame(a)\n",
    "dt"
   ]
  },
  {
   "cell_type": "markdown",
   "id": "86f346ba",
   "metadata": {},
   "source": [
    "Sorting from the coldest to the warmest"
   ]
  },
  {
   "cell_type": "code",
   "execution_count": 663,
   "id": "dfc818e5",
   "metadata": {},
   "outputs": [
    {
     "data": {
      "text/html": [
       "<div>\n",
       "<style scoped>\n",
       "    .dataframe tbody tr th:only-of-type {\n",
       "        vertical-align: middle;\n",
       "    }\n",
       "\n",
       "    .dataframe tbody tr th {\n",
       "        vertical-align: top;\n",
       "    }\n",
       "\n",
       "    .dataframe thead th {\n",
       "        text-align: right;\n",
       "    }\n",
       "</style>\n",
       "<table border=\"1\" class=\"dataframe\">\n",
       "  <thead>\n",
       "    <tr style=\"text-align: right;\">\n",
       "      <th></th>\n",
       "      <th>Lufttemperatur</th>\n",
       "    </tr>\n",
       "    <tr>\n",
       "      <th>Datum</th>\n",
       "      <th></th>\n",
       "    </tr>\n",
       "  </thead>\n",
       "  <tbody>\n",
       "    <tr>\n",
       "      <th>2010-12</th>\n",
       "      <td>-3.5</td>\n",
       "    </tr>\n",
       "    <tr>\n",
       "      <th>2011-02</th>\n",
       "      <td>-1.3</td>\n",
       "    </tr>\n",
       "    <tr>\n",
       "      <th>2012-02</th>\n",
       "      <td>-1.1</td>\n",
       "    </tr>\n",
       "    <tr>\n",
       "      <th>2018-02</th>\n",
       "      <td>-1.0</td>\n",
       "    </tr>\n",
       "    <tr>\n",
       "      <th>2021-02</th>\n",
       "      <td>-0.9</td>\n",
       "    </tr>\n",
       "    <tr>\n",
       "      <th>...</th>\n",
       "      <td>...</td>\n",
       "    </tr>\n",
       "    <tr>\n",
       "      <th>2010-07</th>\n",
       "      <td>19.4</td>\n",
       "    </tr>\n",
       "    <tr>\n",
       "      <th>2018-08</th>\n",
       "      <td>19.6</td>\n",
       "    </tr>\n",
       "    <tr>\n",
       "      <th>2014-07</th>\n",
       "      <td>20.4</td>\n",
       "    </tr>\n",
       "    <tr>\n",
       "      <th>2021-07</th>\n",
       "      <td>20.6</td>\n",
       "    </tr>\n",
       "    <tr>\n",
       "      <th>2018-07</th>\n",
       "      <td>21.3</td>\n",
       "    </tr>\n",
       "  </tbody>\n",
       "</table>\n",
       "<p>143 rows × 1 columns</p>\n",
       "</div>"
      ],
      "text/plain": [
       "         Lufttemperatur\n",
       "Datum                  \n",
       "2010-12            -3.5\n",
       "2011-02            -1.3\n",
       "2012-02            -1.1\n",
       "2018-02            -1.0\n",
       "2021-02            -0.9\n",
       "...                 ...\n",
       "2010-07            19.4\n",
       "2018-08            19.6\n",
       "2014-07            20.4\n",
       "2021-07            20.6\n",
       "2018-07            21.3\n",
       "\n",
       "[143 rows x 1 columns]"
      ]
     },
     "execution_count": 663,
     "metadata": {},
     "output_type": "execute_result"
    }
   ],
   "source": [
    "dt.sort_values(\"Lufttemperatur\")"
   ]
  },
  {
   "cell_type": "markdown",
   "id": "4173a7ed",
   "metadata": {},
   "source": [
    "List the top 10 coldest months in the dataset"
   ]
  },
  {
   "cell_type": "code",
   "execution_count": 664,
   "id": "7fdfab81",
   "metadata": {},
   "outputs": [],
   "source": [
    "list_top=dt.nsmallest(n=10, columns=['Lufttemperatur'])"
   ]
  },
  {
   "cell_type": "code",
   "execution_count": 665,
   "id": "25e3f6bf",
   "metadata": {},
   "outputs": [],
   "source": [
    "l=list_top.reset_index()"
   ]
  },
  {
   "cell_type": "code",
   "execution_count": 666,
   "id": "1f5aa727",
   "metadata": {},
   "outputs": [
    {
     "data": {
      "text/html": [
       "<div>\n",
       "<style scoped>\n",
       "    .dataframe tbody tr th:only-of-type {\n",
       "        vertical-align: middle;\n",
       "    }\n",
       "\n",
       "    .dataframe tbody tr th {\n",
       "        vertical-align: top;\n",
       "    }\n",
       "\n",
       "    .dataframe thead th {\n",
       "        text-align: right;\n",
       "    }\n",
       "</style>\n",
       "<table border=\"1\" class=\"dataframe\">\n",
       "  <thead>\n",
       "    <tr style=\"text-align: right;\">\n",
       "      <th></th>\n",
       "      <th>Datum</th>\n",
       "      <th>Lufttemperatur</th>\n",
       "    </tr>\n",
       "  </thead>\n",
       "  <tbody>\n",
       "    <tr>\n",
       "      <th>0</th>\n",
       "      <td>2010-12</td>\n",
       "      <td>-3.5</td>\n",
       "    </tr>\n",
       "    <tr>\n",
       "      <th>1</th>\n",
       "      <td>2011-02</td>\n",
       "      <td>-1.3</td>\n",
       "    </tr>\n",
       "    <tr>\n",
       "      <th>2</th>\n",
       "      <td>2012-02</td>\n",
       "      <td>-1.1</td>\n",
       "    </tr>\n",
       "    <tr>\n",
       "      <th>3</th>\n",
       "      <td>2018-02</td>\n",
       "      <td>-1.0</td>\n",
       "    </tr>\n",
       "    <tr>\n",
       "      <th>4</th>\n",
       "      <td>2016-01</td>\n",
       "      <td>-0.9</td>\n",
       "    </tr>\n",
       "    <tr>\n",
       "      <th>5</th>\n",
       "      <td>2021-02</td>\n",
       "      <td>-0.9</td>\n",
       "    </tr>\n",
       "    <tr>\n",
       "      <th>6</th>\n",
       "      <td>2013-03</td>\n",
       "      <td>-0.8</td>\n",
       "    </tr>\n",
       "    <tr>\n",
       "      <th>7</th>\n",
       "      <td>2013-01</td>\n",
       "      <td>-0.6</td>\n",
       "    </tr>\n",
       "    <tr>\n",
       "      <th>8</th>\n",
       "      <td>2011-01</td>\n",
       "      <td>-0.5</td>\n",
       "    </tr>\n",
       "    <tr>\n",
       "      <th>9</th>\n",
       "      <td>2012-12</td>\n",
       "      <td>-0.5</td>\n",
       "    </tr>\n",
       "  </tbody>\n",
       "</table>\n",
       "</div>"
      ],
      "text/plain": [
       "     Datum  Lufttemperatur\n",
       "0  2010-12            -3.5\n",
       "1  2011-02            -1.3\n",
       "2  2012-02            -1.1\n",
       "3  2018-02            -1.0\n",
       "4  2016-01            -0.9\n",
       "5  2021-02            -0.9\n",
       "6  2013-03            -0.8\n",
       "7  2013-01            -0.6\n",
       "8  2011-01            -0.5\n",
       "9  2012-12            -0.5"
      ]
     },
     "execution_count": 666,
     "metadata": {},
     "output_type": "execute_result"
    }
   ],
   "source": [
    "l.round({\"Lufttemperatur\":1})"
   ]
  },
  {
   "cell_type": "code",
   "execution_count": 667,
   "id": "dcc8f434",
   "metadata": {},
   "outputs": [
    {
     "data": {
      "text/plain": [
       "0    2010/December\n",
       "1    2011/February\n",
       "2    2012/February\n",
       "3    2018/February\n",
       "4     2016/January\n",
       "5    2021/February\n",
       "6       2013/March\n",
       "7     2013/January\n",
       "8     2011/January\n",
       "9    2012/December\n",
       "Name: Datum, dtype: object"
      ]
     },
     "execution_count": 667,
     "metadata": {},
     "output_type": "execute_result"
    }
   ],
   "source": [
    "f=pd.to_datetime(l[\"Datum\"], format='%Y-%m')\n",
    "f=f.dt.strftime(\"%Y/%B\")\n",
    "f"
   ]
  },
  {
   "cell_type": "code",
   "execution_count": 668,
   "id": "bad5e70e",
   "metadata": {},
   "outputs": [
    {
     "data": {
      "text/html": [
       "<div>\n",
       "<style scoped>\n",
       "    .dataframe tbody tr th:only-of-type {\n",
       "        vertical-align: middle;\n",
       "    }\n",
       "\n",
       "    .dataframe tbody tr th {\n",
       "        vertical-align: top;\n",
       "    }\n",
       "\n",
       "    .dataframe thead th {\n",
       "        text-align: right;\n",
       "    }\n",
       "</style>\n",
       "<table border=\"1\" class=\"dataframe\">\n",
       "  <thead>\n",
       "    <tr style=\"text-align: right;\">\n",
       "      <th></th>\n",
       "      <th>Datum</th>\n",
       "    </tr>\n",
       "  </thead>\n",
       "  <tbody>\n",
       "    <tr>\n",
       "      <th>0</th>\n",
       "      <td>2010/December</td>\n",
       "    </tr>\n",
       "    <tr>\n",
       "      <th>1</th>\n",
       "      <td>2011/February</td>\n",
       "    </tr>\n",
       "    <tr>\n",
       "      <th>2</th>\n",
       "      <td>2012/February</td>\n",
       "    </tr>\n",
       "    <tr>\n",
       "      <th>3</th>\n",
       "      <td>2018/February</td>\n",
       "    </tr>\n",
       "    <tr>\n",
       "      <th>4</th>\n",
       "      <td>2016/January</td>\n",
       "    </tr>\n",
       "    <tr>\n",
       "      <th>5</th>\n",
       "      <td>2021/February</td>\n",
       "    </tr>\n",
       "    <tr>\n",
       "      <th>6</th>\n",
       "      <td>2013/March</td>\n",
       "    </tr>\n",
       "    <tr>\n",
       "      <th>7</th>\n",
       "      <td>2013/January</td>\n",
       "    </tr>\n",
       "    <tr>\n",
       "      <th>8</th>\n",
       "      <td>2011/January</td>\n",
       "    </tr>\n",
       "    <tr>\n",
       "      <th>9</th>\n",
       "      <td>2012/December</td>\n",
       "    </tr>\n",
       "  </tbody>\n",
       "</table>\n",
       "</div>"
      ],
      "text/plain": [
       "           Datum\n",
       "0  2010/December\n",
       "1  2011/February\n",
       "2  2012/February\n",
       "3  2018/February\n",
       "4   2016/January\n",
       "5  2021/February\n",
       "6     2013/March\n",
       "7   2013/January\n",
       "8   2011/January\n",
       "9  2012/December"
      ]
     },
     "execution_count": 668,
     "metadata": {},
     "output_type": "execute_result"
    }
   ],
   "source": [
    "f=pd.DataFrame(f)\n",
    "f"
   ]
  },
  {
   "cell_type": "code",
   "execution_count": 669,
   "id": "3b7a5849",
   "metadata": {},
   "outputs": [
    {
     "data": {
      "text/html": [
       "<div>\n",
       "<style scoped>\n",
       "    .dataframe tbody tr th:only-of-type {\n",
       "        vertical-align: middle;\n",
       "    }\n",
       "\n",
       "    .dataframe tbody tr th {\n",
       "        vertical-align: top;\n",
       "    }\n",
       "\n",
       "    .dataframe thead th {\n",
       "        text-align: right;\n",
       "    }\n",
       "</style>\n",
       "<table border=\"1\" class=\"dataframe\">\n",
       "  <thead>\n",
       "    <tr style=\"text-align: right;\">\n",
       "      <th></th>\n",
       "      <th>Lufttemperatur</th>\n",
       "    </tr>\n",
       "  </thead>\n",
       "  <tbody>\n",
       "    <tr>\n",
       "      <th>0</th>\n",
       "      <td>-3.5</td>\n",
       "    </tr>\n",
       "    <tr>\n",
       "      <th>1</th>\n",
       "      <td>-1.3</td>\n",
       "    </tr>\n",
       "    <tr>\n",
       "      <th>2</th>\n",
       "      <td>-1.1</td>\n",
       "    </tr>\n",
       "    <tr>\n",
       "      <th>3</th>\n",
       "      <td>-1.0</td>\n",
       "    </tr>\n",
       "    <tr>\n",
       "      <th>4</th>\n",
       "      <td>-0.9</td>\n",
       "    </tr>\n",
       "    <tr>\n",
       "      <th>5</th>\n",
       "      <td>-0.9</td>\n",
       "    </tr>\n",
       "    <tr>\n",
       "      <th>6</th>\n",
       "      <td>-0.8</td>\n",
       "    </tr>\n",
       "    <tr>\n",
       "      <th>7</th>\n",
       "      <td>-0.6</td>\n",
       "    </tr>\n",
       "    <tr>\n",
       "      <th>8</th>\n",
       "      <td>-0.5</td>\n",
       "    </tr>\n",
       "    <tr>\n",
       "      <th>9</th>\n",
       "      <td>-0.5</td>\n",
       "    </tr>\n",
       "  </tbody>\n",
       "</table>\n",
       "</div>"
      ],
      "text/plain": [
       "   Lufttemperatur\n",
       "0            -3.5\n",
       "1            -1.3\n",
       "2            -1.1\n",
       "3            -1.0\n",
       "4            -0.9\n",
       "5            -0.9\n",
       "6            -0.8\n",
       "7            -0.6\n",
       "8            -0.5\n",
       "9            -0.5"
      ]
     },
     "execution_count": 669,
     "metadata": {},
     "output_type": "execute_result"
    }
   ],
   "source": [
    "l=l.drop(columns=['Datum'])\n",
    "l.round({\"Lufttemperatur\":1})"
   ]
  },
  {
   "cell_type": "code",
   "execution_count": 670,
   "id": "7e10b5ae",
   "metadata": {},
   "outputs": [],
   "source": [
    "x=pd.concat([f, l], axis=1, join='inner')"
   ]
  },
  {
   "cell_type": "code",
   "execution_count": 671,
   "id": "8def43a4",
   "metadata": {},
   "outputs": [
    {
     "name": "stdout",
     "output_type": "stream",
     "text": [
      "2010/December : -3.5\n",
      "2011/February : -1.3\n",
      "2012/February : -1.1\n",
      "2018/February : -1.0\n",
      "2016/January : -0.9\n",
      "2021/February : -0.9\n",
      "2013/March : -0.8\n",
      "2013/January : -0.6\n",
      "2011/January : -0.5\n",
      "2012/December : -0.5\n"
     ]
    }
   ],
   "source": [
    "for i in range(10):\n",
    "    print(x[\"Datum\"][i],\":\",x[\"Lufttemperatur\"][i])"
   ]
  },
  {
   "cell_type": "markdown",
   "id": "cae27e64",
   "metadata": {},
   "source": [
    "### Q7. Which distribution is suitable to consider to fit the air temperature data? How well does the data follow that distribution given some measure, e.g., p-value?"
   ]
  },
  {
   "cell_type": "code",
   "execution_count": 682,
   "id": "c50790a0",
   "metadata": {
    "scrolled": false
   },
   "outputs": [
    {
     "data": {
      "image/png": "[encoded data removed]",
      "text/plain": [
       "<Figure size 540x360 with 1 Axes>"
      ]
     },
     "metadata": {},
     "output_type": "display_data"
    }
   ],
   "source": [
    "sns.set_style('white')\n",
    "sns.set_context(\"paper\", font_scale = 2)\n",
    "sns.displot(data=data_set, x=\"Lufttemperatur\", kind=\"hist\", bins = 100, aspect = 1.5, kde= True);"
   ]
  },
  {
   "cell_type": "code",
   "execution_count": 673,
   "id": "23e49744",
   "metadata": {},
   "outputs": [
    {
     "data": {
      "text/plain": [
       "AndersonResult(statistic=476.17818030728085, critical_values=array([0.576, 0.656, 0.787, 0.918, 1.092]), significance_level=array([15. , 10. ,  5. ,  2.5,  1. ]))"
      ]
     },
     "execution_count": 673,
     "metadata": {},
     "output_type": "execute_result"
    }
   ],
   "source": [
    "scp.anderson(data_set[\"Lufttemperatur\"], dist='norm')"
   ]
  },
  {
   "cell_type": "markdown",
   "id": "0c0893b9",
   "metadata": {},
   "source": [
    "Both the visual inspection and the statistical test shows that the data is not normal distributed. The histogram does not show a bell shape and the statistical test show that the a = 0.01 = 1.092 which is less than 434.2, the test shows a significant value at every significance level."
   ]
  },
  {
   "cell_type": "markdown",
   "id": "ffd203ee",
   "metadata": {},
   "source": [
    "### Q8. Do you regard any of the air temperature measures in the dataset to be extreme values/outliers? If so, how many values? Motivate why you consider these values as anomalies."
   ]
  },
  {
   "cell_type": "markdown",
   "id": "00c97127",
   "metadata": {},
   "source": [
    "Yes,there are outliers in the dataset. The number of outlier values are 156. The values are unreasonable, what defines them as unreasonable is that the value of the air temperature in one hour 25 and an hour later became 40 this proves that the value 40 is unreasonable and counts as outlier. Even when we plot out the box plot, we see that there is value that is outside the limit. These values can affect the output of the analysis and statistical tests, for this reason we decided to remove them."
   ]
  },
  {
   "cell_type": "markdown",
   "id": "228c06bc",
   "metadata": {},
   "source": [
    "### Q9. Calculate the mean temperature for each day in the year 2021 and then plot those means using a line plot with dates on the x-axis. Use figsize= (15,8) to specify the size of the plot."
   ]
  },
  {
   "cell_type": "code",
   "execution_count": 674,
   "id": "c6e7a63c",
   "metadata": {},
   "outputs": [
    {
     "data": {
      "text/html": [
       "<div>\n",
       "<style scoped>\n",
       "    .dataframe tbody tr th:only-of-type {\n",
       "        vertical-align: middle;\n",
       "    }\n",
       "\n",
       "    .dataframe tbody tr th {\n",
       "        vertical-align: top;\n",
       "    }\n",
       "\n",
       "    .dataframe thead th {\n",
       "        text-align: right;\n",
       "    }\n",
       "</style>\n",
       "<table border=\"1\" class=\"dataframe\">\n",
       "  <thead>\n",
       "    <tr style=\"text-align: right;\">\n",
       "      <th></th>\n",
       "      <th>Datum</th>\n",
       "      <th>Lufttemperatur</th>\n",
       "    </tr>\n",
       "  </thead>\n",
       "  <tbody>\n",
       "    <tr>\n",
       "      <th>3959</th>\n",
       "      <td>2021-01-01</td>\n",
       "      <td>3.0</td>\n",
       "    </tr>\n",
       "    <tr>\n",
       "      <th>3960</th>\n",
       "      <td>2021-01-02</td>\n",
       "      <td>1.6</td>\n",
       "    </tr>\n",
       "    <tr>\n",
       "      <th>3961</th>\n",
       "      <td>2021-01-03</td>\n",
       "      <td>2.1</td>\n",
       "    </tr>\n",
       "    <tr>\n",
       "      <th>3962</th>\n",
       "      <td>2021-01-04</td>\n",
       "      <td>1.0</td>\n",
       "    </tr>\n",
       "    <tr>\n",
       "      <th>3963</th>\n",
       "      <td>2021-01-05</td>\n",
       "      <td>1.8</td>\n",
       "    </tr>\n",
       "    <tr>\n",
       "      <th>...</th>\n",
       "      <td>...</td>\n",
       "      <td>...</td>\n",
       "    </tr>\n",
       "    <tr>\n",
       "      <th>4319</th>\n",
       "      <td>2021-12-27</td>\n",
       "      <td>-2.4</td>\n",
       "    </tr>\n",
       "    <tr>\n",
       "      <th>4320</th>\n",
       "      <td>2021-12-28</td>\n",
       "      <td>0.2</td>\n",
       "    </tr>\n",
       "    <tr>\n",
       "      <th>4321</th>\n",
       "      <td>2021-12-29</td>\n",
       "      <td>1.2</td>\n",
       "    </tr>\n",
       "    <tr>\n",
       "      <th>4322</th>\n",
       "      <td>2021-12-30</td>\n",
       "      <td>3.7</td>\n",
       "    </tr>\n",
       "    <tr>\n",
       "      <th>4323</th>\n",
       "      <td>2021-12-31</td>\n",
       "      <td>5.1</td>\n",
       "    </tr>\n",
       "  </tbody>\n",
       "</table>\n",
       "<p>365 rows × 2 columns</p>\n",
       "</div>"
      ],
      "text/plain": [
       "           Datum  Lufttemperatur\n",
       "3959  2021-01-01             3.0\n",
       "3960  2021-01-02             1.6\n",
       "3961  2021-01-03             2.1\n",
       "3962  2021-01-04             1.0\n",
       "3963  2021-01-05             1.8\n",
       "...          ...             ...\n",
       "4319  2021-12-27            -2.4\n",
       "4320  2021-12-28             0.2\n",
       "4321  2021-12-29             1.2\n",
       "4322  2021-12-30             3.7\n",
       "4323  2021-12-31             5.1\n",
       "\n",
       "[365 rows x 2 columns]"
      ]
     },
     "execution_count": 674,
     "metadata": {},
     "output_type": "execute_result"
    }
   ],
   "source": [
    "grup=round(data_set.groupby(data_set[\"Datum\"])['Lufttemperatur'].mean(),1)\n",
    "grup=grup.reset_index()\n",
    "filtered_df = grup.loc[(grup['Datum'] >= '2021-01-01')\n",
    "                     & (grup['Datum'] < '2022-01-01')]\n",
    "filtered_df"
   ]
  },
  {
   "cell_type": "code",
   "execution_count": 675,
   "id": "4a3558da",
   "metadata": {},
   "outputs": [
    {
     "data": {
      "image/png": "[encoded data removed]",
      "text/plain": [
       "<Figure size 1080x576 with 1 Axes>"
      ]
     },
     "metadata": {},
     "output_type": "display_data"
    }
   ],
   "source": [
    "x= filtered_df.Datum\n",
    "y= filtered_df.Lufttemperatur\n",
    "\n",
    "# Plotting\n",
    "fig = mpl.figure(figsize=(15,8))\n",
    "ax=fig.add_subplot()\n",
    "ax.plot(x,y,color=\"orange\",linewidth=2)\n",
    "half_year_locator = mdates.MonthLocator(interval=1)\n",
    "ax.xaxis.set_major_locator(half_year_locator)\n",
    "fig.autofmt_xdate()\n",
    "ax.set_xlabel('Date')\n",
    "ax.set_ylabel('Air Temperature')\n",
    "ax.scatter(x,y)\n",
    "ax.grid()"
   ]
  },
  {
   "cell_type": "markdown",
   "id": "20a4d0d0",
   "metadata": {},
   "source": [
    "### Q10. Rank the overall temperature per two (2) consecutive months starting with the warmest 2-month period first, After that you should sort those means from highest to lowest and list the ten (10) warmest 2-month periods all together in the dataset.¶"
   ]
  },
  {
   "cell_type": "code",
   "execution_count": 676,
   "id": "e15e00eb",
   "metadata": {
    "scrolled": true
   },
   "outputs": [
    {
     "data": {
      "text/html": [
       "<div>\n",
       "<style scoped>\n",
       "    .dataframe tbody tr th:only-of-type {\n",
       "        vertical-align: middle;\n",
       "    }\n",
       "\n",
       "    .dataframe tbody tr th {\n",
       "        vertical-align: top;\n",
       "    }\n",
       "\n",
       "    .dataframe thead th {\n",
       "        text-align: right;\n",
       "    }\n",
       "</style>\n",
       "<table border=\"1\" class=\"dataframe\">\n",
       "  <thead>\n",
       "    <tr style=\"text-align: right;\">\n",
       "      <th></th>\n",
       "      <th>Datum</th>\n",
       "      <th>Lufttemperatur</th>\n",
       "    </tr>\n",
       "  </thead>\n",
       "  <tbody>\n",
       "    <tr>\n",
       "      <th>99</th>\n",
       "      <td>2018-06 + 2018-07</td>\n",
       "      <td>20.0</td>\n",
       "    </tr>\n",
       "    <tr>\n",
       "      <th>100</th>\n",
       "      <td>2018-07 + 2018-08</td>\n",
       "      <td>20.0</td>\n",
       "    </tr>\n",
       "    <tr>\n",
       "      <th>135</th>\n",
       "      <td>2021-06 + 2021-07</td>\n",
       "      <td>19.0</td>\n",
       "    </tr>\n",
       "    <tr>\n",
       "      <th>52</th>\n",
       "      <td>2014-07 + 2014-08</td>\n",
       "      <td>19.0</td>\n",
       "    </tr>\n",
       "    <tr>\n",
       "      <th>136</th>\n",
       "      <td>2021-07 + 2021-08</td>\n",
       "      <td>19.0</td>\n",
       "    </tr>\n",
       "    <tr>\n",
       "      <th>...</th>\n",
       "      <td>...</td>\n",
       "      <td>...</td>\n",
       "    </tr>\n",
       "    <tr>\n",
       "      <th>8</th>\n",
       "      <td>2010-11 + 2010-12</td>\n",
       "      <td>0.0</td>\n",
       "    </tr>\n",
       "    <tr>\n",
       "      <th>35</th>\n",
       "      <td>2013-02 + 2013-03</td>\n",
       "      <td>-1.0</td>\n",
       "    </tr>\n",
       "    <tr>\n",
       "      <th>33</th>\n",
       "      <td>2012-12 + 2013-01</td>\n",
       "      <td>-1.0</td>\n",
       "    </tr>\n",
       "    <tr>\n",
       "      <th>10</th>\n",
       "      <td>2011-01 + 2011-02</td>\n",
       "      <td>-1.0</td>\n",
       "    </tr>\n",
       "    <tr>\n",
       "      <th>9</th>\n",
       "      <td>2010-12 + 2011-01</td>\n",
       "      <td>-2.0</td>\n",
       "    </tr>\n",
       "  </tbody>\n",
       "</table>\n",
       "<p>142 rows × 2 columns</p>\n",
       "</div>"
      ],
      "text/plain": [
       "                 Datum  Lufttemperatur\n",
       "99   2018-06 + 2018-07            20.0\n",
       "100  2018-07 + 2018-08            20.0\n",
       "135  2021-06 + 2021-07            19.0\n",
       "52   2014-07 + 2014-08            19.0\n",
       "136  2021-07 + 2021-08            19.0\n",
       "..                 ...             ...\n",
       "8    2010-11 + 2010-12             0.0\n",
       "35   2013-02 + 2013-03            -1.0\n",
       "33   2012-12 + 2013-01            -1.0\n",
       "10   2011-01 + 2011-02            -1.0\n",
       "9    2010-12 + 2011-01            -2.0\n",
       "\n",
       "[142 rows x 2 columns]"
      ]
     },
     "execution_count": 676,
     "metadata": {},
     "output_type": "execute_result"
    }
   ],
   "source": [
    "dt=dt.reset_index()\n",
    "#sum mean two month\n",
    "dt1 = {'Datum': [],'Lufttemperatur': []}\n",
    "dt1=pd.DataFrame(dt1)\n",
    "\n",
    "for index in range(0,142):\n",
    "    df1={\"Datum\":f\"{dt.Datum[index]} + {dt.Datum[index+1]}\",\"Lufttemperatur\":round((dt.Lufttemperatur[index]+dt.Lufttemperatur[index+1])/2)}\n",
    "    dt1=dt1.append(df1,ignore_index=True)\n",
    "#sorting\n",
    "df=dt1.sort_values(by=['Lufttemperatur'], ascending=False)\n",
    "df"
   ]
  },
  {
   "cell_type": "code",
   "execution_count": 677,
   "id": "c3cfae55",
   "metadata": {},
   "outputs": [
    {
     "data": {
      "text/html": [
       "<div>\n",
       "<style scoped>\n",
       "    .dataframe tbody tr th:only-of-type {\n",
       "        vertical-align: middle;\n",
       "    }\n",
       "\n",
       "    .dataframe tbody tr th {\n",
       "        vertical-align: top;\n",
       "    }\n",
       "\n",
       "    .dataframe thead th {\n",
       "        text-align: right;\n",
       "    }\n",
       "</style>\n",
       "<table border=\"1\" class=\"dataframe\">\n",
       "  <thead>\n",
       "    <tr style=\"text-align: right;\">\n",
       "      <th></th>\n",
       "      <th>Datum</th>\n",
       "      <th>Lufttemperatur</th>\n",
       "    </tr>\n",
       "  </thead>\n",
       "  <tbody>\n",
       "    <tr>\n",
       "      <th>99</th>\n",
       "      <td>2018-06 + 2018-07</td>\n",
       "      <td>20.0</td>\n",
       "    </tr>\n",
       "    <tr>\n",
       "      <th>100</th>\n",
       "      <td>2018-07 + 2018-08</td>\n",
       "      <td>20.0</td>\n",
       "    </tr>\n",
       "    <tr>\n",
       "      <th>135</th>\n",
       "      <td>2021-06 + 2021-07</td>\n",
       "      <td>19.0</td>\n",
       "    </tr>\n",
       "    <tr>\n",
       "      <th>52</th>\n",
       "      <td>2014-07 + 2014-08</td>\n",
       "      <td>19.0</td>\n",
       "    </tr>\n",
       "    <tr>\n",
       "      <th>136</th>\n",
       "      <td>2021-07 + 2021-08</td>\n",
       "      <td>19.0</td>\n",
       "    </tr>\n",
       "    <tr>\n",
       "      <th>4</th>\n",
       "      <td>2010-07 + 2010-08</td>\n",
       "      <td>19.0</td>\n",
       "    </tr>\n",
       "    <tr>\n",
       "      <th>112</th>\n",
       "      <td>2019-07 + 2019-08</td>\n",
       "      <td>18.0</td>\n",
       "    </tr>\n",
       "    <tr>\n",
       "      <th>75</th>\n",
       "      <td>2016-06 + 2016-07</td>\n",
       "      <td>18.0</td>\n",
       "    </tr>\n",
       "    <tr>\n",
       "      <th>51</th>\n",
       "      <td>2014-06 + 2014-07</td>\n",
       "      <td>18.0</td>\n",
       "    </tr>\n",
       "    <tr>\n",
       "      <th>111</th>\n",
       "      <td>2019-06 + 2019-07</td>\n",
       "      <td>18.0</td>\n",
       "    </tr>\n",
       "  </tbody>\n",
       "</table>\n",
       "</div>"
      ],
      "text/plain": [
       "                 Datum  Lufttemperatur\n",
       "99   2018-06 + 2018-07            20.0\n",
       "100  2018-07 + 2018-08            20.0\n",
       "135  2021-06 + 2021-07            19.0\n",
       "52   2014-07 + 2014-08            19.0\n",
       "136  2021-07 + 2021-08            19.0\n",
       "4    2010-07 + 2010-08            19.0\n",
       "112  2019-07 + 2019-08            18.0\n",
       "75   2016-06 + 2016-07            18.0\n",
       "51   2014-06 + 2014-07            18.0\n",
       "111  2019-06 + 2019-07            18.0"
      ]
     },
     "execution_count": 677,
     "metadata": {},
     "output_type": "execute_result"
    }
   ],
   "source": [
    "df.head(10)"
   ]
  },
  {
   "cell_type": "markdown",
   "id": "94bd1a83",
   "metadata": {},
   "source": [
    "### Q11. Calculate the 95% confidence intervals (CI) for the mean for each daily average in Q9 and add it to the line plot that shows the mean values of each day of the year 2021. You can, for example, solve this by plotting the upper and lower bounds as lines above and below the mean line in your plot. Another more nicely looking solution is to visualize the CI as shades around the mean line in your plot."
   ]
  },
  {
   "cell_type": "code",
   "execution_count": 679,
   "id": "1644e393",
   "metadata": {},
   "outputs": [
    {
     "name": "stderr",
     "output_type": "stream",
     "text": [
      "C:\\Users\\karem\\AppData\\Local\\Temp/ipykernel_23376/1470825723.py:7: SettingWithCopyWarning: \n",
      "A value is trying to be set on a copy of a slice from a DataFrame.\n",
      "Try using .loc[row_indexer,col_indexer] = value instead\n",
      "\n",
      "See the caveats in the documentation: https://pandas.pydata.org/pandas-docs/stable/user_guide/indexing.html#returning-a-view-versus-a-copy\n",
      "  filtered_df[\"n\"]=[i for i in n]\n",
      "C:\\Users\\karem\\AppData\\Local\\Temp/ipykernel_23376/1470825723.py:8: SettingWithCopyWarning: \n",
      "A value is trying to be set on a copy of a slice from a DataFrame.\n",
      "Try using .loc[row_indexer,col_indexer] = value instead\n",
      "\n",
      "See the caveats in the documentation: https://pandas.pydata.org/pandas-docs/stable/user_guide/indexing.html#returning-a-view-versus-a-copy\n",
      "  filtered_df[\"STD\"]=[i for i in st]\n"
     ]
    }
   ],
   "source": [
    "filtered = data_set.loc[(data_set['Datum'] >= '2021-01-01')\n",
    "                     & (data_set['Datum'] < '2022-01-01')]\n",
    "filtered=filtered.reset_index(drop=True)\n",
    "da=filtered.Datum.str[5:]\n",
    "n=filtered.groupby(da)['Datum'].count()\n",
    "st=filtered.groupby(da)['Lufttemperatur'].std()\n",
    "filtered_df[\"n\"]=[i for i in n]\n",
    "filtered_df[\"STD\"]=[i for i in st]\n",
    "filtered_df=filtered_df.reset_index(drop=True)"
   ]
  },
  {
   "cell_type": "code",
   "execution_count": 680,
   "id": "3d32585b",
   "metadata": {},
   "outputs": [],
   "source": [
    "#define sample data\n",
    "lower_lst = []\n",
    "upper_lst = []\n",
    "for i in range(365):\n",
    "    lower,upper = scp.norm.interval(0.95, loc=filtered_df['Lufttemperatur'][i], scale=filtered_df['STD'][i]/np.sqrt(filtered_df['n'][i]))\n",
    "    lower_lst.append(lower)\n",
    "    upper_lst.append(upper)"
   ]
  },
  {
   "cell_type": "code",
   "execution_count": 681,
   "id": "a82ac89d",
   "metadata": {},
   "outputs": [
    {
     "data": {
      "image/png": "[encoded data removed]",
      "text/plain": [
       "<Figure size 1080x576 with 1 Axes>"
      ]
     },
     "metadata": {},
     "output_type": "display_data"
    }
   ],
   "source": [
    "x= filtered_df.Datum\n",
    "y= filtered_df.Lufttemperatur\n",
    "\n",
    "# Plotting\n",
    "fig = mpl.figure(figsize=(15,8))\n",
    "ax=fig.add_subplot()\n",
    "ax.plot(x,y,color=\"blue\")\n",
    "ax.fill_between(x, lower_lst, upper_lst, facecolor='blue', alpha= 0.3)\n",
    "half_year_locator = mdates.MonthLocator(interval=1)\n",
    "ax.xaxis.set_major_locator(half_year_locator)\n",
    "fig.autofmt_xdate()\n",
    "ax.set_xlabel('Date')\n",
    "ax.set_ylabel('Air Temperature')\n",
    "ax.grid()"
   ]
  },
  {
   "cell_type": "code",
   "execution_count": null,
   "id": "a8e1507c",
   "metadata": {},
   "outputs": [],
   "source": []
  }
 ],
 "metadata": {
  "kernelspec": {
   "display_name": "Python 3 (ipykernel)",
   "language": "python",
   "name": "python3"
  },
  "language_info": {
   "codemirror_mode": {
    "name": "ipython",
    "version": 3
   },
   "file_extension": ".py",
   "mimetype": "text/x-python",
   "name": "python",
   "nbconvert_exporter": "python",
   "pygments_lexer": "ipython3",
   "version": "3.9.7"
  }
 },
 "nbformat": 4,
 "nbformat_minor": 5
}
