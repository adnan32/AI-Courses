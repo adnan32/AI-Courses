{
 "cells": [
  {
   "cell_type": "markdown",
   "id": "2360350d",
   "metadata": {},
   "source": [
    "# Adnan Altukleh Assigment 1"
   ]
  },
  {
   "cell_type": "code",
   "execution_count": null,
   "id": "b47d1dc7",
   "metadata": {},
   "outputs": [],
   "source": []
  }
 ],
 "metadata": {
  "kernelspec": {
   "display_name": "Python 3 (ipykernel)",
   "language": "python",
   "name": "python3"
  },
  "language_info": {
   "codemirror_mode": {
    "name": "ipython",
    "version": 3
   },
   "file_extension": ".py",
   "mimetype": "text/x-python",
   "name": "python",
   "nbconvert_exporter": "python",
   "pygments_lexer": "ipython3",
   "version": "3.9.12"
  }
 },
 "nbformat": 4,
 "nbformat_minor": 5
}
